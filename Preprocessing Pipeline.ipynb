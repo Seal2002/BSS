{
 "cells": [
  {
   "cell_type": "code",
   "execution_count": 35,
   "metadata": {},
   "outputs": [
    {
     "name": "stdout",
     "output_type": "stream",
     "text": [
      "Found 252 audio files in /Users/yashsawrikar/Documents/VIT Labs/Semester 8/Senior Design Project/Dataset - Sample\n"
     ]
    },
    {
     "name": "stderr",
     "output_type": "stream",
     "text": [
      "Processing audio files:  80%|███████▉  | 201/252 [00:00<00:00, 1014.30it/s]"
     ]
    },
    {
     "name": "stdout",
     "output_type": "stream",
     "text": [
      "Error converting /Users/yashsawrikar/Documents/VIT Labs/Semester 8/Senior Design Project/Dataset - Sample/Sample - Non Bio/Hydrothermal_vent/Hydrothermal Vent.mp3: [Errno 2] No such file or directory: 'ffprobe'\n",
      "Error converting /Users/yashsawrikar/Documents/VIT Labs/Semester 8/Senior Design Project/Dataset - Sample/Sample - Non Bio/Volcanos/undersea-volcano-eruptions.mp3: [Errno 2] No such file or directory: 'ffprobe'\n",
      "Error converting /Users/yashsawrikar/Documents/VIT Labs/Semester 8/Senior Design Project/Dataset - Sample/Sample - Non Bio/Volcanos/underwater-volcanoes.mp3: [Errno 2] No such file or directory: 'ffprobe'\n",
      "Error converting /Users/yashsawrikar/Documents/VIT Labs/Semester 8/Senior Design Project/Dataset - Sample/Sample - Non Bio/Submarine/Submarine3.mp3: [Errno 2] No such file or directory: 'ffprobe'\n",
      "Error converting /Users/yashsawrikar/Documents/VIT Labs/Semester 8/Senior Design Project/Dataset - Sample/Sample - Non Bio/Submarine/Submarine2.mp3: [Errno 2] No such file or directory: 'ffprobe'\n",
      "Error converting /Users/yashsawrikar/Documents/VIT Labs/Semester 8/Senior Design Project/Dataset - Sample/Sample - Non Bio/Submarine/Submarine6.mp3: [Errno 2] No such file or directory: 'ffprobe'\n",
      "Error converting /Users/yashsawrikar/Documents/VIT Labs/Semester 8/Senior Design Project/Dataset - Sample/Sample - Non Bio/Submarine/Submarine7.mp3: [Errno 2] No such file or directory: 'ffprobe'\n",
      "Error converting /Users/yashsawrikar/Documents/VIT Labs/Semester 8/Senior Design Project/Dataset - Sample/Sample - Non Bio/Submarine/Submarine5.mp3: [Errno 2] No such file or directory: 'ffprobe'\n",
      "Error converting /Users/yashsawrikar/Documents/VIT Labs/Semester 8/Senior Design Project/Dataset - Sample/Sample - Non Bio/Submarine/Submarine4.mp3: [Errno 2] No such file or directory: 'ffprobe'\n",
      "Error converting /Users/yashsawrikar/Documents/VIT Labs/Semester 8/Senior Design Project/Dataset - Sample/Sample - Non Bio/Submarine/Submarine.mp3: [Errno 2] No such file or directory: 'ffprobe'\n",
      "Error converting /Users/yashsawrikar/Documents/VIT Labs/Semester 8/Senior Design Project/Dataset - Sample/Sample - Non Bio/Submarine/Submarine8.mp3: [Errno 2] No such file or directory: 'ffprobe'\n",
      "Error converting /Users/yashsawrikar/Documents/VIT Labs/Semester 8/Senior Design Project/Dataset - Sample/Sample - Non Bio/Ice break/ice-cracking.mp3: [Errno 2] No such file or directory: 'ffprobe'\n",
      "Error converting /Users/yashsawrikar/Documents/VIT Labs/Semester 8/Senior Design Project/Dataset - Sample/Sample - Non Bio/Ice break/ice-break.mp3: [Errno 2] No such file or directory: 'ffprobe'\n",
      "Error converting /Users/yashsawrikar/Documents/VIT Labs/Semester 8/Senior Design Project/Dataset - Sample/Sample - Non Bio/Ice break/ice-cracking3.mp3: [Errno 2] No such file or directory: 'ffprobe'\n",
      "Error converting /Users/yashsawrikar/Documents/VIT Labs/Semester 8/Senior Design Project/Dataset - Sample/Sample - Non Bio/Earthquake/Earthquake_sound2.mp3: [Errno 2] No such file or directory: 'ffprobe'\n",
      "Error converting /Users/yashsawrikar/Documents/VIT Labs/Semester 8/Senior Design Project/Dataset - Sample/Sample - Non Bio/Earthquake/earthquake_sound.mp3: [Errno 2] No such file or directory: 'ffprobe'\n",
      "Error converting /Users/yashsawrikar/Documents/VIT Labs/Semester 8/Senior Design Project/Dataset - Sample/Sample - Non Bio/Waves/ocean-waves-on-beach-calm-gamemaster-audio-3-00-14.mp3: [Errno 2] No such file or directory: 'ffprobe'\n",
      "Error converting /Users/yashsawrikar/Documents/VIT Labs/Semester 8/Senior Design Project/Dataset - Sample/Sample - Non Bio/Waves/ocean-waves-250310.mp3: [Errno 2] No such file or directory: 'ffprobe'\n",
      "Error converting /Users/yashsawrikar/Documents/VIT Labs/Semester 8/Senior Design Project/Dataset - Sample/Sample - Non Bio/Waves/ocean-waves-on-a-windy-day-dan-barracuda-1-1-01-49.mp3: [Errno 2] No such file or directory: 'ffprobe'\n",
      "Error converting /Users/yashsawrikar/Documents/VIT Labs/Semester 8/Senior Design Project/Dataset - Sample/Sample - Non Bio/Waves/ocean-wave-100271.mp3: [Errno 2] No such file or directory: 'ffprobe'\n",
      "Error converting /Users/yashsawrikar/Documents/VIT Labs/Semester 8/Senior Design Project/Dataset - Sample/Sample - Non Bio/Waves/ocean-storm-big-waves-wind-ivo-vicic-1-01-40.mp3: [Errno 2] No such file or directory: 'ffprobe'\n",
      "Error converting /Users/yashsawrikar/Documents/VIT Labs/Semester 8/Senior Design Project/Dataset - Sample/Sample - Non Bio/Waves/ocean-waves-crashing-113-164117.mp3: [Errno 2] No such file or directory: 'ffprobe'\n",
      "Error converting /Users/yashsawrikar/Documents/VIT Labs/Semester 8/Senior Design Project/Dataset - Sample/Sample - Non Bio/Waves/ocean-waves-white-noise1-13752.mp3: [Errno 2] No such file or directory: 'ffprobe'\n",
      "Error converting /Users/yashsawrikar/Documents/VIT Labs/Semester 8/Senior Design Project/Dataset - Sample/Sample - Non Bio/Waves/ocean-waves-266187.mp3: [Errno 2] No such file or directory: 'ffprobe'\n",
      "Error converting /Users/yashsawrikar/Documents/VIT Labs/Semester 8/Senior Design Project/Dataset - Sample/Sample - Non Bio/Waves/ocean-waves-112906.mp3: [Errno 2] No such file or directory: 'ffprobe'\n",
      "Error converting /Users/yashsawrikar/Documents/VIT Labs/Semester 8/Senior Design Project/Dataset - Sample/Sample - Non Bio/Lighting/lightning3.mp3: [Errno 2] No such file or directory: 'ffprobe'\n",
      "Error converting /Users/yashsawrikar/Documents/VIT Labs/Semester 8/Senior Design Project/Dataset - Sample/Sample - Non Bio/Lighting/lightning2.mp3: [Errno 2] No such file or directory: 'ffprobe'\n",
      "Error converting /Users/yashsawrikar/Documents/VIT Labs/Semester 8/Senior Design Project/Dataset - Sample/Sample - Non Bio/Lighting/lightning6.mp3: [Errno 2] No such file or directory: 'ffprobe'\n",
      "Error converting /Users/yashsawrikar/Documents/VIT Labs/Semester 8/Senior Design Project/Dataset - Sample/Sample - Non Bio/Lighting/lightning7.mp3: [Errno 2] No such file or directory: 'ffprobe'\n",
      "Error converting /Users/yashsawrikar/Documents/VIT Labs/Semester 8/Senior Design Project/Dataset - Sample/Sample - Non Bio/Lighting/lightning5.mp3: [Errno 2] No such file or directory: 'ffprobe'\n",
      "Error converting /Users/yashsawrikar/Documents/VIT Labs/Semester 8/Senior Design Project/Dataset - Sample/Sample - Non Bio/Lighting/lightning4.mp3: [Errno 2] No such file or directory: 'ffprobe'\n",
      "Error converting /Users/yashsawrikar/Documents/VIT Labs/Semester 8/Senior Design Project/Dataset - Sample/Sample - Non Bio/Lighting/lightning.mp3: [Errno 2] No such file or directory: 'ffprobe'\n",
      "Error converting /Users/yashsawrikar/Documents/VIT Labs/Semester 8/Senior Design Project/Dataset - Sample/Sample - Non Bio/Hurricane/Hurricane2.mp3: [Errno 2] No such file or directory: 'ffprobe'\n",
      "Error converting /Users/yashsawrikar/Documents/VIT Labs/Semester 8/Senior Design Project/Dataset - Sample/Sample - Non Bio/Hurricane/hurricane3.mp3: [Errno 2] No such file or directory: 'ffprobe'\n",
      "Error converting /Users/yashsawrikar/Documents/VIT Labs/Semester 8/Senior Design Project/Dataset - Sample/Sample - Non Bio/Hurricane/hurricane4.mp3: [Errno 2] No such file or directory: 'ffprobe'\n",
      "Error converting /Users/yashsawrikar/Documents/VIT Labs/Semester 8/Senior Design Project/Dataset - Sample/Sample - Non Bio/Hurricane/hurricane5.mp3: [Errno 2] No such file or directory: 'ffprobe'\n"
     ]
    },
    {
     "name": "stderr",
     "output_type": "stream",
     "text": [
      "Processing audio files: 100%|██████████| 252/252 [00:00<00:00, 441.08it/s] "
     ]
    },
    {
     "name": "stdout",
     "output_type": "stream",
     "text": [
      "Error converting /Users/yashsawrikar/Documents/VIT Labs/Semester 8/Senior Design Project/Dataset - Sample/Sample - Non Bio/Hurricane/hurricane6.mp3: [Errno 2] No such file or directory: 'ffprobe'\n",
      "Error converting /Users/yashsawrikar/Documents/VIT Labs/Semester 8/Senior Design Project/Dataset - Sample/Sample - Non Bio/Hurricane/Hurricane.mp3: [Errno 2] No such file or directory: 'ffprobe'\n",
      "Error converting /Users/yashsawrikar/Documents/VIT Labs/Semester 8/Senior Design Project/Dataset - Sample/Sample - Non Bio/Icrberg collisions/Iceberg-collisions.mp3: [Errno 2] No such file or directory: 'ffprobe'\n",
      "Created metadata CSV with 213 entries at /Users/yashsawrikar/Documents/VIT Labs/Semester 8/Senior Design Project/Dataset - Sample/Preprocessed/audio_metadata.csv\n",
      "\n",
      "Metadata Summary:\n",
      "Total files: 213\n",
      "Biological sounds: 0\n",
      "Non-biological sounds: 213\n",
      "Successfully processed: 213\n",
      "Failed to process: 39\n",
      "Process completed. Metadata saved to: /Users/yashsawrikar/Documents/VIT Labs/Semester 8/Senior Design Project/Dataset - Sample/Preprocessed/audio_metadata.csv\n"
     ]
    },
    {
     "name": "stderr",
     "output_type": "stream",
     "text": [
      "\n"
     ]
    }
   ],
   "source": [
    "import os\n",
    "import pandas as pd\n",
    "import shutil\n",
    "from pydub import AudioSegment\n",
    "from tqdm import tqdm\n",
    "\n",
    "# Define paths\n",
    "DATASET_PATH = '/Users/yashsawrikar/Documents/VIT Labs/Semester 8/Senior Design Project/Dataset - Sample'\n",
    "OUTPUT_DIR = os.path.join(DATASET_PATH, 'Preprocessed')\n",
    "CSV_PATH = os.path.join(OUTPUT_DIR, 'audio_metadata.csv')\n",
    "\n",
    "def ensure_dir_exists(directory):\n",
    "    \"\"\"Ensure directory exists, create if it doesn't.\"\"\"\n",
    "    if not os.path.exists(directory):\n",
    "        os.makedirs(directory)\n",
    "\n",
    "def convert_to_wav(input_path, output_path):\n",
    "    \"\"\"Convert audio file to WAV format if it's not already in WAV.\"\"\"\n",
    "    # Ensure output directory exists\n",
    "    ensure_dir_exists(os.path.dirname(output_path))\n",
    "    \n",
    "    # Check if already WAV format\n",
    "    if input_path.lower().endswith('.wav'):\n",
    "        # Just copy the file\n",
    "        shutil.copy2(input_path, output_path)\n",
    "        return output_path\n",
    "    \n",
    "    # For other formats, convert to WAV\n",
    "    try:\n",
    "        if input_path.lower().endswith('.mp3'):\n",
    "            audio = AudioSegment.from_mp3(input_path)\n",
    "        elif input_path.lower().endswith('.flac'):\n",
    "            audio = AudioSegment.from_file(input_path, format=\"flac\")\n",
    "        elif input_path.lower().endswith('.ogg'):\n",
    "            audio = AudioSegment.from_ogg(input_path)\n",
    "        elif input_path.lower().endswith('.m4a'):\n",
    "            audio = AudioSegment.from_file(input_path, format=\"m4a\")\n",
    "        else:\n",
    "            # Try to load using format inference\n",
    "            audio = AudioSegment.from_file(input_path)\n",
    "            \n",
    "        # Export as WAV\n",
    "        audio.export(output_path, format=\"wav\")\n",
    "        return output_path\n",
    "    except Exception as e:\n",
    "        print(f\"Error converting {input_path}: {e}\")\n",
    "        return None\n",
    "\n",
    "def process_dataset():\n",
    "    \"\"\"Process the dataset, converting files and creating a metadata CSV.\"\"\"\n",
    "    # Create main output directory\n",
    "    ensure_dir_exists(OUTPUT_DIR)\n",
    "    \n",
    "    # Create separate directories for bio and non-bio sounds\n",
    "    bio_output_dir = os.path.join(OUTPUT_DIR, 'bio')\n",
    "    nonbio_output_dir = os.path.join(OUTPUT_DIR, 'non-bio')\n",
    "    ensure_dir_exists(bio_output_dir)\n",
    "    ensure_dir_exists(nonbio_output_dir)\n",
    "    \n",
    "    # Find all audio files in the dataset\n",
    "    audio_files = []\n",
    "    for root, _, files in os.walk(DATASET_PATH):\n",
    "        # Skip the Preprocessed directory if it exists\n",
    "        if 'Preprocessed' in root:\n",
    "            continue\n",
    "        \n",
    "        for file in files:\n",
    "            # Only process audio files\n",
    "            if file.lower().endswith(('.wav', '.mp3', '.flac', '.ogg', '.m4a')):\n",
    "                audio_files.append(os.path.join(root, file))\n",
    "    \n",
    "    print(f\"Found {len(audio_files)} audio files in {DATASET_PATH}\")\n",
    "    \n",
    "    # Process each file and build metadata\n",
    "    metadata = []\n",
    "    successful = 0\n",
    "    failed = 0\n",
    "    \n",
    "    for file_path in tqdm(audio_files, desc=\"Processing audio files\"):\n",
    "        # Determine if file is biological sound based on folder structure or naming\n",
    "        # This is a simplified example - adjust based on your actual dataset organization\n",
    "        is_biological = 'bio' in os.path.basename(os.path.dirname(file_path)).lower()\n",
    "        \n",
    "        # Set output path\n",
    "        if is_biological:\n",
    "            output_dir = bio_output_dir\n",
    "        else:\n",
    "            output_dir = nonbio_output_dir\n",
    "            \n",
    "        # Get filename and create output path\n",
    "        filename = os.path.basename(file_path)\n",
    "        output_path = os.path.join(output_dir, filename)\n",
    "        \n",
    "        # Make sure output path ends with .wav\n",
    "        if not output_path.lower().endswith('.wav'):\n",
    "            output_path = os.path.splitext(output_path)[0] + '.wav'\n",
    "        \n",
    "        # Convert to WAV if needed\n",
    "        result = convert_to_wav(file_path, output_path)\n",
    "        \n",
    "        if result:\n",
    "            successful += 1\n",
    "            # Extract species/type from filename or folder structure\n",
    "            # This is a simplified approach - adjust based on your naming conventions\n",
    "            folder_name = os.path.basename(os.path.dirname(file_path))\n",
    "            species_type = folder_name if folder_name else \"Unknown\"\n",
    "            \n",
    "            # Add file to metadata\n",
    "            metadata.append({\n",
    "                'filename': os.path.basename(output_path),\n",
    "                'path': output_path,\n",
    "                'original_path': file_path,\n",
    "                'is_biological': is_biological,\n",
    "                'species_type': species_type,\n",
    "                'preprocessed': False,  # Will be set to True after preprocessing\n",
    "                'features_extracted': False  # Will be set to True after feature extraction\n",
    "            })\n",
    "        else:\n",
    "            failed += 1\n",
    "    \n",
    "    # Create and save metadata DataFrame\n",
    "    if metadata:\n",
    "        df = pd.DataFrame(metadata)\n",
    "        df.to_csv(CSV_PATH, index=False)\n",
    "        print(f\"Created metadata CSV with {len(metadata)} entries at {CSV_PATH}\")\n",
    "        \n",
    "        # Print summary\n",
    "        print(\"\\nMetadata Summary:\")\n",
    "        print(f\"Total files: {len(df)}\")\n",
    "        print(f\"Biological sounds: {len(df[df['is_biological'] == True])}\")\n",
    "        print(f\"Non-biological sounds: {len(df[df['is_biological'] == False])}\")\n",
    "        print(f\"Successfully processed: {successful}\")\n",
    "        print(f\"Failed to process: {failed}\")\n",
    "    else:\n",
    "        print(\"No metadata created - no files were successfully processed.\")\n",
    "    \n",
    "    return CSV_PATH if metadata else None\n",
    "\n",
    "if __name__ == \"__main__\":\n",
    "    csv_path = process_dataset()\n",
    "    print(f\"Process completed. Metadata saved to: {csv_path}\")"
   ]
  },
  {
   "cell_type": "markdown",
   "metadata": {},
   "source": [
    "## preprocessing"
   ]
  },
  {
   "cell_type": "code",
   "execution_count": 36,
   "metadata": {},
   "outputs": [
    {
     "name": "stdout",
     "output_type": "stream",
     "text": [
      "Loaded CSV with 213 entries\n"
     ]
    },
    {
     "name": "stderr",
     "output_type": "stream",
     "text": [
      "Preprocessing audio:   4%|▍         | 8/213 [00:00<00:02, 70.13it/s]"
     ]
    },
    {
     "name": "stdout",
     "output_type": "stream",
     "text": [
      "Processing file: /Users/yashsawrikar/Documents/VIT Labs/Semester 8/Senior Design Project/Dataset - Sample/Preprocessed/non-bio/6102101A.wav, sample rate: 81920 Hz\n",
      "Resampled to 48000 Hz\n",
      "Applied bandpass filter\n",
      "Applied noise reduction\n",
      "Saved preprocessed audio to /Users/yashsawrikar/Documents/VIT Labs/Semester 8/Senior Design Project/Dataset - Sample/Preprocessed/non-bio/preprocessed_6102101A.wav\n",
      "Processing file: /Users/yashsawrikar/Documents/VIT Labs/Semester 8/Senior Design Project/Dataset - Sample/Preprocessed/non-bio/6102101P.wav, sample rate: 81920 Hz\n",
      "Resampled to 48000 Hz\n",
      "Applied bandpass filter\n",
      "Applied noise reduction\n",
      "Saved preprocessed audio to /Users/yashsawrikar/Documents/VIT Labs/Semester 8/Senior Design Project/Dataset - Sample/Preprocessed/non-bio/preprocessed_6102101P.wav\n",
      "Processing file: /Users/yashsawrikar/Documents/VIT Labs/Semester 8/Senior Design Project/Dataset - Sample/Preprocessed/non-bio/6102104K.wav, sample rate: 81600 Hz\n",
      "Resampled to 48000 Hz\n",
      "Applied bandpass filter\n",
      "Applied noise reduction\n",
      "Saved preprocessed audio to /Users/yashsawrikar/Documents/VIT Labs/Semester 8/Senior Design Project/Dataset - Sample/Preprocessed/non-bio/preprocessed_6102104K.wav\n",
      "Processing file: /Users/yashsawrikar/Documents/VIT Labs/Semester 8/Senior Design Project/Dataset - Sample/Preprocessed/non-bio/6102201S.wav, sample rate: 80000 Hz\n",
      "Resampled to 48000 Hz\n",
      "Applied bandpass filter\n",
      "Applied noise reduction\n",
      "Saved preprocessed audio to /Users/yashsawrikar/Documents/VIT Labs/Semester 8/Senior Design Project/Dataset - Sample/Preprocessed/non-bio/preprocessed_6102201S.wav\n",
      "Processing file: /Users/yashsawrikar/Documents/VIT Labs/Semester 8/Senior Design Project/Dataset - Sample/Preprocessed/non-bio/6102201W.wav, sample rate: 80000 Hz\n",
      "Resampled to 48000 Hz\n",
      "Applied bandpass filter\n",
      "Applied noise reduction\n",
      "Saved preprocessed audio to /Users/yashsawrikar/Documents/VIT Labs/Semester 8/Senior Design Project/Dataset - Sample/Preprocessed/non-bio/preprocessed_6102201W.wav\n",
      "Processing file: /Users/yashsawrikar/Documents/VIT Labs/Semester 8/Senior Design Project/Dataset - Sample/Preprocessed/non-bio/6102203I.wav, sample rate: 80000 Hz\n",
      "Resampled to 48000 Hz\n",
      "Applied bandpass filter\n",
      "Applied noise reduction\n",
      "Saved preprocessed audio to /Users/yashsawrikar/Documents/VIT Labs/Semester 8/Senior Design Project/Dataset - Sample/Preprocessed/non-bio/preprocessed_6102203I.wav\n",
      "Processing file: /Users/yashsawrikar/Documents/VIT Labs/Semester 8/Senior Design Project/Dataset - Sample/Preprocessed/non-bio/6102102E.wav, sample rate: 81600 Hz\n",
      "Resampled to 48000 Hz\n",
      "Applied bandpass filter\n",
      "Applied noise reduction\n",
      "Saved preprocessed audio to /Users/yashsawrikar/Documents/VIT Labs/Semester 8/Senior Design Project/Dataset - Sample/Preprocessed/non-bio/preprocessed_6102102E.wav\n",
      "Processing file: /Users/yashsawrikar/Documents/VIT Labs/Semester 8/Senior Design Project/Dataset - Sample/Preprocessed/non-bio/66014009.wav, sample rate: 81920 Hz\n",
      "Resampled to 48000 Hz\n",
      "Applied bandpass filter\n",
      "Applied noise reduction\n",
      "Saved preprocessed audio to /Users/yashsawrikar/Documents/VIT Labs/Semester 8/Senior Design Project/Dataset - Sample/Preprocessed/non-bio/preprocessed_66014009.wav\n",
      "Processing file: /Users/yashsawrikar/Documents/VIT Labs/Semester 8/Senior Design Project/Dataset - Sample/Preprocessed/non-bio/66014007.wav, sample rate: 81920 Hz\n",
      "Resampled to 48000 Hz\n",
      "Applied bandpass filter\n",
      "Applied noise reduction\n",
      "Saved preprocessed audio to /Users/yashsawrikar/Documents/VIT Labs/Semester 8/Senior Design Project/Dataset - Sample/Preprocessed/non-bio/preprocessed_66014007.wav\n",
      "Processing file: /Users/yashsawrikar/Documents/VIT Labs/Semester 8/Senior Design Project/Dataset - Sample/Preprocessed/non-bio/6601400A.wav, sample rate: 81920 Hz\n",
      "Resampled to 48000 Hz\n",
      "Applied bandpass filter\n",
      "Applied noise reduction\n",
      "Saved preprocessed audio to /Users/yashsawrikar/Documents/VIT Labs/Semester 8/Senior Design Project/Dataset - Sample/Preprocessed/non-bio/preprocessed_6601400A.wav\n",
      "Processing file: /Users/yashsawrikar/Documents/VIT Labs/Semester 8/Senior Design Project/Dataset - Sample/Preprocessed/non-bio/6601400B.wav, sample rate: 81920 Hz\n",
      "Resampled to 48000 Hz\n",
      "Applied bandpass filter\n",
      "Applied noise reduction\n",
      "Saved preprocessed audio to /Users/yashsawrikar/Documents/VIT Labs/Semester 8/Senior Design Project/Dataset - Sample/Preprocessed/non-bio/preprocessed_6601400B.wav\n",
      "Processing file: /Users/yashsawrikar/Documents/VIT Labs/Semester 8/Senior Design Project/Dataset - Sample/Preprocessed/non-bio/6601400C.wav, sample rate: 81920 Hz\n",
      "Resampled to 48000 Hz\n",
      "Applied bandpass filter\n",
      "Applied noise reduction\n",
      "Saved preprocessed audio to /Users/yashsawrikar/Documents/VIT Labs/Semester 8/Senior Design Project/Dataset - Sample/Preprocessed/non-bio/preprocessed_6601400C.wav\n",
      "Processing file: /Users/yashsawrikar/Documents/VIT Labs/Semester 8/Senior Design Project/Dataset - Sample/Preprocessed/non-bio/6403104V.wav, sample rate: 40000 Hz\n",
      "Resampled to 48000 Hz\n",
      "Applied bandpass filter\n",
      "Applied noise reduction\n",
      "Saved preprocessed audio to /Users/yashsawrikar/Documents/VIT Labs/Semester 8/Senior Design Project/Dataset - Sample/Preprocessed/non-bio/preprocessed_6403104V.wav\n",
      "Processing file: /Users/yashsawrikar/Documents/VIT Labs/Semester 8/Senior Design Project/Dataset - Sample/Preprocessed/non-bio/6002602A.wav, sample rate: 45400 Hz\n",
      "Resampled to 48000 Hz\n",
      "Applied bandpass filter\n",
      "Applied noise reduction\n",
      "Saved preprocessed audio to /Users/yashsawrikar/Documents/VIT Labs/Semester 8/Senior Design Project/Dataset - Sample/Preprocessed/non-bio/preprocessed_6002602A.wav\n",
      "Processing file: /Users/yashsawrikar/Documents/VIT Labs/Semester 8/Senior Design Project/Dataset - Sample/Preprocessed/non-bio/6002600P.wav, sample rate: 45400 Hz\n",
      "Resampled to 48000 Hz\n",
      "Applied bandpass filter\n"
     ]
    },
    {
     "name": "stderr",
     "output_type": "stream",
     "text": [
      "Preprocessing audio:   8%|▊         | 16/213 [00:00<00:02, 74.80it/s]"
     ]
    },
    {
     "name": "stdout",
     "output_type": "stream",
     "text": [
      "Applied noise reduction\n",
      "Saved preprocessed audio to /Users/yashsawrikar/Documents/VIT Labs/Semester 8/Senior Design Project/Dataset - Sample/Preprocessed/non-bio/preprocessed_6002600P.wav\n",
      "Processing file: /Users/yashsawrikar/Documents/VIT Labs/Semester 8/Senior Design Project/Dataset - Sample/Preprocessed/non-bio/6403000K.wav, sample rate: 40000 Hz\n",
      "Resampled to 48000 Hz\n",
      "Applied bandpass filter\n",
      "Applied noise reduction\n",
      "Saved preprocessed audio to /Users/yashsawrikar/Documents/VIT Labs/Semester 8/Senior Design Project/Dataset - Sample/Preprocessed/non-bio/preprocessed_6403000K.wav\n",
      "Processing file: /Users/yashsawrikar/Documents/VIT Labs/Semester 8/Senior Design Project/Dataset - Sample/Preprocessed/non-bio/6002604X.wav, sample rate: 45400 Hz\n",
      "Resampled to 48000 Hz\n",
      "Applied bandpass filter\n",
      "Applied noise reduction\n",
      "Saved preprocessed audio to /Users/yashsawrikar/Documents/VIT Labs/Semester 8/Senior Design Project/Dataset - Sample/Preprocessed/non-bio/preprocessed_6002604X.wav\n",
      "Processing file: /Users/yashsawrikar/Documents/VIT Labs/Semester 8/Senior Design Project/Dataset - Sample/Preprocessed/non-bio/6403100V.wav, sample rate: 40000 Hz\n",
      "Resampled to 48000 Hz\n",
      "Applied bandpass filter\n",
      "Applied noise reduction\n",
      "Saved preprocessed audio to /Users/yashsawrikar/Documents/VIT Labs/Semester 8/Senior Design Project/Dataset - Sample/Preprocessed/non-bio/preprocessed_6403100V.wav\n",
      "Processing file: /Users/yashsawrikar/Documents/VIT Labs/Semester 8/Senior Design Project/Dataset - Sample/Preprocessed/non-bio/66003005.wav, sample rate: 30000 Hz\n",
      "Resampled to 48000 Hz\n",
      "Applied bandpass filter\n",
      "Applied noise reduction\n",
      "Saved preprocessed audio to /Users/yashsawrikar/Documents/VIT Labs/Semester 8/Senior Design Project/Dataset - Sample/Preprocessed/non-bio/preprocessed_66003005.wav\n",
      "Processing file: /Users/yashsawrikar/Documents/VIT Labs/Semester 8/Senior Design Project/Dataset - Sample/Preprocessed/non-bio/6608400Y.wav, sample rate: 5000 Hz\n",
      "Resampled to 48000 Hz\n",
      "Applied bandpass filter\n",
      "Applied noise reduction\n",
      "Saved preprocessed audio to /Users/yashsawrikar/Documents/VIT Labs/Semester 8/Senior Design Project/Dataset - Sample/Preprocessed/non-bio/preprocessed_6608400Y.wav\n",
      "Processing file: /Users/yashsawrikar/Documents/VIT Labs/Semester 8/Senior Design Project/Dataset - Sample/Preprocessed/non-bio/6608400J.wav, sample rate: 5000 Hz\n",
      "Resampled to 48000 Hz\n",
      "Applied bandpass filter\n",
      "Applied noise reduction\n",
      "Saved preprocessed audio to /Users/yashsawrikar/Documents/VIT Labs/Semester 8/Senior Design Project/Dataset - Sample/Preprocessed/non-bio/preprocessed_6608400J.wav\n",
      "Processing file: /Users/yashsawrikar/Documents/VIT Labs/Semester 8/Senior Design Project/Dataset - Sample/Preprocessed/non-bio/6609000M.wav, sample rate: 20000 Hz\n",
      "Resampled to 48000 Hz\n",
      "Applied bandpass filter\n",
      "Applied noise reduction\n",
      "Saved preprocessed audio to /Users/yashsawrikar/Documents/VIT Labs/Semester 8/Senior Design Project/Dataset - Sample/Preprocessed/non-bio/preprocessed_6609000M.wav\n",
      "Processing file: /Users/yashsawrikar/Documents/VIT Labs/Semester 8/Senior Design Project/Dataset - Sample/Preprocessed/non-bio/66084012.wav, sample rate: 5000 Hz\n",
      "Resampled to 48000 Hz\n",
      "Applied bandpass filter\n"
     ]
    },
    {
     "name": "stderr",
     "output_type": "stream",
     "text": [
      "Preprocessing audio:  11%|█▏        | 24/213 [00:00<00:03, 55.46it/s]"
     ]
    },
    {
     "name": "stdout",
     "output_type": "stream",
     "text": [
      "Applied noise reduction\n",
      "Saved preprocessed audio to /Users/yashsawrikar/Documents/VIT Labs/Semester 8/Senior Design Project/Dataset - Sample/Preprocessed/non-bio/preprocessed_66084012.wav\n",
      "Processing file: /Users/yashsawrikar/Documents/VIT Labs/Semester 8/Senior Design Project/Dataset - Sample/Preprocessed/non-bio/7902400O.wav, sample rate: 148100 Hz\n",
      "Resampled to 48000 Hz\n",
      "Applied bandpass filter\n",
      "ERROR: Noise reduction failed: operands could not be broadcast together with shapes (1286,) (2048,) \n",
      "Applied noise reduction\n",
      "Saved preprocessed audio to /Users/yashsawrikar/Documents/VIT Labs/Semester 8/Senior Design Project/Dataset - Sample/Preprocessed/non-bio/preprocessed_7902400O.wav\n",
      "Processing file: /Users/yashsawrikar/Documents/VIT Labs/Semester 8/Senior Design Project/Dataset - Sample/Preprocessed/non-bio/7902400W.wav, sample rate: 148100 Hz\n",
      "Resampled to 48000 Hz\n",
      "Applied bandpass filter\n",
      "ERROR: Noise reduction failed: noverlap must be less than nperseg.\n",
      "Applied noise reduction\n",
      "Saved preprocessed audio to /Users/yashsawrikar/Documents/VIT Labs/Semester 8/Senior Design Project/Dataset - Sample/Preprocessed/non-bio/preprocessed_7902400W.wav\n"
     ]
    },
    {
     "name": "stderr",
     "output_type": "stream",
     "text": [
      "Preprocessing audio:  17%|█▋        | 36/213 [00:00<00:02, 74.68it/s]"
     ]
    },
    {
     "name": "stdout",
     "output_type": "stream",
     "text": [
      "Processing file: /Users/yashsawrikar/Documents/VIT Labs/Semester 8/Senior Design Project/Dataset - Sample/Preprocessed/non-bio/79024006.wav, sample rate: 148100 Hz\n",
      "Resampled to 48000 Hz\n",
      "Applied bandpass filter\n",
      "Applied noise reduction\n",
      "Saved preprocessed audio to /Users/yashsawrikar/Documents/VIT Labs/Semester 8/Senior Design Project/Dataset - Sample/Preprocessed/non-bio/preprocessed_79024006.wav\n",
      "Processing file: /Users/yashsawrikar/Documents/VIT Labs/Semester 8/Senior Design Project/Dataset - Sample/Preprocessed/non-bio/7902400A.wav, sample rate: 148100 Hz\n",
      "Resampled to 48000 Hz\n",
      "Applied bandpass filter\n",
      "Applied noise reduction\n",
      "Saved preprocessed audio to /Users/yashsawrikar/Documents/VIT Labs/Semester 8/Senior Design Project/Dataset - Sample/Preprocessed/non-bio/preprocessed_7902400A.wav\n",
      "Processing file: /Users/yashsawrikar/Documents/VIT Labs/Semester 8/Senior Design Project/Dataset - Sample/Preprocessed/non-bio/7902400D.wav, sample rate: 148100 Hz\n",
      "Resampled to 48000 Hz\n",
      "Applied bandpass filter\n",
      "Applied noise reduction\n",
      "Saved preprocessed audio to /Users/yashsawrikar/Documents/VIT Labs/Semester 8/Senior Design Project/Dataset - Sample/Preprocessed/non-bio/preprocessed_7902400D.wav\n",
      "Processing file: /Users/yashsawrikar/Documents/VIT Labs/Semester 8/Senior Design Project/Dataset - Sample/Preprocessed/non-bio/5903002U.wav, sample rate: 81920 Hz\n",
      "Resampled to 48000 Hz\n",
      "Applied bandpass filter\n",
      "Applied noise reduction\n",
      "Saved preprocessed audio to /Users/yashsawrikar/Documents/VIT Labs/Semester 8/Senior Design Project/Dataset - Sample/Preprocessed/non-bio/preprocessed_5903002U.wav\n",
      "Processing file: /Users/yashsawrikar/Documents/VIT Labs/Semester 8/Senior Design Project/Dataset - Sample/Preprocessed/non-bio/5903001K.wav, sample rate: 81920 Hz\n",
      "Resampled to 48000 Hz\n",
      "Applied bandpass filter\n",
      "Applied noise reduction\n",
      "Saved preprocessed audio to /Users/yashsawrikar/Documents/VIT Labs/Semester 8/Senior Design Project/Dataset - Sample/Preprocessed/non-bio/preprocessed_5903001K.wav\n",
      "Processing file: /Users/yashsawrikar/Documents/VIT Labs/Semester 8/Senior Design Project/Dataset - Sample/Preprocessed/non-bio/59029014.wav, sample rate: 81920 Hz\n",
      "Resampled to 48000 Hz\n",
      "Applied bandpass filter\n",
      "Applied noise reduction\n",
      "Saved preprocessed audio to /Users/yashsawrikar/Documents/VIT Labs/Semester 8/Senior Design Project/Dataset - Sample/Preprocessed/non-bio/preprocessed_59029014.wav\n",
      "Processing file: /Users/yashsawrikar/Documents/VIT Labs/Semester 8/Senior Design Project/Dataset - Sample/Preprocessed/non-bio/5903000B.wav, sample rate: 30000 Hz\n",
      "Resampled to 48000 Hz\n",
      "Applied bandpass filter\n",
      "Applied noise reduction\n",
      "Saved preprocessed audio to /Users/yashsawrikar/Documents/VIT Labs/Semester 8/Senior Design Project/Dataset - Sample/Preprocessed/non-bio/preprocessed_5903000B.wav\n",
      "Processing file: /Users/yashsawrikar/Documents/VIT Labs/Semester 8/Senior Design Project/Dataset - Sample/Preprocessed/non-bio/5903001A.wav, sample rate: 81920 Hz\n",
      "Resampled to 48000 Hz\n",
      "Applied bandpass filter\n",
      "Applied noise reduction\n",
      "Saved preprocessed audio to /Users/yashsawrikar/Documents/VIT Labs/Semester 8/Senior Design Project/Dataset - Sample/Preprocessed/non-bio/preprocessed_5903001A.wav\n",
      "Processing file: /Users/yashsawrikar/Documents/VIT Labs/Semester 8/Senior Design Project/Dataset - Sample/Preprocessed/non-bio/5903001U.wav, sample rate: 81920 Hz\n",
      "Resampled to 48000 Hz\n",
      "Applied bandpass filter\n",
      "Applied noise reduction\n",
      "Saved preprocessed audio to /Users/yashsawrikar/Documents/VIT Labs/Semester 8/Senior Design Project/Dataset - Sample/Preprocessed/non-bio/preprocessed_5903001U.wav\n",
      "Processing file: /Users/yashsawrikar/Documents/VIT Labs/Semester 8/Senior Design Project/Dataset - Sample/Preprocessed/non-bio/68028001.wav, sample rate: 15000 Hz\n",
      "Resampled to 48000 Hz\n",
      "Applied bandpass filter\n",
      "Applied noise reduction\n",
      "Saved preprocessed audio to /Users/yashsawrikar/Documents/VIT Labs/Semester 8/Senior Design Project/Dataset - Sample/Preprocessed/non-bio/preprocessed_68028001.wav\n",
      "Processing file: /Users/yashsawrikar/Documents/VIT Labs/Semester 8/Senior Design Project/Dataset - Sample/Preprocessed/non-bio/71012015.wav, sample rate: 20480 Hz\n",
      "Resampled to 48000 Hz\n",
      "Applied bandpass filter\n",
      "Applied noise reduction\n",
      "Saved preprocessed audio to /Users/yashsawrikar/Documents/VIT Labs/Semester 8/Senior Design Project/Dataset - Sample/Preprocessed/non-bio/preprocessed_71012015.wav\n",
      "Processing file: /Users/yashsawrikar/Documents/VIT Labs/Semester 8/Senior Design Project/Dataset - Sample/Preprocessed/non-bio/73001003.wav, sample rate: 20480 Hz\n",
      "Resampled to 48000 Hz\n",
      "Applied bandpass filter\n",
      "Applied noise reduction\n",
      "Saved preprocessed audio to /Users/yashsawrikar/Documents/VIT Labs/Semester 8/Senior Design Project/Dataset - Sample/Preprocessed/non-bio/preprocessed_73001003.wav\n",
      "Processing file: /Users/yashsawrikar/Documents/VIT Labs/Semester 8/Senior Design Project/Dataset - Sample/Preprocessed/non-bio/71012013.wav, sample rate: 20480 Hz\n",
      "Resampled to 48000 Hz\n",
      "Applied bandpass filter\n",
      "Applied noise reduction\n",
      "Saved preprocessed audio to /Users/yashsawrikar/Documents/VIT Labs/Semester 8/Senior Design Project/Dataset - Sample/Preprocessed/non-bio/preprocessed_71012013.wav\n",
      "Processing file: /Users/yashsawrikar/Documents/VIT Labs/Semester 8/Senior Design Project/Dataset - Sample/Preprocessed/non-bio/71012012.wav, sample rate: 20480 Hz\n",
      "Resampled to 48000 Hz\n",
      "Applied bandpass filter\n",
      "Applied noise reduction\n",
      "Saved preprocessed audio to /Users/yashsawrikar/Documents/VIT Labs/Semester 8/Senior Design Project/Dataset - Sample/Preprocessed/non-bio/preprocessed_71012012.wav\n",
      "Processing file: /Users/yashsawrikar/Documents/VIT Labs/Semester 8/Senior Design Project/Dataset - Sample/Preprocessed/non-bio/76001007.wav, sample rate: 20480 Hz\n",
      "Resampled to 48000 Hz\n",
      "Applied bandpass filter\n",
      "Applied noise reduction\n",
      "Saved preprocessed audio to /Users/yashsawrikar/Documents/VIT Labs/Semester 8/Senior Design Project/Dataset - Sample/Preprocessed/non-bio/preprocessed_76001007.wav\n",
      "Processing file: /Users/yashsawrikar/Documents/VIT Labs/Semester 8/Senior Design Project/Dataset - Sample/Preprocessed/non-bio/76001006.wav, sample rate: 20480 Hz\n",
      "Resampled to 48000 Hz\n",
      "Applied bandpass filter\n",
      "Applied noise reduction\n",
      "Saved preprocessed audio to /Users/yashsawrikar/Documents/VIT Labs/Semester 8/Senior Design Project/Dataset - Sample/Preprocessed/non-bio/preprocessed_76001006.wav\n",
      "Processing file: /Users/yashsawrikar/Documents/VIT Labs/Semester 8/Senior Design Project/Dataset - Sample/Preprocessed/non-bio/76001005.wav, sample rate: 20480 Hz\n",
      "Resampled to 48000 Hz\n",
      "Applied bandpass filter\n",
      "Applied noise reduction\n",
      "Saved preprocessed audio to /Users/yashsawrikar/Documents/VIT Labs/Semester 8/Senior Design Project/Dataset - Sample/Preprocessed/non-bio/preprocessed_76001005.wav\n",
      "Processing file: /Users/yashsawrikar/Documents/VIT Labs/Semester 8/Senior Design Project/Dataset - Sample/Preprocessed/non-bio/8800600J.wav, sample rate: 10000 Hz\n",
      "Resampled to 48000 Hz\n",
      "Applied bandpass filter\n"
     ]
    },
    {
     "name": "stderr",
     "output_type": "stream",
     "text": [
      "Preprocessing audio:  25%|██▌       | 54/213 [00:00<00:02, 72.77it/s]"
     ]
    },
    {
     "name": "stdout",
     "output_type": "stream",
     "text": [
      "Applied noise reduction\n",
      "Saved preprocessed audio to /Users/yashsawrikar/Documents/VIT Labs/Semester 8/Senior Design Project/Dataset - Sample/Preprocessed/non-bio/preprocessed_8800600J.wav\n",
      "Processing file: /Users/yashsawrikar/Documents/VIT Labs/Semester 8/Senior Design Project/Dataset - Sample/Preprocessed/non-bio/8800503J.wav, sample rate: 10000 Hz\n",
      "Resampled to 48000 Hz\n",
      "Applied bandpass filter\n",
      "Applied noise reduction\n",
      "Saved preprocessed audio to /Users/yashsawrikar/Documents/VIT Labs/Semester 8/Senior Design Project/Dataset - Sample/Preprocessed/non-bio/preprocessed_8800503J.wav\n",
      "Processing file: /Users/yashsawrikar/Documents/VIT Labs/Semester 8/Senior Design Project/Dataset - Sample/Preprocessed/non-bio/8800500E.wav, sample rate: 10000 Hz\n",
      "Resampled to 48000 Hz\n",
      "Applied bandpass filter\n",
      "Applied noise reduction\n",
      "Saved preprocessed audio to /Users/yashsawrikar/Documents/VIT Labs/Semester 8/Senior Design Project/Dataset - Sample/Preprocessed/non-bio/preprocessed_8800500E.wav\n",
      "Processing file: /Users/yashsawrikar/Documents/VIT Labs/Semester 8/Senior Design Project/Dataset - Sample/Preprocessed/non-bio/8800503O.wav, sample rate: 10000 Hz\n",
      "Resampled to 48000 Hz\n",
      "Applied bandpass filter\n",
      "Applied noise reduction\n",
      "Saved preprocessed audio to /Users/yashsawrikar/Documents/VIT Labs/Semester 8/Senior Design Project/Dataset - Sample/Preprocessed/non-bio/preprocessed_8800503O.wav\n",
      "Processing file: /Users/yashsawrikar/Documents/VIT Labs/Semester 8/Senior Design Project/Dataset - Sample/Preprocessed/non-bio/8800501J.wav, sample rate: 10000 Hz\n",
      "Resampled to 48000 Hz\n",
      "Applied bandpass filter\n",
      "Applied noise reduction\n",
      "Saved preprocessed audio to /Users/yashsawrikar/Documents/VIT Labs/Semester 8/Senior Design Project/Dataset - Sample/Preprocessed/non-bio/preprocessed_8800501J.wav\n",
      "Processing file: /Users/yashsawrikar/Documents/VIT Labs/Semester 8/Senior Design Project/Dataset - Sample/Preprocessed/non-bio/88005020.wav, sample rate: 10000 Hz\n",
      "Resampled to 48000 Hz\n",
      "Applied bandpass filter\n",
      "Applied noise reduction\n",
      "Saved preprocessed audio to /Users/yashsawrikar/Documents/VIT Labs/Semester 8/Senior Design Project/Dataset - Sample/Preprocessed/non-bio/preprocessed_88005020.wav\n",
      "Processing file: /Users/yashsawrikar/Documents/VIT Labs/Semester 8/Senior Design Project/Dataset - Sample/Preprocessed/non-bio/7500305L.wav, sample rate: 81600 Hz\n",
      "Resampled to 48000 Hz\n",
      "Applied bandpass filter\n",
      "Applied noise reduction\n",
      "Saved preprocessed audio to /Users/yashsawrikar/Documents/VIT Labs/Semester 8/Senior Design Project/Dataset - Sample/Preprocessed/non-bio/preprocessed_7500305L.wav\n",
      "Processing file: /Users/yashsawrikar/Documents/VIT Labs/Semester 8/Senior Design Project/Dataset - Sample/Preprocessed/non-bio/58014021.wav, sample rate: 43900 Hz\n",
      "Resampled to 48000 Hz\n",
      "Applied bandpass filter\n",
      "Applied noise reduction\n",
      "Saved preprocessed audio to /Users/yashsawrikar/Documents/VIT Labs/Semester 8/Senior Design Project/Dataset - Sample/Preprocessed/non-bio/preprocessed_58014021.wav\n",
      "Processing file: /Users/yashsawrikar/Documents/VIT Labs/Semester 8/Senior Design Project/Dataset - Sample/Preprocessed/non-bio/57027023.wav, sample rate: 60600 Hz\n",
      "Resampled to 48000 Hz\n",
      "Applied bandpass filter\n",
      "Applied noise reduction\n",
      "Saved preprocessed audio to /Users/yashsawrikar/Documents/VIT Labs/Semester 8/Senior Design Project/Dataset - Sample/Preprocessed/non-bio/preprocessed_57027023.wav\n",
      "Processing file: /Users/yashsawrikar/Documents/VIT Labs/Semester 8/Senior Design Project/Dataset - Sample/Preprocessed/non-bio/75003038.wav, sample rate: 81600 Hz\n",
      "Resampled to 48000 Hz\n",
      "Applied bandpass filter\n",
      "Applied noise reduction\n",
      "Saved preprocessed audio to /Users/yashsawrikar/Documents/VIT Labs/Semester 8/Senior Design Project/Dataset - Sample/Preprocessed/non-bio/preprocessed_75003038.wav\n",
      "Processing file: /Users/yashsawrikar/Documents/VIT Labs/Semester 8/Senior Design Project/Dataset - Sample/Preprocessed/non-bio/6103000A.wav, sample rate: 81920 Hz\n",
      "Resampled to 48000 Hz\n",
      "Applied bandpass filter\n",
      "Applied noise reduction\n",
      "Saved preprocessed audio to /Users/yashsawrikar/Documents/VIT Labs/Semester 8/Senior Design Project/Dataset - Sample/Preprocessed/non-bio/preprocessed_6103000A.wav\n",
      "Processing file: /Users/yashsawrikar/Documents/VIT Labs/Semester 8/Senior Design Project/Dataset - Sample/Preprocessed/non-bio/57026069.wav, sample rate: 40000 Hz\n",
      "Resampled to 48000 Hz\n",
      "Applied bandpass filter\n",
      "Applied noise reduction\n",
      "Saved preprocessed audio to /Users/yashsawrikar/Documents/VIT Labs/Semester 8/Senior Design Project/Dataset - Sample/Preprocessed/non-bio/preprocessed_57026069.wav\n",
      "Processing file: /Users/yashsawrikar/Documents/VIT Labs/Semester 8/Senior Design Project/Dataset - Sample/Preprocessed/non-bio/6302100E.wav, sample rate: 81920 Hz\n",
      "Resampled to 48000 Hz\n",
      "Applied bandpass filter\n",
      "Applied noise reduction\n",
      "Saved preprocessed audio to /Users/yashsawrikar/Documents/VIT Labs/Semester 8/Senior Design Project/Dataset - Sample/Preprocessed/non-bio/preprocessed_6302100E.wav\n",
      "Processing file: /Users/yashsawrikar/Documents/VIT Labs/Semester 8/Senior Design Project/Dataset - Sample/Preprocessed/non-bio/99001008.wav, sample rate: 3400 Hz\n",
      "Resampled to 48000 Hz\n",
      "Applied bandpass filter\n"
     ]
    },
    {
     "name": "stderr",
     "output_type": "stream",
     "text": [
      "Preprocessing audio:  29%|██▉       | 62/213 [00:00<00:02, 60.67it/s]"
     ]
    },
    {
     "name": "stdout",
     "output_type": "stream",
     "text": [
      "Applied noise reduction\n",
      "Saved preprocessed audio to /Users/yashsawrikar/Documents/VIT Labs/Semester 8/Senior Design Project/Dataset - Sample/Preprocessed/non-bio/preprocessed_99001008.wav\n",
      "Processing file: /Users/yashsawrikar/Documents/VIT Labs/Semester 8/Senior Design Project/Dataset - Sample/Preprocessed/non-bio/6702600L.wav, sample rate: 640 Hz\n",
      "Resampled to 48000 Hz\n",
      "Applied bandpass filter\n",
      "Applied noise reduction\n",
      "Saved preprocessed audio to /Users/yashsawrikar/Documents/VIT Labs/Semester 8/Senior Design Project/Dataset - Sample/Preprocessed/non-bio/preprocessed_6702600L.wav\n",
      "Processing file: /Users/yashsawrikar/Documents/VIT Labs/Semester 8/Senior Design Project/Dataset - Sample/Preprocessed/non-bio/9900200A.wav, sample rate: 3400 Hz\n",
      "Resampled to 48000 Hz\n",
      "Applied bandpass filter\n",
      "Applied noise reduction\n",
      "Saved preprocessed audio to /Users/yashsawrikar/Documents/VIT Labs/Semester 8/Senior Design Project/Dataset - Sample/Preprocessed/non-bio/preprocessed_9900200A.wav\n",
      "Processing file: /Users/yashsawrikar/Documents/VIT Labs/Semester 8/Senior Design Project/Dataset - Sample/Preprocessed/non-bio/9900200B.wav, sample rate: 3400 Hz\n",
      "Resampled to 48000 Hz\n",
      "Applied bandpass filter\n",
      "Applied noise reduction\n",
      "Saved preprocessed audio to /Users/yashsawrikar/Documents/VIT Labs/Semester 8/Senior Design Project/Dataset - Sample/Preprocessed/non-bio/preprocessed_9900200B.wav\n",
      "Processing file: /Users/yashsawrikar/Documents/VIT Labs/Semester 8/Senior Design Project/Dataset - Sample/Preprocessed/non-bio/99002009.wav, sample rate: 3400 Hz\n",
      "Resampled to 48000 Hz\n",
      "Applied bandpass filter\n",
      "Applied noise reduction\n",
      "Saved preprocessed audio to /Users/yashsawrikar/Documents/VIT Labs/Semester 8/Senior Design Project/Dataset - Sample/Preprocessed/non-bio/preprocessed_99002009.wav\n",
      "Processing file: /Users/yashsawrikar/Documents/VIT Labs/Semester 8/Senior Design Project/Dataset - Sample/Preprocessed/non-bio/99001002.wav, sample rate: 1000 Hz\n",
      "Resampled to 48000 Hz\n",
      "Applied bandpass filter\n",
      "Applied noise reduction\n",
      "Saved preprocessed audio to /Users/yashsawrikar/Documents/VIT Labs/Semester 8/Senior Design Project/Dataset - Sample/Preprocessed/non-bio/preprocessed_99001002.wav\n",
      "Processing file: /Users/yashsawrikar/Documents/VIT Labs/Semester 8/Senior Design Project/Dataset - Sample/Preprocessed/non-bio/67026001.wav, sample rate: 640 Hz\n",
      "Resampled to 48000 Hz\n",
      "Applied bandpass filter\n",
      "Applied noise reduction\n",
      "Saved preprocessed audio to /Users/yashsawrikar/Documents/VIT Labs/Semester 8/Senior Design Project/Dataset - Sample/Preprocessed/non-bio/preprocessed_67026001.wav\n",
      "Processing file: /Users/yashsawrikar/Documents/VIT Labs/Semester 8/Senior Design Project/Dataset - Sample/Preprocessed/non-bio/56006007.wav, sample rate: 60600 Hz\n",
      "Resampled to 48000 Hz\n",
      "Applied bandpass filter\n",
      "Applied noise reduction\n",
      "Saved preprocessed audio to /Users/yashsawrikar/Documents/VIT Labs/Semester 8/Senior Design Project/Dataset - Sample/Preprocessed/non-bio/preprocessed_56006007.wav\n",
      "Processing file: /Users/yashsawrikar/Documents/VIT Labs/Semester 8/Senior Design Project/Dataset - Sample/Preprocessed/non-bio/9400801F.wav, sample rate: 80000 Hz\n",
      "Resampled to 48000 Hz\n",
      "Applied bandpass filter\n",
      "Applied noise reduction\n",
      "Saved preprocessed audio to /Users/yashsawrikar/Documents/VIT Labs/Semester 8/Senior Design Project/Dataset - Sample/Preprocessed/non-bio/preprocessed_9400801F.wav\n",
      "Processing file: /Users/yashsawrikar/Documents/VIT Labs/Semester 8/Senior Design Project/Dataset - Sample/Preprocessed/non-bio/94008062.wav, sample rate: 148100 Hz\n",
      "Resampled to 48000 Hz\n",
      "Applied bandpass filter\n",
      "Applied noise reduction\n",
      "Saved preprocessed audio to /Users/yashsawrikar/Documents/VIT Labs/Semester 8/Senior Design Project/Dataset - Sample/Preprocessed/non-bio/preprocessed_94008062.wav\n",
      "Processing file: /Users/yashsawrikar/Documents/VIT Labs/Semester 8/Senior Design Project/Dataset - Sample/Preprocessed/non-bio/6400504G.wav, sample rate: 192000 Hz\n",
      "Resampled to 48000 Hz\n",
      "Applied bandpass filter\n"
     ]
    },
    {
     "name": "stderr",
     "output_type": "stream",
     "text": [
      "Preprocessing audio:  36%|███▌      | 77/213 [00:02<00:07, 17.49it/s]"
     ]
    },
    {
     "name": "stdout",
     "output_type": "stream",
     "text": [
      "Applied noise reduction\n",
      "Saved preprocessed audio to /Users/yashsawrikar/Documents/VIT Labs/Semester 8/Senior Design Project/Dataset - Sample/Preprocessed/non-bio/preprocessed_6400504G.wav\n",
      "Processing file: /Users/yashsawrikar/Documents/VIT Labs/Semester 8/Senior Design Project/Dataset - Sample/Preprocessed/non-bio/9400807L.wav, sample rate: 148100 Hz\n",
      "Resampled to 48000 Hz\n",
      "Applied bandpass filter\n",
      "Applied noise reduction\n",
      "Saved preprocessed audio to /Users/yashsawrikar/Documents/VIT Labs/Semester 8/Senior Design Project/Dataset - Sample/Preprocessed/non-bio/preprocessed_9400807L.wav\n",
      "Processing file: /Users/yashsawrikar/Documents/VIT Labs/Semester 8/Senior Design Project/Dataset - Sample/Preprocessed/non-bio/9400800Z.wav, sample rate: 80000 Hz\n",
      "Resampled to 48000 Hz\n",
      "Applied bandpass filter\n",
      "Applied noise reduction\n",
      "Saved preprocessed audio to /Users/yashsawrikar/Documents/VIT Labs/Semester 8/Senior Design Project/Dataset - Sample/Preprocessed/non-bio/preprocessed_9400800Z.wav\n",
      "Processing file: /Users/yashsawrikar/Documents/VIT Labs/Semester 8/Senior Design Project/Dataset - Sample/Preprocessed/non-bio/7001200D.wav, sample rate: 80000 Hz\n",
      "Resampled to 48000 Hz\n",
      "Applied bandpass filter\n",
      "Applied noise reduction\n",
      "Saved preprocessed audio to /Users/yashsawrikar/Documents/VIT Labs/Semester 8/Senior Design Project/Dataset - Sample/Preprocessed/non-bio/preprocessed_7001200D.wav\n",
      "Processing file: /Users/yashsawrikar/Documents/VIT Labs/Semester 8/Senior Design Project/Dataset - Sample/Preprocessed/non-bio/70012001.wav, sample rate: 80000 Hz\n",
      "Resampled to 48000 Hz\n",
      "Applied bandpass filter\n",
      "Applied noise reduction\n",
      "Saved preprocessed audio to /Users/yashsawrikar/Documents/VIT Labs/Semester 8/Senior Design Project/Dataset - Sample/Preprocessed/non-bio/preprocessed_70012001.wav\n",
      "Processing file: /Users/yashsawrikar/Documents/VIT Labs/Semester 8/Senior Design Project/Dataset - Sample/Preprocessed/non-bio/6200800S.wav, sample rate: 80000 Hz\n",
      "Resampled to 48000 Hz\n",
      "Applied bandpass filter\n",
      "Applied noise reduction\n",
      "Saved preprocessed audio to /Users/yashsawrikar/Documents/VIT Labs/Semester 8/Senior Design Project/Dataset - Sample/Preprocessed/non-bio/preprocessed_6200800S.wav\n",
      "Processing file: /Users/yashsawrikar/Documents/VIT Labs/Semester 8/Senior Design Project/Dataset - Sample/Preprocessed/non-bio/70014015.wav, sample rate: 80000 Hz\n",
      "Resampled to 48000 Hz\n",
      "Applied bandpass filter\n",
      "Applied noise reduction\n",
      "Saved preprocessed audio to /Users/yashsawrikar/Documents/VIT Labs/Semester 8/Senior Design Project/Dataset - Sample/Preprocessed/non-bio/preprocessed_70014015.wav\n",
      "Processing file: /Users/yashsawrikar/Documents/VIT Labs/Semester 8/Senior Design Project/Dataset - Sample/Preprocessed/non-bio/6200800Q.wav, sample rate: 80000 Hz\n",
      "Resampled to 48000 Hz\n",
      "Applied bandpass filter\n",
      "Applied noise reduction\n",
      "Saved preprocessed audio to /Users/yashsawrikar/Documents/VIT Labs/Semester 8/Senior Design Project/Dataset - Sample/Preprocessed/non-bio/preprocessed_6200800Q.wav\n",
      "Processing file: /Users/yashsawrikar/Documents/VIT Labs/Semester 8/Senior Design Project/Dataset - Sample/Preprocessed/non-bio/6200800K.wav, sample rate: 80000 Hz\n",
      "Resampled to 48000 Hz\n",
      "Applied bandpass filter\n",
      "Applied noise reduction\n",
      "Saved preprocessed audio to /Users/yashsawrikar/Documents/VIT Labs/Semester 8/Senior Design Project/Dataset - Sample/Preprocessed/non-bio/preprocessed_6200800K.wav\n",
      "Processing file: /Users/yashsawrikar/Documents/VIT Labs/Semester 8/Senior Design Project/Dataset - Sample/Preprocessed/non-bio/7001300A.wav, sample rate: 80000 Hz\n",
      "Resampled to 48000 Hz\n",
      "Applied bandpass filter\n",
      "Applied noise reduction\n",
      "Saved preprocessed audio to /Users/yashsawrikar/Documents/VIT Labs/Semester 8/Senior Design Project/Dataset - Sample/Preprocessed/non-bio/preprocessed_7001300A.wav\n",
      "Processing file: /Users/yashsawrikar/Documents/VIT Labs/Semester 8/Senior Design Project/Dataset - Sample/Preprocessed/non-bio/77008001.wav, sample rate: 640 Hz\n",
      "Resampled to 48000 Hz\n",
      "Applied bandpass filter\n",
      "Applied noise reduction\n",
      "Saved preprocessed audio to /Users/yashsawrikar/Documents/VIT Labs/Semester 8/Senior Design Project/Dataset - Sample/Preprocessed/non-bio/preprocessed_77008001.wav\n",
      "Processing file: /Users/yashsawrikar/Documents/VIT Labs/Semester 8/Senior Design Project/Dataset - Sample/Preprocessed/non-bio/9320100S.wav, sample rate: 320 Hz\n",
      "Resampled to 48000 Hz\n",
      "Applied bandpass filter\n",
      "Applied noise reduction\n",
      "Saved preprocessed audio to /Users/yashsawrikar/Documents/VIT Labs/Semester 8/Senior Design Project/Dataset - Sample/Preprocessed/non-bio/preprocessed_9320100S.wav\n",
      "Processing file: /Users/yashsawrikar/Documents/VIT Labs/Semester 8/Senior Design Project/Dataset - Sample/Preprocessed/non-bio/61056002.wav, sample rate: 600 Hz\n",
      "Resampled to 48000 Hz\n",
      "Applied bandpass filter\n",
      "Applied noise reduction\n",
      "Saved preprocessed audio to /Users/yashsawrikar/Documents/VIT Labs/Semester 8/Senior Design Project/Dataset - Sample/Preprocessed/non-bio/preprocessed_61056002.wav\n",
      "Processing file: /Users/yashsawrikar/Documents/VIT Labs/Semester 8/Senior Design Project/Dataset - Sample/Preprocessed/non-bio/7700901B.wav, sample rate: 640 Hz\n",
      "Resampled to 48000 Hz\n",
      "Applied bandpass filter\n",
      "Applied noise reduction\n",
      "Saved preprocessed audio to /Users/yashsawrikar/Documents/VIT Labs/Semester 8/Senior Design Project/Dataset - Sample/Preprocessed/non-bio/preprocessed_7700901B.wav\n",
      "Processing file: /Users/yashsawrikar/Documents/VIT Labs/Semester 8/Senior Design Project/Dataset - Sample/Preprocessed/non-bio/61053004.wav, sample rate: 600 Hz\n",
      "Resampled to 48000 Hz\n",
      "Applied bandpass filter\n",
      "Applied noise reduction\n",
      "Saved preprocessed audio to /Users/yashsawrikar/Documents/VIT Labs/Semester 8/Senior Design Project/Dataset - Sample/Preprocessed/non-bio/preprocessed_61053004.wav\n",
      "Processing file: /Users/yashsawrikar/Documents/VIT Labs/Semester 8/Senior Design Project/Dataset - Sample/Preprocessed/non-bio/77006009.wav, sample rate: 640 Hz\n",
      "Resampled to 48000 Hz\n",
      "Applied bandpass filter\n",
      "Applied noise reduction\n",
      "Saved preprocessed audio to /Users/yashsawrikar/Documents/VIT Labs/Semester 8/Senior Design Project/Dataset - Sample/Preprocessed/non-bio/preprocessed_77006009.wav\n",
      "Processing file: /Users/yashsawrikar/Documents/VIT Labs/Semester 8/Senior Design Project/Dataset - Sample/Preprocessed/non-bio/79004035.wav, sample rate: 148100 Hz\n",
      "Resampled to 48000 Hz\n",
      "Applied bandpass filter\n",
      "Applied noise reduction\n",
      "Saved preprocessed audio to /Users/yashsawrikar/Documents/VIT Labs/Semester 8/Senior Design Project/Dataset - Sample/Preprocessed/non-bio/preprocessed_79004035.wav\n",
      "Processing file: /Users/yashsawrikar/Documents/VIT Labs/Semester 8/Senior Design Project/Dataset - Sample/Preprocessed/non-bio/7900400L.wav, sample rate: 148100 Hz\n",
      "Resampled to 48000 Hz\n",
      "Applied bandpass filter\n"
     ]
    },
    {
     "name": "stderr",
     "output_type": "stream",
     "text": [
      "Preprocessing audio:  43%|████▎     | 92/213 [00:03<00:04, 25.50it/s]"
     ]
    },
    {
     "name": "stdout",
     "output_type": "stream",
     "text": [
      "Applied noise reduction\n",
      "Saved preprocessed audio to /Users/yashsawrikar/Documents/VIT Labs/Semester 8/Senior Design Project/Dataset - Sample/Preprocessed/non-bio/preprocessed_7900400L.wav\n",
      "Processing file: /Users/yashsawrikar/Documents/VIT Labs/Semester 8/Senior Design Project/Dataset - Sample/Preprocessed/non-bio/61072006.wav, sample rate: 80000 Hz\n",
      "Resampled to 48000 Hz\n",
      "Applied bandpass filter\n",
      "Applied noise reduction\n",
      "Saved preprocessed audio to /Users/yashsawrikar/Documents/VIT Labs/Semester 8/Senior Design Project/Dataset - Sample/Preprocessed/non-bio/preprocessed_61072006.wav\n",
      "Processing file: /Users/yashsawrikar/Documents/VIT Labs/Semester 8/Senior Design Project/Dataset - Sample/Preprocessed/non-bio/79006012.wav, sample rate: 81920 Hz\n",
      "Resampled to 48000 Hz\n",
      "Applied bandpass filter\n",
      "Applied noise reduction\n",
      "Saved preprocessed audio to /Users/yashsawrikar/Documents/VIT Labs/Semester 8/Senior Design Project/Dataset - Sample/Preprocessed/non-bio/preprocessed_79006012.wav\n",
      "Processing file: /Users/yashsawrikar/Documents/VIT Labs/Semester 8/Senior Design Project/Dataset - Sample/Preprocessed/non-bio/7900600R.wav, sample rate: 81920 Hz\n",
      "Resampled to 48000 Hz\n",
      "Applied bandpass filter\n",
      "Applied noise reduction\n",
      "Saved preprocessed audio to /Users/yashsawrikar/Documents/VIT Labs/Semester 8/Senior Design Project/Dataset - Sample/Preprocessed/non-bio/preprocessed_7900600R.wav\n",
      "Processing file: /Users/yashsawrikar/Documents/VIT Labs/Semester 8/Senior Design Project/Dataset - Sample/Preprocessed/non-bio/6800200B.wav, sample rate: 81920 Hz\n",
      "Resampled to 48000 Hz\n",
      "Applied bandpass filter\n",
      "Applied noise reduction\n",
      "Saved preprocessed audio to /Users/yashsawrikar/Documents/VIT Labs/Semester 8/Senior Design Project/Dataset - Sample/Preprocessed/non-bio/preprocessed_6800200B.wav\n",
      "Processing file: /Users/yashsawrikar/Documents/VIT Labs/Semester 8/Senior Design Project/Dataset - Sample/Preprocessed/non-bio/6800200C.wav, sample rate: 81920 Hz\n",
      "Resampled to 48000 Hz\n",
      "Applied bandpass filter\n",
      "Applied noise reduction\n",
      "Saved preprocessed audio to /Users/yashsawrikar/Documents/VIT Labs/Semester 8/Senior Design Project/Dataset - Sample/Preprocessed/non-bio/preprocessed_6800200C.wav\n",
      "Processing file: /Users/yashsawrikar/Documents/VIT Labs/Semester 8/Senior Design Project/Dataset - Sample/Preprocessed/non-bio/6804000J.wav, sample rate: 60600 Hz\n",
      "Resampled to 48000 Hz\n",
      "Applied bandpass filter\n",
      "Applied noise reduction\n",
      "Saved preprocessed audio to /Users/yashsawrikar/Documents/VIT Labs/Semester 8/Senior Design Project/Dataset - Sample/Preprocessed/non-bio/preprocessed_6804000J.wav\n",
      "Processing file: /Users/yashsawrikar/Documents/VIT Labs/Semester 8/Senior Design Project/Dataset - Sample/Preprocessed/non-bio/7501400L.wav, sample rate: 81920 Hz\n",
      "Resampled to 48000 Hz\n",
      "Applied bandpass filter\n",
      "Applied noise reduction\n",
      "Saved preprocessed audio to /Users/yashsawrikar/Documents/VIT Labs/Semester 8/Senior Design Project/Dataset - Sample/Preprocessed/non-bio/preprocessed_7501400L.wav\n",
      "Processing file: /Users/yashsawrikar/Documents/VIT Labs/Semester 8/Senior Design Project/Dataset - Sample/Preprocessed/non-bio/6800200F.wav, sample rate: 81920 Hz\n",
      "Resampled to 48000 Hz\n",
      "Applied bandpass filter\n",
      "Applied noise reduction\n",
      "Saved preprocessed audio to /Users/yashsawrikar/Documents/VIT Labs/Semester 8/Senior Design Project/Dataset - Sample/Preprocessed/non-bio/preprocessed_6800200F.wav\n",
      "Processing file: /Users/yashsawrikar/Documents/VIT Labs/Semester 8/Senior Design Project/Dataset - Sample/Preprocessed/non-bio/6804000S.wav, sample rate: 60600 Hz\n",
      "Resampled to 48000 Hz\n",
      "Applied bandpass filter\n",
      "Applied noise reduction\n",
      "Saved preprocessed audio to /Users/yashsawrikar/Documents/VIT Labs/Semester 8/Senior Design Project/Dataset - Sample/Preprocessed/non-bio/preprocessed_6804000S.wav\n",
      "Processing file: /Users/yashsawrikar/Documents/VIT Labs/Semester 8/Senior Design Project/Dataset - Sample/Preprocessed/non-bio/6800300B.wav, sample rate: 40960 Hz\n",
      "Resampled to 48000 Hz\n",
      "Applied bandpass filter\n",
      "Applied noise reduction\n",
      "Saved preprocessed audio to /Users/yashsawrikar/Documents/VIT Labs/Semester 8/Senior Design Project/Dataset - Sample/Preprocessed/non-bio/preprocessed_6800300B.wav\n",
      "Processing file: /Users/yashsawrikar/Documents/VIT Labs/Semester 8/Senior Design Project/Dataset - Sample/Preprocessed/non-bio/6412400R.wav, sample rate: 60600 Hz\n",
      "Resampled to 48000 Hz\n",
      "Applied bandpass filter\n",
      "Applied noise reduction\n",
      "Saved preprocessed audio to /Users/yashsawrikar/Documents/VIT Labs/Semester 8/Senior Design Project/Dataset - Sample/Preprocessed/non-bio/preprocessed_6412400R.wav\n",
      "Processing file: /Users/yashsawrikar/Documents/VIT Labs/Semester 8/Senior Design Project/Dataset - Sample/Preprocessed/non-bio/6412400Q.wav, sample rate: 60600 Hz\n",
      "Resampled to 48000 Hz\n",
      "Applied bandpass filter\n"
     ]
    },
    {
     "name": "stderr",
     "output_type": "stream",
     "text": [
      "Preprocessing audio:  46%|████▌     | 98/213 [00:03<00:04, 25.49it/s]"
     ]
    },
    {
     "name": "stdout",
     "output_type": "stream",
     "text": [
      "Applied noise reduction\n",
      "Saved preprocessed audio to /Users/yashsawrikar/Documents/VIT Labs/Semester 8/Senior Design Project/Dataset - Sample/Preprocessed/non-bio/preprocessed_6412400Q.wav\n",
      "Processing file: /Users/yashsawrikar/Documents/VIT Labs/Semester 8/Senior Design Project/Dataset - Sample/Preprocessed/non-bio/64124006.wav, sample rate: 60600 Hz\n",
      "Resampled to 48000 Hz\n",
      "Applied bandpass filter\n",
      "Applied noise reduction\n",
      "Saved preprocessed audio to /Users/yashsawrikar/Documents/VIT Labs/Semester 8/Senior Design Project/Dataset - Sample/Preprocessed/non-bio/preprocessed_64124006.wav\n",
      "Processing file: /Users/yashsawrikar/Documents/VIT Labs/Semester 8/Senior Design Project/Dataset - Sample/Preprocessed/non-bio/64124008.wav, sample rate: 60600 Hz\n",
      "Resampled to 48000 Hz\n",
      "Applied bandpass filter\n",
      "Applied noise reduction\n",
      "Saved preprocessed audio to /Users/yashsawrikar/Documents/VIT Labs/Semester 8/Senior Design Project/Dataset - Sample/Preprocessed/non-bio/preprocessed_64124008.wav\n",
      "Processing file: /Users/yashsawrikar/Documents/VIT Labs/Semester 8/Senior Design Project/Dataset - Sample/Preprocessed/non-bio/6412400K.wav, sample rate: 60600 Hz\n",
      "Resampled to 48000 Hz\n",
      "Applied bandpass filter\n",
      "Applied noise reduction\n",
      "Saved preprocessed audio to /Users/yashsawrikar/Documents/VIT Labs/Semester 8/Senior Design Project/Dataset - Sample/Preprocessed/non-bio/preprocessed_6412400K.wav\n",
      "Processing file: /Users/yashsawrikar/Documents/VIT Labs/Semester 8/Senior Design Project/Dataset - Sample/Preprocessed/non-bio/6412400I.wav, sample rate: 60600 Hz\n",
      "Resampled to 48000 Hz\n",
      "Applied bandpass filter\n"
     ]
    },
    {
     "name": "stderr",
     "output_type": "stream",
     "text": [
      "Preprocessing audio:  48%|████▊     | 103/213 [00:03<00:04, 26.29it/s]"
     ]
    },
    {
     "name": "stdout",
     "output_type": "stream",
     "text": [
      "Applied noise reduction\n",
      "Saved preprocessed audio to /Users/yashsawrikar/Documents/VIT Labs/Semester 8/Senior Design Project/Dataset - Sample/Preprocessed/non-bio/preprocessed_6412400I.wav\n",
      "Processing file: /Users/yashsawrikar/Documents/VIT Labs/Semester 8/Senior Design Project/Dataset - Sample/Preprocessed/non-bio/8303502X.wav, sample rate: 166600 Hz\n",
      "Resampled to 48000 Hz\n",
      "Applied bandpass filter\n",
      "Applied noise reduction\n",
      "Saved preprocessed audio to /Users/yashsawrikar/Documents/VIT Labs/Semester 8/Senior Design Project/Dataset - Sample/Preprocessed/non-bio/preprocessed_8303502X.wav\n",
      "Processing file: /Users/yashsawrikar/Documents/VIT Labs/Semester 8/Senior Design Project/Dataset - Sample/Preprocessed/non-bio/8303503J.wav, sample rate: 166600 Hz\n",
      "Resampled to 48000 Hz\n",
      "Applied bandpass filter\n",
      "Applied noise reduction\n",
      "Saved preprocessed audio to /Users/yashsawrikar/Documents/VIT Labs/Semester 8/Senior Design Project/Dataset - Sample/Preprocessed/non-bio/preprocessed_8303503J.wav\n",
      "Processing file: /Users/yashsawrikar/Documents/VIT Labs/Semester 8/Senior Design Project/Dataset - Sample/Preprocessed/non-bio/8303501A.wav, sample rate: 166600 Hz\n",
      "Resampled to 48000 Hz\n",
      "Applied bandpass filter\n",
      "Applied noise reduction\n",
      "Saved preprocessed audio to /Users/yashsawrikar/Documents/VIT Labs/Semester 8/Senior Design Project/Dataset - Sample/Preprocessed/non-bio/preprocessed_8303501A.wav\n",
      "Processing file: /Users/yashsawrikar/Documents/VIT Labs/Semester 8/Senior Design Project/Dataset - Sample/Preprocessed/non-bio/8300604P.wav, sample rate: 41600 Hz\n",
      "Resampled to 48000 Hz\n",
      "Applied bandpass filter\n",
      "Applied noise reduction\n",
      "Saved preprocessed audio to /Users/yashsawrikar/Documents/VIT Labs/Semester 8/Senior Design Project/Dataset - Sample/Preprocessed/non-bio/preprocessed_8300604P.wav\n",
      "Processing file: /Users/yashsawrikar/Documents/VIT Labs/Semester 8/Senior Design Project/Dataset - Sample/Preprocessed/non-bio/83006049.wav, sample rate: 41600 Hz\n",
      "Resampled to 48000 Hz\n",
      "Applied bandpass filter\n",
      "Applied noise reduction\n",
      "Saved preprocessed audio to /Users/yashsawrikar/Documents/VIT Labs/Semester 8/Senior Design Project/Dataset - Sample/Preprocessed/non-bio/preprocessed_83006049.wav\n",
      "Processing file: /Users/yashsawrikar/Documents/VIT Labs/Semester 8/Senior Design Project/Dataset - Sample/Preprocessed/non-bio/6405500D.wav, sample rate: 40000 Hz\n",
      "Resampled to 48000 Hz\n",
      "Applied bandpass filter\n",
      "Applied noise reduction\n",
      "Saved preprocessed audio to /Users/yashsawrikar/Documents/VIT Labs/Semester 8/Senior Design Project/Dataset - Sample/Preprocessed/non-bio/preprocessed_6405500D.wav\n",
      "Processing file: /Users/yashsawrikar/Documents/VIT Labs/Semester 8/Senior Design Project/Dataset - Sample/Preprocessed/non-bio/64054008.wav, sample rate: 40000 Hz\n",
      "Resampled to 48000 Hz\n",
      "Applied bandpass filter\n",
      "Applied noise reduction\n",
      "Saved preprocessed audio to /Users/yashsawrikar/Documents/VIT Labs/Semester 8/Senior Design Project/Dataset - Sample/Preprocessed/non-bio/preprocessed_64054008.wav\n",
      "Processing file: /Users/yashsawrikar/Documents/VIT Labs/Semester 8/Senior Design Project/Dataset - Sample/Preprocessed/non-bio/6405400L.wav, sample rate: 40000 Hz\n",
      "Resampled to 48000 Hz\n"
     ]
    },
    {
     "name": "stderr",
     "output_type": "stream",
     "text": [
      "Preprocessing audio:  51%|█████     | 108/213 [00:03<00:04, 25.03it/s]"
     ]
    },
    {
     "name": "stdout",
     "output_type": "stream",
     "text": [
      "Applied bandpass filter\n",
      "Applied noise reduction\n",
      "Saved preprocessed audio to /Users/yashsawrikar/Documents/VIT Labs/Semester 8/Senior Design Project/Dataset - Sample/Preprocessed/non-bio/preprocessed_6405400L.wav\n",
      "Processing file: /Users/yashsawrikar/Documents/VIT Labs/Semester 8/Senior Design Project/Dataset - Sample/Preprocessed/non-bio/6403700D.wav, sample rate: 40000 Hz\n",
      "Resampled to 48000 Hz\n",
      "Applied bandpass filter\n",
      "Applied noise reduction\n",
      "Saved preprocessed audio to /Users/yashsawrikar/Documents/VIT Labs/Semester 8/Senior Design Project/Dataset - Sample/Preprocessed/non-bio/preprocessed_6403700D.wav\n",
      "Processing file: /Users/yashsawrikar/Documents/VIT Labs/Semester 8/Senior Design Project/Dataset - Sample/Preprocessed/non-bio/64038009.wav, sample rate: 40000 Hz\n",
      "Resampled to 48000 Hz\n",
      "Applied bandpass filter\n"
     ]
    },
    {
     "name": "stderr",
     "output_type": "stream",
     "text": [
      "Preprocessing audio:  56%|█████▋    | 120/213 [00:04<00:03, 29.79it/s]"
     ]
    },
    {
     "name": "stdout",
     "output_type": "stream",
     "text": [
      "Applied noise reduction\n",
      "Saved preprocessed audio to /Users/yashsawrikar/Documents/VIT Labs/Semester 8/Senior Design Project/Dataset - Sample/Preprocessed/non-bio/preprocessed_64038009.wav\n",
      "Processing file: /Users/yashsawrikar/Documents/VIT Labs/Semester 8/Senior Design Project/Dataset - Sample/Preprocessed/non-bio/8300102K.wav, sample rate: 10000 Hz\n",
      "Resampled to 48000 Hz\n",
      "Applied bandpass filter\n",
      "Applied noise reduction\n",
      "Saved preprocessed audio to /Users/yashsawrikar/Documents/VIT Labs/Semester 8/Senior Design Project/Dataset - Sample/Preprocessed/non-bio/preprocessed_8300102K.wav\n",
      "Processing file: /Users/yashsawrikar/Documents/VIT Labs/Semester 8/Senior Design Project/Dataset - Sample/Preprocessed/non-bio/7200200E.wav, sample rate: 20000 Hz\n",
      "Resampled to 48000 Hz\n",
      "Applied bandpass filter\n",
      "Applied noise reduction\n",
      "Saved preprocessed audio to /Users/yashsawrikar/Documents/VIT Labs/Semester 8/Senior Design Project/Dataset - Sample/Preprocessed/non-bio/preprocessed_7200200E.wav\n",
      "Processing file: /Users/yashsawrikar/Documents/VIT Labs/Semester 8/Senior Design Project/Dataset - Sample/Preprocessed/non-bio/72002002.wav, sample rate: 20000 Hz\n",
      "Resampled to 48000 Hz\n",
      "Applied bandpass filter\n",
      "Applied noise reduction\n",
      "Saved preprocessed audio to /Users/yashsawrikar/Documents/VIT Labs/Semester 8/Senior Design Project/Dataset - Sample/Preprocessed/non-bio/preprocessed_72002002.wav\n",
      "Processing file: /Users/yashsawrikar/Documents/VIT Labs/Semester 8/Senior Design Project/Dataset - Sample/Preprocessed/non-bio/83001037.wav, sample rate: 10000 Hz\n",
      "Resampled to 48000 Hz\n",
      "Applied bandpass filter\n",
      "Applied noise reduction\n",
      "Saved preprocessed audio to /Users/yashsawrikar/Documents/VIT Labs/Semester 8/Senior Design Project/Dataset - Sample/Preprocessed/non-bio/preprocessed_83001037.wav\n",
      "Processing file: /Users/yashsawrikar/Documents/VIT Labs/Semester 8/Senior Design Project/Dataset - Sample/Preprocessed/non-bio/72016005.wav, sample rate: 10240 Hz\n",
      "Resampled to 48000 Hz\n",
      "Applied bandpass filter\n",
      "Applied noise reduction\n",
      "Saved preprocessed audio to /Users/yashsawrikar/Documents/VIT Labs/Semester 8/Senior Design Project/Dataset - Sample/Preprocessed/non-bio/preprocessed_72016005.wav\n",
      "Processing file: /Users/yashsawrikar/Documents/VIT Labs/Semester 8/Senior Design Project/Dataset - Sample/Preprocessed/non-bio/8300101K.wav, sample rate: 10000 Hz\n",
      "Resampled to 48000 Hz\n",
      "Applied bandpass filter\n",
      "Applied noise reduction\n",
      "Saved preprocessed audio to /Users/yashsawrikar/Documents/VIT Labs/Semester 8/Senior Design Project/Dataset - Sample/Preprocessed/non-bio/preprocessed_8300101K.wav\n",
      "Processing file: /Users/yashsawrikar/Documents/VIT Labs/Semester 8/Senior Design Project/Dataset - Sample/Preprocessed/non-bio/8300100I.wav, sample rate: 10000 Hz\n",
      "Resampled to 48000 Hz\n",
      "Applied bandpass filter\n",
      "Applied noise reduction\n",
      "Saved preprocessed audio to /Users/yashsawrikar/Documents/VIT Labs/Semester 8/Senior Design Project/Dataset - Sample/Preprocessed/non-bio/preprocessed_8300100I.wav\n",
      "Processing file: /Users/yashsawrikar/Documents/VIT Labs/Semester 8/Senior Design Project/Dataset - Sample/Preprocessed/non-bio/85013016.wav, sample rate: 81920 Hz\n",
      "Resampled to 48000 Hz\n",
      "Applied bandpass filter\n",
      "Applied noise reduction\n",
      "Saved preprocessed audio to /Users/yashsawrikar/Documents/VIT Labs/Semester 8/Senior Design Project/Dataset - Sample/Preprocessed/non-bio/preprocessed_85013016.wav\n",
      "Processing file: /Users/yashsawrikar/Documents/VIT Labs/Semester 8/Senior Design Project/Dataset - Sample/Preprocessed/non-bio/8501301W.wav, sample rate: 192000 Hz\n",
      "Resampled to 48000 Hz\n",
      "Applied bandpass filter\n",
      "Applied noise reduction\n",
      "Saved preprocessed audio to /Users/yashsawrikar/Documents/VIT Labs/Semester 8/Senior Design Project/Dataset - Sample/Preprocessed/non-bio/preprocessed_8501301W.wav\n",
      "Processing file: /Users/yashsawrikar/Documents/VIT Labs/Semester 8/Senior Design Project/Dataset - Sample/Preprocessed/non-bio/8501400L.wav, sample rate: 81920 Hz\n",
      "Resampled to 48000 Hz\n",
      "Applied bandpass filter\n",
      "Applied noise reduction\n",
      "Saved preprocessed audio to /Users/yashsawrikar/Documents/VIT Labs/Semester 8/Senior Design Project/Dataset - Sample/Preprocessed/non-bio/preprocessed_8501400L.wav\n",
      "Processing file: /Users/yashsawrikar/Documents/VIT Labs/Semester 8/Senior Design Project/Dataset - Sample/Preprocessed/non-bio/8501400A.wav, sample rate: 81920 Hz\n",
      "Resampled to 48000 Hz\n",
      "Applied bandpass filter\n",
      "Applied noise reduction\n",
      "Saved preprocessed audio to /Users/yashsawrikar/Documents/VIT Labs/Semester 8/Senior Design Project/Dataset - Sample/Preprocessed/non-bio/preprocessed_8501400A.wav\n",
      "Processing file: /Users/yashsawrikar/Documents/VIT Labs/Semester 8/Senior Design Project/Dataset - Sample/Preprocessed/non-bio/8501400R.wav, sample rate: 81920 Hz\n",
      "Resampled to 48000 Hz\n",
      "Applied bandpass filter\n"
     ]
    },
    {
     "name": "stderr",
     "output_type": "stream",
     "text": [
      "Preprocessing audio:  59%|█████▊    | 125/213 [00:04<00:02, 29.42it/s]"
     ]
    },
    {
     "name": "stdout",
     "output_type": "stream",
     "text": [
      "Applied noise reduction\n",
      "Saved preprocessed audio to /Users/yashsawrikar/Documents/VIT Labs/Semester 8/Senior Design Project/Dataset - Sample/Preprocessed/non-bio/preprocessed_8501400R.wav\n",
      "Processing file: /Users/yashsawrikar/Documents/VIT Labs/Semester 8/Senior Design Project/Dataset - Sample/Preprocessed/non-bio/8501400E.wav, sample rate: 81920 Hz\n",
      "Resampled to 48000 Hz\n",
      "Applied bandpass filter\n",
      "Applied noise reduction\n",
      "Saved preprocessed audio to /Users/yashsawrikar/Documents/VIT Labs/Semester 8/Senior Design Project/Dataset - Sample/Preprocessed/non-bio/preprocessed_8501400E.wav\n",
      "Processing file: /Users/yashsawrikar/Documents/VIT Labs/Semester 8/Senior Design Project/Dataset - Sample/Preprocessed/non-bio/7900200N.wav, sample rate: 5120 Hz\n",
      "Resampled to 48000 Hz\n",
      "Applied bandpass filter\n",
      "Applied noise reduction\n",
      "Saved preprocessed audio to /Users/yashsawrikar/Documents/VIT Labs/Semester 8/Senior Design Project/Dataset - Sample/Preprocessed/non-bio/preprocessed_7900200N.wav\n",
      "Processing file: /Users/yashsawrikar/Documents/VIT Labs/Semester 8/Senior Design Project/Dataset - Sample/Preprocessed/non-bio/7900200H.wav, sample rate: 5120 Hz\n",
      "Resampled to 48000 Hz\n",
      "Applied bandpass filter\n",
      "Applied noise reduction\n",
      "Saved preprocessed audio to /Users/yashsawrikar/Documents/VIT Labs/Semester 8/Senior Design Project/Dataset - Sample/Preprocessed/non-bio/preprocessed_7900200H.wav\n",
      "Processing file: /Users/yashsawrikar/Documents/VIT Labs/Semester 8/Senior Design Project/Dataset - Sample/Preprocessed/non-bio/83002009.wav, sample rate: 5120 Hz\n",
      "Resampled to 48000 Hz\n",
      "Applied bandpass filter\n",
      "Applied noise reduction\n",
      "Saved preprocessed audio to /Users/yashsawrikar/Documents/VIT Labs/Semester 8/Senior Design Project/Dataset - Sample/Preprocessed/non-bio/preprocessed_83002009.wav\n",
      "Processing file: /Users/yashsawrikar/Documents/VIT Labs/Semester 8/Senior Design Project/Dataset - Sample/Preprocessed/non-bio/7900200D.wav, sample rate: 5120 Hz\n",
      "Resampled to 48000 Hz\n",
      "Applied bandpass filter\n",
      "Applied noise reduction\n",
      "Saved preprocessed audio to /Users/yashsawrikar/Documents/VIT Labs/Semester 8/Senior Design Project/Dataset - Sample/Preprocessed/non-bio/preprocessed_7900200D.wav\n",
      "Processing file: /Users/yashsawrikar/Documents/VIT Labs/Semester 8/Senior Design Project/Dataset - Sample/Preprocessed/non-bio/7900200T.wav, sample rate: 5120 Hz\n",
      "Resampled to 48000 Hz\n",
      "Applied bandpass filter\n"
     ]
    },
    {
     "name": "stderr",
     "output_type": "stream",
     "text": [
      "Preprocessing audio:  65%|██████▌   | 139/213 [00:04<00:01, 39.83it/s]"
     ]
    },
    {
     "name": "stdout",
     "output_type": "stream",
     "text": [
      "Applied noise reduction\n",
      "Saved preprocessed audio to /Users/yashsawrikar/Documents/VIT Labs/Semester 8/Senior Design Project/Dataset - Sample/Preprocessed/non-bio/preprocessed_7900200T.wav\n",
      "Processing file: /Users/yashsawrikar/Documents/VIT Labs/Semester 8/Senior Design Project/Dataset - Sample/Preprocessed/non-bio/7900200W.wav, sample rate: 5120 Hz\n",
      "Resampled to 48000 Hz\n",
      "Applied bandpass filter\n",
      "Applied noise reduction\n",
      "Saved preprocessed audio to /Users/yashsawrikar/Documents/VIT Labs/Semester 8/Senior Design Project/Dataset - Sample/Preprocessed/non-bio/preprocessed_7900200W.wav\n",
      "Processing file: /Users/yashsawrikar/Documents/VIT Labs/Semester 8/Senior Design Project/Dataset - Sample/Preprocessed/non-bio/56016006.wav, sample rate: 8000 Hz\n",
      "Resampled to 48000 Hz\n",
      "Applied bandpass filter\n",
      "Applied noise reduction\n",
      "Saved preprocessed audio to /Users/yashsawrikar/Documents/VIT Labs/Semester 8/Senior Design Project/Dataset - Sample/Preprocessed/non-bio/preprocessed_56016006.wav\n",
      "Processing file: /Users/yashsawrikar/Documents/VIT Labs/Semester 8/Senior Design Project/Dataset - Sample/Preprocessed/non-bio/5601700Y.wav, sample rate: 10200 Hz\n",
      "Resampled to 48000 Hz\n",
      "Applied bandpass filter\n",
      "Applied noise reduction\n",
      "Saved preprocessed audio to /Users/yashsawrikar/Documents/VIT Labs/Semester 8/Senior Design Project/Dataset - Sample/Preprocessed/non-bio/preprocessed_5601700Y.wav\n",
      "Processing file: /Users/yashsawrikar/Documents/VIT Labs/Semester 8/Senior Design Project/Dataset - Sample/Preprocessed/non-bio/5606800K.wav, sample rate: 2560 Hz\n",
      "Resampled to 48000 Hz\n",
      "Applied bandpass filter\n",
      "Applied noise reduction\n",
      "Saved preprocessed audio to /Users/yashsawrikar/Documents/VIT Labs/Semester 8/Senior Design Project/Dataset - Sample/Preprocessed/non-bio/preprocessed_5606800K.wav\n",
      "Processing file: /Users/yashsawrikar/Documents/VIT Labs/Semester 8/Senior Design Project/Dataset - Sample/Preprocessed/non-bio/5601700V.wav, sample rate: 10200 Hz\n",
      "Resampled to 48000 Hz\n",
      "Applied bandpass filter\n",
      "Applied noise reduction\n",
      "Saved preprocessed audio to /Users/yashsawrikar/Documents/VIT Labs/Semester 8/Senior Design Project/Dataset - Sample/Preprocessed/non-bio/preprocessed_5601700V.wav\n",
      "Processing file: /Users/yashsawrikar/Documents/VIT Labs/Semester 8/Senior Design Project/Dataset - Sample/Preprocessed/non-bio/5900300H.wav, sample rate: 10000 Hz\n",
      "Resampled to 48000 Hz\n",
      "Applied bandpass filter\n",
      "Applied noise reduction\n",
      "Saved preprocessed audio to /Users/yashsawrikar/Documents/VIT Labs/Semester 8/Senior Design Project/Dataset - Sample/Preprocessed/non-bio/preprocessed_5900300H.wav\n",
      "Processing file: /Users/yashsawrikar/Documents/VIT Labs/Semester 8/Senior Design Project/Dataset - Sample/Preprocessed/non-bio/5601600L.wav, sample rate: 8000 Hz\n",
      "Resampled to 48000 Hz\n",
      "Applied bandpass filter\n",
      "Applied noise reduction\n",
      "Saved preprocessed audio to /Users/yashsawrikar/Documents/VIT Labs/Semester 8/Senior Design Project/Dataset - Sample/Preprocessed/non-bio/preprocessed_5601600L.wav\n",
      "Processing file: /Users/yashsawrikar/Documents/VIT Labs/Semester 8/Senior Design Project/Dataset - Sample/Preprocessed/non-bio/5601600Z.wav, sample rate: 8000 Hz\n",
      "Resampled to 48000 Hz\n",
      "Applied bandpass filter\n",
      "Applied noise reduction\n",
      "Saved preprocessed audio to /Users/yashsawrikar/Documents/VIT Labs/Semester 8/Senior Design Project/Dataset - Sample/Preprocessed/non-bio/preprocessed_5601600Z.wav\n",
      "Processing file: /Users/yashsawrikar/Documents/VIT Labs/Semester 8/Senior Design Project/Dataset - Sample/Preprocessed/non-bio/5604800O.wav, sample rate: 40000 Hz\n",
      "Resampled to 48000 Hz\n",
      "Applied bandpass filter\n",
      "Applied noise reduction\n",
      "Saved preprocessed audio to /Users/yashsawrikar/Documents/VIT Labs/Semester 8/Senior Design Project/Dataset - Sample/Preprocessed/non-bio/preprocessed_5604800O.wav\n",
      "Processing file: /Users/yashsawrikar/Documents/VIT Labs/Semester 8/Senior Design Project/Dataset - Sample/Preprocessed/non-bio/5604800J.wav, sample rate: 40000 Hz\n",
      "Resampled to 48000 Hz\n",
      "Applied bandpass filter\n",
      "Applied noise reduction\n",
      "Saved preprocessed audio to /Users/yashsawrikar/Documents/VIT Labs/Semester 8/Senior Design Project/Dataset - Sample/Preprocessed/non-bio/preprocessed_5604800J.wav\n",
      "Processing file: /Users/yashsawrikar/Documents/VIT Labs/Semester 8/Senior Design Project/Dataset - Sample/Preprocessed/non-bio/66014001.wav, sample rate: 30000 Hz\n",
      "Resampled to 48000 Hz\n",
      "Applied bandpass filter\n",
      "Applied noise reduction\n",
      "Saved preprocessed audio to /Users/yashsawrikar/Documents/VIT Labs/Semester 8/Senior Design Project/Dataset - Sample/Preprocessed/non-bio/preprocessed_66014001.wav\n",
      "Processing file: /Users/yashsawrikar/Documents/VIT Labs/Semester 8/Senior Design Project/Dataset - Sample/Preprocessed/non-bio/5604800E.wav, sample rate: 40000 Hz\n",
      "Resampled to 48000 Hz\n",
      "Applied bandpass filter\n",
      "Applied noise reduction\n",
      "Saved preprocessed audio to /Users/yashsawrikar/Documents/VIT Labs/Semester 8/Senior Design Project/Dataset - Sample/Preprocessed/non-bio/preprocessed_5604800E.wav\n"
     ]
    },
    {
     "name": "stderr",
     "output_type": "stream",
     "text": [
      "Preprocessing audio:  69%|██████▉   | 147/213 [00:04<00:01, 43.44it/s]"
     ]
    },
    {
     "name": "stdout",
     "output_type": "stream",
     "text": [
      "Processing file: /Users/yashsawrikar/Documents/VIT Labs/Semester 8/Senior Design Project/Dataset - Sample/Preprocessed/non-bio/56048004.wav, sample rate: 40000 Hz\n",
      "Resampled to 48000 Hz\n",
      "Applied bandpass filter\n",
      "Applied noise reduction\n",
      "Saved preprocessed audio to /Users/yashsawrikar/Documents/VIT Labs/Semester 8/Senior Design Project/Dataset - Sample/Preprocessed/non-bio/preprocessed_56048004.wav\n",
      "Processing file: /Users/yashsawrikar/Documents/VIT Labs/Semester 8/Senior Design Project/Dataset - Sample/Preprocessed/non-bio/56048007.wav, sample rate: 40000 Hz\n",
      "Resampled to 48000 Hz\n",
      "Applied bandpass filter\n",
      "Applied noise reduction\n",
      "Saved preprocessed audio to /Users/yashsawrikar/Documents/VIT Labs/Semester 8/Senior Design Project/Dataset - Sample/Preprocessed/non-bio/preprocessed_56048007.wav\n",
      "Processing file: /Users/yashsawrikar/Documents/VIT Labs/Semester 8/Senior Design Project/Dataset - Sample/Preprocessed/non-bio/5604800A.wav, sample rate: 40000 Hz\n",
      "Resampled to 48000 Hz\n",
      "Applied bandpass filter\n",
      "Applied noise reduction\n",
      "Saved preprocessed audio to /Users/yashsawrikar/Documents/VIT Labs/Semester 8/Senior Design Project/Dataset - Sample/Preprocessed/non-bio/preprocessed_5604800A.wav\n",
      "Processing file: /Users/yashsawrikar/Documents/VIT Labs/Semester 8/Senior Design Project/Dataset - Sample/Preprocessed/non-bio/91013013.wav, sample rate: 81920 Hz\n",
      "Resampled to 48000 Hz\n",
      "Applied bandpass filter\n",
      "Applied noise reduction\n",
      "Saved preprocessed audio to /Users/yashsawrikar/Documents/VIT Labs/Semester 8/Senior Design Project/Dataset - Sample/Preprocessed/non-bio/preprocessed_91013013.wav\n",
      "Processing file: /Users/yashsawrikar/Documents/VIT Labs/Semester 8/Senior Design Project/Dataset - Sample/Preprocessed/non-bio/9400904P.wav, sample rate: 80000 Hz\n",
      "Resampled to 48000 Hz\n",
      "Applied bandpass filter\n",
      "Applied noise reduction\n",
      "Saved preprocessed audio to /Users/yashsawrikar/Documents/VIT Labs/Semester 8/Senior Design Project/Dataset - Sample/Preprocessed/non-bio/preprocessed_9400904P.wav\n",
      "Processing file: /Users/yashsawrikar/Documents/VIT Labs/Semester 8/Senior Design Project/Dataset - Sample/Preprocessed/non-bio/94009040.wav, sample rate: 80000 Hz\n",
      "Resampled to 48000 Hz\n",
      "Applied bandpass filter\n",
      "Applied noise reduction\n",
      "Saved preprocessed audio to /Users/yashsawrikar/Documents/VIT Labs/Semester 8/Senior Design Project/Dataset - Sample/Preprocessed/non-bio/preprocessed_94009040.wav\n",
      "Processing file: /Users/yashsawrikar/Documents/VIT Labs/Semester 8/Senior Design Project/Dataset - Sample/Preprocessed/non-bio/9400904D.wav, sample rate: 80000 Hz\n",
      "Resampled to 48000 Hz\n",
      "Applied bandpass filter\n",
      "Applied noise reduction\n",
      "Saved preprocessed audio to /Users/yashsawrikar/Documents/VIT Labs/Semester 8/Senior Design Project/Dataset - Sample/Preprocessed/non-bio/preprocessed_9400904D.wav\n",
      "Processing file: /Users/yashsawrikar/Documents/VIT Labs/Semester 8/Senior Design Project/Dataset - Sample/Preprocessed/non-bio/91010027.wav, sample rate: 60600 Hz\n",
      "Resampled to 48000 Hz\n",
      "Applied bandpass filter\n",
      "Applied noise reduction\n",
      "Saved preprocessed audio to /Users/yashsawrikar/Documents/VIT Labs/Semester 8/Senior Design Project/Dataset - Sample/Preprocessed/non-bio/preprocessed_91010027.wav\n",
      "Processing file: /Users/yashsawrikar/Documents/VIT Labs/Semester 8/Senior Design Project/Dataset - Sample/Preprocessed/non-bio/91010001.wav, sample rate: 81920 Hz\n",
      "Resampled to 48000 Hz\n",
      "Applied bandpass filter\n",
      "Applied noise reduction\n",
      "Saved preprocessed audio to /Users/yashsawrikar/Documents/VIT Labs/Semester 8/Senior Design Project/Dataset - Sample/Preprocessed/non-bio/preprocessed_91010001.wav\n",
      "Processing file: /Users/yashsawrikar/Documents/VIT Labs/Semester 8/Senior Design Project/Dataset - Sample/Preprocessed/non-bio/6107400C.wav, sample rate: 192000 Hz\n"
     ]
    },
    {
     "name": "stderr",
     "output_type": "stream",
     "text": [
      "Preprocessing audio:  71%|███████▏  | 152/213 [00:04<00:01, 33.32it/s]"
     ]
    },
    {
     "name": "stdout",
     "output_type": "stream",
     "text": [
      "Resampled to 48000 Hz\n",
      "Applied bandpass filter\n",
      "Applied noise reduction\n",
      "Saved preprocessed audio to /Users/yashsawrikar/Documents/VIT Labs/Semester 8/Senior Design Project/Dataset - Sample/Preprocessed/non-bio/preprocessed_6107400C.wav\n",
      "Processing file: /Users/yashsawrikar/Documents/VIT Labs/Semester 8/Senior Design Project/Dataset - Sample/Preprocessed/non-bio/65012002.wav, sample rate: 10240 Hz\n",
      "Resampled to 48000 Hz\n",
      "Applied bandpass filter\n",
      "Applied noise reduction\n",
      "Saved preprocessed audio to /Users/yashsawrikar/Documents/VIT Labs/Semester 8/Senior Design Project/Dataset - Sample/Preprocessed/non-bio/preprocessed_65012002.wav\n",
      "Processing file: /Users/yashsawrikar/Documents/VIT Labs/Semester 8/Senior Design Project/Dataset - Sample/Preprocessed/non-bio/65012003.wav, sample rate: 10240 Hz\n",
      "Resampled to 48000 Hz\n",
      "Applied bandpass filter\n",
      "Applied noise reduction\n",
      "Saved preprocessed audio to /Users/yashsawrikar/Documents/VIT Labs/Semester 8/Senior Design Project/Dataset - Sample/Preprocessed/non-bio/preprocessed_65012003.wav\n",
      "Processing file: /Users/yashsawrikar/Documents/VIT Labs/Semester 8/Senior Design Project/Dataset - Sample/Preprocessed/non-bio/6501200Q.wav, sample rate: 192000 Hz\n",
      "Resampled to 48000 Hz\n",
      "Applied bandpass filter\n",
      "Applied noise reduction\n",
      "Saved preprocessed audio to /Users/yashsawrikar/Documents/VIT Labs/Semester 8/Senior Design Project/Dataset - Sample/Preprocessed/non-bio/preprocessed_6501200Q.wav\n",
      "Processing file: /Users/yashsawrikar/Documents/VIT Labs/Semester 8/Senior Design Project/Dataset - Sample/Preprocessed/non-bio/65012007.wav, sample rate: 10240 Hz\n",
      "Resampled to 48000 Hz\n",
      "Applied bandpass filter\n",
      "Applied noise reduction\n",
      "Saved preprocessed audio to /Users/yashsawrikar/Documents/VIT Labs/Semester 8/Senior Design Project/Dataset - Sample/Preprocessed/non-bio/preprocessed_65012007.wav\n",
      "Processing file: /Users/yashsawrikar/Documents/VIT Labs/Semester 8/Senior Design Project/Dataset - Sample/Preprocessed/non-bio/6501200O.wav, sample rate: 192000 Hz\n",
      "Resampled to 48000 Hz\n",
      "Applied bandpass filter\n",
      "Applied noise reduction\n",
      "Saved preprocessed audio to /Users/yashsawrikar/Documents/VIT Labs/Semester 8/Senior Design Project/Dataset - Sample/Preprocessed/non-bio/preprocessed_6501200O.wav\n",
      "Processing file: /Users/yashsawrikar/Documents/VIT Labs/Semester 8/Senior Design Project/Dataset - Sample/Preprocessed/non-bio/64104004.wav, sample rate: 1280 Hz\n",
      "Resampled to 48000 Hz\n",
      "Applied bandpass filter\n",
      "Applied noise reduction\n",
      "Saved preprocessed audio to /Users/yashsawrikar/Documents/VIT Labs/Semester 8/Senior Design Project/Dataset - Sample/Preprocessed/non-bio/preprocessed_64104004.wav\n",
      "Processing file: /Users/yashsawrikar/Documents/VIT Labs/Semester 8/Senior Design Project/Dataset - Sample/Preprocessed/non-bio/79040005.wav, sample rate: 1000 Hz\n",
      "Resampled to 48000 Hz\n",
      "Applied bandpass filter\n",
      "Applied noise reduction\n",
      "Saved preprocessed audio to /Users/yashsawrikar/Documents/VIT Labs/Semester 8/Senior Design Project/Dataset - Sample/Preprocessed/non-bio/preprocessed_79040005.wav\n",
      "Processing file: /Users/yashsawrikar/Documents/VIT Labs/Semester 8/Senior Design Project/Dataset - Sample/Preprocessed/non-bio/79040002.wav, sample rate: 1000 Hz\n",
      "Resampled to 48000 Hz\n",
      "Applied bandpass filter\n"
     ]
    },
    {
     "name": "stderr",
     "output_type": "stream",
     "text": [
      "Preprocessing audio:  79%|███████▉  | 169/213 [00:05<00:01, 30.12it/s]"
     ]
    },
    {
     "name": "stdout",
     "output_type": "stream",
     "text": [
      "Applied noise reduction\n",
      "Saved preprocessed audio to /Users/yashsawrikar/Documents/VIT Labs/Semester 8/Senior Design Project/Dataset - Sample/Preprocessed/non-bio/preprocessed_79040002.wav\n",
      "Processing file: /Users/yashsawrikar/Documents/VIT Labs/Semester 8/Senior Design Project/Dataset - Sample/Preprocessed/non-bio/64103004.wav, sample rate: 1280 Hz\n",
      "Resampled to 48000 Hz\n",
      "Applied bandpass filter\n",
      "Applied noise reduction\n",
      "Saved preprocessed audio to /Users/yashsawrikar/Documents/VIT Labs/Semester 8/Senior Design Project/Dataset - Sample/Preprocessed/non-bio/preprocessed_64103004.wav\n",
      "Processing file: /Users/yashsawrikar/Documents/VIT Labs/Semester 8/Senior Design Project/Dataset - Sample/Preprocessed/non-bio/64103006.wav, sample rate: 1280 Hz\n",
      "Resampled to 48000 Hz\n",
      "Applied bandpass filter\n",
      "Applied noise reduction\n",
      "Saved preprocessed audio to /Users/yashsawrikar/Documents/VIT Labs/Semester 8/Senior Design Project/Dataset - Sample/Preprocessed/non-bio/preprocessed_64103006.wav\n",
      "Processing file: /Users/yashsawrikar/Documents/VIT Labs/Semester 8/Senior Design Project/Dataset - Sample/Preprocessed/non-bio/64103003.wav, sample rate: 1280 Hz\n",
      "Resampled to 48000 Hz\n",
      "Applied bandpass filter\n",
      "Applied noise reduction\n",
      "Saved preprocessed audio to /Users/yashsawrikar/Documents/VIT Labs/Semester 8/Senior Design Project/Dataset - Sample/Preprocessed/non-bio/preprocessed_64103003.wav\n",
      "Processing file: /Users/yashsawrikar/Documents/VIT Labs/Semester 8/Senior Design Project/Dataset - Sample/Preprocessed/non-bio/64103001.wav, sample rate: 1280 Hz\n",
      "Resampled to 48000 Hz\n",
      "Applied bandpass filter\n",
      "Applied noise reduction\n",
      "Saved preprocessed audio to /Users/yashsawrikar/Documents/VIT Labs/Semester 8/Senior Design Project/Dataset - Sample/Preprocessed/non-bio/preprocessed_64103001.wav\n",
      "Processing file: /Users/yashsawrikar/Documents/VIT Labs/Semester 8/Senior Design Project/Dataset - Sample/Preprocessed/non-bio/69003001.wav, sample rate: 10000 Hz\n",
      "Resampled to 48000 Hz\n",
      "Applied bandpass filter\n",
      "Applied noise reduction\n",
      "Saved preprocessed audio to /Users/yashsawrikar/Documents/VIT Labs/Semester 8/Senior Design Project/Dataset - Sample/Preprocessed/non-bio/preprocessed_69003001.wav\n",
      "Processing file: /Users/yashsawrikar/Documents/VIT Labs/Semester 8/Senior Design Project/Dataset - Sample/Preprocessed/non-bio/69003002.wav, sample rate: 10000 Hz\n",
      "Resampled to 48000 Hz\n",
      "Applied bandpass filter\n",
      "Applied noise reduction\n",
      "Saved preprocessed audio to /Users/yashsawrikar/Documents/VIT Labs/Semester 8/Senior Design Project/Dataset - Sample/Preprocessed/non-bio/preprocessed_69003002.wav\n",
      "Processing file: /Users/yashsawrikar/Documents/VIT Labs/Semester 8/Senior Design Project/Dataset - Sample/Preprocessed/non-bio/94201077.wav, sample rate: 47600 Hz\n",
      "Resampled to 48000 Hz\n",
      "Applied bandpass filter\n",
      "Applied noise reduction\n",
      "Saved preprocessed audio to /Users/yashsawrikar/Documents/VIT Labs/Semester 8/Senior Design Project/Dataset - Sample/Preprocessed/non-bio/preprocessed_94201077.wav\n",
      "Processing file: /Users/yashsawrikar/Documents/VIT Labs/Semester 8/Senior Design Project/Dataset - Sample/Preprocessed/non-bio/84228002.wav, sample rate: 81920 Hz\n",
      "Resampled to 48000 Hz\n",
      "Applied bandpass filter\n",
      "Applied noise reduction\n",
      "Saved preprocessed audio to /Users/yashsawrikar/Documents/VIT Labs/Semester 8/Senior Design Project/Dataset - Sample/Preprocessed/non-bio/preprocessed_84228002.wav\n",
      "Processing file: /Users/yashsawrikar/Documents/VIT Labs/Semester 8/Senior Design Project/Dataset - Sample/Preprocessed/non-bio/89506004.wav, sample rate: 81920 Hz\n",
      "Resampled to 48000 Hz\n",
      "Applied bandpass filter\n",
      "Applied noise reduction\n",
      "Saved preprocessed audio to /Users/yashsawrikar/Documents/VIT Labs/Semester 8/Senior Design Project/Dataset - Sample/Preprocessed/non-bio/preprocessed_89506004.wav\n",
      "Processing file: /Users/yashsawrikar/Documents/VIT Labs/Semester 8/Senior Design Project/Dataset - Sample/Preprocessed/non-bio/84228A0H.wav, sample rate: 81920 Hz\n",
      "Resampled to 48000 Hz\n",
      "Applied bandpass filter\n",
      "Applied noise reduction\n",
      "Saved preprocessed audio to /Users/yashsawrikar/Documents/VIT Labs/Semester 8/Senior Design Project/Dataset - Sample/Preprocessed/non-bio/preprocessed_84228A0H.wav\n",
      "Processing file: /Users/yashsawrikar/Documents/VIT Labs/Semester 8/Senior Design Project/Dataset - Sample/Preprocessed/non-bio/84228A0C.wav, sample rate: 81920 Hz\n",
      "Resampled to 48000 Hz\n",
      "Applied bandpass filter\n",
      "Applied noise reduction\n",
      "Saved preprocessed audio to /Users/yashsawrikar/Documents/VIT Labs/Semester 8/Senior Design Project/Dataset - Sample/Preprocessed/non-bio/preprocessed_84228A0C.wav\n",
      "Processing file: /Users/yashsawrikar/Documents/VIT Labs/Semester 8/Senior Design Project/Dataset - Sample/Preprocessed/non-bio/5801100T.wav, sample rate: 60600 Hz\n",
      "Resampled to 48000 Hz\n",
      "Applied bandpass filter\n",
      "Applied noise reduction\n",
      "Saved preprocessed audio to /Users/yashsawrikar/Documents/VIT Labs/Semester 8/Senior Design Project/Dataset - Sample/Preprocessed/non-bio/preprocessed_5801100T.wav\n",
      "Processing file: /Users/yashsawrikar/Documents/VIT Labs/Semester 8/Senior Design Project/Dataset - Sample/Preprocessed/non-bio/72007003.wav, sample rate: 166600 Hz\n",
      "Resampled to 48000 Hz\n",
      "Applied bandpass filter\n",
      "Applied noise reduction\n",
      "Saved preprocessed audio to /Users/yashsawrikar/Documents/VIT Labs/Semester 8/Senior Design Project/Dataset - Sample/Preprocessed/non-bio/preprocessed_72007003.wav\n",
      "Processing file: /Users/yashsawrikar/Documents/VIT Labs/Semester 8/Senior Design Project/Dataset - Sample/Preprocessed/non-bio/7200700Q.wav, sample rate: 166600 Hz\n",
      "Resampled to 48000 Hz\n",
      "Applied bandpass filter\n",
      "Applied noise reduction\n",
      "Saved preprocessed audio to /Users/yashsawrikar/Documents/VIT Labs/Semester 8/Senior Design Project/Dataset - Sample/Preprocessed/non-bio/preprocessed_7200700Q.wav\n",
      "Processing file: /Users/yashsawrikar/Documents/VIT Labs/Semester 8/Senior Design Project/Dataset - Sample/Preprocessed/non-bio/7200702U.wav, sample rate: 166600 Hz\n",
      "Resampled to 48000 Hz\n",
      "Applied bandpass filter\n",
      "Applied noise reduction\n",
      "Saved preprocessed audio to /Users/yashsawrikar/Documents/VIT Labs/Semester 8/Senior Design Project/Dataset - Sample/Preprocessed/non-bio/preprocessed_7200702U.wav\n",
      "Processing file: /Users/yashsawrikar/Documents/VIT Labs/Semester 8/Senior Design Project/Dataset - Sample/Preprocessed/non-bio/6102400D.wav, sample rate: 81920 Hz\n",
      "Resampled to 48000 Hz\n",
      "Applied bandpass filter\n",
      "Applied noise reduction\n",
      "Saved preprocessed audio to /Users/yashsawrikar/Documents/VIT Labs/Semester 8/Senior Design Project/Dataset - Sample/Preprocessed/non-bio/preprocessed_6102400D.wav\n",
      "Processing file: /Users/yashsawrikar/Documents/VIT Labs/Semester 8/Senior Design Project/Dataset - Sample/Preprocessed/non-bio/63001007.wav, sample rate: 40960 Hz\n",
      "Resampled to 48000 Hz\n",
      "Applied bandpass filter\n",
      "Applied noise reduction\n",
      "Saved preprocessed audio to /Users/yashsawrikar/Documents/VIT Labs/Semester 8/Senior Design Project/Dataset - Sample/Preprocessed/non-bio/preprocessed_63001007.wav\n",
      "Processing file: /Users/yashsawrikar/Documents/VIT Labs/Semester 8/Senior Design Project/Dataset - Sample/Preprocessed/non-bio/63001006.wav, sample rate: 40960 Hz\n",
      "Resampled to 48000 Hz\n",
      "Applied bandpass filter\n",
      "Applied noise reduction\n",
      "Saved preprocessed audio to /Users/yashsawrikar/Documents/VIT Labs/Semester 8/Senior Design Project/Dataset - Sample/Preprocessed/non-bio/preprocessed_63001006.wav\n",
      "Processing file: /Users/yashsawrikar/Documents/VIT Labs/Semester 8/Senior Design Project/Dataset - Sample/Preprocessed/non-bio/63001004.wav, sample rate: 40960 Hz\n",
      "Resampled to 48000 Hz\n",
      "Applied bandpass filter\n",
      "Applied noise reduction\n",
      "Saved preprocessed audio to /Users/yashsawrikar/Documents/VIT Labs/Semester 8/Senior Design Project/Dataset - Sample/Preprocessed/non-bio/preprocessed_63001004.wav\n",
      "Processing file: /Users/yashsawrikar/Documents/VIT Labs/Semester 8/Senior Design Project/Dataset - Sample/Preprocessed/non-bio/63001005.wav, sample rate: 40960 Hz\n",
      "Resampled to 48000 Hz\n",
      "Applied bandpass filter\n",
      "Applied noise reduction\n",
      "Saved preprocessed audio to /Users/yashsawrikar/Documents/VIT Labs/Semester 8/Senior Design Project/Dataset - Sample/Preprocessed/non-bio/preprocessed_63001005.wav\n",
      "Processing file: /Users/yashsawrikar/Documents/VIT Labs/Semester 8/Senior Design Project/Dataset - Sample/Preprocessed/non-bio/63001001.wav, sample rate: 30000 Hz\n",
      "Resampled to 48000 Hz\n",
      "Applied bandpass filter\n",
      "Applied noise reduction\n",
      "Saved preprocessed audio to /Users/yashsawrikar/Documents/VIT Labs/Semester 8/Senior Design Project/Dataset - Sample/Preprocessed/non-bio/preprocessed_63001001.wav\n",
      "Processing file: /Users/yashsawrikar/Documents/VIT Labs/Semester 8/Senior Design Project/Dataset - Sample/Preprocessed/non-bio/63001002.wav, sample rate: 30000 Hz\n",
      "Resampled to 48000 Hz\n"
     ]
    },
    {
     "name": "stderr",
     "output_type": "stream",
     "text": [
      "Preprocessing audio:  90%|████████▉ | 191/213 [00:05<00:00, 51.55it/s]"
     ]
    },
    {
     "name": "stdout",
     "output_type": "stream",
     "text": [
      "Applied bandpass filter\n",
      "Applied noise reduction\n",
      "Saved preprocessed audio to /Users/yashsawrikar/Documents/VIT Labs/Semester 8/Senior Design Project/Dataset - Sample/Preprocessed/non-bio/preprocessed_63001002.wav\n",
      "Processing file: /Users/yashsawrikar/Documents/VIT Labs/Semester 8/Senior Design Project/Dataset - Sample/Preprocessed/non-bio/9101203E.wav, sample rate: 81920 Hz\n",
      "Resampled to 48000 Hz\n",
      "Applied bandpass filter\n",
      "Applied noise reduction\n",
      "Saved preprocessed audio to /Users/yashsawrikar/Documents/VIT Labs/Semester 8/Senior Design Project/Dataset - Sample/Preprocessed/non-bio/preprocessed_9101203E.wav\n",
      "Processing file: /Users/yashsawrikar/Documents/VIT Labs/Semester 8/Senior Design Project/Dataset - Sample/Preprocessed/non-bio/91012024.wav, sample rate: 81920 Hz\n",
      "Resampled to 48000 Hz\n",
      "Applied bandpass filter\n",
      "Applied noise reduction\n",
      "Saved preprocessed audio to /Users/yashsawrikar/Documents/VIT Labs/Semester 8/Senior Design Project/Dataset - Sample/Preprocessed/non-bio/preprocessed_91012024.wav\n",
      "Processing file: /Users/yashsawrikar/Documents/VIT Labs/Semester 8/Senior Design Project/Dataset - Sample/Preprocessed/non-bio/9101200X.wav, sample rate: 81920 Hz\n",
      "Resampled to 48000 Hz\n",
      "Applied bandpass filter\n",
      "Applied noise reduction\n",
      "Saved preprocessed audio to /Users/yashsawrikar/Documents/VIT Labs/Semester 8/Senior Design Project/Dataset - Sample/Preprocessed/non-bio/preprocessed_9101200X.wav\n",
      "Processing file: /Users/yashsawrikar/Documents/VIT Labs/Semester 8/Senior Design Project/Dataset - Sample/Preprocessed/non-bio/91012038.wav, sample rate: 81920 Hz\n",
      "Resampled to 48000 Hz\n",
      "Applied bandpass filter\n",
      "Applied noise reduction\n",
      "Saved preprocessed audio to /Users/yashsawrikar/Documents/VIT Labs/Semester 8/Senior Design Project/Dataset - Sample/Preprocessed/non-bio/preprocessed_91012038.wav\n",
      "Processing file: /Users/yashsawrikar/Documents/VIT Labs/Semester 8/Senior Design Project/Dataset - Sample/Preprocessed/non-bio/91012028.wav, sample rate: 81920 Hz\n",
      "Resampled to 48000 Hz\n",
      "Applied bandpass filter\n",
      "Applied noise reduction\n",
      "Saved preprocessed audio to /Users/yashsawrikar/Documents/VIT Labs/Semester 8/Senior Design Project/Dataset - Sample/Preprocessed/non-bio/preprocessed_91012028.wav\n",
      "Processing file: /Users/yashsawrikar/Documents/VIT Labs/Semester 8/Senior Design Project/Dataset - Sample/Preprocessed/non-bio/7100400T.wav, sample rate: 80000 Hz\n",
      "Resampled to 48000 Hz\n",
      "Applied bandpass filter\n",
      "Applied noise reduction\n",
      "Saved preprocessed audio to /Users/yashsawrikar/Documents/VIT Labs/Semester 8/Senior Design Project/Dataset - Sample/Preprocessed/non-bio/preprocessed_7100400T.wav\n",
      "Processing file: /Users/yashsawrikar/Documents/VIT Labs/Semester 8/Senior Design Project/Dataset - Sample/Preprocessed/non-bio/7100400U.wav, sample rate: 80000 Hz\n",
      "Resampled to 48000 Hz\n",
      "Applied bandpass filter\n",
      "Applied noise reduction\n",
      "Saved preprocessed audio to /Users/yashsawrikar/Documents/VIT Labs/Semester 8/Senior Design Project/Dataset - Sample/Preprocessed/non-bio/preprocessed_7100400U.wav\n",
      "Processing file: /Users/yashsawrikar/Documents/VIT Labs/Semester 8/Senior Design Project/Dataset - Sample/Preprocessed/non-bio/71008012.wav, sample rate: 80000 Hz\n",
      "Resampled to 48000 Hz\n",
      "Applied bandpass filter\n",
      "Applied noise reduction\n",
      "Saved preprocessed audio to /Users/yashsawrikar/Documents/VIT Labs/Semester 8/Senior Design Project/Dataset - Sample/Preprocessed/non-bio/preprocessed_71008012.wav\n",
      "Processing file: /Users/yashsawrikar/Documents/VIT Labs/Semester 8/Senior Design Project/Dataset - Sample/Preprocessed/non-bio/71004015.wav, sample rate: 80000 Hz\n",
      "Resampled to 48000 Hz\n",
      "Applied bandpass filter\n",
      "Applied noise reduction\n",
      "Saved preprocessed audio to /Users/yashsawrikar/Documents/VIT Labs/Semester 8/Senior Design Project/Dataset - Sample/Preprocessed/non-bio/preprocessed_71004015.wav\n",
      "Processing file: /Users/yashsawrikar/Documents/VIT Labs/Semester 8/Senior Design Project/Dataset - Sample/Preprocessed/non-bio/71002017.wav, sample rate: 148100 Hz\n",
      "Resampled to 48000 Hz\n",
      "Applied bandpass filter\n",
      "Applied noise reduction\n",
      "Saved preprocessed audio to /Users/yashsawrikar/Documents/VIT Labs/Semester 8/Senior Design Project/Dataset - Sample/Preprocessed/non-bio/preprocessed_71002017.wav\n",
      "Processing file: /Users/yashsawrikar/Documents/VIT Labs/Semester 8/Senior Design Project/Dataset - Sample/Preprocessed/non-bio/7101000M.wav, sample rate: 80000 Hz\n",
      "Resampled to 48000 Hz\n",
      "Applied bandpass filter\n",
      "Applied noise reduction\n",
      "Saved preprocessed audio to /Users/yashsawrikar/Documents/VIT Labs/Semester 8/Senior Design Project/Dataset - Sample/Preprocessed/non-bio/preprocessed_7101000M.wav\n",
      "Processing file: /Users/yashsawrikar/Documents/VIT Labs/Semester 8/Senior Design Project/Dataset - Sample/Preprocessed/non-bio/7100801K.wav, sample rate: 80000 Hz\n",
      "Resampled to 48000 Hz\n",
      "Applied bandpass filter\n",
      "Applied noise reduction\n",
      "Saved preprocessed audio to /Users/yashsawrikar/Documents/VIT Labs/Semester 8/Senior Design Project/Dataset - Sample/Preprocessed/non-bio/preprocessed_7100801K.wav\n",
      "Processing file: /Users/yashsawrikar/Documents/VIT Labs/Semester 8/Senior Design Project/Dataset - Sample/Preprocessed/non-bio/6400801E.wav, sample rate: 60600 Hz\n",
      "Resampled to 48000 Hz\n",
      "Applied bandpass filter\n",
      "Applied noise reduction\n",
      "Saved preprocessed audio to /Users/yashsawrikar/Documents/VIT Labs/Semester 8/Senior Design Project/Dataset - Sample/Preprocessed/non-bio/preprocessed_6400801E.wav\n",
      "Processing file: /Users/yashsawrikar/Documents/VIT Labs/Semester 8/Senior Design Project/Dataset - Sample/Preprocessed/non-bio/64013001.wav, sample rate: 20000 Hz\n",
      "Resampled to 48000 Hz\n",
      "Applied bandpass filter\n",
      "Applied noise reduction\n",
      "Saved preprocessed audio to /Users/yashsawrikar/Documents/VIT Labs/Semester 8/Senior Design Project/Dataset - Sample/Preprocessed/non-bio/preprocessed_64013001.wav\n",
      "Processing file: /Users/yashsawrikar/Documents/VIT Labs/Semester 8/Senior Design Project/Dataset - Sample/Preprocessed/non-bio/6400800L.wav, sample rate: 60600 Hz\n",
      "Resampled to 48000 Hz\n",
      "Applied bandpass filter\n",
      "Applied noise reduction\n",
      "Saved preprocessed audio to /Users/yashsawrikar/Documents/VIT Labs/Semester 8/Senior Design Project/Dataset - Sample/Preprocessed/non-bio/preprocessed_6400800L.wav\n",
      "Processing file: /Users/yashsawrikar/Documents/VIT Labs/Semester 8/Senior Design Project/Dataset - Sample/Preprocessed/non-bio/6400800Y.wav, sample rate: 60600 Hz\n",
      "Resampled to 48000 Hz\n"
     ]
    },
    {
     "name": "stderr",
     "output_type": "stream",
     "text": [
      "Preprocessing audio:  93%|█████████▎| 199/213 [00:06<00:00, 51.15it/s]"
     ]
    },
    {
     "name": "stdout",
     "output_type": "stream",
     "text": [
      "Applied bandpass filter\n",
      "Applied noise reduction\n",
      "Saved preprocessed audio to /Users/yashsawrikar/Documents/VIT Labs/Semester 8/Senior Design Project/Dataset - Sample/Preprocessed/non-bio/preprocessed_6400800Y.wav\n",
      "Processing file: /Users/yashsawrikar/Documents/VIT Labs/Semester 8/Senior Design Project/Dataset - Sample/Preprocessed/non-bio/6400900B.wav, sample rate: 60600 Hz\n",
      "Resampled to 48000 Hz\n",
      "Applied bandpass filter\n",
      "Applied noise reduction\n",
      "Saved preprocessed audio to /Users/yashsawrikar/Documents/VIT Labs/Semester 8/Senior Design Project/Dataset - Sample/Preprocessed/non-bio/preprocessed_6400900B.wav\n",
      "Processing file: /Users/yashsawrikar/Documents/VIT Labs/Semester 8/Senior Design Project/Dataset - Sample/Preprocessed/non-bio/6400900G.wav, sample rate: 60600 Hz\n",
      "Resampled to 48000 Hz\n",
      "Applied bandpass filter\n",
      "Applied noise reduction\n",
      "Saved preprocessed audio to /Users/yashsawrikar/Documents/VIT Labs/Semester 8/Senior Design Project/Dataset - Sample/Preprocessed/non-bio/preprocessed_6400900G.wav\n",
      "Processing file: /Users/yashsawrikar/Documents/VIT Labs/Semester 8/Senior Design Project/Dataset - Sample/Preprocessed/non-bio/79029004.wav, sample rate: 5120 Hz\n",
      "Resampled to 48000 Hz\n",
      "Applied bandpass filter\n",
      "Applied noise reduction\n",
      "Saved preprocessed audio to /Users/yashsawrikar/Documents/VIT Labs/Semester 8/Senior Design Project/Dataset - Sample/Preprocessed/non-bio/preprocessed_79029004.wav\n",
      "Processing file: /Users/yashsawrikar/Documents/VIT Labs/Semester 8/Senior Design Project/Dataset - Sample/Preprocessed/non-bio/7501700B.wav, sample rate: 5120 Hz\n",
      "Resampled to 48000 Hz\n",
      "Applied bandpass filter\n",
      "Applied noise reduction\n",
      "Saved preprocessed audio to /Users/yashsawrikar/Documents/VIT Labs/Semester 8/Senior Design Project/Dataset - Sample/Preprocessed/non-bio/preprocessed_7501700B.wav\n",
      "Processing file: /Users/yashsawrikar/Documents/VIT Labs/Semester 8/Senior Design Project/Dataset - Sample/Preprocessed/non-bio/8600804N.wav, sample rate: 14900 Hz\n",
      "Resampled to 48000 Hz\n",
      "Applied bandpass filter\n",
      "Applied noise reduction\n",
      "Saved preprocessed audio to /Users/yashsawrikar/Documents/VIT Labs/Semester 8/Senior Design Project/Dataset - Sample/Preprocessed/non-bio/preprocessed_8600804N.wav\n",
      "Processing file: /Users/yashsawrikar/Documents/VIT Labs/Semester 8/Senior Design Project/Dataset - Sample/Preprocessed/non-bio/8600804B.wav, sample rate: 14900 Hz\n",
      "Resampled to 48000 Hz\n",
      "Applied bandpass filter\n",
      "Applied noise reduction\n",
      "Saved preprocessed audio to /Users/yashsawrikar/Documents/VIT Labs/Semester 8/Senior Design Project/Dataset - Sample/Preprocessed/non-bio/preprocessed_8600804B.wav\n",
      "Processing file: /Users/yashsawrikar/Documents/VIT Labs/Semester 8/Senior Design Project/Dataset - Sample/Preprocessed/non-bio/79022004.wav, sample rate: 10000 Hz\n",
      "Resampled to 48000 Hz\n",
      "Applied bandpass filter\n",
      "Applied noise reduction\n",
      "Saved preprocessed audio to /Users/yashsawrikar/Documents/VIT Labs/Semester 8/Senior Design Project/Dataset - Sample/Preprocessed/non-bio/preprocessed_79022004.wav\n",
      "Processing file: /Users/yashsawrikar/Documents/VIT Labs/Semester 8/Senior Design Project/Dataset - Sample/Preprocessed/non-bio/5801801F.wav, sample rate: 10000 Hz\n",
      "Resampled to 48000 Hz\n",
      "Applied bandpass filter\n",
      "Applied noise reduction\n",
      "Saved preprocessed audio to /Users/yashsawrikar/Documents/VIT Labs/Semester 8/Senior Design Project/Dataset - Sample/Preprocessed/non-bio/preprocessed_5801801F.wav\n",
      "Processing file: /Users/yashsawrikar/Documents/VIT Labs/Semester 8/Senior Design Project/Dataset - Sample/Preprocessed/non-bio/6608900Q.wav, sample rate: 20000 Hz\n",
      "Resampled to 48000 Hz\n",
      "Applied bandpass filter\n",
      "Applied noise reduction\n",
      "Saved preprocessed audio to /Users/yashsawrikar/Documents/VIT Labs/Semester 8/Senior Design Project/Dataset - Sample/Preprocessed/non-bio/preprocessed_6608900Q.wav\n",
      "Processing file: /Users/yashsawrikar/Documents/VIT Labs/Semester 8/Senior Design Project/Dataset - Sample/Preprocessed/non-bio/66002A01.wav, sample rate: 30000 Hz\n",
      "Resampled to 48000 Hz\n",
      "Applied bandpass filter\n"
     ]
    },
    {
     "name": "stderr",
     "output_type": "stream",
     "text": [
      "Preprocessing audio:  97%|█████████▋| 207/213 [00:06<00:00, 49.89it/s]"
     ]
    },
    {
     "name": "stdout",
     "output_type": "stream",
     "text": [
      "Applied noise reduction\n",
      "Saved preprocessed audio to /Users/yashsawrikar/Documents/VIT Labs/Semester 8/Senior Design Project/Dataset - Sample/Preprocessed/non-bio/preprocessed_66002A01.wav\n",
      "Processing file: /Users/yashsawrikar/Documents/VIT Labs/Semester 8/Senior Design Project/Dataset - Sample/Preprocessed/non-bio/6609000L.wav, sample rate: 20000 Hz\n",
      "Resampled to 48000 Hz\n",
      "Applied bandpass filter\n",
      "Applied noise reduction\n",
      "Saved preprocessed audio to /Users/yashsawrikar/Documents/VIT Labs/Semester 8/Senior Design Project/Dataset - Sample/Preprocessed/non-bio/preprocessed_6609000L.wav\n",
      "Processing file: /Users/yashsawrikar/Documents/VIT Labs/Semester 8/Senior Design Project/Dataset - Sample/Preprocessed/non-bio/66002A02.wav, sample rate: 30000 Hz\n",
      "Resampled to 48000 Hz\n",
      "Applied bandpass filter\n",
      "Applied noise reduction\n",
      "Saved preprocessed audio to /Users/yashsawrikar/Documents/VIT Labs/Semester 8/Senior Design Project/Dataset - Sample/Preprocessed/non-bio/preprocessed_66002A02.wav\n",
      "Processing file: /Users/yashsawrikar/Documents/VIT Labs/Semester 8/Senior Design Project/Dataset - Sample/Preprocessed/non-bio/6608900L.wav, sample rate: 20000 Hz\n",
      "Resampled to 48000 Hz\n",
      "Applied bandpass filter\n",
      "Applied noise reduction\n",
      "Saved preprocessed audio to /Users/yashsawrikar/Documents/VIT Labs/Semester 8/Senior Design Project/Dataset - Sample/Preprocessed/non-bio/preprocessed_6608900L.wav\n",
      "Processing file: /Users/yashsawrikar/Documents/VIT Labs/Semester 8/Senior Design Project/Dataset - Sample/Preprocessed/non-bio/6608500M.wav, sample rate: 20000 Hz\n",
      "Resampled to 48000 Hz\n",
      "Applied bandpass filter\n",
      "Applied noise reduction\n",
      "Saved preprocessed audio to /Users/yashsawrikar/Documents/VIT Labs/Semester 8/Senior Design Project/Dataset - Sample/Preprocessed/non-bio/preprocessed_6608500M.wav\n",
      "Processing file: /Users/yashsawrikar/Documents/VIT Labs/Semester 8/Senior Design Project/Dataset - Sample/Preprocessed/non-bio/66090013.wav, sample rate: 20000 Hz\n",
      "Resampled to 48000 Hz\n",
      "Applied bandpass filter\n",
      "Applied noise reduction\n",
      "Saved preprocessed audio to /Users/yashsawrikar/Documents/VIT Labs/Semester 8/Senior Design Project/Dataset - Sample/Preprocessed/non-bio/preprocessed_66090013.wav\n",
      "Processing file: /Users/yashsawrikar/Documents/VIT Labs/Semester 8/Senior Design Project/Dataset - Sample/Preprocessed/non-bio/ice-cracking2.wav, sample rate: 48000 Hz\n",
      "Applied bandpass filter\n",
      "Applied noise reduction\n",
      "Saved preprocessed audio to /Users/yashsawrikar/Documents/VIT Labs/Semester 8/Senior Design Project/Dataset - Sample/Preprocessed/non-bio/preprocessed_ice-cracking2.wav\n",
      "Processing file: /Users/yashsawrikar/Documents/VIT Labs/Semester 8/Senior Design Project/Dataset - Sample/Preprocessed/non-bio/ice-cracking.wav, sample rate: 48000 Hz\n",
      "Applied bandpass filter\n",
      "Applied noise reduction\n",
      "Saved preprocessed audio to /Users/yashsawrikar/Documents/VIT Labs/Semester 8/Senior Design Project/Dataset - Sample/Preprocessed/non-bio/preprocessed_ice-cracking.wav\n",
      "Processing file: /Users/yashsawrikar/Documents/VIT Labs/Semester 8/Senior Design Project/Dataset - Sample/Preprocessed/non-bio/Earthquake sound3.wav, sample rate: 44100 Hz\n"
     ]
    },
    {
     "name": "stderr",
     "output_type": "stream",
     "text": [
      "Preprocessing audio: 100%|██████████| 213/213 [00:06<00:00, 32.50it/s]"
     ]
    },
    {
     "name": "stdout",
     "output_type": "stream",
     "text": [
      "Resampled to 48000 Hz\n",
      "Applied bandpass filter\n",
      "Applied noise reduction\n",
      "Saved preprocessed audio to /Users/yashsawrikar/Documents/VIT Labs/Semester 8/Senior Design Project/Dataset - Sample/Preprocessed/non-bio/preprocessed_Earthquake sound3.wav\n",
      "Preprocessing complete. Success: 213, Failed: 0\n",
      "\n",
      "Preprocessing Summary:\n",
      "Total files: 213\n",
      "Successfully preprocessed: 213\n",
      "Not preprocessed: 0\n"
     ]
    },
    {
     "name": "stderr",
     "output_type": "stream",
     "text": [
      "\n"
     ]
    }
   ],
   "source": [
    "import os\n",
    "import numpy as np\n",
    "import pandas as pd\n",
    "from scipy.signal import butter, filtfilt, resample_poly, stft, istft\n",
    "from scipy.io import wavfile\n",
    "from tqdm import tqdm\n",
    "import warnings\n",
    "\n",
    "# Suppress warnings\n",
    "warnings.filterwarnings('ignore')\n",
    "\n",
    "# Define paths\n",
    "DATASET_PATH = '/Users/yashsawrikar/Documents/VIT Labs/Semester 8/Senior Design Project/Dataset - Sample'\n",
    "OUTPUT_DIR = os.path.join(DATASET_PATH, 'Preprocessed')\n",
    "CSV_PATH = os.path.join(OUTPUT_DIR, 'audio_metadata.csv')\n",
    "\n",
    "def butter_bandpass(lowcut, highcut, fs, order=2):\n",
    "    \"\"\"Design a Butterworth bandpass filter with safety checks.\"\"\"\n",
    "    nyquist = 0.5 * fs\n",
    "    \n",
    "    # Make sure cutoffs are within valid range (0 < Wn < 1)\n",
    "    low = max(0.001, min(0.999, lowcut / nyquist))\n",
    "    \n",
    "    # Ensure highcut is below Nyquist\n",
    "    safe_highcut = min(highcut, 0.95 * nyquist)\n",
    "    high = max(0.001, min(0.999, safe_highcut / nyquist))\n",
    "    \n",
    "    # Extra check to ensure low < high\n",
    "    if low >= high:\n",
    "        print(f\"WARNING: Invalid filter frequencies after normalization: low={low}, high={high}\")\n",
    "        print(f\"Setting low to 0.01 and high to 0.9\")\n",
    "        low, high = 0.01, 0.9\n",
    "    \n",
    "    b, a = butter(order, [low, high], btype='band')\n",
    "    return b, a\n",
    "\n",
    "def apply_bandpass_filter(data, fs, lowcut=50, highcut=24000, order=2):\n",
    "    \"\"\"Apply bandpass filter to audio data with safer highcut.\"\"\"\n",
    "    try:\n",
    "        b, a = butter_bandpass(lowcut, highcut, fs)\n",
    "        filtered_data = filtfilt(b, a, data)\n",
    "        return filtered_data\n",
    "    except Exception as e:\n",
    "        print(f\"ERROR: Filter design failed: {e}\")\n",
    "        print(\"Using original unfiltered audio\")\n",
    "        return data  # Return original if filter fails\n",
    "\n",
    "def resample_audio(audio, orig_sr, target_sr=48000):\n",
    "    \"\"\"Resample audio to target sampling rate.\"\"\"\n",
    "    try:\n",
    "        # Calculate greatest common divisor for resampling\n",
    "        gcd = np.gcd(orig_sr, target_sr)\n",
    "        up = target_sr // gcd\n",
    "        down = orig_sr // gcd\n",
    "        \n",
    "        # Resample using scipy\n",
    "        resampled = resample_poly(audio, up, down)\n",
    "        return resampled\n",
    "    except Exception as e:\n",
    "        print(f\"ERROR: Resampling failed: {e}\")\n",
    "        # Pad or truncate to simulate resampling\n",
    "        target_length = int(len(audio) * target_sr / orig_sr)\n",
    "        if target_length > len(audio):\n",
    "            return np.pad(audio, (0, target_length - len(audio)))\n",
    "        else:\n",
    "            return audio[:target_length]\n",
    "\n",
    "def reduce_noise_spectral_subtraction(audio, sr):\n",
    "    \"\"\"Reduce noise using spectral subtraction.\"\"\"\n",
    "    try:\n",
    "        # Parameters for STFT\n",
    "        nperseg = 2048  # Window size\n",
    "        noverlap = nperseg // 2  # 50% overlap\n",
    "        \n",
    "        # Compute STFT\n",
    "        f, t, Zxx = stft(audio, fs=sr, nperseg=nperseg, noverlap=noverlap)\n",
    "        \n",
    "        # Get magnitude and phase\n",
    "        magnitude = np.abs(Zxx)\n",
    "        phase = np.angle(Zxx)\n",
    "        \n",
    "        # Estimate noise floor as minimum value per frequency bin\n",
    "        noise_floor = np.min(magnitude, axis=1, keepdims=True)\n",
    "        \n",
    "        # Subtract noise floor from magnitude with a small buffer to avoid negative values\n",
    "        magnitude_clean = np.maximum(magnitude - noise_floor, 0.01 * noise_floor)\n",
    "        \n",
    "        # Reconstruct complex STFT\n",
    "        Zxx_clean = magnitude_clean * np.exp(1j * phase)\n",
    "        \n",
    "        # Inverse STFT\n",
    "        _, audio_clean = istft(Zxx_clean, fs=sr, nperseg=nperseg, noverlap=noverlap)\n",
    "        \n",
    "        # Ensure same length as original\n",
    "        if len(audio_clean) > len(audio):\n",
    "            audio_clean = audio_clean[:len(audio)]\n",
    "        elif len(audio_clean) < len(audio):\n",
    "            audio_clean = np.pad(audio_clean, (0, len(audio) - len(audio_clean)))\n",
    "        \n",
    "        # Normalize to prevent clipping\n",
    "        if np.max(np.abs(audio_clean)) > 0:\n",
    "            audio_clean = audio_clean / np.max(np.abs(audio_clean))\n",
    "        \n",
    "        return audio_clean\n",
    "    except Exception as e:\n",
    "        print(f\"ERROR: Noise reduction failed: {e}\")\n",
    "        return audio  # Return original if noise reduction fails\n",
    "\n",
    "def preprocess_audio(file_path, output_path=None):\n",
    "    \"\"\"Apply preprocessing to an audio file.\"\"\"\n",
    "    try:\n",
    "        # If output path is not specified, create one\n",
    "        if output_path is None:\n",
    "            dir_path = os.path.dirname(file_path)\n",
    "            filename = os.path.basename(file_path)\n",
    "            output_path = os.path.join(dir_path, f\"preprocessed_{filename}\")\n",
    "        \n",
    "        # Ensure directory exists\n",
    "        os.makedirs(os.path.dirname(output_path), exist_ok=True)\n",
    "        \n",
    "        # Load audio file\n",
    "        try:\n",
    "            sr, audio = wavfile.read(file_path)\n",
    "            # Print sampling rate for debugging\n",
    "            print(f\"Processing file: {file_path}, sample rate: {sr} Hz\")\n",
    "            \n",
    "            # Convert to float32 normalized to [-1, 1] for processing\n",
    "            if audio.dtype == np.int16:\n",
    "                audio = audio.astype(np.float32) / 32767.0\n",
    "            elif audio.dtype == np.int32:\n",
    "                audio = audio.astype(np.float32) / 2147483647.0\n",
    "                \n",
    "            # If stereo, convert to mono\n",
    "            if len(audio.shape) > 1 and audio.shape[1] > 1:\n",
    "                audio = np.mean(audio, axis=1)\n",
    "        except Exception as e:\n",
    "            print(f\"ERROR: Failed to load audio file: {e}\")\n",
    "            return None\n",
    "        \n",
    "        # Step 1: Resample to 48 kHz if needed\n",
    "        target_sr = 48000\n",
    "        if sr != target_sr:\n",
    "            try:\n",
    "                audio = resample_audio(audio, sr, target_sr)\n",
    "                sr = target_sr\n",
    "                print(f\"Resampled to {sr} Hz\")\n",
    "            except Exception as e:\n",
    "                print(f\"ERROR: Failed to resample: {e}\")\n",
    "                return None\n",
    "        \n",
    "        # Step 2: Apply bandpass filter (50 Hz - 24 kHz)\n",
    "        # Adjust highcut based on sampling rate to avoid filter errors\n",
    "        highcut = min(24000, sr/2 * 0.95)  # Ensure highcut is below Nyquist\n",
    "        audio_filtered = apply_bandpass_filter(audio, sr, lowcut=50, highcut=highcut)\n",
    "        print(\"Applied bandpass filter\")\n",
    "        \n",
    "        # Step 3: Reduce noise\n",
    "        audio_clean = reduce_noise_spectral_subtraction(audio_filtered, sr)\n",
    "        print(\"Applied noise reduction\")\n",
    "        \n",
    "        # Convert back to int16 for saving\n",
    "        audio_int16 = np.int16(audio_clean * 32767)\n",
    "        \n",
    "        # Save the processed audio\n",
    "        try:\n",
    "            wavfile.write(output_path, sr, audio_int16)\n",
    "            print(f\"Saved preprocessed audio to {output_path}\")\n",
    "            return output_path\n",
    "        except Exception as e:\n",
    "            print(f\"ERROR: Failed to save processed audio: {e}\")\n",
    "            return None\n",
    "    \n",
    "    except Exception as e:\n",
    "        print(f\"ERROR: Unexpected error preprocessing {file_path}: {e}\")\n",
    "        return None\n",
    "\n",
    "def preprocess_from_csv(csv_path, max_files=None):\n",
    "    \"\"\"Preprocess all audio files listed in the CSV.\"\"\"\n",
    "    # Check if CSV exists\n",
    "    if not os.path.exists(csv_path):\n",
    "        print(f\"CSV file not found: {csv_path}\")\n",
    "        return None\n",
    "    \n",
    "    # Load metadata\n",
    "    try:\n",
    "        df = pd.read_csv(csv_path)\n",
    "        print(f\"Loaded CSV with {len(df)} entries\")\n",
    "    except Exception as e:\n",
    "        print(f\"Error loading CSV: {e}\")\n",
    "        return None\n",
    "    \n",
    "    # Limit number of files to process if specified\n",
    "    if max_files is not None:\n",
    "        df = df.head(max_files)\n",
    "        print(f\"Limited to processing {max_files} files\")\n",
    "    \n",
    "    # Track success and failure\n",
    "    successful = 0\n",
    "    failed = 0\n",
    "    \n",
    "    # Process each file\n",
    "    for idx, row in tqdm(df.iterrows(), total=len(df), desc=\"Preprocessing audio\"):\n",
    "        # Skip already preprocessed files\n",
    "        if row.get('preprocessed', False):\n",
    "            continue\n",
    "        \n",
    "        file_path = row['path']\n",
    "        \n",
    "        # Check if file exists\n",
    "        if not os.path.exists(file_path):\n",
    "            print(f\"File not found: {file_path}\")\n",
    "            failed += 1\n",
    "            continue\n",
    "        \n",
    "        # Create output path with prefix\n",
    "        dir_path = os.path.dirname(file_path)\n",
    "        filename = os.path.basename(file_path)\n",
    "        output_path = os.path.join(dir_path, f\"preprocessed_{filename}\")\n",
    "        \n",
    "        # Preprocess the audio\n",
    "        result = preprocess_audio(file_path, output_path)\n",
    "        \n",
    "        if result:\n",
    "            # Update dataframe\n",
    "            df.loc[idx, 'preprocessed'] = True\n",
    "            df.loc[idx, 'preprocessed_path'] = result\n",
    "            successful += 1\n",
    "            \n",
    "            # Save progress periodically\n",
    "            if (successful + failed) % 10 == 0:\n",
    "                df.to_csv(csv_path, index=False)\n",
    "        else:\n",
    "            failed += 1\n",
    "    \n",
    "    # Final save\n",
    "    df.to_csv(csv_path, index=False)\n",
    "    \n",
    "    print(f\"Preprocessing complete. Success: {successful}, Failed: {failed}\")\n",
    "    return df\n",
    "\n",
    "if __name__ == \"__main__\":\n",
    "    df = preprocess_from_csv(CSV_PATH)\n",
    "    if df is not None:\n",
    "        # Print summary\n",
    "        print(\"\\nPreprocessing Summary:\")\n",
    "        print(f\"Total files: {len(df)}\")\n",
    "        print(f\"Successfully preprocessed: {len(df[df['preprocessed'] == True])}\")\n",
    "        print(f\"Not preprocessed: {len(df[df['preprocessed'] == False])}\")"
   ]
  },
  {
   "cell_type": "markdown",
   "metadata": {},
   "source": [
    "## 3. feature Extraction"
   ]
  },
  {
   "cell_type": "code",
   "execution_count": 37,
   "metadata": {},
   "outputs": [
    {
     "name": "stdout",
     "output_type": "stream",
     "text": [
      "Using MPS (Apple Metal) device for acceleration\n",
      "PyTorch version: 2.6.0\n",
      "MPS available: True\n",
      "MPS built: True\n",
      "Starting feature extraction from /Users/yashsawrikar/Documents/VIT Labs/Semester 8/Senior Design Project/Dataset - Sample/Preprocessed/audio_metadata.csv\n",
      "Loaded CSV with 213 entries\n",
      "Found 213 preprocessed files that need feature extraction\n"
     ]
    },
    {
     "name": "stderr",
     "output_type": "stream",
     "text": [
      "Processing files:   0%|          | 0/213 [00:00<?, ?it/s]"
     ]
    },
    {
     "name": "stdout",
     "output_type": "stream",
     "text": [
      "\n",
      "Processing file 1/213\n",
      "Starting to process: preprocessed_6102101A\n",
      "Loaded file: preprocessed_6102101A, Sample rate: 48000, Shape: (23175,), Size: 0.04 MB\n",
      "Processing preprocessed_6102101A using GPU\n"
     ]
    },
    {
     "name": "stderr",
     "output_type": "stream",
     "text": [
      "Processing files:   0%|          | 1/213 [00:01<06:31,  1.85s/it]"
     ]
    },
    {
     "name": "stdout",
     "output_type": "stream",
     "text": [
      "Successfully processed preprocessed_6102101A\n",
      "File processed successfully in 1.85 seconds\n",
      "\n",
      "Processing file 2/213\n",
      "Starting to process: preprocessed_6102101P\n",
      "Loaded file: preprocessed_6102101P, Sample rate: 48000, Shape: (34425,), Size: 0.07 MB\n",
      "Processing preprocessed_6102101P using GPU\n"
     ]
    },
    {
     "name": "stderr",
     "output_type": "stream",
     "text": [
      "Processing files:   1%|          | 2/213 [00:02<04:44,  1.35s/it]"
     ]
    },
    {
     "name": "stdout",
     "output_type": "stream",
     "text": [
      "Successfully processed preprocessed_6102101P\n",
      "File processed successfully in 1.00 seconds\n",
      "\n",
      "Processing file 3/213\n",
      "Starting to process: preprocessed_6102104K\n",
      "Loaded file: preprocessed_6102104K, Sample rate: 48000, Shape: (23746,), Size: 0.05 MB\n",
      "Processing preprocessed_6102104K using GPU\n"
     ]
    },
    {
     "name": "stderr",
     "output_type": "stream",
     "text": [
      "Processing files:   1%|▏         | 3/213 [00:03<03:52,  1.11s/it]"
     ]
    },
    {
     "name": "stdout",
     "output_type": "stream",
     "text": [
      "Successfully processed preprocessed_6102104K\n",
      "File processed successfully in 0.82 seconds\n",
      "\n",
      "Processing file 4/213\n",
      "Starting to process: preprocessed_6102201S\n",
      "Loaded file: preprocessed_6102201S, Sample rate: 48000, Shape: (78989,), Size: 0.15 MB\n",
      "Processing preprocessed_6102201S using GPU\n"
     ]
    },
    {
     "name": "stderr",
     "output_type": "stream",
     "text": [
      "Processing files:   2%|▏         | 4/213 [00:04<04:07,  1.19s/it]"
     ]
    },
    {
     "name": "stdout",
     "output_type": "stream",
     "text": [
      "Successfully processed preprocessed_6102201S\n",
      "File processed successfully in 1.31 seconds\n",
      "\n",
      "Processing file 5/213\n",
      "Starting to process: preprocessed_6102201W\n",
      "Loaded file: preprocessed_6102201W, Sample rate: 48000, Shape: (168009,), Size: 0.32 MB\n",
      "Processing preprocessed_6102201W using GPU\n"
     ]
    },
    {
     "name": "stderr",
     "output_type": "stream",
     "text": [
      "Processing files:   2%|▏         | 5/213 [00:06<05:04,  1.46s/it]"
     ]
    },
    {
     "name": "stdout",
     "output_type": "stream",
     "text": [
      "Successfully processed preprocessed_6102201W\n",
      "File processed successfully in 1.95 seconds\n",
      "Progress saved. Processed 5/213 files\n",
      "\n",
      "Processing file 6/213\n",
      "Starting to process: preprocessed_6102203I\n",
      "Loaded file: preprocessed_6102203I, Sample rate: 48000, Shape: (96096,), Size: 0.18 MB\n",
      "Processing preprocessed_6102203I using GPU\n"
     ]
    },
    {
     "name": "stderr",
     "output_type": "stream",
     "text": [
      "Processing files:   3%|▎         | 6/213 [00:08<05:01,  1.46s/it]"
     ]
    },
    {
     "name": "stdout",
     "output_type": "stream",
     "text": [
      "Successfully processed preprocessed_6102203I\n",
      "File processed successfully in 1.44 seconds\n",
      "\n",
      "Processing file 7/213\n",
      "Starting to process: preprocessed_6102102E\n",
      "Loaded file: preprocessed_6102102E, Sample rate: 48000, Shape: (24226,), Size: 0.05 MB\n",
      "Processing preprocessed_6102102E using GPU\n"
     ]
    },
    {
     "name": "stderr",
     "output_type": "stream",
     "text": [
      "Processing files:   3%|▎         | 7/213 [00:10<05:41,  1.66s/it]"
     ]
    },
    {
     "name": "stdout",
     "output_type": "stream",
     "text": [
      "Successfully processed preprocessed_6102102E\n",
      "File processed successfully in 2.07 seconds\n",
      "\n",
      "Processing file 8/213\n",
      "Starting to process: preprocessed_66014009\n",
      "Loaded file: preprocessed_66014009, Sample rate: 48000, Shape: (99900,), Size: 0.19 MB\n",
      "Processing preprocessed_66014009 using GPU\n"
     ]
    },
    {
     "name": "stderr",
     "output_type": "stream",
     "text": [
      "Processing files:   4%|▍         | 8/213 [00:11<05:27,  1.60s/it]"
     ]
    },
    {
     "name": "stdout",
     "output_type": "stream",
     "text": [
      "Successfully processed preprocessed_66014009\n",
      "File processed successfully in 1.47 seconds\n",
      "\n",
      "Processing file 9/213\n",
      "Starting to process: preprocessed_66014007\n",
      "Loaded file: preprocessed_66014007, Sample rate: 48000, Shape: (68063,), Size: 0.13 MB\n",
      "Processing preprocessed_66014007 using GPU\n"
     ]
    },
    {
     "name": "stderr",
     "output_type": "stream",
     "text": [
      "Processing files:   4%|▍         | 9/213 [00:13<04:58,  1.46s/it]"
     ]
    },
    {
     "name": "stdout",
     "output_type": "stream",
     "text": [
      "Successfully processed preprocessed_66014007\n",
      "File processed successfully in 1.17 seconds\n",
      "\n",
      "Processing file 10/213\n",
      "Starting to process: preprocessed_6601400A\n",
      "Loaded file: preprocessed_6601400A, Sample rate: 48000, Shape: (114300,), Size: 0.22 MB\n",
      "Processing preprocessed_6601400A using GPU\n"
     ]
    },
    {
     "name": "stderr",
     "output_type": "stream",
     "text": [
      "Processing files:   5%|▍         | 10/213 [00:14<05:03,  1.50s/it]"
     ]
    },
    {
     "name": "stdout",
     "output_type": "stream",
     "text": [
      "Successfully processed preprocessed_6601400A\n",
      "File processed successfully in 1.57 seconds\n",
      "Progress saved. Processed 10/213 files\n",
      "\n",
      "Processing file 11/213\n",
      "Starting to process: preprocessed_6601400B\n",
      "Loaded file: preprocessed_6601400B, Sample rate: 48000, Shape: (43875,), Size: 0.08 MB\n",
      "Processing preprocessed_6601400B using GPU\n"
     ]
    },
    {
     "name": "stderr",
     "output_type": "stream",
     "text": [
      "Processing files:   5%|▌         | 11/213 [00:15<04:29,  1.33s/it]"
     ]
    },
    {
     "name": "stdout",
     "output_type": "stream",
     "text": [
      "Successfully processed preprocessed_6601400B\n",
      "File processed successfully in 0.96 seconds\n",
      "\n",
      "Processing file 12/213\n",
      "Starting to process: preprocessed_6601400C\n",
      "Loaded file: preprocessed_6601400C, Sample rate: 48000, Shape: (136125,), Size: 0.26 MB\n",
      "Processing preprocessed_6601400C using GPU\n"
     ]
    },
    {
     "name": "stderr",
     "output_type": "stream",
     "text": [
      "Processing files:   6%|▌         | 12/213 [00:17<04:50,  1.45s/it]"
     ]
    },
    {
     "name": "stdout",
     "output_type": "stream",
     "text": [
      "Successfully processed preprocessed_6601400C\n",
      "File processed successfully in 1.70 seconds\n",
      "\n",
      "Processing file 13/213\n",
      "Starting to process: preprocessed_6403104V\n",
      "Loaded file: preprocessed_6403104V, Sample rate: 48000, Shape: (63418,), Size: 0.12 MB\n",
      "Processing preprocessed_6403104V using GPU\n"
     ]
    },
    {
     "name": "stderr",
     "output_type": "stream",
     "text": [
      "Processing files:   6%|▌         | 13/213 [00:18<04:29,  1.35s/it]"
     ]
    },
    {
     "name": "stdout",
     "output_type": "stream",
     "text": [
      "Successfully processed preprocessed_6403104V\n",
      "File processed successfully in 1.12 seconds\n",
      "\n",
      "Processing file 14/213\n",
      "Starting to process: preprocessed_6002602A\n",
      "Loaded file: preprocessed_6002602A, Sample rate: 48000, Shape: (143664,), Size: 0.27 MB\n",
      "Processing preprocessed_6002602A using GPU\n"
     ]
    },
    {
     "name": "stderr",
     "output_type": "stream",
     "text": [
      "Processing files:   7%|▋         | 14/213 [00:20<04:56,  1.49s/it]"
     ]
    },
    {
     "name": "stdout",
     "output_type": "stream",
     "text": [
      "Successfully processed preprocessed_6002602A\n",
      "File processed successfully in 1.82 seconds\n",
      "\n",
      "Processing file 15/213\n",
      "Starting to process: preprocessed_6002600P\n",
      "Loaded file: preprocessed_6002600P, Sample rate: 48000, Shape: (131134,), Size: 0.25 MB\n",
      "Processing preprocessed_6002600P using GPU\n"
     ]
    },
    {
     "name": "stderr",
     "output_type": "stream",
     "text": [
      "Processing files:   7%|▋         | 15/213 [00:22<05:12,  1.58s/it]"
     ]
    },
    {
     "name": "stdout",
     "output_type": "stream",
     "text": [
      "Successfully processed preprocessed_6002600P\n",
      "File processed successfully in 1.79 seconds\n",
      "Progress saved. Processed 15/213 files\n",
      "\n",
      "Processing file 16/213\n",
      "Starting to process: preprocessed_6403000K\n",
      "Loaded file: preprocessed_6403000K, Sample rate: 48000, Shape: (58532,), Size: 0.11 MB\n",
      "Processing preprocessed_6403000K using GPU\n"
     ]
    },
    {
     "name": "stderr",
     "output_type": "stream",
     "text": [
      "Processing files:   8%|▊         | 16/213 [00:23<04:48,  1.46s/it]"
     ]
    },
    {
     "name": "stdout",
     "output_type": "stream",
     "text": [
      "Successfully processed preprocessed_6403000K\n",
      "File processed successfully in 1.19 seconds\n",
      "\n",
      "Processing file 17/213\n",
      "Starting to process: preprocessed_6002604X\n",
      "Loaded file: preprocessed_6002604X, Sample rate: 48000, Shape: (248838,), Size: 0.47 MB\n",
      "Processing preprocessed_6002604X using GPU\n"
     ]
    },
    {
     "name": "stderr",
     "output_type": "stream",
     "text": [
      "Processing files:   8%|▊         | 17/213 [00:25<05:58,  1.83s/it]"
     ]
    },
    {
     "name": "stdout",
     "output_type": "stream",
     "text": [
      "Successfully processed preprocessed_6002604X\n",
      "File processed successfully in 2.68 seconds\n",
      "\n",
      "Processing file 18/213\n",
      "Starting to process: preprocessed_6403100V\n",
      "Loaded file: preprocessed_6403100V, Sample rate: 48000, Shape: (124560,), Size: 0.24 MB\n",
      "Processing preprocessed_6403100V using GPU\n"
     ]
    },
    {
     "name": "stderr",
     "output_type": "stream",
     "text": [
      "Processing files:   8%|▊         | 18/213 [00:27<05:45,  1.77s/it]"
     ]
    },
    {
     "name": "stdout",
     "output_type": "stream",
     "text": [
      "Successfully processed preprocessed_6403100V\n",
      "File processed successfully in 1.63 seconds\n",
      "\n",
      "Processing file 19/213\n",
      "Starting to process: preprocessed_66003005\n",
      "Loaded file: preprocessed_66003005, Sample rate: 48000, Shape: (124384,), Size: 0.24 MB\n",
      "Processing preprocessed_66003005 using GPU\n"
     ]
    },
    {
     "name": "stderr",
     "output_type": "stream",
     "text": [
      "Processing files:   9%|▉         | 19/213 [00:29<05:36,  1.74s/it]"
     ]
    },
    {
     "name": "stdout",
     "output_type": "stream",
     "text": [
      "Successfully processed preprocessed_66003005\n",
      "File processed successfully in 1.65 seconds\n",
      "\n",
      "Processing file 20/213\n",
      "Starting to process: preprocessed_6608400Y\n",
      "Loaded file: preprocessed_6608400Y, Sample rate: 48000, Shape: (361152,), Size: 0.69 MB\n",
      "Processing preprocessed_6608400Y using GPU\n"
     ]
    },
    {
     "name": "stderr",
     "output_type": "stream",
     "text": [
      "Processing files:   9%|▉         | 20/213 [00:32<07:28,  2.32s/it]"
     ]
    },
    {
     "name": "stdout",
     "output_type": "stream",
     "text": [
      "Successfully processed preprocessed_6608400Y\n",
      "File processed successfully in 3.69 seconds\n",
      "Progress saved. Processed 20/213 files\n",
      "\n",
      "Processing file 21/213\n",
      "Starting to process: preprocessed_6608400J\n",
      "Loaded file: preprocessed_6608400J, Sample rate: 48000, Shape: (125079,), Size: 0.24 MB\n",
      "Processing preprocessed_6608400J using GPU\n"
     ]
    },
    {
     "name": "stderr",
     "output_type": "stream",
     "text": [
      "Processing files:  10%|▉         | 21/213 [00:34<06:50,  2.14s/it]"
     ]
    },
    {
     "name": "stdout",
     "output_type": "stream",
     "text": [
      "Successfully processed preprocessed_6608400J\n",
      "File processed successfully in 1.69 seconds\n",
      "\n",
      "Processing file 22/213\n",
      "Starting to process: preprocessed_6609000M\n",
      "Loaded file: preprocessed_6609000M, Sample rate: 48000, Shape: (193059,), Size: 0.37 MB\n",
      "Processing preprocessed_6609000M using GPU\n"
     ]
    },
    {
     "name": "stderr",
     "output_type": "stream",
     "text": [
      "Processing files:  10%|█         | 22/213 [00:36<06:53,  2.16s/it]"
     ]
    },
    {
     "name": "stdout",
     "output_type": "stream",
     "text": [
      "Successfully processed preprocessed_6609000M\n",
      "File processed successfully in 2.23 seconds\n",
      "\n",
      "Processing file 23/213\n",
      "Starting to process: preprocessed_66084012\n",
      "Loaded file: preprocessed_66084012, Sample rate: 48000, Shape: (299808,), Size: 0.57 MB\n",
      "Processing preprocessed_66084012 using GPU\n"
     ]
    },
    {
     "name": "stderr",
     "output_type": "stream",
     "text": [
      "Processing files:  11%|█         | 23/213 [00:39<07:31,  2.38s/it]"
     ]
    },
    {
     "name": "stdout",
     "output_type": "stream",
     "text": [
      "Successfully processed preprocessed_66084012\n",
      "File processed successfully in 2.87 seconds\n",
      "\n",
      "Processing file 24/213\n",
      "Starting to process: preprocessed_7902400O\n",
      "Loaded file: preprocessed_7902400O, Sample rate: 48000, Shape: (1287,), Size: 0.00 MB\n",
      "Processing preprocessed_7902400O using GPU\n"
     ]
    },
    {
     "name": "stderr",
     "output_type": "stream",
     "text": [
      "Processing files:  11%|█▏        | 24/213 [00:40<05:56,  1.88s/it]"
     ]
    },
    {
     "name": "stdout",
     "output_type": "stream",
     "text": [
      "Successfully processed preprocessed_7902400O\n",
      "File processed successfully in 0.74 seconds\n",
      "\n",
      "Processing file 25/213\n",
      "Starting to process: preprocessed_7902400W\n",
      "Loaded file: preprocessed_7902400W, Sample rate: 48000, Shape: (804,), Size: 0.00 MB\n",
      "Processing preprocessed_7902400W using GPU\n"
     ]
    },
    {
     "name": "stderr",
     "output_type": "stream",
     "text": [
      "Processing files:  12%|█▏        | 25/213 [00:41<04:49,  1.54s/it]"
     ]
    },
    {
     "name": "stdout",
     "output_type": "stream",
     "text": [
      "Successfully processed preprocessed_7902400W\n",
      "File processed successfully in 0.72 seconds\n",
      "Progress saved. Processed 25/213 files\n",
      "\n",
      "Processing file 26/213\n",
      "Starting to process: preprocessed_79024006\n",
      "Loaded file: preprocessed_79024006, Sample rate: 48000, Shape: (38077,), Size: 0.07 MB\n",
      "Processing preprocessed_79024006 using GPU\n"
     ]
    },
    {
     "name": "stderr",
     "output_type": "stream",
     "text": [
      "Processing files:  12%|█▏        | 26/213 [00:42<04:12,  1.35s/it]"
     ]
    },
    {
     "name": "stdout",
     "output_type": "stream",
     "text": [
      "Successfully processed preprocessed_79024006\n",
      "File processed successfully in 0.92 seconds\n",
      "\n",
      "Processing file 27/213\n",
      "Starting to process: preprocessed_7902400A\n",
      "Loaded file: preprocessed_7902400A, Sample rate: 48000, Shape: (45262,), Size: 0.09 MB\n",
      "Processing preprocessed_7902400A using GPU\n"
     ]
    },
    {
     "name": "stderr",
     "output_type": "stream",
     "text": [
      "Processing files:  13%|█▎        | 27/213 [00:43<03:50,  1.24s/it]"
     ]
    },
    {
     "name": "stdout",
     "output_type": "stream",
     "text": [
      "Successfully processed preprocessed_7902400A\n",
      "File processed successfully in 0.97 seconds\n",
      "\n",
      "Processing file 28/213\n",
      "Starting to process: preprocessed_7902400D\n",
      "Loaded file: preprocessed_7902400D, Sample rate: 48000, Shape: (19619,), Size: 0.04 MB\n",
      "Processing preprocessed_7902400D using GPU\n"
     ]
    },
    {
     "name": "stderr",
     "output_type": "stream",
     "text": [
      "Processing files:  13%|█▎        | 28/213 [00:43<03:21,  1.09s/it]"
     ]
    },
    {
     "name": "stdout",
     "output_type": "stream",
     "text": [
      "Successfully processed preprocessed_7902400D\n",
      "File processed successfully in 0.74 seconds\n",
      "\n",
      "Processing file 29/213\n",
      "Starting to process: preprocessed_5903002U\n",
      "Loaded file: preprocessed_5903002U, Sample rate: 48000, Shape: (29250,), Size: 0.06 MB\n",
      "Processing preprocessed_5903002U using GPU\n"
     ]
    },
    {
     "name": "stderr",
     "output_type": "stream",
     "text": [
      "Processing files:  14%|█▎        | 29/213 [00:44<03:05,  1.01s/it]"
     ]
    },
    {
     "name": "stdout",
     "output_type": "stream",
     "text": [
      "Successfully processed preprocessed_5903002U\n",
      "File processed successfully in 0.82 seconds\n",
      "\n",
      "Processing file 30/213\n",
      "Starting to process: preprocessed_5903001K\n",
      "Loaded file: preprocessed_5903001K, Sample rate: 48000, Shape: (37125,), Size: 0.07 MB\n",
      "Processing preprocessed_5903001K using GPU\n"
     ]
    },
    {
     "name": "stderr",
     "output_type": "stream",
     "text": [
      "Processing files:  14%|█▍        | 30/213 [00:45<03:00,  1.02it/s]"
     ]
    },
    {
     "name": "stdout",
     "output_type": "stream",
     "text": [
      "Successfully processed preprocessed_5903001K\n",
      "File processed successfully in 0.93 seconds\n",
      "Progress saved. Processed 30/213 files\n",
      "\n",
      "Processing file 31/213\n",
      "Starting to process: preprocessed_59029014\n",
      "Loaded file: preprocessed_59029014, Sample rate: 48000, Shape: (63150,), Size: 0.12 MB\n",
      "Processing preprocessed_59029014 using GPU\n"
     ]
    },
    {
     "name": "stderr",
     "output_type": "stream",
     "text": [
      "Processing files:  15%|█▍        | 31/213 [00:46<03:04,  1.01s/it]"
     ]
    },
    {
     "name": "stdout",
     "output_type": "stream",
     "text": [
      "Successfully processed preprocessed_59029014\n",
      "File processed successfully in 1.07 seconds\n",
      "\n",
      "Processing file 32/213\n",
      "Starting to process: preprocessed_5903000B\n",
      "Loaded file: preprocessed_5903000B, Sample rate: 48000, Shape: (207672,), Size: 0.40 MB\n",
      "Processing preprocessed_5903000B using GPU\n"
     ]
    },
    {
     "name": "stderr",
     "output_type": "stream",
     "text": [
      "Processing files:  15%|█▌        | 32/213 [00:48<04:09,  1.38s/it]"
     ]
    },
    {
     "name": "stdout",
     "output_type": "stream",
     "text": [
      "Successfully processed preprocessed_5903000B\n",
      "File processed successfully in 2.23 seconds\n",
      "\n",
      "Processing file 33/213\n",
      "Starting to process: preprocessed_5903001A\n",
      "Loaded file: preprocessed_5903001A, Sample rate: 48000, Shape: (46800,), Size: 0.09 MB\n",
      "Processing preprocessed_5903001A using GPU\n"
     ]
    },
    {
     "name": "stderr",
     "output_type": "stream",
     "text": [
      "Processing files:  15%|█▌        | 33/213 [00:50<04:06,  1.37s/it]"
     ]
    },
    {
     "name": "stdout",
     "output_type": "stream",
     "text": [
      "Successfully processed preprocessed_5903001A\n",
      "File processed successfully in 1.35 seconds\n",
      "\n",
      "Processing file 34/213\n",
      "Starting to process: preprocessed_5903001U\n",
      "Loaded file: preprocessed_5903001U, Sample rate: 48000, Shape: (19463,), Size: 0.04 MB\n",
      "Processing preprocessed_5903001U using GPU\n"
     ]
    },
    {
     "name": "stderr",
     "output_type": "stream",
     "text": [
      "Processing files:  16%|█▌        | 34/213 [00:50<03:29,  1.17s/it]"
     ]
    },
    {
     "name": "stdout",
     "output_type": "stream",
     "text": [
      "Successfully processed preprocessed_5903001U\n",
      "File processed successfully in 0.71 seconds\n",
      "\n",
      "Processing file 35/213\n",
      "Starting to process: preprocessed_68028001\n",
      "Loaded file: preprocessed_68028001, Sample rate: 48000, Shape: (123428,), Size: 0.24 MB\n",
      "Processing preprocessed_68028001 using GPU\n"
     ]
    },
    {
     "name": "stderr",
     "output_type": "stream",
     "text": [
      "Processing files:  16%|█▋        | 35/213 [00:52<04:01,  1.35s/it]"
     ]
    },
    {
     "name": "stdout",
     "output_type": "stream",
     "text": [
      "Successfully processed preprocessed_68028001\n",
      "File processed successfully in 1.78 seconds\n",
      "Progress saved. Processed 35/213 files\n",
      "\n",
      "Processing file 36/213\n",
      "Starting to process: preprocessed_71012015\n",
      "Loaded file: preprocessed_71012015, Sample rate: 48000, Shape: (67950,), Size: 0.13 MB\n",
      "Processing preprocessed_71012015 using GPU\n"
     ]
    },
    {
     "name": "stderr",
     "output_type": "stream",
     "text": [
      "Processing files:  17%|█▋        | 36/213 [00:54<03:58,  1.35s/it]"
     ]
    },
    {
     "name": "stdout",
     "output_type": "stream",
     "text": [
      "Successfully processed preprocessed_71012015\n",
      "File processed successfully in 1.34 seconds\n",
      "\n",
      "Processing file 37/213\n",
      "Starting to process: preprocessed_73001003\n",
      "Loaded file: preprocessed_73001003, Sample rate: 48000, Shape: (68063,), Size: 0.13 MB\n",
      "Processing preprocessed_73001003 using GPU\n"
     ]
    },
    {
     "name": "stderr",
     "output_type": "stream",
     "text": [
      "Processing files:  17%|█▋        | 37/213 [00:55<03:46,  1.29s/it]"
     ]
    },
    {
     "name": "stdout",
     "output_type": "stream",
     "text": [
      "Successfully processed preprocessed_73001003\n",
      "File processed successfully in 1.14 seconds\n",
      "\n",
      "Processing file 38/213\n",
      "Starting to process: preprocessed_71012013\n",
      "Loaded file: preprocessed_71012013, Sample rate: 48000, Shape: (135900,), Size: 0.26 MB\n",
      "Processing preprocessed_71012013 using GPU\n"
     ]
    },
    {
     "name": "stderr",
     "output_type": "stream",
     "text": [
      "Processing files:  18%|█▊        | 38/213 [00:56<04:04,  1.39s/it]"
     ]
    },
    {
     "name": "stdout",
     "output_type": "stream",
     "text": [
      "Successfully processed preprocessed_71012013\n",
      "File processed successfully in 1.65 seconds\n",
      "\n",
      "Processing file 39/213\n",
      "Starting to process: preprocessed_71012012\n",
      "Loaded file: preprocessed_71012012, Sample rate: 48000, Shape: (135900,), Size: 0.26 MB\n",
      "Processing preprocessed_71012012 using GPU\n"
     ]
    },
    {
     "name": "stderr",
     "output_type": "stream",
     "text": [
      "Processing files:  18%|█▊        | 39/213 [00:58<04:15,  1.47s/it]"
     ]
    },
    {
     "name": "stdout",
     "output_type": "stream",
     "text": [
      "Successfully processed preprocessed_71012012\n",
      "File processed successfully in 1.63 seconds\n",
      "\n",
      "Processing file 40/213\n",
      "Starting to process: preprocessed_76001007\n",
      "Loaded file: preprocessed_76001007, Sample rate: 48000, Shape: (271800,), Size: 0.52 MB\n",
      "Processing preprocessed_76001007 using GPU\n"
     ]
    },
    {
     "name": "stderr",
     "output_type": "stream",
     "text": [
      "Processing files:  19%|█▉        | 40/213 [01:01<05:17,  1.83s/it]"
     ]
    },
    {
     "name": "stdout",
     "output_type": "stream",
     "text": [
      "Successfully processed preprocessed_76001007\n",
      "File processed successfully in 2.68 seconds\n",
      "Progress saved. Processed 40/213 files\n",
      "\n",
      "Processing file 41/213\n",
      "Starting to process: preprocessed_76001006\n",
      "Loaded file: preprocessed_76001006, Sample rate: 48000, Shape: (118125,), Size: 0.23 MB\n",
      "Processing preprocessed_76001006 using GPU\n"
     ]
    },
    {
     "name": "stderr",
     "output_type": "stream",
     "text": [
      "Processing files:  19%|█▉        | 41/213 [01:02<04:57,  1.73s/it]"
     ]
    },
    {
     "name": "stdout",
     "output_type": "stream",
     "text": [
      "Successfully processed preprocessed_76001006\n",
      "File processed successfully in 1.49 seconds\n",
      "\n",
      "Processing file 42/213\n",
      "Starting to process: preprocessed_76001005\n",
      "Loaded file: preprocessed_76001005, Sample rate: 48000, Shape: (20869,), Size: 0.04 MB\n",
      "Processing preprocessed_76001005 using GPU\n"
     ]
    },
    {
     "name": "stderr",
     "output_type": "stream",
     "text": [
      "Processing files:  20%|█▉        | 42/213 [01:03<04:02,  1.42s/it]"
     ]
    },
    {
     "name": "stdout",
     "output_type": "stream",
     "text": [
      "Successfully processed preprocessed_76001005\n",
      "File processed successfully in 0.68 seconds\n",
      "\n",
      "Processing file 43/213\n",
      "Starting to process: preprocessed_8800600J\n",
      "Loaded file: preprocessed_8800600J, Sample rate: 48000, Shape: (200679,), Size: 0.38 MB\n",
      "Processing preprocessed_8800600J using GPU\n"
     ]
    },
    {
     "name": "stderr",
     "output_type": "stream",
     "text": [
      "Processing files:  20%|██        | 43/213 [01:05<04:39,  1.64s/it]"
     ]
    },
    {
     "name": "stdout",
     "output_type": "stream",
     "text": [
      "Successfully processed preprocessed_8800600J\n",
      "File processed successfully in 2.17 seconds\n",
      "\n",
      "Processing file 44/213\n",
      "Starting to process: preprocessed_8800503J\n",
      "Loaded file: preprocessed_8800503J, Sample rate: 48000, Shape: (226100,), Size: 0.43 MB\n",
      "Processing preprocessed_8800503J using GPU\n"
     ]
    },
    {
     "name": "stderr",
     "output_type": "stream",
     "text": [
      "Processing files:  21%|██        | 44/213 [01:07<05:13,  1.85s/it]"
     ]
    },
    {
     "name": "stdout",
     "output_type": "stream",
     "text": [
      "Successfully processed preprocessed_8800503J\n",
      "File processed successfully in 2.34 seconds\n",
      "\n",
      "Processing file 45/213\n",
      "Starting to process: preprocessed_8800500E\n",
      "Loaded file: preprocessed_8800500E, Sample rate: 48000, Shape: (211916,), Size: 0.40 MB\n",
      "Processing preprocessed_8800500E using GPU\n"
     ]
    },
    {
     "name": "stderr",
     "output_type": "stream",
     "text": [
      "Processing files:  21%|██        | 45/213 [01:10<05:30,  1.97s/it]"
     ]
    },
    {
     "name": "stdout",
     "output_type": "stream",
     "text": [
      "Successfully processed preprocessed_8800500E\n",
      "File processed successfully in 2.24 seconds\n",
      "Progress saved. Processed 45/213 files\n",
      "\n",
      "Processing file 46/213\n",
      "Starting to process: preprocessed_8800503O\n",
      "Loaded file: preprocessed_8800503O, Sample rate: 48000, Shape: (96730,), Size: 0.18 MB\n",
      "Processing preprocessed_8800503O using GPU\n"
     ]
    },
    {
     "name": "stderr",
     "output_type": "stream",
     "text": [
      "Processing files:  22%|██▏       | 46/213 [01:11<05:01,  1.80s/it]"
     ]
    },
    {
     "name": "stdout",
     "output_type": "stream",
     "text": [
      "Successfully processed preprocessed_8800503O\n",
      "File processed successfully in 1.42 seconds\n",
      "\n",
      "Processing file 47/213\n",
      "Starting to process: preprocessed_8800501J\n",
      "Loaded file: preprocessed_8800501J, Sample rate: 48000, Shape: (234711,), Size: 0.45 MB\n",
      "Processing preprocessed_8800501J using GPU\n"
     ]
    },
    {
     "name": "stderr",
     "output_type": "stream",
     "text": [
      "Processing files:  22%|██▏       | 47/213 [01:13<05:29,  1.99s/it]"
     ]
    },
    {
     "name": "stdout",
     "output_type": "stream",
     "text": [
      "Successfully processed preprocessed_8800501J\n",
      "File processed successfully in 2.41 seconds\n",
      "\n",
      "Processing file 48/213\n",
      "Starting to process: preprocessed_88005020\n",
      "Loaded file: preprocessed_88005020, Sample rate: 48000, Shape: (112829,), Size: 0.22 MB\n",
      "Processing preprocessed_88005020 using GPU\n"
     ]
    },
    {
     "name": "stderr",
     "output_type": "stream",
     "text": [
      "Processing files:  23%|██▎       | 48/213 [01:15<05:03,  1.84s/it]"
     ]
    },
    {
     "name": "stdout",
     "output_type": "stream",
     "text": [
      "Successfully processed preprocessed_88005020\n",
      "File processed successfully in 1.49 seconds\n",
      "\n",
      "Processing file 49/213\n",
      "Starting to process: preprocessed_7500305L\n",
      "Loaded file: preprocessed_7500305L, Sample rate: 48000, Shape: (67173,), Size: 0.13 MB\n",
      "Processing preprocessed_7500305L using GPU\n"
     ]
    },
    {
     "name": "stderr",
     "output_type": "stream",
     "text": [
      "Processing files:  23%|██▎       | 49/213 [01:16<04:30,  1.65s/it]"
     ]
    },
    {
     "name": "stdout",
     "output_type": "stream",
     "text": [
      "Successfully processed preprocessed_7500305L\n",
      "File processed successfully in 1.20 seconds\n",
      "\n",
      "Processing file 50/213\n",
      "Starting to process: preprocessed_58014021\n",
      "Loaded file: preprocessed_58014021, Sample rate: 48000, Shape: (56192,), Size: 0.11 MB\n",
      "Processing preprocessed_58014021 using GPU\n"
     ]
    },
    {
     "name": "stderr",
     "output_type": "stream",
     "text": [
      "Processing files:  23%|██▎       | 50/213 [01:17<04:00,  1.47s/it]"
     ]
    },
    {
     "name": "stdout",
     "output_type": "stream",
     "text": [
      "Successfully processed preprocessed_58014021\n",
      "File processed successfully in 1.06 seconds\n",
      "Progress saved. Processed 50/213 files\n",
      "\n",
      "Processing file 51/213\n",
      "Starting to process: preprocessed_57027023\n",
      "Loaded file: preprocessed_57027023, Sample rate: 48000, Shape: (32545,), Size: 0.06 MB\n",
      "Processing preprocessed_57027023 using GPU\n"
     ]
    },
    {
     "name": "stderr",
     "output_type": "stream",
     "text": [
      "Processing files:  24%|██▍       | 51/213 [01:18<03:30,  1.30s/it]"
     ]
    },
    {
     "name": "stdout",
     "output_type": "stream",
     "text": [
      "Successfully processed preprocessed_57027023\n",
      "File processed successfully in 0.89 seconds\n",
      "\n",
      "Processing file 52/213\n",
      "Starting to process: preprocessed_75003038\n",
      "Loaded file: preprocessed_75003038, Sample rate: 48000, Shape: (14965,), Size: 0.03 MB\n",
      "Processing preprocessed_75003038 using GPU\n"
     ]
    },
    {
     "name": "stderr",
     "output_type": "stream",
     "text": [
      "Processing files:  24%|██▍       | 52/213 [01:19<02:59,  1.12s/it]"
     ]
    },
    {
     "name": "stdout",
     "output_type": "stream",
     "text": [
      "Successfully processed preprocessed_75003038\n",
      "File processed successfully in 0.69 seconds\n",
      "\n",
      "Processing file 53/213\n",
      "Starting to process: preprocessed_6103000A\n",
      "Loaded file: preprocessed_6103000A, Sample rate: 48000, Shape: (68063,), Size: 0.13 MB\n",
      "Processing preprocessed_6103000A using GPU\n"
     ]
    },
    {
     "name": "stderr",
     "output_type": "stream",
     "text": [
      "Processing files:  25%|██▍       | 53/213 [01:20<03:02,  1.14s/it]"
     ]
    },
    {
     "name": "stdout",
     "output_type": "stream",
     "text": [
      "Successfully processed preprocessed_6103000A\n",
      "File processed successfully in 1.20 seconds\n",
      "\n",
      "Processing file 54/213\n",
      "Starting to process: preprocessed_57026069\n",
      "Loaded file: preprocessed_57026069, Sample rate: 48000, Shape: (142544,), Size: 0.27 MB\n",
      "Processing preprocessed_57026069 using GPU\n"
     ]
    },
    {
     "name": "stderr",
     "output_type": "stream",
     "text": [
      "Processing files:  25%|██▌       | 54/213 [01:22<03:33,  1.34s/it]"
     ]
    },
    {
     "name": "stdout",
     "output_type": "stream",
     "text": [
      "Successfully processed preprocessed_57026069\n",
      "File processed successfully in 1.82 seconds\n",
      "\n",
      "Processing file 55/213\n",
      "Starting to process: preprocessed_6302100E\n",
      "Loaded file: preprocessed_6302100E, Sample rate: 48000, Shape: (52763,), Size: 0.10 MB\n",
      "Processing preprocessed_6302100E using GPU\n"
     ]
    },
    {
     "name": "stderr",
     "output_type": "stream",
     "text": [
      "Processing files:  26%|██▌       | 55/213 [01:23<03:21,  1.27s/it]"
     ]
    },
    {
     "name": "stdout",
     "output_type": "stream",
     "text": [
      "Successfully processed preprocessed_6302100E\n",
      "File processed successfully in 1.10 seconds\n",
      "Progress saved. Processed 55/213 files\n",
      "\n",
      "Processing file 56/213\n",
      "Starting to process: preprocessed_99001008\n",
      "Loaded file: preprocessed_99001008, Sample rate: 48000, Shape: (451765,), Size: 0.86 MB\n",
      "Processing preprocessed_99001008 using GPU\n"
     ]
    },
    {
     "name": "stderr",
     "output_type": "stream",
     "text": [
      "Processing files:  26%|██▋       | 56/213 [01:27<05:39,  2.16s/it]"
     ]
    },
    {
     "name": "stdout",
     "output_type": "stream",
     "text": [
      "Successfully processed preprocessed_99001008\n",
      "File processed successfully in 4.23 seconds\n",
      "\n",
      "Processing file 57/213\n",
      "Starting to process: preprocessed_6702600L\n",
      "Loaded file: preprocessed_6702600L, Sample rate: 48000, Shape: (113175,), Size: 0.22 MB\n",
      "Processing preprocessed_6702600L using GPU\n"
     ]
    },
    {
     "name": "stderr",
     "output_type": "stream",
     "text": [
      "Processing files:  27%|██▋       | 57/213 [01:29<05:16,  2.03s/it]"
     ]
    },
    {
     "name": "stdout",
     "output_type": "stream",
     "text": [
      "Successfully processed preprocessed_6702600L\n",
      "File processed successfully in 1.71 seconds\n",
      "\n",
      "Processing file 58/213\n",
      "Starting to process: preprocessed_9900200A\n",
      "Loaded file: preprocessed_9900200A, Sample rate: 48000, Shape: (352377,), Size: 0.67 MB\n",
      "Processing preprocessed_9900200A using GPU\n"
     ]
    },
    {
     "name": "stderr",
     "output_type": "stream",
     "text": [
      "Processing files:  27%|██▋       | 58/213 [01:32<06:20,  2.46s/it]"
     ]
    },
    {
     "name": "stdout",
     "output_type": "stream",
     "text": [
      "Successfully processed preprocessed_9900200A\n",
      "File processed successfully in 3.46 seconds\n",
      "\n",
      "Processing file 59/213\n",
      "Starting to process: preprocessed_9900200B\n",
      "Loaded file: preprocessed_9900200B, Sample rate: 48000, Shape: (171671,), Size: 0.33 MB\n",
      "Processing preprocessed_9900200B using GPU\n"
     ]
    },
    {
     "name": "stderr",
     "output_type": "stream",
     "text": [
      "Processing files:  28%|██▊       | 59/213 [01:34<05:55,  2.31s/it]"
     ]
    },
    {
     "name": "stdout",
     "output_type": "stream",
     "text": [
      "Successfully processed preprocessed_9900200B\n",
      "File processed successfully in 1.96 seconds\n",
      "\n",
      "Processing file 60/213\n",
      "Starting to process: preprocessed_99002009\n",
      "Loaded file: preprocessed_99002009, Sample rate: 48000, Shape: (144565,), Size: 0.28 MB\n",
      "Processing preprocessed_99002009 using GPU\n"
     ]
    },
    {
     "name": "stderr",
     "output_type": "stream",
     "text": [
      "Processing files:  28%|██▊       | 60/213 [01:36<05:28,  2.14s/it]"
     ]
    },
    {
     "name": "stdout",
     "output_type": "stream",
     "text": [
      "Successfully processed preprocessed_99002009\n",
      "File processed successfully in 1.76 seconds\n",
      "Progress saved. Processed 60/213 files\n",
      "\n",
      "Processing file 61/213\n",
      "Starting to process: preprocessed_99001002\n",
      "Loaded file: preprocessed_99001002, Sample rate: 48000, Shape: (184320,), Size: 0.35 MB\n",
      "Processing preprocessed_99001002 using GPU\n"
     ]
    },
    {
     "name": "stderr",
     "output_type": "stream",
     "text": [
      "Processing files:  29%|██▊       | 61/213 [01:38<05:24,  2.13s/it]"
     ]
    },
    {
     "name": "stdout",
     "output_type": "stream",
     "text": [
      "Successfully processed preprocessed_99001002\n",
      "File processed successfully in 2.10 seconds\n",
      "\n",
      "Processing file 62/213\n",
      "Starting to process: preprocessed_67026001\n",
      "Loaded file: preprocessed_67026001, Sample rate: 48000, Shape: (136125,), Size: 0.26 MB\n",
      "Processing preprocessed_67026001 using GPU\n"
     ]
    },
    {
     "name": "stderr",
     "output_type": "stream",
     "text": [
      "Processing files:  29%|██▉       | 62/213 [01:40<05:00,  1.99s/it]"
     ]
    },
    {
     "name": "stdout",
     "output_type": "stream",
     "text": [
      "Successfully processed preprocessed_67026001\n",
      "File processed successfully in 1.66 seconds\n",
      "\n",
      "Processing file 63/213\n",
      "Starting to process: preprocessed_56006007\n",
      "Loaded file: preprocessed_56006007, Sample rate: 48000, Shape: (53539,), Size: 0.10 MB\n",
      "Processing preprocessed_56006007 using GPU\n"
     ]
    },
    {
     "name": "stderr",
     "output_type": "stream",
     "text": [
      "Processing files:  30%|██▉       | 63/213 [01:41<04:14,  1.70s/it]"
     ]
    },
    {
     "name": "stdout",
     "output_type": "stream",
     "text": [
      "Successfully processed preprocessed_56006007\n",
      "File processed successfully in 1.02 seconds\n",
      "\n",
      "Processing file 64/213\n",
      "Starting to process: preprocessed_9400801F\n",
      "Loaded file: preprocessed_9400801F, Sample rate: 48000, Shape: (20961,), Size: 0.04 MB\n",
      "Processing preprocessed_9400801F using GPU\n"
     ]
    },
    {
     "name": "stderr",
     "output_type": "stream",
     "text": [
      "Processing files:  30%|███       | 64/213 [01:42<03:30,  1.41s/it]"
     ]
    },
    {
     "name": "stdout",
     "output_type": "stream",
     "text": [
      "Successfully processed preprocessed_9400801F\n",
      "File processed successfully in 0.74 seconds\n",
      "\n",
      "Processing file 65/213\n",
      "Starting to process: preprocessed_94008062\n",
      "Loaded file: preprocessed_94008062, Sample rate: 48000, Shape: (67141,), Size: 0.13 MB\n",
      "Processing preprocessed_94008062 using GPU\n"
     ]
    },
    {
     "name": "stderr",
     "output_type": "stream",
     "text": [
      "Processing files:  31%|███       | 65/213 [01:43<03:17,  1.33s/it]"
     ]
    },
    {
     "name": "stdout",
     "output_type": "stream",
     "text": [
      "Successfully processed preprocessed_94008062\n",
      "File processed successfully in 1.14 seconds\n",
      "Progress saved. Processed 65/213 files\n",
      "\n",
      "Processing file 66/213\n",
      "Starting to process: preprocessed_6400504G\n",
      "Loaded file: preprocessed_6400504G, Sample rate: 48000, Shape: (7661689,), Size: 14.61 MB\n",
      "Processing preprocessed_6400504G using GPU\n",
      "STFT extraction timed out or failed for preprocessed_6400504G: Processing timed out after 15 seconds\n"
     ]
    },
    {
     "name": "stderr",
     "output_type": "stream",
     "text": [
      "Processing files:  31%|███       | 66/213 [02:13<24:23,  9.95s/it]"
     ]
    },
    {
     "name": "stdout",
     "output_type": "stream",
     "text": [
      "MFCC extraction timed out or failed for preprocessed_6400504G: Processing timed out after 15 seconds\n",
      "Feature extraction failed for preprocessed_6400504G\n",
      "File processing failed after 30.06 seconds\n",
      "\n",
      "Processing file 67/213\n",
      "Starting to process: preprocessed_9400807L\n",
      "Loaded file: preprocessed_9400807L, Sample rate: 48000, Shape: (71356,), Size: 0.14 MB\n",
      "Processing preprocessed_9400807L using GPU\n",
      "STFT extraction timed out or failed for preprocessed_9400807L: Processing timed out after 15 seconds\n"
     ]
    },
    {
     "name": "stderr",
     "output_type": "stream",
     "text": [
      "Processing files:  31%|███▏      | 67/213 [02:43<39:00, 16.03s/it]"
     ]
    },
    {
     "name": "stdout",
     "output_type": "stream",
     "text": [
      "MFCC extraction timed out or failed for preprocessed_9400807L: Processing timed out after 15 seconds\n",
      "Feature extraction failed for preprocessed_9400807L\n",
      "File processing failed after 30.07 seconds\n",
      "\n",
      "Processing file 68/213\n",
      "Starting to process: preprocessed_9400800Z\n",
      "Loaded file: preprocessed_9400800Z, Sample rate: 48000, Shape: (34942,), Size: 0.07 MB\n",
      "Processing preprocessed_9400800Z using GPU\n",
      "STFT extraction timed out or failed for preprocessed_9400800Z: Processing timed out after 15 seconds\n"
     ]
    },
    {
     "name": "stderr",
     "output_type": "stream",
     "text": [
      "Processing files:  32%|███▏      | 68/213 [03:13<48:53, 20.23s/it]"
     ]
    },
    {
     "name": "stdout",
     "output_type": "stream",
     "text": [
      "MFCC extraction timed out or failed for preprocessed_9400800Z: Processing timed out after 15 seconds\n",
      "Feature extraction failed for preprocessed_9400800Z\n",
      "File processing failed after 30.03 seconds\n",
      "\n",
      "Processing file 69/213\n",
      "Starting to process: preprocessed_7001200D\n",
      "Loaded file: preprocessed_7001200D, Sample rate: 48000, Shape: (28517,), Size: 0.05 MB\n",
      "Processing preprocessed_7001200D using GPU\n",
      "STFT extraction timed out or failed for preprocessed_7001200D: Processing timed out after 15 seconds\n"
     ]
    },
    {
     "name": "stderr",
     "output_type": "stream",
     "text": [
      "Processing files:  32%|███▏      | 69/213 [03:43<55:40, 23.20s/it]"
     ]
    },
    {
     "name": "stdout",
     "output_type": "stream",
     "text": [
      "MFCC extraction timed out or failed for preprocessed_7001200D: Processing timed out after 15 seconds\n",
      "Feature extraction failed for preprocessed_7001200D\n",
      "File processing failed after 30.09 seconds\n",
      "\n",
      "Processing file 70/213\n",
      "Starting to process: preprocessed_70012001\n",
      "Loaded file: preprocessed_70012001, Sample rate: 48000, Shape: (62761,), Size: 0.12 MB\n",
      "Processing preprocessed_70012001 using GPU\n",
      "STFT extraction timed out or failed for preprocessed_70012001: Processing timed out after 15 seconds\n"
     ]
    },
    {
     "name": "stderr",
     "output_type": "stream",
     "text": [
      "Processing files:  33%|███▎      | 70/213 [04:13<1:00:20, 25.32s/it]"
     ]
    },
    {
     "name": "stdout",
     "output_type": "stream",
     "text": [
      "MFCC extraction timed out or failed for preprocessed_70012001: Processing timed out after 15 seconds\n",
      "Feature extraction failed for preprocessed_70012001\n",
      "File processing failed after 30.02 seconds\n",
      "Progress saved. Processed 70/213 files\n",
      "\n",
      "Processing file 71/213\n",
      "Starting to process: preprocessed_6200800S\n",
      "Loaded file: preprocessed_6200800S, Sample rate: 48000, Shape: (53569,), Size: 0.10 MB\n",
      "Processing preprocessed_6200800S using GPU\n",
      "STFT extraction timed out or failed for preprocessed_6200800S: Processing timed out after 15 seconds\n"
     ]
    },
    {
     "name": "stderr",
     "output_type": "stream",
     "text": [
      "Processing files:  33%|███▎      | 71/213 [04:43<1:03:17, 26.74s/it]"
     ]
    },
    {
     "name": "stdout",
     "output_type": "stream",
     "text": [
      "MFCC extraction timed out or failed for preprocessed_6200800S: Processing timed out after 15 seconds\n",
      "Feature extraction failed for preprocessed_6200800S\n",
      "File processing failed after 30.05 seconds\n",
      "\n",
      "Processing file 72/213\n",
      "Starting to process: preprocessed_70014015\n",
      "Loaded file: preprocessed_70014015, Sample rate: 48000, Shape: (41984,), Size: 0.08 MB\n",
      "Processing preprocessed_70014015 using GPU\n",
      "STFT extraction timed out or failed for preprocessed_70014015: Processing timed out after 15 seconds\n"
     ]
    },
    {
     "name": "stderr",
     "output_type": "stream",
     "text": [
      "Processing files:  34%|███▍      | 72/213 [05:14<1:05:16, 27.78s/it]"
     ]
    },
    {
     "name": "stdout",
     "output_type": "stream",
     "text": [
      "MFCC extraction timed out or failed for preprocessed_70014015: Processing timed out after 15 seconds\n",
      "Feature extraction failed for preprocessed_70014015\n",
      "File processing failed after 30.10 seconds\n",
      "\n",
      "Processing file 73/213\n",
      "Starting to process: preprocessed_6200800Q\n",
      "Loaded file: preprocessed_6200800Q, Sample rate: 48000, Shape: (63692,), Size: 0.12 MB\n",
      "Processing preprocessed_6200800Q using GPU\n",
      "STFT extraction timed out or failed for preprocessed_6200800Q: Processing timed out after 15 seconds\n"
     ]
    },
    {
     "name": "stderr",
     "output_type": "stream",
     "text": [
      "Processing files:  34%|███▍      | 73/213 [05:44<1:06:28, 28.49s/it]"
     ]
    },
    {
     "name": "stdout",
     "output_type": "stream",
     "text": [
      "MFCC extraction timed out or failed for preprocessed_6200800Q: Processing timed out after 15 seconds\n",
      "Feature extraction failed for preprocessed_6200800Q\n",
      "File processing failed after 30.06 seconds\n",
      "\n",
      "Processing file 74/213\n",
      "Starting to process: preprocessed_6200800K\n",
      "Loaded file: preprocessed_6200800K, Sample rate: 48000, Shape: (60318,), Size: 0.12 MB\n",
      "Processing preprocessed_6200800K using GPU\n",
      "STFT extraction timed out or failed for preprocessed_6200800K: Processing timed out after 15 seconds\n"
     ]
    },
    {
     "name": "stderr",
     "output_type": "stream",
     "text": [
      "Processing files:  35%|███▍      | 74/213 [06:14<1:07:04, 28.95s/it]"
     ]
    },
    {
     "name": "stdout",
     "output_type": "stream",
     "text": [
      "MFCC extraction timed out or failed for preprocessed_6200800K: Processing timed out after 15 seconds\n",
      "Feature extraction failed for preprocessed_6200800K\n",
      "File processing failed after 30.03 seconds\n",
      "\n",
      "Processing file 75/213\n",
      "Starting to process: preprocessed_7001300A\n",
      "Loaded file: preprocessed_7001300A, Sample rate: 48000, Shape: (209394,), Size: 0.40 MB\n",
      "Processing preprocessed_7001300A using GPU\n",
      "STFT extraction timed out or failed for preprocessed_7001300A: Processing timed out after 15 seconds\n",
      "MFCC extraction timed out or failed for preprocessed_7001300A: Processing timed out after 15 seconds\n",
      "Feature extraction failed for preprocessed_7001300A\n",
      "File processing failed after 44.40 seconds\n",
      "Progress saved. Processed 75/213 files\n"
     ]
    },
    {
     "name": "stderr",
     "output_type": "stream",
     "text": [
      "Processing files:  35%|███▌      | 75/213 [06:59<1:17:26, 33.67s/it]"
     ]
    },
    {
     "name": "stdout",
     "output_type": "stream",
     "text": [
      "\n",
      "Processing file 76/213\n",
      "Starting to process: preprocessed_77008001\n",
      "Loaded file: preprocessed_77008001, Sample rate: 48000, Shape: (59175,), Size: 0.11 MB\n",
      "Processing preprocessed_77008001 using GPU\n",
      "STFT extraction timed out or failed for preprocessed_77008001: Processing timed out after 15 seconds\n"
     ]
    },
    {
     "name": "stderr",
     "output_type": "stream",
     "text": [
      "Processing files:  36%|███▌      | 76/213 [07:58<1:34:14, 41.28s/it]"
     ]
    },
    {
     "name": "stdout",
     "output_type": "stream",
     "text": [
      "MFCC extraction timed out or failed for preprocessed_77008001: Processing timed out after 15 seconds\n",
      "Feature extraction failed for preprocessed_77008001\n",
      "File processing failed after 58.97 seconds\n",
      "\n",
      "Processing file 77/213\n",
      "Starting to process: preprocessed_9320100S\n",
      "Loaded file: preprocessed_9320100S, Sample rate: 48000, Shape: (272250,), Size: 0.52 MB\n",
      "Processing preprocessed_9320100S using GPU\n",
      "STFT extraction timed out or failed for preprocessed_9320100S: Processing timed out after 15 seconds\n"
     ]
    },
    {
     "name": "stderr",
     "output_type": "stream",
     "text": [
      "Processing files:  36%|███▌      | 77/213 [08:28<1:25:57, 37.92s/it]"
     ]
    },
    {
     "name": "stdout",
     "output_type": "stream",
     "text": [
      "MFCC extraction timed out or failed for preprocessed_9320100S: Processing timed out after 15 seconds\n",
      "Feature extraction failed for preprocessed_9320100S\n",
      "File processing failed after 30.07 seconds\n",
      "\n",
      "Processing file 78/213\n",
      "Starting to process: preprocessed_61056002\n",
      "Loaded file: preprocessed_61056002, Sample rate: 48000, Shape: (923280,), Size: 1.76 MB\n",
      "Processing preprocessed_61056002 using GPU\n",
      "STFT extraction timed out or failed for preprocessed_61056002: Processing timed out after 15 seconds\n"
     ]
    },
    {
     "name": "stderr",
     "output_type": "stream",
     "text": [
      "Processing files:  37%|███▋      | 78/213 [08:58<1:20:06, 35.60s/it]"
     ]
    },
    {
     "name": "stdout",
     "output_type": "stream",
     "text": [
      "MFCC extraction timed out or failed for preprocessed_61056002: Processing timed out after 15 seconds\n",
      "Feature extraction failed for preprocessed_61056002\n",
      "File processing failed after 30.08 seconds\n",
      "\n",
      "Processing file 79/213\n",
      "Starting to process: preprocessed_7700901B\n",
      "Loaded file: preprocessed_7700901B, Sample rate: 48000, Shape: (68025,), Size: 0.13 MB\n",
      "Processing preprocessed_7700901B using GPU\n",
      "STFT extraction timed out or failed for preprocessed_7700901B: Processing timed out after 15 seconds\n"
     ]
    },
    {
     "name": "stderr",
     "output_type": "stream",
     "text": [
      "Processing files:  37%|███▋      | 79/213 [09:28<1:15:48, 33.94s/it]"
     ]
    },
    {
     "name": "stdout",
     "output_type": "stream",
     "text": [
      "MFCC extraction timed out or failed for preprocessed_7700901B: Processing timed out after 15 seconds\n",
      "Feature extraction failed for preprocessed_7700901B\n",
      "File processing failed after 30.03 seconds\n",
      "\n",
      "Processing file 80/213\n",
      "Starting to process: preprocessed_61053004\n",
      "Loaded file: preprocessed_61053004, Sample rate: 48000, Shape: (166880,), Size: 0.32 MB\n",
      "Processing preprocessed_61053004 using GPU\n",
      "STFT extraction timed out or failed for preprocessed_61053004: Processing timed out after 15 seconds\n"
     ]
    },
    {
     "name": "stderr",
     "output_type": "stream",
     "text": [
      "Processing files:  38%|███▊      | 80/213 [09:58<1:12:46, 32.83s/it]"
     ]
    },
    {
     "name": "stdout",
     "output_type": "stream",
     "text": [
      "MFCC extraction timed out or failed for preprocessed_61053004: Processing timed out after 15 seconds\n",
      "Feature extraction failed for preprocessed_61053004\n",
      "File processing failed after 30.03 seconds\n",
      "Progress saved. Processed 80/213 files\n",
      "\n",
      "Processing file 81/213\n",
      "Starting to process: preprocessed_77006009\n",
      "Loaded file: preprocessed_77006009, Sample rate: 48000, Shape: (40800,), Size: 0.08 MB\n",
      "Processing preprocessed_77006009 using GPU\n",
      "STFT extraction timed out or failed for preprocessed_77006009: Processing timed out after 15 seconds\n"
     ]
    },
    {
     "name": "stderr",
     "output_type": "stream",
     "text": [
      "Processing files:  38%|███▊      | 81/213 [10:28<1:10:25, 32.01s/it]"
     ]
    },
    {
     "name": "stdout",
     "output_type": "stream",
     "text": [
      "MFCC extraction timed out or failed for preprocessed_77006009: Processing timed out after 15 seconds\n",
      "Feature extraction failed for preprocessed_77006009\n",
      "File processing failed after 30.05 seconds\n",
      "\n",
      "Processing file 82/213\n",
      "Starting to process: preprocessed_79004035\n",
      "Loaded file: preprocessed_79004035, Sample rate: 48000, Shape: (124797,), Size: 0.24 MB\n",
      "Processing preprocessed_79004035 using GPU\n",
      "STFT extraction timed out or failed for preprocessed_79004035: Processing timed out after 15 seconds\n"
     ]
    },
    {
     "name": "stderr",
     "output_type": "stream",
     "text": [
      "Processing files:  38%|███▊      | 82/213 [11:37<1:33:41, 42.91s/it]"
     ]
    },
    {
     "name": "stdout",
     "output_type": "stream",
     "text": [
      "Successfully processed preprocessed_79004035\n",
      "File processed successfully in 68.12 seconds\n",
      "\n",
      "Processing file 83/213\n",
      "Starting to process: preprocessed_7900400L\n",
      "Loaded file: preprocessed_7900400L, Sample rate: 48000, Shape: (129857,), Size: 0.25 MB\n",
      "Processing preprocessed_7900400L using GPU\n"
     ]
    },
    {
     "name": "stderr",
     "output_type": "stream",
     "text": [
      "Processing files:  39%|███▉      | 83/213 [11:43<1:09:12, 31.94s/it]"
     ]
    },
    {
     "name": "stdout",
     "output_type": "stream",
     "text": [
      "Successfully processed preprocessed_7900400L\n",
      "File processed successfully in 6.34 seconds\n",
      "\n",
      "Processing file 84/213\n",
      "Starting to process: preprocessed_61072006\n",
      "Loaded file: preprocessed_61072006, Sample rate: 48000, Shape: (150671,), Size: 0.29 MB\n",
      "Processing preprocessed_61072006 using GPU\n"
     ]
    },
    {
     "name": "stderr",
     "output_type": "stream",
     "text": [
      "Processing files:  39%|███▉      | 84/213 [11:45<49:23, 22.97s/it]  "
     ]
    },
    {
     "name": "stdout",
     "output_type": "stream",
     "text": [
      "Successfully processed preprocessed_61072006\n",
      "File processed successfully in 2.03 seconds\n",
      "\n",
      "Processing file 85/213\n",
      "Starting to process: preprocessed_79006012\n",
      "Loaded file: preprocessed_79006012, Sample rate: 48000, Shape: (76050,), Size: 0.15 MB\n",
      "Processing preprocessed_79006012 using GPU\n"
     ]
    },
    {
     "name": "stderr",
     "output_type": "stream",
     "text": [
      "Processing files:  40%|███▉      | 85/213 [11:46<35:05, 16.45s/it]"
     ]
    },
    {
     "name": "stdout",
     "output_type": "stream",
     "text": [
      "Successfully processed preprocessed_79006012\n",
      "File processed successfully in 1.21 seconds\n",
      "Progress saved. Processed 85/213 files\n",
      "\n",
      "Processing file 86/213\n",
      "Starting to process: preprocessed_7900600R\n",
      "Loaded file: preprocessed_7900600R, Sample rate: 48000, Shape: (136125,), Size: 0.26 MB\n",
      "Processing preprocessed_7900600R using GPU\n"
     ]
    },
    {
     "name": "stderr",
     "output_type": "stream",
     "text": [
      "Processing files:  40%|████      | 86/213 [11:48<25:24, 12.00s/it]"
     ]
    },
    {
     "name": "stdout",
     "output_type": "stream",
     "text": [
      "Successfully processed preprocessed_7900600R\n",
      "File processed successfully in 1.64 seconds\n",
      "\n",
      "Processing file 87/213\n",
      "Starting to process: preprocessed_6800200B\n",
      "Loaded file: preprocessed_6800200B, Sample rate: 48000, Shape: (68063,), Size: 0.13 MB\n",
      "Processing preprocessed_6800200B using GPU\n"
     ]
    },
    {
     "name": "stderr",
     "output_type": "stream",
     "text": [
      "Processing files:  41%|████      | 87/213 [11:49<18:22,  8.75s/it]"
     ]
    },
    {
     "name": "stdout",
     "output_type": "stream",
     "text": [
      "Successfully processed preprocessed_6800200B\n",
      "File processed successfully in 1.15 seconds\n",
      "\n",
      "Processing file 88/213\n",
      "Starting to process: preprocessed_6800200C\n",
      "Loaded file: preprocessed_6800200C, Sample rate: 48000, Shape: (68063,), Size: 0.13 MB\n",
      "Processing preprocessed_6800200C using GPU\n"
     ]
    },
    {
     "name": "stderr",
     "output_type": "stream",
     "text": [
      "Processing files:  41%|████▏     | 88/213 [11:50<13:27,  6.46s/it]"
     ]
    },
    {
     "name": "stdout",
     "output_type": "stream",
     "text": [
      "Successfully processed preprocessed_6800200C\n",
      "File processed successfully in 1.12 seconds\n",
      "\n",
      "Processing file 89/213\n",
      "Starting to process: preprocessed_6804000J\n",
      "Loaded file: preprocessed_6804000J, Sample rate: 48000, Shape: (54816,), Size: 0.10 MB\n",
      "Processing preprocessed_6804000J using GPU\n"
     ]
    },
    {
     "name": "stderr",
     "output_type": "stream",
     "text": [
      "Processing files:  42%|████▏     | 89/213 [11:51<10:02,  4.86s/it]"
     ]
    },
    {
     "name": "stdout",
     "output_type": "stream",
     "text": [
      "Successfully processed preprocessed_6804000J\n",
      "File processed successfully in 1.12 seconds\n",
      "\n",
      "Processing file 90/213\n",
      "Starting to process: preprocessed_7501400L\n",
      "Loaded file: preprocessed_7501400L, Sample rate: 48000, Shape: (68063,), Size: 0.13 MB\n",
      "Processing preprocessed_7501400L using GPU\n"
     ]
    },
    {
     "name": "stderr",
     "output_type": "stream",
     "text": [
      "Processing files:  42%|████▏     | 90/213 [11:52<07:41,  3.75s/it]"
     ]
    },
    {
     "name": "stdout",
     "output_type": "stream",
     "text": [
      "Successfully processed preprocessed_7501400L\n",
      "File processed successfully in 1.16 seconds\n",
      "Progress saved. Processed 90/213 files\n",
      "\n",
      "Processing file 91/213\n",
      "Starting to process: preprocessed_6800200F\n",
      "Loaded file: preprocessed_6800200F, Sample rate: 48000, Shape: (68063,), Size: 0.13 MB\n",
      "Processing preprocessed_6800200F using GPU\n"
     ]
    },
    {
     "name": "stderr",
     "output_type": "stream",
     "text": [
      "Processing files:  43%|████▎     | 91/213 [11:53<06:01,  2.96s/it]"
     ]
    },
    {
     "name": "stdout",
     "output_type": "stream",
     "text": [
      "Successfully processed preprocessed_6800200F\n",
      "File processed successfully in 1.12 seconds\n",
      "\n",
      "Processing file 92/213\n",
      "Starting to process: preprocessed_6804000S\n",
      "Loaded file: preprocessed_6804000S, Sample rate: 48000, Shape: (152612,), Size: 0.29 MB\n",
      "Processing preprocessed_6804000S using GPU\n"
     ]
    },
    {
     "name": "stderr",
     "output_type": "stream",
     "text": [
      "Processing files:  43%|████▎     | 92/213 [11:55<05:14,  2.60s/it]"
     ]
    },
    {
     "name": "stdout",
     "output_type": "stream",
     "text": [
      "Successfully processed preprocessed_6804000S\n",
      "File processed successfully in 1.76 seconds\n",
      "\n",
      "Processing file 93/213\n",
      "Starting to process: preprocessed_6800300B\n",
      "Loaded file: preprocessed_6800300B, Sample rate: 48000, Shape: (68063,), Size: 0.13 MB\n",
      "Processing preprocessed_6800300B using GPU\n"
     ]
    },
    {
     "name": "stderr",
     "output_type": "stream",
     "text": [
      "Processing files:  44%|████▎     | 93/213 [11:56<04:18,  2.15s/it]"
     ]
    },
    {
     "name": "stdout",
     "output_type": "stream",
     "text": [
      "Successfully processed preprocessed_6800300B\n",
      "File processed successfully in 1.10 seconds\n",
      "\n",
      "Processing file 94/213\n",
      "Starting to process: preprocessed_6412400R\n",
      "Loaded file: preprocessed_6412400R, Sample rate: 48000, Shape: (376587,), Size: 0.72 MB\n",
      "Processing preprocessed_6412400R using GPU\n"
     ]
    },
    {
     "name": "stderr",
     "output_type": "stream",
     "text": [
      "Processing files:  44%|████▍     | 94/213 [12:00<05:02,  2.55s/it]"
     ]
    },
    {
     "name": "stdout",
     "output_type": "stream",
     "text": [
      "Successfully processed preprocessed_6412400R\n",
      "File processed successfully in 3.46 seconds\n",
      "\n",
      "Processing file 95/213\n",
      "Starting to process: preprocessed_6412400Q\n",
      "Loaded file: preprocessed_6412400Q, Sample rate: 48000, Shape: (521517,), Size: 0.99 MB\n",
      "Processing preprocessed_6412400Q using GPU\n"
     ]
    },
    {
     "name": "stderr",
     "output_type": "stream",
     "text": [
      "Processing files:  45%|████▍     | 95/213 [12:04<06:12,  3.15s/it]"
     ]
    },
    {
     "name": "stdout",
     "output_type": "stream",
     "text": [
      "Successfully processed preprocessed_6412400Q\n",
      "File processed successfully in 4.57 seconds\n",
      "Progress saved. Processed 95/213 files\n",
      "\n",
      "Processing file 96/213\n",
      "Starting to process: preprocessed_64124006\n",
      "Loaded file: preprocessed_64124006, Sample rate: 48000, Shape: (232105,), Size: 0.44 MB\n",
      "Processing preprocessed_64124006 using GPU\n"
     ]
    },
    {
     "name": "stderr",
     "output_type": "stream",
     "text": [
      "Processing files:  45%|████▌     | 96/213 [12:07<05:42,  2.92s/it]"
     ]
    },
    {
     "name": "stdout",
     "output_type": "stream",
     "text": [
      "Successfully processed preprocessed_64124006\n",
      "File processed successfully in 2.38 seconds\n",
      "\n",
      "Processing file 97/213\n",
      "Starting to process: preprocessed_64124008\n",
      "Loaded file: preprocessed_64124008, Sample rate: 48000, Shape: (252642,), Size: 0.48 MB\n",
      "Processing preprocessed_64124008 using GPU\n"
     ]
    },
    {
     "name": "stderr",
     "output_type": "stream",
     "text": [
      "Processing files:  46%|████▌     | 97/213 [12:09<05:25,  2.81s/it]"
     ]
    },
    {
     "name": "stdout",
     "output_type": "stream",
     "text": [
      "Successfully processed preprocessed_64124008\n",
      "File processed successfully in 2.53 seconds\n",
      "\n",
      "Processing file 98/213\n",
      "Starting to process: preprocessed_6412400K\n",
      "Loaded file: preprocessed_6412400K, Sample rate: 48000, Shape: (462731,), Size: 0.88 MB\n",
      "Processing preprocessed_6412400K using GPU\n"
     ]
    },
    {
     "name": "stderr",
     "output_type": "stream",
     "text": [
      "Processing files:  46%|████▌     | 98/213 [12:13<06:05,  3.18s/it]"
     ]
    },
    {
     "name": "stdout",
     "output_type": "stream",
     "text": [
      "Successfully processed preprocessed_6412400K\n",
      "File processed successfully in 4.04 seconds\n",
      "\n",
      "Processing file 99/213\n",
      "Starting to process: preprocessed_6412400I\n",
      "Loaded file: preprocessed_6412400I, Sample rate: 48000, Shape: (753649,), Size: 1.44 MB\n",
      "Processing preprocessed_6412400I using GPU\n"
     ]
    },
    {
     "name": "stderr",
     "output_type": "stream",
     "text": [
      "Processing files:  46%|████▋     | 99/213 [12:20<08:07,  4.28s/it]"
     ]
    },
    {
     "name": "stdout",
     "output_type": "stream",
     "text": [
      "Successfully processed preprocessed_6412400I\n",
      "File processed successfully in 6.85 seconds\n",
      "\n",
      "Processing file 100/213\n",
      "Starting to process: preprocessed_8303502X\n",
      "Loaded file: preprocessed_8303502X, Sample rate: 48000, Shape: (121735,), Size: 0.23 MB\n",
      "Processing preprocessed_8303502X using GPU\n"
     ]
    },
    {
     "name": "stderr",
     "output_type": "stream",
     "text": [
      "Processing files:  47%|████▋     | 100/213 [12:22<06:32,  3.47s/it]"
     ]
    },
    {
     "name": "stdout",
     "output_type": "stream",
     "text": [
      "Successfully processed preprocessed_8303502X\n",
      "File processed successfully in 1.58 seconds\n",
      "Progress saved. Processed 100/213 files\n",
      "\n",
      "Processing file 101/213\n",
      "Starting to process: preprocessed_8303503J\n",
      "Loaded file: preprocessed_8303503J, Sample rate: 48000, Shape: (116967,), Size: 0.22 MB\n",
      "Processing preprocessed_8303503J using GPU\n"
     ]
    },
    {
     "name": "stderr",
     "output_type": "stream",
     "text": [
      "Processing files:  47%|████▋     | 101/213 [12:23<05:23,  2.89s/it]"
     ]
    },
    {
     "name": "stdout",
     "output_type": "stream",
     "text": [
      "Successfully processed preprocessed_8303503J\n",
      "File processed successfully in 1.53 seconds\n",
      "\n",
      "Processing file 102/213\n",
      "Starting to process: preprocessed_8303501A\n",
      "Loaded file: preprocessed_8303501A, Sample rate: 48000, Shape: (138365,), Size: 0.26 MB\n",
      "Processing preprocessed_8303501A using GPU\n"
     ]
    },
    {
     "name": "stderr",
     "output_type": "stream",
     "text": [
      "Processing files:  48%|████▊     | 102/213 [12:25<04:40,  2.52s/it]"
     ]
    },
    {
     "name": "stdout",
     "output_type": "stream",
     "text": [
      "Successfully processed preprocessed_8303501A\n",
      "File processed successfully in 1.67 seconds\n",
      "\n",
      "Processing file 103/213\n",
      "Starting to process: preprocessed_8300604P\n",
      "Loaded file: preprocessed_8300604P, Sample rate: 48000, Shape: (63551,), Size: 0.12 MB\n",
      "Processing preprocessed_8300604P using GPU\n"
     ]
    },
    {
     "name": "stderr",
     "output_type": "stream",
     "text": [
      "Processing files:  48%|████▊     | 103/213 [12:26<03:50,  2.09s/it]"
     ]
    },
    {
     "name": "stdout",
     "output_type": "stream",
     "text": [
      "Successfully processed preprocessed_8300604P\n",
      "File processed successfully in 1.09 seconds\n",
      "\n",
      "Processing file 104/213\n",
      "Starting to process: preprocessed_83006049\n",
      "Loaded file: preprocessed_83006049, Sample rate: 48000, Shape: (139009,), Size: 0.27 MB\n",
      "Processing preprocessed_83006049 using GPU\n"
     ]
    },
    {
     "name": "stderr",
     "output_type": "stream",
     "text": [
      "Processing files:  49%|████▉     | 104/213 [12:28<03:34,  1.97s/it]"
     ]
    },
    {
     "name": "stdout",
     "output_type": "stream",
     "text": [
      "Successfully processed preprocessed_83006049\n",
      "File processed successfully in 1.68 seconds\n",
      "\n",
      "Processing file 105/213\n",
      "Starting to process: preprocessed_6405500D\n",
      "Loaded file: preprocessed_6405500D, Sample rate: 48000, Shape: (31844,), Size: 0.06 MB\n",
      "Processing preprocessed_6405500D using GPU\n"
     ]
    },
    {
     "name": "stderr",
     "output_type": "stream",
     "text": [
      "Processing files:  49%|████▉     | 105/213 [12:29<02:56,  1.64s/it]"
     ]
    },
    {
     "name": "stdout",
     "output_type": "stream",
     "text": [
      "Successfully processed preprocessed_6405500D\n",
      "File processed successfully in 0.86 seconds\n",
      "Progress saved. Processed 105/213 files\n",
      "\n",
      "Processing file 106/213\n",
      "Starting to process: preprocessed_64054008\n",
      "Loaded file: preprocessed_64054008, Sample rate: 48000, Shape: (634235,), Size: 1.21 MB\n",
      "Processing preprocessed_64054008 using GPU\n"
     ]
    },
    {
     "name": "stderr",
     "output_type": "stream",
     "text": [
      "Processing files:  50%|████▉     | 106/213 [12:34<04:59,  2.80s/it]"
     ]
    },
    {
     "name": "stdout",
     "output_type": "stream",
     "text": [
      "Successfully processed preprocessed_64054008\n",
      "File processed successfully in 5.51 seconds\n",
      "\n",
      "Processing file 107/213\n",
      "Starting to process: preprocessed_6405400L\n",
      "Loaded file: preprocessed_6405400L, Sample rate: 48000, Shape: (989511,), Size: 1.89 MB\n",
      "Processing preprocessed_6405400L using GPU\n"
     ]
    },
    {
     "name": "stderr",
     "output_type": "stream",
     "text": [
      "Processing files:  50%|█████     | 107/213 [12:43<08:22,  4.74s/it]"
     ]
    },
    {
     "name": "stdout",
     "output_type": "stream",
     "text": [
      "Successfully processed preprocessed_6405400L\n",
      "File processed successfully in 9.26 seconds\n",
      "\n",
      "Processing file 108/213\n",
      "Starting to process: preprocessed_6403700D\n",
      "Loaded file: preprocessed_6403700D, Sample rate: 48000, Shape: (18879,), Size: 0.04 MB\n",
      "Processing preprocessed_6403700D using GPU\n"
     ]
    },
    {
     "name": "stderr",
     "output_type": "stream",
     "text": [
      "Processing files:  51%|█████     | 108/213 [12:44<06:12,  3.55s/it]"
     ]
    },
    {
     "name": "stdout",
     "output_type": "stream",
     "text": [
      "Successfully processed preprocessed_6403700D\n",
      "File processed successfully in 0.78 seconds\n",
      "\n",
      "Processing file 109/213\n",
      "Starting to process: preprocessed_64038009\n",
      "Loaded file: preprocessed_64038009, Sample rate: 48000, Shape: (1480324,), Size: 2.82 MB\n",
      "Processing preprocessed_64038009 using GPU\n"
     ]
    },
    {
     "name": "stderr",
     "output_type": "stream",
     "text": [
      "Processing files:  51%|█████     | 109/213 [12:58<11:43,  6.76s/it]"
     ]
    },
    {
     "name": "stdout",
     "output_type": "stream",
     "text": [
      "Successfully processed preprocessed_64038009\n",
      "File processed successfully in 14.26 seconds\n",
      "\n",
      "Processing file 110/213\n",
      "Starting to process: preprocessed_8300102K\n",
      "Loaded file: preprocessed_8300102K, Sample rate: 48000, Shape: (85709,), Size: 0.16 MB\n",
      "Processing preprocessed_8300102K using GPU\n"
     ]
    },
    {
     "name": "stderr",
     "output_type": "stream",
     "text": [
      "Processing files:  52%|█████▏    | 110/213 [13:00<08:48,  5.13s/it]"
     ]
    },
    {
     "name": "stdout",
     "output_type": "stream",
     "text": [
      "Successfully processed preprocessed_8300102K\n",
      "File processed successfully in 1.32 seconds\n",
      "Progress saved. Processed 110/213 files\n",
      "\n",
      "Processing file 111/213\n",
      "Starting to process: preprocessed_7200200E\n",
      "Loaded file: preprocessed_7200200E, Sample rate: 48000, Shape: (366308,), Size: 0.70 MB\n",
      "Processing preprocessed_7200200E using GPU\n"
     ]
    },
    {
     "name": "stderr",
     "output_type": "stream",
     "text": [
      "Processing files:  52%|█████▏    | 111/213 [13:03<07:46,  4.57s/it]"
     ]
    },
    {
     "name": "stdout",
     "output_type": "stream",
     "text": [
      "Successfully processed preprocessed_7200200E\n",
      "File processed successfully in 3.27 seconds\n",
      "\n",
      "Processing file 112/213\n",
      "Starting to process: preprocessed_72002002\n",
      "Loaded file: preprocessed_72002002, Sample rate: 48000, Shape: (306243,), Size: 0.58 MB\n",
      "Processing preprocessed_72002002 using GPU\n"
     ]
    },
    {
     "name": "stderr",
     "output_type": "stream",
     "text": [
      "Processing files:  53%|█████▎    | 112/213 [13:06<06:50,  4.07s/it]"
     ]
    },
    {
     "name": "stdout",
     "output_type": "stream",
     "text": [
      "Successfully processed preprocessed_72002002\n",
      "File processed successfully in 2.89 seconds\n",
      "\n",
      "Processing file 113/213\n",
      "Starting to process: preprocessed_83001037\n",
      "Loaded file: preprocessed_83001037, Sample rate: 48000, Shape: (54336,), Size: 0.10 MB\n",
      "Processing preprocessed_83001037 using GPU\n"
     ]
    },
    {
     "name": "stderr",
     "output_type": "stream",
     "text": [
      "Processing files:  53%|█████▎    | 113/213 [13:08<05:42,  3.42s/it]"
     ]
    },
    {
     "name": "stdout",
     "output_type": "stream",
     "text": [
      "Successfully processed preprocessed_83001037\n",
      "File processed successfully in 1.92 seconds\n",
      "\n",
      "Processing file 114/213\n",
      "Starting to process: preprocessed_72016005\n",
      "Loaded file: preprocessed_72016005, Sample rate: 48000, Shape: (307800,), Size: 0.59 MB\n",
      "Processing preprocessed_72016005 using GPU\n"
     ]
    },
    {
     "name": "stderr",
     "output_type": "stream",
     "text": [
      "Processing files:  54%|█████▎    | 114/213 [13:11<05:25,  3.29s/it]"
     ]
    },
    {
     "name": "stdout",
     "output_type": "stream",
     "text": [
      "Successfully processed preprocessed_72016005\n",
      "File processed successfully in 2.97 seconds\n",
      "\n",
      "Processing file 115/213\n",
      "Starting to process: preprocessed_8300101K\n",
      "Loaded file: preprocessed_8300101K, Sample rate: 48000, Shape: (48365,), Size: 0.09 MB\n",
      "Processing preprocessed_8300101K using GPU\n"
     ]
    },
    {
     "name": "stderr",
     "output_type": "stream",
     "text": [
      "Processing files:  54%|█████▍    | 115/213 [13:12<04:14,  2.59s/it]"
     ]
    },
    {
     "name": "stdout",
     "output_type": "stream",
     "text": [
      "Successfully processed preprocessed_8300101K\n",
      "File processed successfully in 0.96 seconds\n",
      "Progress saved. Processed 115/213 files\n",
      "\n",
      "Processing file 116/213\n",
      "Starting to process: preprocessed_8300100I\n",
      "Loaded file: preprocessed_8300100I, Sample rate: 48000, Shape: (68256,), Size: 0.13 MB\n",
      "Processing preprocessed_8300100I using GPU\n"
     ]
    },
    {
     "name": "stderr",
     "output_type": "stream",
     "text": [
      "Processing files:  54%|█████▍    | 116/213 [13:13<03:29,  2.16s/it]"
     ]
    },
    {
     "name": "stdout",
     "output_type": "stream",
     "text": [
      "Successfully processed preprocessed_8300100I\n",
      "File processed successfully in 1.15 seconds\n",
      "\n",
      "Processing file 117/213\n",
      "Starting to process: preprocessed_85013016\n",
      "Loaded file: preprocessed_85013016, Sample rate: 48000, Shape: (43875,), Size: 0.08 MB\n",
      "Processing preprocessed_85013016 using GPU\n"
     ]
    },
    {
     "name": "stderr",
     "output_type": "stream",
     "text": [
      "Processing files:  55%|█████▍    | 117/213 [13:14<02:52,  1.80s/it]"
     ]
    },
    {
     "name": "stdout",
     "output_type": "stream",
     "text": [
      "Successfully processed preprocessed_85013016\n",
      "File processed successfully in 0.95 seconds\n",
      "\n",
      "Processing file 118/213\n",
      "Starting to process: preprocessed_8501301W\n",
      "Loaded file: preprocessed_8501301W, Sample rate: 48000, Shape: (97627,), Size: 0.19 MB\n",
      "Processing preprocessed_8501301W using GPU\n"
     ]
    },
    {
     "name": "stderr",
     "output_type": "stream",
     "text": [
      "Processing files:  55%|█████▌    | 118/213 [13:15<02:39,  1.68s/it]"
     ]
    },
    {
     "name": "stdout",
     "output_type": "stream",
     "text": [
      "Successfully processed preprocessed_8501301W\n",
      "File processed successfully in 1.41 seconds\n",
      "\n",
      "Processing file 119/213\n",
      "Starting to process: preprocessed_8501400L\n",
      "Loaded file: preprocessed_8501400L, Sample rate: 48000, Shape: (77850,), Size: 0.15 MB\n",
      "Processing preprocessed_8501400L using GPU\n"
     ]
    },
    {
     "name": "stderr",
     "output_type": "stream",
     "text": [
      "Processing files:  56%|█████▌    | 119/213 [13:16<02:16,  1.46s/it]"
     ]
    },
    {
     "name": "stdout",
     "output_type": "stream",
     "text": [
      "Successfully processed preprocessed_8501400L\n",
      "File processed successfully in 0.93 seconds\n",
      "\n",
      "Processing file 120/213\n",
      "Starting to process: preprocessed_8501400A\n",
      "Loaded file: preprocessed_8501400A, Sample rate: 48000, Shape: (55125,), Size: 0.11 MB\n",
      "Processing preprocessed_8501400A using GPU\n"
     ]
    },
    {
     "name": "stderr",
     "output_type": "stream",
     "text": [
      "Processing files:  56%|█████▋    | 120/213 [13:17<02:03,  1.33s/it]"
     ]
    },
    {
     "name": "stdout",
     "output_type": "stream",
     "text": [
      "Successfully processed preprocessed_8501400A\n",
      "File processed successfully in 1.03 seconds\n",
      "Progress saved. Processed 120/213 files\n",
      "\n",
      "Processing file 121/213\n",
      "Starting to process: preprocessed_8501400R\n",
      "Loaded file: preprocessed_8501400R, Sample rate: 48000, Shape: (70350,), Size: 0.13 MB\n",
      "Processing preprocessed_8501400R using GPU\n"
     ]
    },
    {
     "name": "stderr",
     "output_type": "stream",
     "text": [
      "Processing files:  57%|█████▋    | 121/213 [13:18<01:49,  1.19s/it]"
     ]
    },
    {
     "name": "stdout",
     "output_type": "stream",
     "text": [
      "Successfully processed preprocessed_8501400R\n",
      "File processed successfully in 0.86 seconds\n",
      "\n",
      "Processing file 122/213\n",
      "Starting to process: preprocessed_8501400E\n",
      "Loaded file: preprocessed_8501400E, Sample rate: 48000, Shape: (40388,), Size: 0.08 MB\n",
      "Processing preprocessed_8501400E using GPU\n"
     ]
    },
    {
     "name": "stderr",
     "output_type": "stream",
     "text": [
      "Processing files:  57%|█████▋    | 122/213 [13:19<01:41,  1.12s/it]"
     ]
    },
    {
     "name": "stdout",
     "output_type": "stream",
     "text": [
      "Successfully processed preprocessed_8501400E\n",
      "File processed successfully in 0.94 seconds\n",
      "\n",
      "Processing file 123/213\n",
      "Starting to process: preprocessed_7900200N\n",
      "Loaded file: preprocessed_7900200N, Sample rate: 48000, Shape: (1089000,), Size: 2.08 MB\n",
      "Processing preprocessed_7900200N using GPU\n"
     ]
    },
    {
     "name": "stderr",
     "output_type": "stream",
     "text": [
      "Processing files:  58%|█████▊    | 123/213 [13:29<05:48,  3.87s/it]"
     ]
    },
    {
     "name": "stdout",
     "output_type": "stream",
     "text": [
      "Successfully processed preprocessed_7900200N\n",
      "File processed successfully in 10.29 seconds\n",
      "\n",
      "Processing file 124/213\n",
      "Starting to process: preprocessed_7900200H\n",
      "Loaded file: preprocessed_7900200H, Sample rate: 48000, Shape: (68063,), Size: 0.13 MB\n",
      "Processing preprocessed_7900200H using GPU\n"
     ]
    },
    {
     "name": "stderr",
     "output_type": "stream",
     "text": [
      "Processing files:  58%|█████▊    | 124/213 [13:31<04:31,  3.05s/it]"
     ]
    },
    {
     "name": "stdout",
     "output_type": "stream",
     "text": [
      "Successfully processed preprocessed_7900200H\n",
      "File processed successfully in 1.15 seconds\n",
      "\n",
      "Processing file 125/213\n",
      "Starting to process: preprocessed_83002009\n",
      "Loaded file: preprocessed_83002009, Sample rate: 48000, Shape: (89550,), Size: 0.17 MB\n",
      "Processing preprocessed_83002009 using GPU\n"
     ]
    },
    {
     "name": "stderr",
     "output_type": "stream",
     "text": [
      "Processing files:  59%|█████▊    | 125/213 [13:32<03:43,  2.54s/it]"
     ]
    },
    {
     "name": "stdout",
     "output_type": "stream",
     "text": [
      "Successfully processed preprocessed_83002009\n",
      "File processed successfully in 1.34 seconds\n",
      "Progress saved. Processed 125/213 files\n",
      "\n",
      "Processing file 126/213\n",
      "Starting to process: preprocessed_7900200D\n",
      "Loaded file: preprocessed_7900200D, Sample rate: 48000, Shape: (68063,), Size: 0.13 MB\n",
      "Processing preprocessed_7900200D using GPU\n"
     ]
    },
    {
     "name": "stderr",
     "output_type": "stream",
     "text": [
      "Processing files:  59%|█████▉    | 126/213 [13:33<03:04,  2.12s/it]"
     ]
    },
    {
     "name": "stdout",
     "output_type": "stream",
     "text": [
      "Successfully processed preprocessed_7900200D\n",
      "File processed successfully in 1.13 seconds\n",
      "\n",
      "Processing file 127/213\n",
      "Starting to process: preprocessed_7900200T\n",
      "Loaded file: preprocessed_7900200T, Sample rate: 48000, Shape: (189516,), Size: 0.36 MB\n",
      "Processing preprocessed_7900200T using GPU\n"
     ]
    },
    {
     "name": "stderr",
     "output_type": "stream",
     "text": [
      "Processing files:  60%|█████▉    | 127/213 [13:35<03:02,  2.13s/it]"
     ]
    },
    {
     "name": "stdout",
     "output_type": "stream",
     "text": [
      "Successfully processed preprocessed_7900200T\n",
      "File processed successfully in 2.15 seconds\n",
      "\n",
      "Processing file 128/213\n",
      "Starting to process: preprocessed_7900200W\n",
      "Loaded file: preprocessed_7900200W, Sample rate: 48000, Shape: (101194,), Size: 0.19 MB\n",
      "Processing preprocessed_7900200W using GPU\n"
     ]
    },
    {
     "name": "stderr",
     "output_type": "stream",
     "text": [
      "Processing files:  60%|██████    | 128/213 [13:37<02:43,  1.92s/it]"
     ]
    },
    {
     "name": "stdout",
     "output_type": "stream",
     "text": [
      "Successfully processed preprocessed_7900200W\n",
      "File processed successfully in 1.43 seconds\n",
      "\n",
      "Processing file 129/213\n",
      "Starting to process: preprocessed_56016006\n",
      "Loaded file: preprocessed_56016006, Sample rate: 48000, Shape: (51210,), Size: 0.10 MB\n",
      "Processing preprocessed_56016006 using GPU\n"
     ]
    },
    {
     "name": "stderr",
     "output_type": "stream",
     "text": [
      "Processing files:  61%|██████    | 129/213 [13:38<02:17,  1.64s/it]"
     ]
    },
    {
     "name": "stdout",
     "output_type": "stream",
     "text": [
      "Successfully processed preprocessed_56016006\n",
      "File processed successfully in 1.00 seconds\n",
      "\n",
      "Processing file 130/213\n",
      "Starting to process: preprocessed_5601700Y\n",
      "Loaded file: preprocessed_5601700Y, Sample rate: 48000, Shape: (147450,), Size: 0.28 MB\n",
      "Processing preprocessed_5601700Y using GPU\n"
     ]
    },
    {
     "name": "stderr",
     "output_type": "stream",
     "text": [
      "Processing files:  61%|██████    | 130/213 [13:39<02:19,  1.68s/it]"
     ]
    },
    {
     "name": "stdout",
     "output_type": "stream",
     "text": [
      "Successfully processed preprocessed_5601700Y\n",
      "File processed successfully in 1.78 seconds\n",
      "Progress saved. Processed 130/213 files\n",
      "\n",
      "Processing file 131/213\n",
      "Starting to process: preprocessed_5606800K\n",
      "Loaded file: preprocessed_5606800K, Sample rate: 48000, Shape: (36000,), Size: 0.07 MB\n",
      "Processing preprocessed_5606800K using GPU\n"
     ]
    },
    {
     "name": "stderr",
     "output_type": "stream",
     "text": [
      "Processing files:  62%|██████▏   | 131/213 [13:40<01:58,  1.45s/it]"
     ]
    },
    {
     "name": "stdout",
     "output_type": "stream",
     "text": [
      "Successfully processed preprocessed_5606800K\n",
      "File processed successfully in 0.89 seconds\n",
      "\n",
      "Processing file 132/213\n",
      "Starting to process: preprocessed_5601700V\n",
      "Loaded file: preprocessed_5601700V, Sample rate: 48000, Shape: (32951,), Size: 0.06 MB\n",
      "Processing preprocessed_5601700V using GPU\n"
     ]
    },
    {
     "name": "stderr",
     "output_type": "stream",
     "text": [
      "Processing files:  62%|██████▏   | 132/213 [13:41<01:42,  1.26s/it]"
     ]
    },
    {
     "name": "stdout",
     "output_type": "stream",
     "text": [
      "Successfully processed preprocessed_5601700V\n",
      "File processed successfully in 0.83 seconds\n",
      "\n",
      "Processing file 133/213\n",
      "Starting to process: preprocessed_5900300H\n",
      "Loaded file: preprocessed_5900300H, Sample rate: 48000, Shape: (82138,), Size: 0.16 MB\n",
      "Processing preprocessed_5900300H using GPU\n"
     ]
    },
    {
     "name": "stderr",
     "output_type": "stream",
     "text": [
      "Processing files:  62%|██████▏   | 133/213 [13:42<01:41,  1.27s/it]"
     ]
    },
    {
     "name": "stdout",
     "output_type": "stream",
     "text": [
      "Successfully processed preprocessed_5900300H\n",
      "File processed successfully in 1.29 seconds\n",
      "\n",
      "Processing file 134/213\n",
      "Starting to process: preprocessed_5601600L\n",
      "Loaded file: preprocessed_5601600L, Sample rate: 48000, Shape: (60732,), Size: 0.12 MB\n",
      "Processing preprocessed_5601600L using GPU\n"
     ]
    },
    {
     "name": "stderr",
     "output_type": "stream",
     "text": [
      "Processing files:  63%|██████▎   | 134/213 [13:43<01:36,  1.22s/it]"
     ]
    },
    {
     "name": "stdout",
     "output_type": "stream",
     "text": [
      "Successfully processed preprocessed_5601600L\n",
      "File processed successfully in 1.11 seconds\n",
      "\n",
      "Processing file 135/213\n",
      "Starting to process: preprocessed_5601600Z\n",
      "Loaded file: preprocessed_5601600Z, Sample rate: 48000, Shape: (123780,), Size: 0.24 MB\n",
      "Processing preprocessed_5601600Z using GPU\n"
     ]
    },
    {
     "name": "stderr",
     "output_type": "stream",
     "text": [
      "Processing files:  63%|██████▎   | 135/213 [13:45<01:44,  1.33s/it]"
     ]
    },
    {
     "name": "stdout",
     "output_type": "stream",
     "text": [
      "Successfully processed preprocessed_5601600Z\n",
      "File processed successfully in 1.60 seconds\n",
      "Progress saved. Processed 135/213 files\n",
      "\n",
      "Processing file 136/213\n",
      "Starting to process: preprocessed_5604800O\n",
      "Loaded file: preprocessed_5604800O, Sample rate: 48000, Shape: (223728,), Size: 0.43 MB\n",
      "Processing preprocessed_5604800O using GPU\n"
     ]
    },
    {
     "name": "stderr",
     "output_type": "stream",
     "text": [
      "Processing files:  64%|██████▍   | 136/213 [13:47<02:08,  1.66s/it]"
     ]
    },
    {
     "name": "stdout",
     "output_type": "stream",
     "text": [
      "Successfully processed preprocessed_5604800O\n",
      "File processed successfully in 2.43 seconds\n",
      "\n",
      "Processing file 137/213\n",
      "Starting to process: preprocessed_5604800J\n",
      "Loaded file: preprocessed_5604800J, Sample rate: 48000, Shape: (182016,), Size: 0.35 MB\n",
      "Processing preprocessed_5604800J using GPU\n"
     ]
    },
    {
     "name": "stderr",
     "output_type": "stream",
     "text": [
      "Processing files:  64%|██████▍   | 137/213 [13:50<02:15,  1.78s/it]"
     ]
    },
    {
     "name": "stdout",
     "output_type": "stream",
     "text": [
      "Successfully processed preprocessed_5604800J\n",
      "File processed successfully in 2.06 seconds\n",
      "\n",
      "Processing file 138/213\n",
      "Starting to process: preprocessed_66014001\n",
      "Loaded file: preprocessed_66014001, Sample rate: 48000, Shape: (88688,), Size: 0.17 MB\n",
      "Processing preprocessed_66014001 using GPU\n"
     ]
    },
    {
     "name": "stderr",
     "output_type": "stream",
     "text": [
      "Processing files:  65%|██████▍   | 138/213 [13:51<02:03,  1.65s/it]"
     ]
    },
    {
     "name": "stdout",
     "output_type": "stream",
     "text": [
      "Successfully processed preprocessed_66014001\n",
      "File processed successfully in 1.34 seconds\n",
      "\n",
      "Processing file 139/213\n",
      "Starting to process: preprocessed_5604800E\n",
      "Loaded file: preprocessed_5604800E, Sample rate: 48000, Shape: (212352,), Size: 0.41 MB\n",
      "Processing preprocessed_5604800E using GPU\n"
     ]
    },
    {
     "name": "stderr",
     "output_type": "stream",
     "text": [
      "Processing files:  65%|██████▌   | 139/213 [13:53<02:15,  1.84s/it]"
     ]
    },
    {
     "name": "stdout",
     "output_type": "stream",
     "text": [
      "Successfully processed preprocessed_5604800E\n",
      "File processed successfully in 2.27 seconds\n",
      "\n",
      "Processing file 140/213\n",
      "Starting to process: preprocessed_56048004\n",
      "Loaded file: preprocessed_56048004, Sample rate: 48000, Shape: (108692,), Size: 0.21 MB\n",
      "Processing preprocessed_56048004 using GPU\n"
     ]
    },
    {
     "name": "stderr",
     "output_type": "stream",
     "text": [
      "Processing files:  66%|██████▌   | 140/213 [13:55<02:07,  1.74s/it]"
     ]
    },
    {
     "name": "stdout",
     "output_type": "stream",
     "text": [
      "Successfully processed preprocessed_56048004\n",
      "File processed successfully in 1.52 seconds\n",
      "Progress saved. Processed 140/213 files\n",
      "\n",
      "Processing file 141/213\n",
      "Starting to process: preprocessed_56048007\n",
      "Loaded file: preprocessed_56048007, Sample rate: 48000, Shape: (97370,), Size: 0.19 MB\n",
      "Processing preprocessed_56048007 using GPU\n"
     ]
    },
    {
     "name": "stderr",
     "output_type": "stream",
     "text": [
      "Processing files:  66%|██████▌   | 141/213 [13:56<01:57,  1.63s/it]"
     ]
    },
    {
     "name": "stdout",
     "output_type": "stream",
     "text": [
      "Successfully processed preprocessed_56048007\n",
      "File processed successfully in 1.37 seconds\n",
      "\n",
      "Processing file 142/213\n",
      "Starting to process: preprocessed_5604800A\n",
      "Loaded file: preprocessed_5604800A, Sample rate: 48000, Shape: (51207,), Size: 0.10 MB\n",
      "Processing preprocessed_5604800A using GPU\n"
     ]
    },
    {
     "name": "stderr",
     "output_type": "stream",
     "text": [
      "Processing files:  67%|██████▋   | 142/213 [13:57<01:42,  1.44s/it]"
     ]
    },
    {
     "name": "stdout",
     "output_type": "stream",
     "text": [
      "Successfully processed preprocessed_5604800A\n",
      "File processed successfully in 0.99 seconds\n",
      "\n",
      "Processing file 143/213\n",
      "Starting to process: preprocessed_91013013\n",
      "Loaded file: preprocessed_91013013, Sample rate: 48000, Shape: (108000,), Size: 0.21 MB\n",
      "Processing preprocessed_91013013 using GPU\n"
     ]
    },
    {
     "name": "stderr",
     "output_type": "stream",
     "text": [
      "Processing files:  67%|██████▋   | 143/213 [13:59<01:41,  1.45s/it]"
     ]
    },
    {
     "name": "stdout",
     "output_type": "stream",
     "text": [
      "Successfully processed preprocessed_91013013\n",
      "File processed successfully in 1.49 seconds\n",
      "\n",
      "Processing file 144/213\n",
      "Starting to process: preprocessed_9400904P\n",
      "Loaded file: preprocessed_9400904P, Sample rate: 48000, Shape: (64032,), Size: 0.12 MB\n",
      "Processing preprocessed_9400904P using GPU\n"
     ]
    },
    {
     "name": "stderr",
     "output_type": "stream",
     "text": [
      "Processing files:  68%|██████▊   | 144/213 [14:00<01:33,  1.36s/it]"
     ]
    },
    {
     "name": "stdout",
     "output_type": "stream",
     "text": [
      "Successfully processed preprocessed_9400904P\n",
      "File processed successfully in 1.14 seconds\n",
      "\n",
      "Processing file 145/213\n",
      "Starting to process: preprocessed_94009040\n",
      "Loaded file: preprocessed_94009040, Sample rate: 48000, Shape: (26540,), Size: 0.05 MB\n",
      "Processing preprocessed_94009040 using GPU\n"
     ]
    },
    {
     "name": "stderr",
     "output_type": "stream",
     "text": [
      "Processing files:  68%|██████▊   | 145/213 [14:01<01:21,  1.20s/it]"
     ]
    },
    {
     "name": "stdout",
     "output_type": "stream",
     "text": [
      "Successfully processed preprocessed_94009040\n",
      "File processed successfully in 0.82 seconds\n",
      "Progress saved. Processed 145/213 files\n",
      "\n",
      "Processing file 146/213\n",
      "Starting to process: preprocessed_9400904D\n",
      "Loaded file: preprocessed_9400904D, Sample rate: 48000, Shape: (28955,), Size: 0.06 MB\n",
      "Processing preprocessed_9400904D using GPU\n"
     ]
    },
    {
     "name": "stderr",
     "output_type": "stream",
     "text": [
      "Processing files:  69%|██████▊   | 146/213 [14:01<01:13,  1.10s/it]"
     ]
    },
    {
     "name": "stdout",
     "output_type": "stream",
     "text": [
      "Successfully processed preprocessed_9400904D\n",
      "File processed successfully in 0.87 seconds\n",
      "\n",
      "Processing file 147/213\n",
      "Starting to process: preprocessed_91010027\n",
      "Loaded file: preprocessed_91010027, Sample rate: 48000, Shape: (689984,), Size: 1.32 MB\n",
      "Processing preprocessed_91010027 using GPU\n"
     ]
    },
    {
     "name": "stderr",
     "output_type": "stream",
     "text": [
      "Processing files:  69%|██████▉   | 147/213 [14:08<03:04,  2.79s/it]"
     ]
    },
    {
     "name": "stdout",
     "output_type": "stream",
     "text": [
      "Successfully processed preprocessed_91010027\n",
      "File processed successfully in 6.74 seconds\n",
      "\n",
      "Processing file 148/213\n",
      "Starting to process: preprocessed_91010001\n",
      "Loaded file: preprocessed_91010001, Sample rate: 48000, Shape: (136125,), Size: 0.26 MB\n",
      "Processing preprocessed_91010001 using GPU\n"
     ]
    },
    {
     "name": "stderr",
     "output_type": "stream",
     "text": [
      "Processing files:  69%|██████▉   | 148/213 [14:10<02:39,  2.45s/it]"
     ]
    },
    {
     "name": "stdout",
     "output_type": "stream",
     "text": [
      "Successfully processed preprocessed_91010001\n",
      "File processed successfully in 1.64 seconds\n",
      "\n",
      "Processing file 149/213\n",
      "Starting to process: preprocessed_6107400C\n",
      "Loaded file: preprocessed_6107400C, Sample rate: 48000, Shape: (840000,), Size: 1.60 MB\n",
      "Processing preprocessed_6107400C using GPU\n"
     ]
    },
    {
     "name": "stderr",
     "output_type": "stream",
     "text": [
      "Processing files:  70%|██████▉   | 149/213 [14:18<04:24,  4.13s/it]"
     ]
    },
    {
     "name": "stdout",
     "output_type": "stream",
     "text": [
      "Successfully processed preprocessed_6107400C\n",
      "File processed successfully in 8.04 seconds\n",
      "\n",
      "Processing file 150/213\n",
      "Starting to process: preprocessed_65012002\n",
      "Loaded file: preprocessed_65012002, Sample rate: 48000, Shape: (68063,), Size: 0.13 MB\n",
      "Processing preprocessed_65012002 using GPU\n"
     ]
    },
    {
     "name": "stderr",
     "output_type": "stream",
     "text": [
      "Processing files:  70%|███████   | 150/213 [14:19<03:24,  3.24s/it]"
     ]
    },
    {
     "name": "stdout",
     "output_type": "stream",
     "text": [
      "Successfully processed preprocessed_65012002\n",
      "File processed successfully in 1.16 seconds\n",
      "Progress saved. Processed 150/213 files\n",
      "\n",
      "Processing file 151/213\n",
      "Starting to process: preprocessed_65012003\n",
      "Loaded file: preprocessed_65012003, Sample rate: 48000, Shape: (65250,), Size: 0.12 MB\n",
      "Processing preprocessed_65012003 using GPU\n"
     ]
    },
    {
     "name": "stderr",
     "output_type": "stream",
     "text": [
      "Processing files:  71%|███████   | 151/213 [14:20<02:48,  2.72s/it]"
     ]
    },
    {
     "name": "stdout",
     "output_type": "stream",
     "text": [
      "Successfully processed preprocessed_65012003\n",
      "File processed successfully in 1.51 seconds\n",
      "\n",
      "Processing file 152/213\n",
      "Starting to process: preprocessed_6501200Q\n",
      "Loaded file: preprocessed_6501200Q, Sample rate: 48000, Shape: (428372,), Size: 0.82 MB\n",
      "Processing preprocessed_6501200Q using GPU\n"
     ]
    },
    {
     "name": "stderr",
     "output_type": "stream",
     "text": [
      "Processing files:  71%|███████▏  | 152/213 [14:24<03:09,  3.10s/it]"
     ]
    },
    {
     "name": "stdout",
     "output_type": "stream",
     "text": [
      "Successfully processed preprocessed_6501200Q\n",
      "File processed successfully in 3.99 seconds\n",
      "\n",
      "Processing file 153/213\n",
      "Starting to process: preprocessed_65012007\n",
      "Loaded file: preprocessed_65012007, Sample rate: 48000, Shape: (214650,), Size: 0.41 MB\n",
      "Processing preprocessed_65012007 using GPU\n"
     ]
    },
    {
     "name": "stderr",
     "output_type": "stream",
     "text": [
      "Processing files:  72%|███████▏  | 153/213 [14:27<02:55,  2.92s/it]"
     ]
    },
    {
     "name": "stdout",
     "output_type": "stream",
     "text": [
      "Successfully processed preprocessed_65012007\n",
      "File processed successfully in 2.49 seconds\n",
      "\n",
      "Processing file 154/213\n",
      "Starting to process: preprocessed_6501200O\n",
      "Loaded file: preprocessed_6501200O, Sample rate: 48000, Shape: (374070,), Size: 0.71 MB\n",
      "Processing preprocessed_6501200O using GPU\n"
     ]
    },
    {
     "name": "stderr",
     "output_type": "stream",
     "text": [
      "Processing files:  72%|███████▏  | 154/213 [14:31<03:07,  3.17s/it]"
     ]
    },
    {
     "name": "stdout",
     "output_type": "stream",
     "text": [
      "Successfully processed preprocessed_6501200O\n",
      "File processed successfully in 3.77 seconds\n",
      "\n",
      "Processing file 155/213\n",
      "Starting to process: preprocessed_64104004\n",
      "Loaded file: preprocessed_64104004, Sample rate: 48000, Shape: (67725,), Size: 0.13 MB\n",
      "Processing preprocessed_64104004 using GPU\n"
     ]
    },
    {
     "name": "stderr",
     "output_type": "stream",
     "text": [
      "Processing files:  73%|███████▎  | 155/213 [14:32<02:29,  2.57s/it]"
     ]
    },
    {
     "name": "stdout",
     "output_type": "stream",
     "text": [
      "Successfully processed preprocessed_64104004\n",
      "File processed successfully in 1.16 seconds\n",
      "Progress saved. Processed 155/213 files\n",
      "\n",
      "Processing file 156/213\n",
      "Starting to process: preprocessed_79040005\n",
      "Loaded file: preprocessed_79040005, Sample rate: 48000, Shape: (1443840,), Size: 2.75 MB\n",
      "Processing preprocessed_79040005 using GPU\n"
     ]
    },
    {
     "name": "stderr",
     "output_type": "stream",
     "text": [
      "Processing files:  73%|███████▎  | 156/213 [14:47<05:53,  6.20s/it]"
     ]
    },
    {
     "name": "stdout",
     "output_type": "stream",
     "text": [
      "Successfully processed preprocessed_79040005\n",
      "File processed successfully in 14.66 seconds\n",
      "\n",
      "Processing file 157/213\n",
      "Starting to process: preprocessed_79040002\n",
      "Loaded file: preprocessed_79040002, Sample rate: 48000, Shape: (2856960,), Size: 5.45 MB\n",
      "Processing preprocessed_79040002 using GPU\n",
      "STFT extraction timed out or failed for preprocessed_79040002: Processing timed out after 15 seconds\n"
     ]
    },
    {
     "name": "stderr",
     "output_type": "stream",
     "text": [
      "Processing files:  74%|███████▎  | 157/213 [15:17<12:27, 13.35s/it]"
     ]
    },
    {
     "name": "stdout",
     "output_type": "stream",
     "text": [
      "MFCC extraction timed out or failed for preprocessed_79040002: Processing timed out after 15 seconds\n",
      "Feature extraction failed for preprocessed_79040002\n",
      "File processing failed after 30.02 seconds\n",
      "\n",
      "Processing file 158/213\n",
      "Starting to process: preprocessed_64103004\n",
      "Loaded file: preprocessed_64103004, Sample rate: 48000, Shape: (68063,), Size: 0.13 MB\n",
      "Processing preprocessed_64103004 using GPU\n"
     ]
    },
    {
     "name": "stderr",
     "output_type": "stream",
     "text": [
      "Processing files:  74%|███████▍  | 158/213 [15:27<11:21, 12.38s/it]"
     ]
    },
    {
     "name": "stdout",
     "output_type": "stream",
     "text": [
      "Successfully processed preprocessed_64103004\n",
      "File processed successfully in 10.12 seconds\n",
      "\n",
      "Processing file 159/213\n",
      "Starting to process: preprocessed_64103006\n",
      "Loaded file: preprocessed_64103006, Sample rate: 48000, Shape: (68063,), Size: 0.13 MB\n",
      "Processing preprocessed_64103006 using GPU\n"
     ]
    },
    {
     "name": "stderr",
     "output_type": "stream",
     "text": [
      "Processing files:  75%|███████▍  | 159/213 [15:28<08:07,  9.03s/it]"
     ]
    },
    {
     "name": "stdout",
     "output_type": "stream",
     "text": [
      "Successfully processed preprocessed_64103006\n",
      "File processed successfully in 1.21 seconds\n",
      "\n",
      "Processing file 160/213\n",
      "Starting to process: preprocessed_64103003\n",
      "Loaded file: preprocessed_64103003, Sample rate: 48000, Shape: (45338,), Size: 0.09 MB\n",
      "Processing preprocessed_64103003 using GPU\n"
     ]
    },
    {
     "name": "stderr",
     "output_type": "stream",
     "text": [
      "Processing files:  75%|███████▌  | 160/213 [15:29<05:51,  6.64s/it]"
     ]
    },
    {
     "name": "stdout",
     "output_type": "stream",
     "text": [
      "Successfully processed preprocessed_64103003\n",
      "File processed successfully in 1.05 seconds\n",
      "Progress saved. Processed 160/213 files\n",
      "\n",
      "Processing file 161/213\n",
      "Starting to process: preprocessed_64103001\n",
      "Loaded file: preprocessed_64103001, Sample rate: 48000, Shape: (45338,), Size: 0.09 MB\n",
      "Processing preprocessed_64103001 using GPU\n"
     ]
    },
    {
     "name": "stderr",
     "output_type": "stream",
     "text": [
      "Processing files:  76%|███████▌  | 161/213 [15:30<04:17,  4.94s/it]"
     ]
    },
    {
     "name": "stdout",
     "output_type": "stream",
     "text": [
      "Successfully processed preprocessed_64103001\n",
      "File processed successfully in 0.99 seconds\n",
      "\n",
      "Processing file 162/213\n",
      "Starting to process: preprocessed_69003001\n",
      "Loaded file: preprocessed_69003001, Sample rate: 48000, Shape: (169964,), Size: 0.32 MB\n",
      "Processing preprocessed_69003001 using GPU\n"
     ]
    },
    {
     "name": "stderr",
     "output_type": "stream",
     "text": [
      "Processing files:  76%|███████▌  | 162/213 [15:34<03:57,  4.66s/it]"
     ]
    },
    {
     "name": "stdout",
     "output_type": "stream",
     "text": [
      "Successfully processed preprocessed_69003001\n",
      "File processed successfully in 4.00 seconds\n",
      "\n",
      "Processing file 163/213\n",
      "Starting to process: preprocessed_69003002\n",
      "Loaded file: preprocessed_69003002, Sample rate: 48000, Shape: (126620,), Size: 0.24 MB\n",
      "Processing preprocessed_69003002 using GPU\n"
     ]
    },
    {
     "name": "stderr",
     "output_type": "stream",
     "text": [
      "Processing files:  77%|███████▋  | 163/213 [15:36<03:08,  3.77s/it]"
     ]
    },
    {
     "name": "stdout",
     "output_type": "stream",
     "text": [
      "Successfully processed preprocessed_69003002\n",
      "File processed successfully in 1.67 seconds\n",
      "\n",
      "Processing file 164/213\n",
      "Starting to process: preprocessed_94201077\n",
      "Loaded file: preprocessed_94201077, Sample rate: 48000, Shape: (15772,), Size: 0.03 MB\n",
      "Processing preprocessed_94201077 using GPU\n"
     ]
    },
    {
     "name": "stderr",
     "output_type": "stream",
     "text": [
      "Processing files:  77%|███████▋  | 164/213 [15:36<02:19,  2.85s/it]"
     ]
    },
    {
     "name": "stdout",
     "output_type": "stream",
     "text": [
      "Successfully processed preprocessed_94201077\n",
      "File processed successfully in 0.71 seconds\n",
      "\n",
      "Processing file 165/213\n",
      "Starting to process: preprocessed_84228002\n",
      "Loaded file: preprocessed_84228002, Sample rate: 48000, Shape: (54450,), Size: 0.10 MB\n",
      "Processing preprocessed_84228002 using GPU\n"
     ]
    },
    {
     "name": "stderr",
     "output_type": "stream",
     "text": [
      "Processing files:  77%|███████▋  | 165/213 [15:37<01:51,  2.33s/it]"
     ]
    },
    {
     "name": "stdout",
     "output_type": "stream",
     "text": [
      "Successfully processed preprocessed_84228002\n",
      "File processed successfully in 1.12 seconds\n",
      "Progress saved. Processed 165/213 files\n",
      "\n",
      "Processing file 166/213\n",
      "Starting to process: preprocessed_89506004\n",
      "Loaded file: preprocessed_89506004, Sample rate: 48000, Shape: (34088,), Size: 0.07 MB\n",
      "Processing preprocessed_89506004 using GPU\n"
     ]
    },
    {
     "name": "stderr",
     "output_type": "stream",
     "text": [
      "Processing files:  78%|███████▊  | 166/213 [15:38<01:29,  1.90s/it]"
     ]
    },
    {
     "name": "stdout",
     "output_type": "stream",
     "text": [
      "Successfully processed preprocessed_89506004\n",
      "File processed successfully in 0.89 seconds\n",
      "\n",
      "Processing file 167/213\n",
      "Starting to process: preprocessed_84228A0H\n",
      "Loaded file: preprocessed_84228A0H, Sample rate: 48000, Shape: (34088,), Size: 0.07 MB\n",
      "Processing preprocessed_84228A0H using GPU\n"
     ]
    },
    {
     "name": "stderr",
     "output_type": "stream",
     "text": [
      "Processing files:  78%|███████▊  | 167/213 [15:39<01:12,  1.58s/it]"
     ]
    },
    {
     "name": "stdout",
     "output_type": "stream",
     "text": [
      "Successfully processed preprocessed_84228A0H\n",
      "File processed successfully in 0.85 seconds\n",
      "\n",
      "Processing file 168/213\n",
      "Starting to process: preprocessed_84228A0C\n",
      "Loaded file: preprocessed_84228A0C, Sample rate: 48000, Shape: (16819,), Size: 0.03 MB\n",
      "Processing preprocessed_84228A0C using GPU\n"
     ]
    },
    {
     "name": "stderr",
     "output_type": "stream",
     "text": [
      "Processing files:  79%|███████▉  | 168/213 [15:40<00:58,  1.31s/it]"
     ]
    },
    {
     "name": "stdout",
     "output_type": "stream",
     "text": [
      "Successfully processed preprocessed_84228A0C\n",
      "File processed successfully in 0.67 seconds\n",
      "\n",
      "Processing file 169/213\n",
      "Starting to process: preprocessed_5801100T\n",
      "Loaded file: preprocessed_5801100T, Sample rate: 48000, Shape: (88821,), Size: 0.17 MB\n",
      "Processing preprocessed_5801100T using GPU\n"
     ]
    },
    {
     "name": "stderr",
     "output_type": "stream",
     "text": [
      "Processing files:  79%|███████▉  | 169/213 [15:41<00:58,  1.33s/it]"
     ]
    },
    {
     "name": "stdout",
     "output_type": "stream",
     "text": [
      "Successfully processed preprocessed_5801100T\n",
      "File processed successfully in 1.38 seconds\n",
      "\n",
      "Processing file 170/213\n",
      "Starting to process: preprocessed_72007003\n",
      "Loaded file: preprocessed_72007003, Sample rate: 48000, Shape: (157096,), Size: 0.30 MB\n",
      "Processing preprocessed_72007003 using GPU\n"
     ]
    },
    {
     "name": "stderr",
     "output_type": "stream",
     "text": [
      "Processing files:  80%|███████▉  | 170/213 [15:43<01:03,  1.49s/it]"
     ]
    },
    {
     "name": "stdout",
     "output_type": "stream",
     "text": [
      "Successfully processed preprocessed_72007003\n",
      "File processed successfully in 1.85 seconds\n",
      "Progress saved. Processed 170/213 files\n",
      "\n",
      "Processing file 171/213\n",
      "Starting to process: preprocessed_7200700Q\n",
      "Loaded file: preprocessed_7200700Q, Sample rate: 48000, Shape: (98693,), Size: 0.19 MB\n",
      "Processing preprocessed_7200700Q using GPU\n"
     ]
    },
    {
     "name": "stderr",
     "output_type": "stream",
     "text": [
      "Processing files:  80%|████████  | 171/213 [15:45<01:01,  1.47s/it]"
     ]
    },
    {
     "name": "stdout",
     "output_type": "stream",
     "text": [
      "Successfully processed preprocessed_7200700Q\n",
      "File processed successfully in 1.43 seconds\n",
      "\n",
      "Processing file 172/213\n",
      "Starting to process: preprocessed_7200702U\n",
      "Loaded file: preprocessed_7200702U, Sample rate: 48000, Shape: (114984,), Size: 0.22 MB\n",
      "Processing preprocessed_7200702U using GPU\n"
     ]
    },
    {
     "name": "stderr",
     "output_type": "stream",
     "text": [
      "Processing files:  81%|████████  | 172/213 [15:46<01:02,  1.52s/it]"
     ]
    },
    {
     "name": "stdout",
     "output_type": "stream",
     "text": [
      "Successfully processed preprocessed_7200702U\n",
      "File processed successfully in 1.62 seconds\n",
      "\n",
      "Processing file 173/213\n",
      "Starting to process: preprocessed_6102400D\n",
      "Loaded file: preprocessed_6102400D, Sample rate: 48000, Shape: (68063,), Size: 0.13 MB\n",
      "Processing preprocessed_6102400D using GPU\n"
     ]
    },
    {
     "name": "stderr",
     "output_type": "stream",
     "text": [
      "Processing files:  81%|████████  | 173/213 [15:47<00:56,  1.42s/it]"
     ]
    },
    {
     "name": "stdout",
     "output_type": "stream",
     "text": [
      "Successfully processed preprocessed_6102400D\n",
      "File processed successfully in 1.20 seconds\n",
      "\n",
      "Processing file 174/213\n",
      "Starting to process: preprocessed_63001007\n",
      "Loaded file: preprocessed_63001007, Sample rate: 48000, Shape: (39263,), Size: 0.07 MB\n",
      "Processing preprocessed_63001007 using GPU\n"
     ]
    },
    {
     "name": "stderr",
     "output_type": "stream",
     "text": [
      "Processing files:  82%|████████▏ | 174/213 [15:48<00:50,  1.29s/it]"
     ]
    },
    {
     "name": "stdout",
     "output_type": "stream",
     "text": [
      "Successfully processed preprocessed_63001007\n",
      "File processed successfully in 0.98 seconds\n",
      "\n",
      "Processing file 175/213\n",
      "Starting to process: preprocessed_63001006\n",
      "Loaded file: preprocessed_63001006, Sample rate: 48000, Shape: (33413,), Size: 0.06 MB\n",
      "Processing preprocessed_63001006 using GPU\n"
     ]
    },
    {
     "name": "stderr",
     "output_type": "stream",
     "text": [
      "Processing files:  82%|████████▏ | 175/213 [15:49<00:44,  1.18s/it]"
     ]
    },
    {
     "name": "stdout",
     "output_type": "stream",
     "text": [
      "Successfully processed preprocessed_63001006\n",
      "File processed successfully in 0.92 seconds\n",
      "Progress saved. Processed 175/213 files\n",
      "\n",
      "Processing file 176/213\n",
      "Starting to process: preprocessed_63001004\n",
      "Loaded file: preprocessed_63001004, Sample rate: 48000, Shape: (14738,), Size: 0.03 MB\n",
      "Processing preprocessed_63001004 using GPU\n"
     ]
    },
    {
     "name": "stderr",
     "output_type": "stream",
     "text": [
      "Processing files:  83%|████████▎ | 176/213 [15:50<00:38,  1.04s/it]"
     ]
    },
    {
     "name": "stdout",
     "output_type": "stream",
     "text": [
      "Successfully processed preprocessed_63001004\n",
      "File processed successfully in 0.71 seconds\n",
      "\n",
      "Processing file 177/213\n",
      "Starting to process: preprocessed_63001005\n",
      "Loaded file: preprocessed_63001005, Sample rate: 48000, Shape: (16707,), Size: 0.03 MB\n",
      "Processing preprocessed_63001005 using GPU\n"
     ]
    },
    {
     "name": "stderr",
     "output_type": "stream",
     "text": [
      "Processing files:  83%|████████▎ | 177/213 [15:51<00:34,  1.05it/s]"
     ]
    },
    {
     "name": "stdout",
     "output_type": "stream",
     "text": [
      "Successfully processed preprocessed_63001005\n",
      "File processed successfully in 0.75 seconds\n",
      "\n",
      "Processing file 178/213\n",
      "Starting to process: preprocessed_63001001\n",
      "Loaded file: preprocessed_63001001, Sample rate: 48000, Shape: (33165,), Size: 0.06 MB\n",
      "Processing preprocessed_63001001 using GPU\n"
     ]
    },
    {
     "name": "stderr",
     "output_type": "stream",
     "text": [
      "Processing files:  84%|████████▎ | 178/213 [15:52<00:32,  1.07it/s]"
     ]
    },
    {
     "name": "stdout",
     "output_type": "stream",
     "text": [
      "Successfully processed preprocessed_63001001\n",
      "File processed successfully in 0.90 seconds\n",
      "\n",
      "Processing file 179/213\n",
      "Starting to process: preprocessed_63001002\n",
      "Loaded file: preprocessed_63001002, Sample rate: 48000, Shape: (13679,), Size: 0.03 MB\n",
      "Processing preprocessed_63001002 using GPU\n"
     ]
    },
    {
     "name": "stderr",
     "output_type": "stream",
     "text": [
      "Processing files:  84%|████████▍ | 179/213 [15:52<00:30,  1.13it/s]"
     ]
    },
    {
     "name": "stdout",
     "output_type": "stream",
     "text": [
      "Successfully processed preprocessed_63001002\n",
      "File processed successfully in 0.77 seconds\n",
      "\n",
      "Processing file 180/213\n",
      "Starting to process: preprocessed_9101203E\n",
      "Loaded file: preprocessed_9101203E, Sample rate: 48000, Shape: (3204,), Size: 0.01 MB\n",
      "Processing preprocessed_9101203E using GPU\n"
     ]
    },
    {
     "name": "stderr",
     "output_type": "stream",
     "text": [
      "Processing files:  85%|████████▍ | 180/213 [15:53<00:28,  1.16it/s]"
     ]
    },
    {
     "name": "stdout",
     "output_type": "stream",
     "text": [
      "Successfully processed preprocessed_9101203E\n",
      "File processed successfully in 0.79 seconds\n",
      "Progress saved. Processed 180/213 files\n",
      "\n",
      "Processing file 181/213\n",
      "Starting to process: preprocessed_91012024\n",
      "Loaded file: preprocessed_91012024, Sample rate: 48000, Shape: (28050,), Size: 0.05 MB\n",
      "Processing preprocessed_91012024 using GPU\n"
     ]
    },
    {
     "name": "stderr",
     "output_type": "stream",
     "text": [
      "Processing files:  85%|████████▍ | 181/213 [15:54<00:27,  1.15it/s]"
     ]
    },
    {
     "name": "stdout",
     "output_type": "stream",
     "text": [
      "Successfully processed preprocessed_91012024\n",
      "File processed successfully in 0.90 seconds\n",
      "\n",
      "Processing file 182/213\n",
      "Starting to process: preprocessed_9101200X\n",
      "Loaded file: preprocessed_9101200X, Sample rate: 48000, Shape: (18323,), Size: 0.03 MB\n",
      "Processing preprocessed_9101200X using GPU\n"
     ]
    },
    {
     "name": "stderr",
     "output_type": "stream",
     "text": [
      "Processing files:  85%|████████▌ | 182/213 [15:55<00:26,  1.15it/s]"
     ]
    },
    {
     "name": "stdout",
     "output_type": "stream",
     "text": [
      "Successfully processed preprocessed_9101200X\n",
      "File processed successfully in 0.86 seconds\n",
      "\n",
      "Processing file 183/213\n",
      "Starting to process: preprocessed_91012038\n",
      "Loaded file: preprocessed_91012038, Sample rate: 48000, Shape: (3375,), Size: 0.01 MB\n",
      "Processing preprocessed_91012038 using GPU\n"
     ]
    },
    {
     "name": "stderr",
     "output_type": "stream",
     "text": [
      "Processing files:  86%|████████▌ | 183/213 [15:56<00:23,  1.27it/s]"
     ]
    },
    {
     "name": "stdout",
     "output_type": "stream",
     "text": [
      "Successfully processed preprocessed_91012038\n",
      "File processed successfully in 0.59 seconds\n",
      "\n",
      "Processing file 184/213\n",
      "Starting to process: preprocessed_91012028\n",
      "Loaded file: preprocessed_91012028, Sample rate: 48000, Shape: (30938,), Size: 0.06 MB\n",
      "Processing preprocessed_91012028 using GPU\n"
     ]
    },
    {
     "name": "stderr",
     "output_type": "stream",
     "text": [
      "Processing files:  86%|████████▋ | 184/213 [15:57<00:24,  1.20it/s]"
     ]
    },
    {
     "name": "stdout",
     "output_type": "stream",
     "text": [
      "Successfully processed preprocessed_91012028\n",
      "File processed successfully in 0.94 seconds\n",
      "\n",
      "Processing file 185/213\n",
      "Starting to process: preprocessed_7100400T\n",
      "Loaded file: preprocessed_7100400T, Sample rate: 48000, Shape: (110806,), Size: 0.21 MB\n",
      "Processing preprocessed_7100400T using GPU\n"
     ]
    },
    {
     "name": "stderr",
     "output_type": "stream",
     "text": [
      "Processing files:  87%|████████▋ | 185/213 [15:58<00:29,  1.07s/it]"
     ]
    },
    {
     "name": "stdout",
     "output_type": "stream",
     "text": [
      "Successfully processed preprocessed_7100400T\n",
      "File processed successfully in 1.61 seconds\n",
      "Progress saved. Processed 185/213 files\n",
      "\n",
      "Processing file 186/213\n",
      "Starting to process: preprocessed_7100400U\n",
      "Loaded file: preprocessed_7100400U, Sample rate: 48000, Shape: (122008,), Size: 0.23 MB\n",
      "Processing preprocessed_7100400U using GPU\n"
     ]
    },
    {
     "name": "stderr",
     "output_type": "stream",
     "text": [
      "Processing files:  87%|████████▋ | 186/213 [16:00<00:33,  1.25s/it]"
     ]
    },
    {
     "name": "stdout",
     "output_type": "stream",
     "text": [
      "Successfully processed preprocessed_7100400U\n",
      "File processed successfully in 1.68 seconds\n",
      "\n",
      "Processing file 187/213\n",
      "Starting to process: preprocessed_71008012\n",
      "Loaded file: preprocessed_71008012, Sample rate: 48000, Shape: (136013,), Size: 0.26 MB\n",
      "Processing preprocessed_71008012 using GPU\n"
     ]
    },
    {
     "name": "stderr",
     "output_type": "stream",
     "text": [
      "Processing files:  88%|████████▊ | 187/213 [16:02<00:36,  1.41s/it]"
     ]
    },
    {
     "name": "stdout",
     "output_type": "stream",
     "text": [
      "Successfully processed preprocessed_71008012\n",
      "File processed successfully in 1.77 seconds\n",
      "\n",
      "Processing file 188/213\n",
      "Starting to process: preprocessed_71004015\n",
      "Loaded file: preprocessed_71004015, Sample rate: 48000, Shape: (52041,), Size: 0.10 MB\n",
      "Processing preprocessed_71004015 using GPU\n"
     ]
    },
    {
     "name": "stderr",
     "output_type": "stream",
     "text": [
      "Processing files:  88%|████████▊ | 188/213 [16:03<00:33,  1.33s/it]"
     ]
    },
    {
     "name": "stdout",
     "output_type": "stream",
     "text": [
      "Successfully processed preprocessed_71004015\n",
      "File processed successfully in 1.16 seconds\n",
      "\n",
      "Processing file 189/213\n",
      "Starting to process: preprocessed_71002017\n",
      "Loaded file: preprocessed_71002017, Sample rate: 48000, Shape: (14054,), Size: 0.03 MB\n",
      "Processing preprocessed_71002017 using GPU\n"
     ]
    },
    {
     "name": "stderr",
     "output_type": "stream",
     "text": [
      "Processing files:  89%|████████▊ | 189/213 [16:03<00:27,  1.15s/it]"
     ]
    },
    {
     "name": "stdout",
     "output_type": "stream",
     "text": [
      "Successfully processed preprocessed_71002017\n",
      "File processed successfully in 0.72 seconds\n",
      "\n",
      "Processing file 190/213\n",
      "Starting to process: preprocessed_7101000M\n",
      "Loaded file: preprocessed_7101000M, Sample rate: 48000, Shape: (220385,), Size: 0.42 MB\n",
      "Processing preprocessed_7101000M using GPU\n"
     ]
    },
    {
     "name": "stderr",
     "output_type": "stream",
     "text": [
      "Processing files:  89%|████████▉ | 190/213 [16:06<00:35,  1.55s/it]"
     ]
    },
    {
     "name": "stdout",
     "output_type": "stream",
     "text": [
      "Successfully processed preprocessed_7101000M\n",
      "File processed successfully in 2.48 seconds\n",
      "Progress saved. Processed 190/213 files\n",
      "\n",
      "Processing file 191/213\n",
      "Starting to process: preprocessed_7100801K\n",
      "Loaded file: preprocessed_7100801K, Sample rate: 48000, Shape: (80917,), Size: 0.15 MB\n",
      "Processing preprocessed_7100801K using GPU\n"
     ]
    },
    {
     "name": "stderr",
     "output_type": "stream",
     "text": [
      "Processing files:  90%|████████▉ | 191/213 [16:07<00:32,  1.49s/it]"
     ]
    },
    {
     "name": "stdout",
     "output_type": "stream",
     "text": [
      "Successfully processed preprocessed_7100801K\n",
      "File processed successfully in 1.33 seconds\n",
      "\n",
      "Processing file 192/213\n",
      "Starting to process: preprocessed_6400801E\n",
      "Loaded file: preprocessed_6400801E, Sample rate: 48000, Shape: (508190,), Size: 0.97 MB\n",
      "Processing preprocessed_6400801E using GPU\n"
     ]
    },
    {
     "name": "stderr",
     "output_type": "stream",
     "text": [
      "Processing files:  90%|█████████ | 192/213 [16:12<00:51,  2.45s/it]"
     ]
    },
    {
     "name": "stdout",
     "output_type": "stream",
     "text": [
      "Successfully processed preprocessed_6400801E\n",
      "File processed successfully in 4.68 seconds\n",
      "\n",
      "Processing file 193/213\n",
      "Starting to process: preprocessed_64013001\n",
      "Loaded file: preprocessed_64013001, Sample rate: 48000, Shape: (25841,), Size: 0.05 MB\n",
      "Processing preprocessed_64013001 using GPU\n"
     ]
    },
    {
     "name": "stderr",
     "output_type": "stream",
     "text": [
      "Processing files:  91%|█████████ | 193/213 [16:13<00:39,  1.97s/it]"
     ]
    },
    {
     "name": "stdout",
     "output_type": "stream",
     "text": [
      "Successfully processed preprocessed_64013001\n",
      "File processed successfully in 0.86 seconds\n",
      "\n",
      "Processing file 194/213\n",
      "Starting to process: preprocessed_6400800L\n",
      "Loaded file: preprocessed_6400800L, Sample rate: 48000, Shape: (36956,), Size: 0.07 MB\n",
      "Processing preprocessed_6400800L using GPU\n"
     ]
    },
    {
     "name": "stderr",
     "output_type": "stream",
     "text": [
      "Processing files:  91%|█████████ | 194/213 [16:14<00:31,  1.66s/it]"
     ]
    },
    {
     "name": "stdout",
     "output_type": "stream",
     "text": [
      "Successfully processed preprocessed_6400800L\n",
      "File processed successfully in 0.93 seconds\n",
      "\n",
      "Processing file 195/213\n",
      "Starting to process: preprocessed_6400800Y\n",
      "Loaded file: preprocessed_6400800Y, Sample rate: 48000, Shape: (507945,), Size: 0.97 MB\n",
      "Processing preprocessed_6400800Y using GPU\n"
     ]
    },
    {
     "name": "stderr",
     "output_type": "stream",
     "text": [
      "Processing files:  92%|█████████▏| 195/213 [16:18<00:45,  2.52s/it]"
     ]
    },
    {
     "name": "stdout",
     "output_type": "stream",
     "text": [
      "Successfully processed preprocessed_6400800Y\n",
      "File processed successfully in 4.53 seconds\n",
      "Progress saved. Processed 195/213 files\n",
      "\n",
      "Processing file 196/213\n",
      "Starting to process: preprocessed_6400900B\n",
      "Loaded file: preprocessed_6400900B, Sample rate: 48000, Shape: (43913,), Size: 0.08 MB\n",
      "Processing preprocessed_6400900B using GPU\n"
     ]
    },
    {
     "name": "stderr",
     "output_type": "stream",
     "text": [
      "Processing files:  92%|█████████▏| 196/213 [16:19<00:35,  2.07s/it]"
     ]
    },
    {
     "name": "stdout",
     "output_type": "stream",
     "text": [
      "Successfully processed preprocessed_6400900B\n",
      "File processed successfully in 1.01 seconds\n",
      "\n",
      "Processing file 197/213\n",
      "Starting to process: preprocessed_6400900G\n",
      "Loaded file: preprocessed_6400900G, Sample rate: 48000, Shape: (61643,), Size: 0.12 MB\n",
      "Processing preprocessed_6400900G using GPU\n"
     ]
    },
    {
     "name": "stderr",
     "output_type": "stream",
     "text": [
      "Processing files:  92%|█████████▏| 197/213 [16:20<00:28,  1.79s/it]"
     ]
    },
    {
     "name": "stdout",
     "output_type": "stream",
     "text": [
      "Successfully processed preprocessed_6400900G\n",
      "File processed successfully in 1.15 seconds\n",
      "\n",
      "Processing file 198/213\n",
      "Starting to process: preprocessed_79029004\n",
      "Loaded file: preprocessed_79029004, Sample rate: 48000, Shape: (61200,), Size: 0.12 MB\n",
      "Processing preprocessed_79029004 using GPU\n"
     ]
    },
    {
     "name": "stderr",
     "output_type": "stream",
     "text": [
      "Processing files:  93%|█████████▎| 198/213 [16:22<00:23,  1.59s/it]"
     ]
    },
    {
     "name": "stdout",
     "output_type": "stream",
     "text": [
      "Successfully processed preprocessed_79029004\n",
      "File processed successfully in 1.11 seconds\n",
      "\n",
      "Processing file 199/213\n",
      "Starting to process: preprocessed_7501700B\n",
      "Loaded file: preprocessed_7501700B, Sample rate: 48000, Shape: (68175,), Size: 0.13 MB\n",
      "Processing preprocessed_7501700B using GPU\n"
     ]
    },
    {
     "name": "stderr",
     "output_type": "stream",
     "text": [
      "Processing files:  93%|█████████▎| 199/213 [16:24<00:24,  1.72s/it]"
     ]
    },
    {
     "name": "stdout",
     "output_type": "stream",
     "text": [
      "Successfully processed preprocessed_7501700B\n",
      "File processed successfully in 2.04 seconds\n",
      "\n",
      "Processing file 200/213\n",
      "Starting to process: preprocessed_8600804N\n",
      "Loaded file: preprocessed_8600804N, Sample rate: 48000, Shape: (125155,), Size: 0.24 MB\n",
      "Processing preprocessed_8600804N using GPU\n"
     ]
    },
    {
     "name": "stderr",
     "output_type": "stream",
     "text": [
      "Processing files:  94%|█████████▍| 200/213 [16:25<00:22,  1.70s/it]"
     ]
    },
    {
     "name": "stdout",
     "output_type": "stream",
     "text": [
      "Successfully processed preprocessed_8600804N\n",
      "File processed successfully in 1.64 seconds\n",
      "Progress saved. Processed 200/213 files\n",
      "\n",
      "Processing file 201/213\n",
      "Starting to process: preprocessed_8600804B\n",
      "Loaded file: preprocessed_8600804B, Sample rate: 48000, Shape: (78669,), Size: 0.15 MB\n",
      "Processing preprocessed_8600804B using GPU\n"
     ]
    },
    {
     "name": "stderr",
     "output_type": "stream",
     "text": [
      "Processing files:  94%|█████████▍| 201/213 [16:27<00:18,  1.58s/it]"
     ]
    },
    {
     "name": "stdout",
     "output_type": "stream",
     "text": [
      "Successfully processed preprocessed_8600804B\n",
      "File processed successfully in 1.31 seconds\n",
      "\n",
      "Processing file 202/213\n",
      "Starting to process: preprocessed_79022004\n",
      "Loaded file: preprocessed_79022004, Sample rate: 48000, Shape: (329012,), Size: 0.63 MB\n",
      "Processing preprocessed_79022004 using GPU\n"
     ]
    },
    {
     "name": "stderr",
     "output_type": "stream",
     "text": [
      "Processing files:  95%|█████████▍| 202/213 [16:30<00:23,  2.11s/it]"
     ]
    },
    {
     "name": "stdout",
     "output_type": "stream",
     "text": [
      "Successfully processed preprocessed_79022004\n",
      "File processed successfully in 3.33 seconds\n",
      "\n",
      "Processing file 203/213\n",
      "Starting to process: preprocessed_5801801F\n",
      "Loaded file: preprocessed_5801801F, Sample rate: 48000, Shape: (305511,), Size: 0.58 MB\n",
      "Processing preprocessed_5801801F using GPU\n"
     ]
    },
    {
     "name": "stderr",
     "output_type": "stream",
     "text": [
      "Processing files:  95%|█████████▌| 203/213 [16:33<00:23,  2.37s/it]"
     ]
    },
    {
     "name": "stdout",
     "output_type": "stream",
     "text": [
      "Successfully processed preprocessed_5801801F\n",
      "File processed successfully in 2.99 seconds\n",
      "\n",
      "Processing file 204/213\n",
      "Starting to process: preprocessed_6608900Q\n",
      "Loaded file: preprocessed_6608900Q, Sample rate: 48000, Shape: (164117,), Size: 0.31 MB\n",
      "Processing preprocessed_6608900Q using GPU\n"
     ]
    },
    {
     "name": "stderr",
     "output_type": "stream",
     "text": [
      "Processing files:  96%|█████████▌| 204/213 [16:35<00:20,  2.24s/it]"
     ]
    },
    {
     "name": "stdout",
     "output_type": "stream",
     "text": [
      "Successfully processed preprocessed_6608900Q\n",
      "File processed successfully in 1.91 seconds\n",
      "\n",
      "Processing file 205/213\n",
      "Starting to process: preprocessed_66002A01\n",
      "Loaded file: preprocessed_66002A01, Sample rate: 48000, Shape: (160079,), Size: 0.31 MB\n",
      "Processing preprocessed_66002A01 using GPU\n"
     ]
    },
    {
     "name": "stderr",
     "output_type": "stream",
     "text": [
      "Processing files:  96%|█████████▌| 205/213 [16:37<00:17,  2.14s/it]"
     ]
    },
    {
     "name": "stdout",
     "output_type": "stream",
     "text": [
      "Successfully processed preprocessed_66002A01\n",
      "File processed successfully in 1.90 seconds\n",
      "Progress saved. Processed 205/213 files\n",
      "\n",
      "Processing file 206/213\n",
      "Starting to process: preprocessed_6609000L\n",
      "Loaded file: preprocessed_6609000L, Sample rate: 48000, Shape: (180288,), Size: 0.34 MB\n",
      "Processing preprocessed_6609000L using GPU\n"
     ]
    },
    {
     "name": "stderr",
     "output_type": "stream",
     "text": [
      "Processing files:  97%|█████████▋| 206/213 [16:39<00:14,  2.13s/it]"
     ]
    },
    {
     "name": "stdout",
     "output_type": "stream",
     "text": [
      "Successfully processed preprocessed_6609000L\n",
      "File processed successfully in 2.11 seconds\n",
      "\n",
      "Processing file 207/213\n",
      "Starting to process: preprocessed_66002A02\n",
      "Loaded file: preprocessed_66002A02, Sample rate: 48000, Shape: (66408,), Size: 0.13 MB\n",
      "Processing preprocessed_66002A02 using GPU\n"
     ]
    },
    {
     "name": "stderr",
     "output_type": "stream",
     "text": [
      "Processing files:  97%|█████████▋| 207/213 [16:40<00:11,  1.85s/it]"
     ]
    },
    {
     "name": "stdout",
     "output_type": "stream",
     "text": [
      "Successfully processed preprocessed_66002A02\n",
      "File processed successfully in 1.19 seconds\n",
      "\n",
      "Processing file 208/213\n",
      "Starting to process: preprocessed_6608900L\n",
      "Loaded file: preprocessed_6608900L, Sample rate: 48000, Shape: (172887,), Size: 0.33 MB\n",
      "Processing preprocessed_6608900L using GPU\n"
     ]
    },
    {
     "name": "stderr",
     "output_type": "stream",
     "text": [
      "Processing files:  98%|█████████▊| 208/213 [16:42<00:09,  1.91s/it]"
     ]
    },
    {
     "name": "stdout",
     "output_type": "stream",
     "text": [
      "Successfully processed preprocessed_6608900L\n",
      "File processed successfully in 2.06 seconds\n",
      "\n",
      "Processing file 209/213\n",
      "Starting to process: preprocessed_6608500M\n",
      "Loaded file: preprocessed_6608500M, Sample rate: 48000, Shape: (161264,), Size: 0.31 MB\n",
      "Processing preprocessed_6608500M using GPU\n"
     ]
    },
    {
     "name": "stderr",
     "output_type": "stream",
     "text": [
      "Processing files:  98%|█████████▊| 209/213 [16:44<00:07,  1.91s/it]"
     ]
    },
    {
     "name": "stdout",
     "output_type": "stream",
     "text": [
      "Successfully processed preprocessed_6608500M\n",
      "File processed successfully in 1.91 seconds\n",
      "\n",
      "Processing file 210/213\n",
      "Starting to process: preprocessed_66090013\n",
      "Loaded file: preprocessed_66090013, Sample rate: 48000, Shape: (149520,), Size: 0.29 MB\n",
      "Processing preprocessed_66090013 using GPU\n"
     ]
    },
    {
     "name": "stderr",
     "output_type": "stream",
     "text": [
      "Processing files:  99%|█████████▊| 210/213 [16:46<00:05,  1.89s/it]"
     ]
    },
    {
     "name": "stdout",
     "output_type": "stream",
     "text": [
      "Successfully processed preprocessed_66090013\n",
      "File processed successfully in 1.82 seconds\n",
      "Progress saved. Processed 210/213 files\n",
      "\n",
      "Processing file 211/213\n",
      "Starting to process: preprocessed_ice-cracking2\n",
      "Loaded file: preprocessed_ice-cracking2, Sample rate: 48000, Shape: (292096,), Size: 0.56 MB\n",
      "Processing preprocessed_ice-cracking2 using GPU\n"
     ]
    },
    {
     "name": "stderr",
     "output_type": "stream",
     "text": [
      "Processing files:  99%|█████████▉| 211/213 [16:49<00:04,  2.20s/it]"
     ]
    },
    {
     "name": "stdout",
     "output_type": "stream",
     "text": [
      "Successfully processed preprocessed_ice-cracking2\n",
      "File processed successfully in 2.94 seconds\n",
      "\n",
      "Processing file 212/213\n",
      "Starting to process: preprocessed_ice-cracking\n",
      "Loaded file: preprocessed_ice-cracking, Sample rate: 48000, Shape: (197376,), Size: 0.38 MB\n",
      "Processing preprocessed_ice-cracking using GPU\n"
     ]
    },
    {
     "name": "stderr",
     "output_type": "stream",
     "text": [
      "Processing files: 100%|█████████▉| 212/213 [16:51<00:02,  2.20s/it]"
     ]
    },
    {
     "name": "stdout",
     "output_type": "stream",
     "text": [
      "Successfully processed preprocessed_ice-cracking\n",
      "File processed successfully in 2.20 seconds\n",
      "\n",
      "Processing file 213/213\n",
      "Starting to process: preprocessed_Earthquake sound3\n",
      "Loaded file: preprocessed_Earthquake sound3, Sample rate: 48000, Shape: (1447937,), Size: 2.76 MB\n",
      "Processing preprocessed_Earthquake sound3 using GPU\n"
     ]
    },
    {
     "name": "stderr",
     "output_type": "stream",
     "text": [
      "Processing files: 100%|██████████| 213/213 [17:05<00:00,  4.81s/it]"
     ]
    },
    {
     "name": "stdout",
     "output_type": "stream",
     "text": [
      "Successfully processed preprocessed_Earthquake sound3\n",
      "File processed successfully in 13.89 seconds\n",
      "\n",
      "Feature extraction complete. Success: 196, Failed: 17\n",
      "\n",
      "Feature extraction completed in 1025.35 seconds!\n"
     ]
    },
    {
     "name": "stderr",
     "output_type": "stream",
     "text": [
      "\n"
     ]
    },
    {
     "ename": "ModuleNotFoundError",
     "evalue": "No module named 'create_visualizations'",
     "output_type": "error",
     "traceback": [
      "\u001b[0;31m---------------------------------------------------------------------------\u001b[0m",
      "\u001b[0;31mModuleNotFoundError\u001b[0m                       Traceback (most recent call last)",
      "Cell \u001b[0;32mIn[37], line 435\u001b[0m\n\u001b[1;32m    433\u001b[0m \u001b[38;5;66;03m# Create visualizations if we have any extracted features\u001b[39;00m\n\u001b[1;32m    434\u001b[0m \u001b[38;5;28;01mif\u001b[39;00m \u001b[38;5;28mlen\u001b[39m(df[df[\u001b[38;5;124m'\u001b[39m\u001b[38;5;124mfeatures_extracted\u001b[39m\u001b[38;5;124m'\u001b[39m] \u001b[38;5;241m==\u001b[39m \u001b[38;5;28;01mTrue\u001b[39;00m]) \u001b[38;5;241m>\u001b[39m \u001b[38;5;241m0\u001b[39m:\n\u001b[0;32m--> 435\u001b[0m     \u001b[38;5;28;01mfrom\u001b[39;00m \u001b[38;5;21;01mcreate_visualizations\u001b[39;00m \u001b[38;5;28;01mimport\u001b[39;00m create_feature_visualizations\n\u001b[1;32m    436\u001b[0m     create_feature_visualizations(df)\n\u001b[1;32m    437\u001b[0m     \u001b[38;5;28mprint\u001b[39m(\u001b[38;5;124m\"\u001b[39m\u001b[38;5;124mFeature visualizations created\u001b[39m\u001b[38;5;124m\"\u001b[39m)\n",
      "\u001b[0;31mModuleNotFoundError\u001b[0m: No module named 'create_visualizations'"
     ]
    }
   ],
   "source": [
    "import os\n",
    "import numpy as np\n",
    "import pandas as pd\n",
    "import matplotlib.pyplot as plt\n",
    "from scipy.io import wavfile\n",
    "from tqdm import tqdm\n",
    "import warnings\n",
    "import torch\n",
    "import time\n",
    "import signal\n",
    "from contextlib import contextmanager\n",
    "import threading\n",
    "\n",
    "# Suppress warnings\n",
    "warnings.filterwarnings('ignore')\n",
    "\n",
    "# Define paths\n",
    "DATASET_PATH = '/Users/yashsawrikar/Documents/VIT Labs/Semester 8/Senior Design Project/Dataset - Sample'\n",
    "OUTPUT_DIR = os.path.join(DATASET_PATH, 'Preprocessed')\n",
    "CSV_PATH = os.path.join(OUTPUT_DIR, 'audio_metadata.csv')\n",
    "FEATURES_DIR = os.path.join(OUTPUT_DIR, 'Features')\n",
    "\n",
    "# Configuration\n",
    "BATCH_SIZE = 10              # Process files in batches (smaller batch size)\n",
    "FILE_TIMEOUT = 30            # Maximum seconds to spend on any single file\n",
    "VERBOSE = True               # Print detailed information for debugging\n",
    "\n",
    "# Check if MPS is available\n",
    "if torch.backends.mps.is_available():\n",
    "    device = torch.device(\"mps\")\n",
    "    print(\"Using MPS (Apple Metal) device for acceleration\")\n",
    "else:\n",
    "    device = torch.device(\"cpu\")\n",
    "    print(\"MPS not available, using CPU instead\")\n",
    "\n",
    "# Timeout handler for individual file processing\n",
    "class TimeoutError(Exception):\n",
    "    pass\n",
    "\n",
    "@contextmanager\n",
    "def time_limit(seconds):\n",
    "    def signal_handler(signum, frame):\n",
    "        raise TimeoutError(\"Timed out!\")\n",
    "    signal.signal(signal.SIGALRM, signal_handler)\n",
    "    signal.alarm(seconds)\n",
    "    try:\n",
    "        yield\n",
    "    finally:\n",
    "        signal.alarm(0)\n",
    "\n",
    "# Alternative timeout mechanism using threading\n",
    "def process_with_timeout(func, args, timeout):\n",
    "    result = [None]\n",
    "    exception = [None]\n",
    "    \n",
    "    def worker():\n",
    "        try:\n",
    "            result[0] = func(*args)\n",
    "        except Exception as e:\n",
    "            exception[0] = e\n",
    "    \n",
    "    thread = threading.Thread(target=worker)\n",
    "    thread.daemon = True\n",
    "    thread.start()\n",
    "    thread.join(timeout)\n",
    "    \n",
    "    if thread.is_alive():\n",
    "        return None, TimeoutError(f\"Processing timed out after {timeout} seconds\")\n",
    "    \n",
    "    if exception[0] is not None:\n",
    "        return None, exception[0]\n",
    "    \n",
    "    return result[0], None\n",
    "\n",
    "def ensure_dirs_exist():\n",
    "    \"\"\"Create all necessary directories.\"\"\"\n",
    "    dirs = [\n",
    "        FEATURES_DIR,\n",
    "        os.path.join(FEATURES_DIR, 'Spectrograms'),\n",
    "        os.path.join(FEATURES_DIR, 'STFT'),\n",
    "        os.path.join(FEATURES_DIR, 'MFCC_Plots'),\n",
    "        os.path.join(FEATURES_DIR, 'MFCC')\n",
    "    ]\n",
    "    for d in dirs:\n",
    "        os.makedirs(d, exist_ok=True)\n",
    "\n",
    "def extract_stft_features(audio_tensor, sr, file_id, use_gpu=True):\n",
    "    \"\"\"Extract STFT features using PyTorch with fallback to CPU if GPU fails.\"\"\"\n",
    "    try:\n",
    "        # Create output paths\n",
    "        stft_vis_path = os.path.join(FEATURES_DIR, 'Spectrograms', f\"{file_id}_spectrogram.png\")\n",
    "        stft_data_path = os.path.join(FEATURES_DIR, 'STFT', f\"{file_id}_stft.npy\")\n",
    "        \n",
    "        # Compute STFT using PyTorch\n",
    "        n_fft = min(2048, audio_tensor.shape[0]//2)\n",
    "        hop_length = n_fft // 4\n",
    "        \n",
    "        # Try GPU processing first if requested\n",
    "        if use_gpu:\n",
    "            try:\n",
    "                window = torch.hann_window(n_fft).to(device)\n",
    "                audio_gpu = audio_tensor.to(device)\n",
    "                \n",
    "                stft_complex = torch.stft(\n",
    "                    audio_gpu, \n",
    "                    n_fft=n_fft, \n",
    "                    hop_length=hop_length,\n",
    "                    window=window,\n",
    "                    return_complex=True\n",
    "                )\n",
    "                \n",
    "                # Convert to magnitude spectrogram in dB scale\n",
    "                S_mag = torch.abs(stft_complex)\n",
    "                S_db = 20 * torch.log10(torch.clamp(S_mag, min=1e-10))\n",
    "                \n",
    "                # Move back to CPU for visualization\n",
    "                S_db_np = S_db.cpu().numpy()\n",
    "            except Exception as e:\n",
    "                print(f\"GPU processing failed for STFT: {e}. Falling back to CPU.\")\n",
    "                use_gpu = False\n",
    "        \n",
    "        # Fall back to CPU if GPU failed or wasn't requested\n",
    "        if not use_gpu:\n",
    "            window = torch.hann_window(n_fft)\n",
    "            stft_complex = torch.stft(\n",
    "                audio_tensor, \n",
    "                n_fft=n_fft, \n",
    "                hop_length=hop_length,\n",
    "                window=window,\n",
    "                return_complex=True\n",
    "            )\n",
    "            \n",
    "            # Convert to magnitude spectrogram in dB scale\n",
    "            S_mag = torch.abs(stft_complex)\n",
    "            S_db = 20 * torch.log10(torch.clamp(S_mag, min=1e-10))\n",
    "            S_db_np = S_db.numpy()\n",
    "        \n",
    "        # Create spectrogram visualization\n",
    "        plt.figure(figsize=(10, 6))\n",
    "        plt.pcolormesh(np.arange(S_db_np.shape[1]), np.arange(S_db_np.shape[0]), S_db_np, shading='gouraud')\n",
    "        plt.ylabel('Frequency Bin')\n",
    "        plt.xlabel('Time Frame')\n",
    "        plt.title(f'Spectrogram - {file_id}')\n",
    "        plt.colorbar(label='Magnitude [dB]')\n",
    "        plt.tight_layout()\n",
    "        \n",
    "        # Save the spectrogram visualization\n",
    "        plt.savefig(stft_vis_path)\n",
    "        plt.close()\n",
    "        \n",
    "        # Save the STFT data\n",
    "        np.save(stft_data_path, S_db_np)\n",
    "        \n",
    "        return S_db_np, stft_vis_path, stft_data_path\n",
    "    except Exception as e:\n",
    "        print(f\"Error extracting STFT features for {file_id}: {e}\")\n",
    "        return None, None, None\n",
    "\n",
    "def extract_mfcc_like_features(audio_tensor, sr, file_id, use_gpu=True):\n",
    "    \"\"\"Create a simplified MFCC-like feature with fallback to CPU if GPU fails.\"\"\"\n",
    "    try:\n",
    "        # Create output paths\n",
    "        mfcc_vis_path = os.path.join(FEATURES_DIR, 'MFCC_Plots', f\"{file_id}_mfcc.png\")\n",
    "        mfcc_data_path = os.path.join(FEATURES_DIR, 'MFCC', f\"{file_id}_mfcc.npy\")\n",
    "        \n",
    "        # Just grab the STFT with different parameters for MFCC\n",
    "        n_fft = min(2048, audio_tensor.shape[0]//2)\n",
    "        hop_length = n_fft // 4\n",
    "        \n",
    "        # Try GPU processing first if requested\n",
    "        if use_gpu:\n",
    "            try:\n",
    "                window = torch.hann_window(n_fft).to(device)\n",
    "                audio_gpu = audio_tensor.to(device)\n",
    "                \n",
    "                stft_complex = torch.stft(\n",
    "                    audio_gpu, \n",
    "                    n_fft=n_fft, \n",
    "                    hop_length=hop_length,\n",
    "                    window=window,\n",
    "                    return_complex=True\n",
    "                )\n",
    "                \n",
    "                # Convert to magnitude\n",
    "                S_mag = torch.abs(stft_complex)\n",
    "                S_db = 20 * torch.log10(torch.clamp(S_mag, min=1e-10))\n",
    "                \n",
    "                # Take the lower part of the spectrogram for MFCC-like features\n",
    "                n_mfcc = min(40, S_db.shape[0]//2)\n",
    "                mfcc_like = S_db[:n_mfcc]\n",
    "                \n",
    "                # Move back to CPU for visualization\n",
    "                mfcc_like_np = mfcc_like.cpu().numpy()\n",
    "            except Exception as e:\n",
    "                print(f\"GPU processing failed for MFCC: {e}. Falling back to CPU.\")\n",
    "                use_gpu = False\n",
    "        \n",
    "        # Fall back to CPU if GPU failed or wasn't requested\n",
    "        if not use_gpu:\n",
    "            window = torch.hann_window(n_fft)\n",
    "            stft_complex = torch.stft(\n",
    "                audio_tensor, \n",
    "                n_fft=n_fft, \n",
    "                hop_length=hop_length,\n",
    "                window=window,\n",
    "                return_complex=True\n",
    "            )\n",
    "            \n",
    "            # Convert to magnitude\n",
    "            S_mag = torch.abs(stft_complex)\n",
    "            S_db = 20 * torch.log10(torch.clamp(S_mag, min=1e-10))\n",
    "            \n",
    "            # Take the lower part of the spectrogram for MFCC-like features\n",
    "            n_mfcc = min(40, S_db.shape[0]//2)\n",
    "            mfcc_like = S_db[:n_mfcc]\n",
    "            mfcc_like_np = mfcc_like.numpy()\n",
    "        \n",
    "        # Create visualization\n",
    "        plt.figure(figsize=(10, 6))\n",
    "        plt.pcolormesh(np.arange(mfcc_like_np.shape[1]), np.arange(mfcc_like_np.shape[0]), \n",
    "                      mfcc_like_np, shading='gouraud')\n",
    "        plt.ylabel('MFCC Coefficient')\n",
    "        plt.xlabel('Time Frame')\n",
    "        plt.title(f'MFCC-like Features - {file_id}')\n",
    "        plt.colorbar(label='Magnitude [dB]')\n",
    "        plt.tight_layout()\n",
    "        \n",
    "        # Save the visualization\n",
    "        plt.savefig(mfcc_vis_path)\n",
    "        plt.close()\n",
    "        \n",
    "        # Save the data\n",
    "        np.save(mfcc_data_path, mfcc_like_np)\n",
    "        \n",
    "        return mfcc_like_np, mfcc_vis_path, mfcc_data_path\n",
    "    except Exception as e:\n",
    "        print(f\"Error extracting MFCC features for {file_id}: {e}\")\n",
    "        return None, None, None\n",
    "\n",
    "def process_file(file_path):\n",
    "    \"\"\"Process a single file and extract features with timeout.\"\"\"\n",
    "    file_id = os.path.splitext(os.path.basename(file_path))[0]\n",
    "    print(f\"Starting to process: {file_id}\")\n",
    "    \n",
    "    try:\n",
    "        # Check file size first and warn if it's too large\n",
    "        file_size_mb = os.path.getsize(file_path) / (1024 * 1024)\n",
    "        if file_size_mb > 100:\n",
    "            print(f\"WARNING: File {file_id} is large: {file_size_mb:.2f} MB\")\n",
    "        \n",
    "        # Load audio\n",
    "        try:\n",
    "            sr, audio = wavfile.read(file_path)\n",
    "            \n",
    "            # Log file details for debugging\n",
    "            print(f\"Loaded file: {file_id}, Sample rate: {sr}, Shape: {audio.shape}, Size: {file_size_mb:.2f} MB\")\n",
    "            \n",
    "            # Convert to float32 normalized to [-1, 1] for processing\n",
    "            if audio.dtype == np.int16:\n",
    "                audio = audio.astype(np.float32) / 32767.0\n",
    "            elif audio.dtype == np.int32:\n",
    "                audio = audio.astype(np.float32) / 2147483647.0\n",
    "                \n",
    "            # If stereo, convert to mono\n",
    "            if len(audio.shape) > 1 and audio.shape[1] > 1:\n",
    "                audio = np.mean(audio, axis=1)\n",
    "            \n",
    "            # Convert to PyTorch tensor\n",
    "            audio_tensor = torch.tensor(audio, dtype=torch.float32)\n",
    "            \n",
    "        except Exception as e:\n",
    "            print(f\"ERROR: Failed to load audio file {file_path}: {e}\")\n",
    "            return None\n",
    "        \n",
    "        # Use CPU mode for larger files\n",
    "        use_gpu = file_size_mb < 50  # Use CPU for files larger than 50MB\n",
    "        device_str = \"GPU\" if use_gpu else \"CPU\"\n",
    "        print(f\"Processing {file_id} using {device_str}\")\n",
    "        \n",
    "        # Extract STFT features with timeout\n",
    "        stft_result, stft_error = process_with_timeout(\n",
    "            extract_stft_features, \n",
    "            (audio_tensor, sr, file_id, use_gpu), \n",
    "            FILE_TIMEOUT//2\n",
    "        )\n",
    "        \n",
    "        if stft_error:\n",
    "            print(f\"STFT extraction timed out or failed for {file_id}: {stft_error}\")\n",
    "            stft_features, stft_vis_path, stft_data_path = None, None, None\n",
    "        else:\n",
    "            stft_features, stft_vis_path, stft_data_path = stft_result\n",
    "        \n",
    "        # Extract MFCC-like features with timeout\n",
    "        mfcc_result, mfcc_error = process_with_timeout(\n",
    "            extract_mfcc_like_features, \n",
    "            (audio_tensor, sr, file_id, use_gpu), \n",
    "            FILE_TIMEOUT//2\n",
    "        )\n",
    "        \n",
    "        if mfcc_error:\n",
    "            print(f\"MFCC extraction timed out or failed for {file_id}: {mfcc_error}\")\n",
    "            mfcc_features, mfcc_vis_path, mfcc_data_path = None, None, None\n",
    "        else:\n",
    "            mfcc_features, mfcc_vis_path, mfcc_data_path = mfcc_result\n",
    "        \n",
    "        # Check if at least one extraction was successful\n",
    "        if stft_data_path or mfcc_data_path:\n",
    "            feature_info = {\n",
    "                'stft_path': stft_data_path,\n",
    "                'stft_vis_path': stft_vis_path,\n",
    "                'mfcc_path': mfcc_data_path,\n",
    "                'mfcc_vis_path': mfcc_vis_path\n",
    "            }\n",
    "            print(f\"Successfully processed {file_id}\")\n",
    "            return feature_info\n",
    "        else:\n",
    "            print(f\"Feature extraction failed for {file_id}\")\n",
    "            return None\n",
    "            \n",
    "    except TimeoutError:\n",
    "        print(f\"ERROR: Processing timed out for {file_id}\")\n",
    "        return None\n",
    "    except Exception as e:\n",
    "        print(f\"ERROR: Unexpected error processing {file_id}: {e}\")\n",
    "        return None\n",
    "\n",
    "def extract_features_from_csv():\n",
    "    \"\"\"Extract features with improved error handling and timeouts.\"\"\"\n",
    "    # Ensure directories exist\n",
    "    ensure_dirs_exist()\n",
    "    \n",
    "    # Check if CSV exists\n",
    "    if not os.path.exists(CSV_PATH):\n",
    "        print(f\"ERROR: CSV file not found: {CSV_PATH}\")\n",
    "        return None\n",
    "    \n",
    "    # Load metadata\n",
    "    try:\n",
    "        df = pd.read_csv(CSV_PATH)\n",
    "        print(f\"Loaded CSV with {len(df)} entries\")\n",
    "    except Exception as e:\n",
    "        print(f\"ERROR: Failed to load CSV: {e}\")\n",
    "        return None\n",
    "    \n",
    "    # Add feature columns if they don't exist\n",
    "    for col in ['stft_path', 'stft_vis_path', 'mfcc_path', 'mfcc_vis_path', 'features_extracted']:\n",
    "        if col not in df.columns:\n",
    "            df[col] = None if col != 'features_extracted' else False\n",
    "    \n",
    "    # Find files that need processing - look for preprocessed files\n",
    "    if 'preprocessed' in df.columns and 'preprocessed_path' in df.columns:\n",
    "        # Use preprocessed files if available\n",
    "        to_process = df[(df['preprocessed'] == True) & \n",
    "                         (df['features_extracted'] != True) & \n",
    "                         (df['preprocessed_path'].notna())]\n",
    "        file_path_col = 'preprocessed_path'\n",
    "        print(f\"Found {len(to_process)} preprocessed files that need feature extraction\")\n",
    "    else:\n",
    "        # Otherwise use original files\n",
    "        to_process = df[df['features_extracted'] != True]\n",
    "        file_path_col = 'path'\n",
    "        print(f\"No preprocessed files found, using {len(to_process)} original files\")\n",
    "    \n",
    "    if len(to_process) == 0:\n",
    "        print(\"No files to process! Either they're all processed or none are preprocessed.\")\n",
    "        return df\n",
    "    \n",
    "    # Track success and failure\n",
    "    successful = 0\n",
    "    failed = 0\n",
    "    \n",
    "    # Process files individually - batching changed to sequential to better identify issues\n",
    "    for i, (idx, row) in enumerate(tqdm(to_process.iterrows(), total=len(to_process), desc=\"Processing files\")):\n",
    "        print(f\"\\nProcessing file {i+1}/{len(to_process)}\")\n",
    "        \n",
    "        file_path = row[file_path_col]\n",
    "        \n",
    "        # Check if file exists\n",
    "        if not isinstance(file_path, str) or not os.path.exists(file_path):\n",
    "            print(f\"File not found or invalid path: {file_path}\")\n",
    "            failed += 1\n",
    "            continue\n",
    "        \n",
    "        # Process the file with overall timeout\n",
    "        try:\n",
    "            # Use the timeout mechanism\n",
    "            start_time = time.time()\n",
    "            feature_info = process_file(file_path)\n",
    "            end_time = time.time()\n",
    "            \n",
    "            if feature_info:\n",
    "                # Update dataframe with feature paths\n",
    "                for key, value in feature_info.items():\n",
    "                    df.loc[idx, key] = value\n",
    "                \n",
    "                df.loc[idx, 'features_extracted'] = True\n",
    "                successful += 1\n",
    "                print(f\"File processed successfully in {end_time - start_time:.2f} seconds\")\n",
    "            else:\n",
    "                failed += 1\n",
    "                print(f\"File processing failed after {end_time - start_time:.2f} seconds\")\n",
    "            \n",
    "            # Save progress after each file\n",
    "            if (i + 1) % 5 == 0:\n",
    "                df.to_csv(CSV_PATH, index=False)\n",
    "                print(f\"Progress saved. Processed {i+1}/{len(to_process)} files\")\n",
    "                \n",
    "        except Exception as e:\n",
    "            print(f\"ERROR: Failed to process file {file_path}: {e}\")\n",
    "            failed += 1\n",
    "    \n",
    "    # Final save\n",
    "    df.to_csv(CSV_PATH, index=False)\n",
    "    \n",
    "    print(f\"\\nFeature extraction complete. Success: {successful}, Failed: {failed}\")\n",
    "    return df\n",
    "\n",
    "# Run the extraction\n",
    "if __name__ == \"__main__\":\n",
    "    print(f\"PyTorch version: {torch.__version__}\")\n",
    "    print(f\"MPS available: {torch.backends.mps.is_available()}\")\n",
    "    print(f\"MPS built: {torch.backends.mps.is_built()}\")\n",
    "    \n",
    "    start_time = time.time()\n",
    "    print(f\"Starting feature extraction from {CSV_PATH}\")\n",
    "    \n",
    "    df = extract_features_from_csv()\n",
    "    \n",
    "    if df is not None:\n",
    "        end_time = time.time()\n",
    "        print(f\"\\nFeature extraction completed in {end_time - start_time:.2f} seconds!\")\n",
    "        \n",
    "        # Create visualizations if we have any extracted features\n",
    "        if len(df[df['features_extracted'] == True]) > 0:\n",
    "            from create_visualizations import create_feature_visualizations\n",
    "            create_feature_visualizations(df)\n",
    "            print(\"Feature visualizations created\")\n",
    "    else:\n",
    "        print(\"\\nFeature extraction failed. Check the errors above.\")"
   ]
  },
  {
   "cell_type": "code",
   "execution_count": null,
   "metadata": {},
   "outputs": [
    {
     "name": "stdout",
     "output_type": "stream",
     "text": [
      "Using MPS (Apple Metal) device for acceleration\n",
      "PyTorch version: 2.6.0\n",
      "MPS available: True\n",
      "MPS built: True\n",
      "Starting feature extraction from /Users/yashsawrikar/Documents/VIT Labs/Semester 8/Senior Design Project/Dataset - Sample/Preprocessed/audio_metadata.csv\n",
      "Loaded CSV with 213 entries\n",
      "Found 17 preprocessed files that need feature extraction\n"
     ]
    },
    {
     "name": "stderr",
     "output_type": "stream",
     "text": [
      "Processing files:   0%|          | 0/17 [00:00<?, ?it/s]"
     ]
    },
    {
     "name": "stdout",
     "output_type": "stream",
     "text": [
      "\n",
      "Processing file 1/17\n",
      "Starting to process: preprocessed_6400504G\n",
      "Loaded file: preprocessed_6400504G, Sample rate: 48000, Shape: (7661689,), Size: 14.61 MB\n",
      "Processing preprocessed_6400504G using GPU\n",
      "STFT extraction timed out or failed for preprocessed_6400504G: Processing timed out after 15 seconds\n"
     ]
    },
    {
     "name": "stderr",
     "output_type": "stream",
     "text": [
      "Processing files:   6%|▌         | 1/17 [00:30<08:01, 30.12s/it]"
     ]
    },
    {
     "name": "stdout",
     "output_type": "stream",
     "text": [
      "MFCC extraction timed out or failed for preprocessed_6400504G: Processing timed out after 15 seconds\n",
      "Feature extraction failed for preprocessed_6400504G\n",
      "File processing failed after 30.11 seconds\n",
      "\n",
      "Processing file 2/17\n",
      "Starting to process: preprocessed_9400807L\n",
      "Loaded file: preprocessed_9400807L, Sample rate: 48000, Shape: (71356,), Size: 0.14 MB\n",
      "Processing preprocessed_9400807L using GPU\n",
      "STFT extraction timed out or failed for preprocessed_9400807L: Processing timed out after 15 seconds\n"
     ]
    },
    {
     "name": "stderr",
     "output_type": "stream",
     "text": [
      "Processing files:  12%|█▏        | 2/17 [01:00<07:32, 30.14s/it]"
     ]
    },
    {
     "name": "stdout",
     "output_type": "stream",
     "text": [
      "MFCC extraction timed out or failed for preprocessed_9400807L: Processing timed out after 15 seconds\n",
      "Feature extraction failed for preprocessed_9400807L\n",
      "File processing failed after 30.11 seconds\n",
      "\n",
      "Processing file 3/17\n",
      "Starting to process: preprocessed_9400800Z\n",
      "Loaded file: preprocessed_9400800Z, Sample rate: 48000, Shape: (34942,), Size: 0.07 MB\n",
      "Processing preprocessed_9400800Z using GPU\n",
      "STFT extraction timed out or failed for preprocessed_9400800Z: Processing timed out after 15 seconds\n"
     ]
    },
    {
     "name": "stderr",
     "output_type": "stream",
     "text": [
      "Processing files:  18%|█▊        | 3/17 [01:30<07:01, 30.11s/it]"
     ]
    },
    {
     "name": "stdout",
     "output_type": "stream",
     "text": [
      "MFCC extraction timed out or failed for preprocessed_9400800Z: Processing timed out after 15 seconds\n",
      "Feature extraction failed for preprocessed_9400800Z\n",
      "File processing failed after 30.03 seconds\n",
      "\n",
      "Processing file 4/17\n",
      "Starting to process: preprocessed_7001200D\n",
      "Loaded file: preprocessed_7001200D, Sample rate: 48000, Shape: (28517,), Size: 0.05 MB\n",
      "Processing preprocessed_7001200D using GPU\n",
      "STFT extraction timed out or failed for preprocessed_7001200D: Processing timed out after 15 seconds\n"
     ]
    },
    {
     "name": "stderr",
     "output_type": "stream",
     "text": [
      "Processing files:  24%|██▎       | 4/17 [02:00<06:31, 30.09s/it]"
     ]
    },
    {
     "name": "stdout",
     "output_type": "stream",
     "text": [
      "MFCC extraction timed out or failed for preprocessed_7001200D: Processing timed out after 15 seconds\n",
      "Feature extraction failed for preprocessed_7001200D\n",
      "File processing failed after 30.03 seconds\n",
      "\n",
      "Processing file 5/17\n",
      "Starting to process: preprocessed_70012001\n",
      "Loaded file: preprocessed_70012001, Sample rate: 48000, Shape: (62761,), Size: 0.12 MB\n",
      "Processing preprocessed_70012001 using GPU\n",
      "STFT extraction timed out or failed for preprocessed_70012001: Processing timed out after 15 seconds\n"
     ]
    },
    {
     "name": "stderr",
     "output_type": "stream",
     "text": [
      "Processing files:  29%|██▉       | 5/17 [02:30<06:01, 30.12s/it]"
     ]
    },
    {
     "name": "stdout",
     "output_type": "stream",
     "text": [
      "MFCC extraction timed out or failed for preprocessed_70012001: Processing timed out after 15 seconds\n",
      "Feature extraction failed for preprocessed_70012001\n",
      "File processing failed after 30.02 seconds\n",
      "Progress saved. Processed 5/17 files\n",
      "\n",
      "Processing file 6/17\n",
      "Starting to process: preprocessed_6200800S\n",
      "Loaded file: preprocessed_6200800S, Sample rate: 48000, Shape: (53569,), Size: 0.10 MB\n",
      "Processing preprocessed_6200800S using GPU\n",
      "STFT extraction timed out or failed for preprocessed_6200800S: Processing timed out after 15 seconds\n"
     ]
    },
    {
     "name": "stderr",
     "output_type": "stream",
     "text": [
      "Processing files:  35%|███▌      | 6/17 [03:00<05:31, 30.10s/it]"
     ]
    },
    {
     "name": "stdout",
     "output_type": "stream",
     "text": [
      "MFCC extraction timed out or failed for preprocessed_6200800S: Processing timed out after 15 seconds\n",
      "Feature extraction failed for preprocessed_6200800S\n",
      "File processing failed after 30.03 seconds\n",
      "\n",
      "Processing file 7/17\n",
      "Starting to process: preprocessed_70014015\n",
      "Loaded file: preprocessed_70014015, Sample rate: 48000, Shape: (41984,), Size: 0.08 MB\n",
      "Processing preprocessed_70014015 using GPU\n",
      "STFT extraction timed out or failed for preprocessed_70014015: Processing timed out after 15 seconds\n"
     ]
    },
    {
     "name": "stderr",
     "output_type": "stream",
     "text": [
      "Processing files:  41%|████      | 7/17 [03:30<05:01, 30.15s/it]"
     ]
    },
    {
     "name": "stdout",
     "output_type": "stream",
     "text": [
      "MFCC extraction timed out or failed for preprocessed_70014015: Processing timed out after 15 seconds\n",
      "Feature extraction failed for preprocessed_70014015\n",
      "File processing failed after 30.04 seconds\n",
      "\n",
      "Processing file 8/17\n",
      "Starting to process: preprocessed_6200800Q\n",
      "Loaded file: preprocessed_6200800Q, Sample rate: 48000, Shape: (63692,), Size: 0.12 MB\n",
      "Processing preprocessed_6200800Q using GPU\n",
      "STFT extraction timed out or failed for preprocessed_6200800Q: Processing timed out after 15 seconds\n"
     ]
    },
    {
     "name": "stderr",
     "output_type": "stream",
     "text": [
      "Processing files:  47%|████▋     | 8/17 [04:01<04:31, 30.15s/it]"
     ]
    },
    {
     "name": "stdout",
     "output_type": "stream",
     "text": [
      "MFCC extraction timed out or failed for preprocessed_6200800Q: Processing timed out after 15 seconds\n",
      "Feature extraction failed for preprocessed_6200800Q\n",
      "File processing failed after 30.06 seconds\n",
      "\n",
      "Processing file 9/17\n",
      "Starting to process: preprocessed_6200800K\n",
      "Loaded file: preprocessed_6200800K, Sample rate: 48000, Shape: (60318,), Size: 0.12 MB\n",
      "Processing preprocessed_6200800K using GPU\n",
      "STFT extraction timed out or failed for preprocessed_6200800K: Processing timed out after 15 seconds\n"
     ]
    },
    {
     "name": "stderr",
     "output_type": "stream",
     "text": [
      "Processing files:  53%|█████▎    | 9/17 [04:31<04:01, 30.23s/it]"
     ]
    },
    {
     "name": "stdout",
     "output_type": "stream",
     "text": [
      "MFCC extraction timed out or failed for preprocessed_6200800K: Processing timed out after 15 seconds\n",
      "Feature extraction failed for preprocessed_6200800K\n",
      "File processing failed after 30.13 seconds\n",
      "\n",
      "Processing file 10/17\n",
      "Starting to process: preprocessed_7001300A\n",
      "Loaded file: preprocessed_7001300A, Sample rate: 48000, Shape: (209394,), Size: 0.40 MB\n",
      "Processing preprocessed_7001300A using GPU\n",
      "STFT extraction timed out or failed for preprocessed_7001300A: Processing timed out after 15 seconds\n"
     ]
    },
    {
     "name": "stderr",
     "output_type": "stream",
     "text": [
      "Processing files:  59%|█████▉    | 10/17 [05:01<03:31, 30.22s/it]"
     ]
    },
    {
     "name": "stdout",
     "output_type": "stream",
     "text": [
      "MFCC extraction timed out or failed for preprocessed_7001300A: Processing timed out after 15 seconds\n",
      "Feature extraction failed for preprocessed_7001300A\n",
      "File processing failed after 30.07 seconds\n",
      "Progress saved. Processed 10/17 files\n",
      "\n",
      "Processing file 11/17\n",
      "Starting to process: preprocessed_77008001\n",
      "Loaded file: preprocessed_77008001, Sample rate: 48000, Shape: (59175,), Size: 0.11 MB\n",
      "Processing preprocessed_77008001 using GPU\n",
      "STFT extraction timed out or failed for preprocessed_77008001: Processing timed out after 15 seconds\n"
     ]
    },
    {
     "name": "stderr",
     "output_type": "stream",
     "text": [
      "Processing files:  65%|██████▍   | 11/17 [05:31<03:01, 30.17s/it]"
     ]
    },
    {
     "name": "stdout",
     "output_type": "stream",
     "text": [
      "MFCC extraction timed out or failed for preprocessed_77008001: Processing timed out after 15 seconds\n",
      "Feature extraction failed for preprocessed_77008001\n",
      "File processing failed after 30.04 seconds\n",
      "\n",
      "Processing file 12/17\n",
      "Starting to process: preprocessed_9320100S\n",
      "Loaded file: preprocessed_9320100S, Sample rate: 48000, Shape: (272250,), Size: 0.52 MB\n",
      "Processing preprocessed_9320100S using GPU\n",
      "STFT extraction timed out or failed for preprocessed_9320100S: Processing timed out after 15 seconds\n"
     ]
    },
    {
     "name": "stderr",
     "output_type": "stream",
     "text": [
      "Processing files:  71%|███████   | 12/17 [06:37<03:24, 40.99s/it]"
     ]
    },
    {
     "name": "stdout",
     "output_type": "stream",
     "text": [
      "MFCC extraction timed out or failed for preprocessed_9320100S: Processing timed out after 15 seconds\n",
      "Feature extraction failed for preprocessed_9320100S\n",
      "File processing failed after 65.65 seconds\n",
      "\n",
      "Processing file 13/17\n",
      "Starting to process: preprocessed_61056002\n",
      "Loaded file: preprocessed_61056002, Sample rate: 48000, Shape: (923280,), Size: 1.76 MB\n",
      "Processing preprocessed_61056002 using GPU\n",
      "STFT extraction timed out or failed for preprocessed_61056002: Processing timed out after 15 seconds\n"
     ]
    },
    {
     "name": "stderr",
     "output_type": "stream",
     "text": [
      "Processing files:  76%|███████▋  | 13/17 [07:07<02:30, 37.69s/it]"
     ]
    },
    {
     "name": "stdout",
     "output_type": "stream",
     "text": [
      "MFCC extraction timed out or failed for preprocessed_61056002: Processing timed out after 15 seconds\n",
      "Feature extraction failed for preprocessed_61056002\n",
      "File processing failed after 30.08 seconds\n",
      "\n",
      "Processing file 14/17\n",
      "Starting to process: preprocessed_7700901B\n",
      "Loaded file: preprocessed_7700901B, Sample rate: 48000, Shape: (68025,), Size: 0.13 MB\n",
      "Processing preprocessed_7700901B using GPU\n",
      "STFT extraction timed out or failed for preprocessed_7700901B: Processing timed out after 15 seconds\n"
     ]
    },
    {
     "name": "stderr",
     "output_type": "stream",
     "text": [
      "Processing files:  82%|████████▏ | 14/17 [07:37<01:46, 35.43s/it]"
     ]
    },
    {
     "name": "stdout",
     "output_type": "stream",
     "text": [
      "MFCC extraction timed out or failed for preprocessed_7700901B: Processing timed out after 15 seconds\n",
      "Feature extraction failed for preprocessed_7700901B\n",
      "File processing failed after 30.10 seconds\n",
      "\n",
      "Processing file 15/17\n",
      "Starting to process: preprocessed_61053004\n",
      "Loaded file: preprocessed_61053004, Sample rate: 48000, Shape: (166880,), Size: 0.32 MB\n",
      "Processing preprocessed_61053004 using GPU\n",
      "STFT extraction timed out or failed for preprocessed_61053004: Processing timed out after 15 seconds\n"
     ]
    },
    {
     "name": "stderr",
     "output_type": "stream",
     "text": [
      "Processing files:  88%|████████▊ | 15/17 [08:07<01:07, 33.84s/it]"
     ]
    },
    {
     "name": "stdout",
     "output_type": "stream",
     "text": [
      "MFCC extraction timed out or failed for preprocessed_61053004: Processing timed out after 15 seconds\n",
      "Feature extraction failed for preprocessed_61053004\n",
      "File processing failed after 30.03 seconds\n",
      "Progress saved. Processed 15/17 files\n",
      "\n",
      "Processing file 16/17\n",
      "Starting to process: preprocessed_77006009\n",
      "Loaded file: preprocessed_77006009, Sample rate: 48000, Shape: (40800,), Size: 0.08 MB\n",
      "Processing preprocessed_77006009 using GPU\n",
      "STFT extraction timed out or failed for preprocessed_77006009: Processing timed out after 15 seconds\n"
     ]
    },
    {
     "name": "stderr",
     "output_type": "stream",
     "text": [
      "Processing files:  94%|█████████▍| 16/17 [08:37<00:32, 32.70s/it]"
     ]
    },
    {
     "name": "stdout",
     "output_type": "stream",
     "text": [
      "MFCC extraction timed out or failed for preprocessed_77006009: Processing timed out after 15 seconds\n",
      "Feature extraction failed for preprocessed_77006009\n",
      "File processing failed after 30.04 seconds\n",
      "\n",
      "Processing file 17/17\n",
      "Starting to process: preprocessed_79040002\n",
      "Loaded file: preprocessed_79040002, Sample rate: 48000, Shape: (2856960,), Size: 5.45 MB\n",
      "Processing preprocessed_79040002 using GPU\n",
      "STFT extraction timed out or failed for preprocessed_79040002: Processing timed out after 15 seconds\n"
     ]
    },
    {
     "name": "stderr",
     "output_type": "stream",
     "text": [
      "Processing files: 100%|██████████| 17/17 [09:36<00:00, 33.90s/it]"
     ]
    },
    {
     "name": "stdout",
     "output_type": "stream",
     "text": [
      "MFCC extraction timed out or failed for preprocessed_79040002: Processing timed out after 15 seconds\n",
      "Feature extraction failed for preprocessed_79040002\n",
      "File processing failed after 58.23 seconds\n",
      "\n",
      "Feature extraction complete. Success: 0, Failed: 17\n"
     ]
    },
    {
     "name": "stderr",
     "output_type": "stream",
     "text": [
      "\n"
     ]
    },
    {
     "name": "stdout",
     "output_type": "stream",
     "text": [
      "\n",
      "Feature extraction completed in 576.56 seconds!\n",
      "\n",
      "Note: Run visualization script separately to create feature visualizations\n"
     ]
    }
   ],
   "source": [
    "import os\n",
    "import numpy as np\n",
    "import pandas as pd\n",
    "import matplotlib.pyplot as plt\n",
    "from scipy.io import wavfile\n",
    "from tqdm import tqdm\n",
    "import warnings\n",
    "import torch\n",
    "import time\n",
    "import signal\n",
    "from contextlib import contextmanager\n",
    "import threading\n",
    "\n",
    "# Suppress warnings\n",
    "warnings.filterwarnings('ignore')\n",
    "\n",
    "# Define paths\n",
    "DATASET_PATH = '/Users/yashsawrikar/Documents/VIT Labs/Semester 8/Senior Design Project/Dataset - Sample'\n",
    "OUTPUT_DIR = os.path.join(DATASET_PATH, 'Preprocessed')\n",
    "CSV_PATH = os.path.join(OUTPUT_DIR, 'audio_metadata.csv')\n",
    "FEATURES_DIR = os.path.join(OUTPUT_DIR, 'Features')\n",
    "\n",
    "# Configuration\n",
    "BATCH_SIZE = 10              # Process files in batches\n",
    "FILE_TIMEOUT = 30            # Maximum seconds to spend on any single file\n",
    "VERBOSE = True               # Print detailed information for debugging\n",
    "\n",
    "# Check if MPS is available\n",
    "if torch.backends.mps.is_available():\n",
    "    device = torch.device(\"mps\")\n",
    "    print(\"Using MPS (Apple Metal) device for acceleration\")\n",
    "else:\n",
    "    device = torch.device(\"cpu\")\n",
    "    print(\"MPS not available, using CPU instead\")\n",
    "\n",
    "# Timeout handler for individual file processing\n",
    "class TimeoutError(Exception):\n",
    "    pass\n",
    "\n",
    "@contextmanager\n",
    "def time_limit(seconds):\n",
    "    def signal_handler(signum, frame):\n",
    "        raise TimeoutError(\"Timed out!\")\n",
    "    signal.signal(signal.SIGALRM, signal_handler)\n",
    "    signal.alarm(seconds)\n",
    "    try:\n",
    "        yield\n",
    "    finally:\n",
    "        signal.alarm(0)\n",
    "\n",
    "# Alternative timeout mechanism using threading\n",
    "def process_with_timeout(func, args, timeout):\n",
    "    result = [None]\n",
    "    exception = [None]\n",
    "    \n",
    "    def worker():\n",
    "        try:\n",
    "            result[0] = func(*args)\n",
    "        except Exception as e:\n",
    "            exception[0] = e\n",
    "    \n",
    "    thread = threading.Thread(target=worker)\n",
    "    thread.daemon = True\n",
    "    thread.start()\n",
    "    thread.join(timeout)\n",
    "    \n",
    "    if thread.is_alive():\n",
    "        return None, TimeoutError(f\"Processing timed out after {timeout} seconds\")\n",
    "    \n",
    "    if exception[0] is not None:\n",
    "        return None, exception[0]\n",
    "    \n",
    "    return result[0], None\n",
    "\n",
    "def ensure_dirs_exist():\n",
    "    \"\"\"Create all necessary directories.\"\"\"\n",
    "    dirs = [\n",
    "        FEATURES_DIR,\n",
    "        os.path.join(FEATURES_DIR, 'Spectrograms'),\n",
    "        os.path.join(FEATURES_DIR, 'STFT'),\n",
    "        os.path.join(FEATURES_DIR, 'MFCC_Plots'),\n",
    "        os.path.join(FEATURES_DIR, 'MFCC')\n",
    "    ]\n",
    "    for d in dirs:\n",
    "        os.makedirs(d, exist_ok=True)\n",
    "\n",
    "def extract_stft_features(audio_tensor, sr, file_id, use_gpu=True):\n",
    "    \"\"\"Extract STFT features using PyTorch with fallback to CPU if GPU fails.\"\"\"\n",
    "    try:\n",
    "        # Create output paths\n",
    "        stft_vis_path = os.path.join(FEATURES_DIR, 'Spectrograms', f\"{file_id}_spectrogram.png\")\n",
    "        stft_data_path = os.path.join(FEATURES_DIR, 'STFT', f\"{file_id}_stft.npy\")\n",
    "        \n",
    "        # Compute STFT using PyTorch\n",
    "        n_fft = min(2048, audio_tensor.shape[0]//2)\n",
    "        hop_length = n_fft // 4\n",
    "        \n",
    "        # Try GPU processing first if requested\n",
    "        if use_gpu:\n",
    "            try:\n",
    "                window = torch.hann_window(n_fft).to(device)\n",
    "                audio_gpu = audio_tensor.to(device)\n",
    "                \n",
    "                stft_complex = torch.stft(\n",
    "                    audio_gpu, \n",
    "                    n_fft=n_fft, \n",
    "                    hop_length=hop_length,\n",
    "                    window=window,\n",
    "                    return_complex=True\n",
    "                )\n",
    "                \n",
    "                # Convert to magnitude spectrogram in dB scale\n",
    "                S_mag = torch.abs(stft_complex)\n",
    "                S_db = 20 * torch.log10(torch.clamp(S_mag, min=1e-10))\n",
    "                \n",
    "                # Move back to CPU for visualization\n",
    "                S_db_np = S_db.cpu().numpy()\n",
    "            except Exception as e:\n",
    "                print(f\"GPU processing failed for STFT: {e}. Falling back to CPU.\")\n",
    "                use_gpu = False\n",
    "        \n",
    "        # Fall back to CPU if GPU failed or wasn't requested\n",
    "        if not use_gpu:\n",
    "            window = torch.hann_window(n_fft)\n",
    "            stft_complex = torch.stft(\n",
    "                audio_tensor, \n",
    "                n_fft=n_fft, \n",
    "                hop_length=hop_length,\n",
    "                window=window,\n",
    "                return_complex=True\n",
    "            )\n",
    "            \n",
    "            # Convert to magnitude spectrogram in dB scale\n",
    "            S_mag = torch.abs(stft_complex)\n",
    "            S_db = 20 * torch.log10(torch.clamp(S_mag, min=1e-10))\n",
    "            S_db_np = S_db.numpy()\n",
    "        \n",
    "        # Create spectrogram visualization\n",
    "        plt.figure(figsize=(10, 6))\n",
    "        plt.pcolormesh(np.arange(S_db_np.shape[1]), np.arange(S_db_np.shape[0]), S_db_np, shading='gouraud')\n",
    "        plt.ylabel('Frequency Bin')\n",
    "        plt.xlabel('Time Frame')\n",
    "        plt.title(f'Spectrogram - {file_id}')\n",
    "        plt.colorbar(label='Magnitude [dB]')\n",
    "        plt.tight_layout()\n",
    "        \n",
    "        # Save the spectrogram visualization\n",
    "        plt.savefig(stft_vis_path)\n",
    "        plt.close()\n",
    "        \n",
    "        # Save the STFT data\n",
    "        np.save(stft_data_path, S_db_np)\n",
    "        \n",
    "        return S_db_np, stft_vis_path, stft_data_path\n",
    "    except Exception as e:\n",
    "        print(f\"Error extracting STFT features for {file_id}: {e}\")\n",
    "        return None, None, None\n",
    "\n",
    "def extract_mfcc_like_features(audio_tensor, sr, file_id, use_gpu=True):\n",
    "    \"\"\"Create a simplified MFCC-like feature with fallback to CPU if GPU fails.\"\"\"\n",
    "    try:\n",
    "        # Create output paths\n",
    "        mfcc_vis_path = os.path.join(FEATURES_DIR, 'MFCC_Plots', f\"{file_id}_mfcc.png\")\n",
    "        mfcc_data_path = os.path.join(FEATURES_DIR, 'MFCC', f\"{file_id}_mfcc.npy\")\n",
    "        \n",
    "        # Just grab the STFT with different parameters for MFCC\n",
    "        n_fft = min(2048, audio_tensor.shape[0]//2)\n",
    "        hop_length = n_fft // 4\n",
    "        \n",
    "        # Try GPU processing first if requested\n",
    "        if use_gpu:\n",
    "            try:\n",
    "                window = torch.hann_window(n_fft).to(device)\n",
    "                audio_gpu = audio_tensor.to(device)\n",
    "                \n",
    "                stft_complex = torch.stft(\n",
    "                    audio_gpu, \n",
    "                    n_fft=n_fft, \n",
    "                    hop_length=hop_length,\n",
    "                    window=window,\n",
    "                    return_complex=True\n",
    "                )\n",
    "                \n",
    "                # Convert to magnitude\n",
    "                S_mag = torch.abs(stft_complex)\n",
    "                S_db = 20 * torch.log10(torch.clamp(S_mag, min=1e-10))\n",
    "                \n",
    "                # Take the lower part of the spectrogram for MFCC-like features\n",
    "                n_mfcc = min(40, S_db.shape[0]//2)\n",
    "                mfcc_like = S_db[:n_mfcc]\n",
    "                \n",
    "                # Move back to CPU for visualization\n",
    "                mfcc_like_np = mfcc_like.cpu().numpy()\n",
    "            except Exception as e:\n",
    "                print(f\"GPU processing failed for MFCC: {e}. Falling back to CPU.\")\n",
    "                use_gpu = False\n",
    "        \n",
    "        # Fall back to CPU if GPU failed or wasn't requested\n",
    "        if not use_gpu:\n",
    "            window = torch.hann_window(n_fft)\n",
    "            stft_complex = torch.stft(\n",
    "                audio_tensor, \n",
    "                n_fft=n_fft, \n",
    "                hop_length=hop_length,\n",
    "                window=window,\n",
    "                return_complex=True\n",
    "            )\n",
    "            \n",
    "            # Convert to magnitude\n",
    "            S_mag = torch.abs(stft_complex)\n",
    "            S_db = 20 * torch.log10(torch.clamp(S_mag, min=1e-10))\n",
    "            \n",
    "            # Take the lower part of the spectrogram for MFCC-like features\n",
    "            n_mfcc = min(40, S_db.shape[0]//2)\n",
    "            mfcc_like = S_db[:n_mfcc]\n",
    "            mfcc_like_np = mfcc_like.numpy()\n",
    "        \n",
    "        # Create visualization\n",
    "        plt.figure(figsize=(10, 6))\n",
    "        plt.pcolormesh(np.arange(mfcc_like_np.shape[1]), np.arange(mfcc_like_np.shape[0]), \n",
    "                      mfcc_like_np, shading='gouraud')\n",
    "        plt.ylabel('MFCC Coefficient')\n",
    "        plt.xlabel('Time Frame')\n",
    "        plt.title(f'MFCC-like Features - {file_id}')\n",
    "        plt.colorbar(label='Magnitude [dB]')\n",
    "        plt.tight_layout()\n",
    "        \n",
    "        # Save the visualization\n",
    "        plt.savefig(mfcc_vis_path)\n",
    "        plt.close()\n",
    "        \n",
    "        # Save the data\n",
    "        np.save(mfcc_data_path, mfcc_like_np)\n",
    "        \n",
    "        return mfcc_like_np, mfcc_vis_path, mfcc_data_path\n",
    "    except Exception as e:\n",
    "        print(f\"Error extracting MFCC features for {file_id}: {e}\")\n",
    "        return None, None, None\n",
    "\n",
    "def process_file(file_path):\n",
    "    \"\"\"Process a single file and extract features with timeout.\"\"\"\n",
    "    file_id = os.path.splitext(os.path.basename(file_path))[0]\n",
    "    print(f\"Starting to process: {file_id}\")\n",
    "    \n",
    "    try:\n",
    "        # Check file size first and warn if it's too large\n",
    "        file_size_mb = os.path.getsize(file_path) / (1024 * 1024)\n",
    "        if file_size_mb > 100:\n",
    "            print(f\"WARNING: File {file_id} is large: {file_size_mb:.2f} MB\")\n",
    "        \n",
    "        # Load audio\n",
    "        try:\n",
    "            sr, audio = wavfile.read(file_path)\n",
    "            \n",
    "            # Log file details for debugging\n",
    "            print(f\"Loaded file: {file_id}, Sample rate: {sr}, Shape: {audio.shape}, Size: {file_size_mb:.2f} MB\")\n",
    "            \n",
    "            # Convert to float32 normalized to [-1, 1] for processing\n",
    "            if audio.dtype == np.int16:\n",
    "                audio = audio.astype(np.float32) / 32767.0\n",
    "            elif audio.dtype == np.int32:\n",
    "                audio = audio.astype(np.float32) / 2147483647.0\n",
    "                \n",
    "            # If stereo, convert to mono\n",
    "            if len(audio.shape) > 1 and audio.shape[1] > 1:\n",
    "                audio = np.mean(audio, axis=1)\n",
    "            \n",
    "            # Convert to PyTorch tensor\n",
    "            audio_tensor = torch.tensor(audio, dtype=torch.float32)\n",
    "            \n",
    "        except Exception as e:\n",
    "            print(f\"ERROR: Failed to load audio file {file_path}: {e}\")\n",
    "            return None\n",
    "        \n",
    "        # Use CPU mode for larger files\n",
    "        use_gpu = file_size_mb < 50  # Use CPU for files larger than 50MB\n",
    "        device_str = \"GPU\" if use_gpu else \"CPU\"\n",
    "        print(f\"Processing {file_id} using {device_str}\")\n",
    "        \n",
    "        # Extract STFT features with timeout\n",
    "        stft_result, stft_error = process_with_timeout(\n",
    "            extract_stft_features, \n",
    "            (audio_tensor, sr, file_id, use_gpu), \n",
    "            FILE_TIMEOUT//2\n",
    "        )\n",
    "        \n",
    "        if stft_error:\n",
    "            print(f\"STFT extraction timed out or failed for {file_id}: {stft_error}\")\n",
    "            stft_features, stft_vis_path, stft_data_path = None, None, None\n",
    "        else:\n",
    "            stft_features, stft_vis_path, stft_data_path = stft_result\n",
    "        \n",
    "        # Extract MFCC-like features with timeout\n",
    "        mfcc_result, mfcc_error = process_with_timeout(\n",
    "            extract_mfcc_like_features, \n",
    "            (audio_tensor, sr, file_id, use_gpu), \n",
    "            FILE_TIMEOUT//2\n",
    "        )\n",
    "        \n",
    "        if mfcc_error:\n",
    "            print(f\"MFCC extraction timed out or failed for {file_id}: {mfcc_error}\")\n",
    "            mfcc_features, mfcc_vis_path, mfcc_data_path = None, None, None\n",
    "        else:\n",
    "            mfcc_features, mfcc_vis_path, mfcc_data_path = mfcc_result\n",
    "        \n",
    "        # Check if at least one extraction was successful\n",
    "        if stft_data_path or mfcc_data_path:\n",
    "            feature_info = {\n",
    "                'stft_path': stft_data_path,\n",
    "                'stft_vis_path': stft_vis_path,\n",
    "                'mfcc_path': mfcc_data_path,\n",
    "                'mfcc_vis_path': mfcc_vis_path\n",
    "            }\n",
    "            print(f\"Successfully processed {file_id}\")\n",
    "            return feature_info\n",
    "        else:\n",
    "            print(f\"Feature extraction failed for {file_id}\")\n",
    "            return None\n",
    "            \n",
    "    except TimeoutError:\n",
    "        print(f\"ERROR: Processing timed out for {file_id}\")\n",
    "        return None\n",
    "    except Exception as e:\n",
    "        print(f\"ERROR: Unexpected error processing {file_id}: {e}\")\n",
    "        return None\n",
    "\n",
    "def extract_features_from_csv():\n",
    "    \"\"\"Extract features with improved error handling and timeouts.\"\"\"\n",
    "    # Ensure directories exist\n",
    "    ensure_dirs_exist()\n",
    "    \n",
    "    # Check if CSV exists\n",
    "    if not os.path.exists(CSV_PATH):\n",
    "        print(f\"ERROR: CSV file not found: {CSV_PATH}\")\n",
    "        return None\n",
    "    \n",
    "    # Load metadata\n",
    "    try:\n",
    "        df = pd.read_csv(CSV_PATH)\n",
    "        print(f\"Loaded CSV with {len(df)} entries\")\n",
    "    except Exception as e:\n",
    "        print(f\"ERROR: Failed to load CSV: {e}\")\n",
    "        return None\n",
    "    \n",
    "    # Add feature columns if they don't exist\n",
    "    for col in ['stft_path', 'stft_vis_path', 'mfcc_path', 'mfcc_vis_path', 'features_extracted']:\n",
    "        if col not in df.columns:\n",
    "            df[col] = None if col != 'features_extracted' else False\n",
    "    \n",
    "    # Find files that need processing - look for preprocessed files\n",
    "    if 'preprocessed' in df.columns and 'preprocessed_path' in df.columns:\n",
    "        # Use preprocessed files if available\n",
    "        to_process = df[(df['preprocessed'] == True) & \n",
    "                         (df['features_extracted'] != True) & \n",
    "                         (df['preprocessed_path'].notna())]\n",
    "        file_path_col = 'preprocessed_path'\n",
    "        print(f\"Found {len(to_process)} preprocessed files that need feature extraction\")\n",
    "    else:\n",
    "        # Otherwise use original files\n",
    "        to_process = df[df['features_extracted'] != True]\n",
    "        file_path_col = 'path'\n",
    "        print(f\"No preprocessed files found, using {len(to_process)} original files\")\n",
    "    \n",
    "    if len(to_process) == 0:\n",
    "        print(\"No files to process! Either they're all processed or none are preprocessed.\")\n",
    "        return df\n",
    "    \n",
    "    # Track success and failure\n",
    "    successful = 0\n",
    "    failed = 0\n",
    "    \n",
    "    # Process files individually - batching changed to sequential to better identify issues\n",
    "    for i, (idx, row) in enumerate(tqdm(to_process.iterrows(), total=len(to_process), desc=\"Processing files\")):\n",
    "        print(f\"\\nProcessing file {i+1}/{len(to_process)}\")\n",
    "        \n",
    "        file_path = row[file_path_col]\n",
    "        \n",
    "        # Check if file exists\n",
    "        if not isinstance(file_path, str) or not os.path.exists(file_path):\n",
    "            print(f\"File not found or invalid path: {file_path}\")\n",
    "            failed += 1\n",
    "            continue\n",
    "        \n",
    "        # Process the file with overall timeout\n",
    "        try:\n",
    "            # Use the timeout mechanism\n",
    "            start_time = time.time()\n",
    "            feature_info = process_file(file_path)\n",
    "            end_time = time.time()\n",
    "            \n",
    "            if feature_info:\n",
    "                # Update dataframe with feature paths\n",
    "                for key, value in feature_info.items():\n",
    "                    df.loc[idx, key] = value\n",
    "                \n",
    "                df.loc[idx, 'features_extracted'] = True\n",
    "                successful += 1\n",
    "                print(f\"File processed successfully in {end_time - start_time:.2f} seconds\")\n",
    "            else:\n",
    "                failed += 1\n",
    "                print(f\"File processing failed after {end_time - start_time:.2f} seconds\")\n",
    "            \n",
    "            # Save progress after each file\n",
    "            if (i + 1) % 5 == 0:\n",
    "                df.to_csv(CSV_PATH, index=False)\n",
    "                print(f\"Progress saved. Processed {i+1}/{len(to_process)} files\")\n",
    "                \n",
    "        except Exception as e:\n",
    "            print(f\"ERROR: Failed to process file {file_path}: {e}\")\n",
    "            failed += 1\n",
    "    \n",
    "    # Final save\n",
    "    df.to_csv(CSV_PATH, index=False)\n",
    "    \n",
    "    print(f\"\\nFeature extraction complete. Success: {successful}, Failed: {failed}\")\n",
    "    return df\n",
    "\n",
    "# Run the extraction\n",
    "if __name__ == \"__main__\":\n",
    "    print(f\"PyTorch version: {torch.__version__}\")\n",
    "    print(f\"MPS available: {torch.backends.mps.is_available()}\")\n",
    "    print(f\"MPS built: {torch.backends.mps.is_built()}\")\n",
    "    \n",
    "    start_time = time.time()\n",
    "    print(f\"Starting feature extraction from {CSV_PATH}\")\n",
    "    \n",
    "    df = extract_features_from_csv()\n",
    "    \n",
    "    if df is not None:\n",
    "        end_time = time.time()\n",
    "        print(f\"\\nFeature extraction completed in {end_time - start_time:.2f} seconds!\")\n",
    "        print(\"\\nNote: Run visualization script separately to create feature visualizations\")\n",
    "    else:\n",
    "        print(\"\\nFeature extraction failed. Check the errors above.\")"
   ]
  },
  {
   "cell_type": "code",
   "execution_count": null,
   "metadata": {},
   "outputs": [],
   "source": []
  },
  {
   "cell_type": "markdown",
   "metadata": {},
   "source": [
    "## 4. plots"
   ]
  },
  {
   "cell_type": "markdown",
   "metadata": {},
   "source": []
  },
  {
   "cell_type": "code",
   "execution_count": 2,
   "metadata": {},
   "outputs": [
    {
     "name": "stdout",
     "output_type": "stream",
     "text": [
      "Using CSV: /Users/yashsawrikar/Documents/VIT Labs/Semester 8/Senior Design Project/Dataset - Sample/Preprocessed/audio_metadata.csv\n",
      "Using Features directory: /Users/yashsawrikar/Documents/VIT Labs/Semester 8/Senior Design Project/Dataset - Sample/Preprocessed/Features\n",
      "Loaded 213 entries from CSV\n",
      "Found 17 files to process\n",
      "Processing batch 1/4\n"
     ]
    },
    {
     "name": "stderr",
     "output_type": "stream",
     "text": [
      " 20%|██        | 1/5 [00:04<00:17,  4.27s/it]"
     ]
    },
    {
     "name": "stdout",
     "output_type": "stream",
     "text": [
      "Processed preprocessed_6400504G in 4.26s\n"
     ]
    },
    {
     "name": "stderr",
     "output_type": "stream",
     "text": [
      " 40%|████      | 2/5 [00:04<00:06,  2.06s/it]"
     ]
    },
    {
     "name": "stdout",
     "output_type": "stream",
     "text": [
      "Processed preprocessed_9400807L in 0.51s\n"
     ]
    },
    {
     "name": "stderr",
     "output_type": "stream",
     "text": [
      " 60%|██████    | 3/5 [00:05<00:02,  1.30s/it]"
     ]
    },
    {
     "name": "stdout",
     "output_type": "stream",
     "text": [
      "Processed preprocessed_9400800Z in 0.40s\n"
     ]
    },
    {
     "name": "stderr",
     "output_type": "stream",
     "text": [
      " 80%|████████  | 4/5 [00:05<00:00,  1.07it/s]"
     ]
    },
    {
     "name": "stdout",
     "output_type": "stream",
     "text": [
      "Processed preprocessed_7001200D in 0.38s\n"
     ]
    },
    {
     "name": "stderr",
     "output_type": "stream",
     "text": [
      "100%|██████████| 5/5 [00:06<00:00,  1.20s/it]\n"
     ]
    },
    {
     "name": "stdout",
     "output_type": "stream",
     "text": [
      "Processed preprocessed_70012001 in 0.47s\n",
      "Progress saved after batch 1\n",
      "Processing batch 2/4\n"
     ]
    },
    {
     "name": "stderr",
     "output_type": "stream",
     "text": [
      " 20%|██        | 1/5 [00:00<00:01,  2.28it/s]"
     ]
    },
    {
     "name": "stdout",
     "output_type": "stream",
     "text": [
      "Processed preprocessed_6200800S in 0.44s\n"
     ]
    },
    {
     "name": "stderr",
     "output_type": "stream",
     "text": [
      " 40%|████      | 2/5 [00:00<00:01,  2.38it/s]"
     ]
    },
    {
     "name": "stdout",
     "output_type": "stream",
     "text": [
      "Processed preprocessed_70014015 in 0.41s\n"
     ]
    },
    {
     "name": "stderr",
     "output_type": "stream",
     "text": [
      " 60%|██████    | 3/5 [00:01<00:00,  2.06it/s]"
     ]
    },
    {
     "name": "stdout",
     "output_type": "stream",
     "text": [
      "Processed preprocessed_6200800Q in 0.56s\n"
     ]
    },
    {
     "name": "stderr",
     "output_type": "stream",
     "text": [
      " 80%|████████  | 4/5 [00:01<00:00,  2.11it/s]"
     ]
    },
    {
     "name": "stdout",
     "output_type": "stream",
     "text": [
      "Processed preprocessed_6200800K in 0.45s\n"
     ]
    },
    {
     "name": "stderr",
     "output_type": "stream",
     "text": [
      "100%|██████████| 5/5 [00:02<00:00,  1.86it/s]\n"
     ]
    },
    {
     "name": "stdout",
     "output_type": "stream",
     "text": [
      "Processed preprocessed_7001300A in 0.83s\n",
      "Progress saved after batch 2\n",
      "Processing batch 3/4\n"
     ]
    },
    {
     "name": "stderr",
     "output_type": "stream",
     "text": [
      " 20%|██        | 1/5 [00:00<00:01,  2.25it/s]"
     ]
    },
    {
     "name": "stdout",
     "output_type": "stream",
     "text": [
      "Processed preprocessed_77008001 in 0.44s\n"
     ]
    },
    {
     "name": "stderr",
     "output_type": "stream",
     "text": [
      " 40%|████      | 2/5 [00:01<00:02,  1.30it/s]"
     ]
    },
    {
     "name": "stdout",
     "output_type": "stream",
     "text": [
      "Processed preprocessed_9320100S in 1.00s\n"
     ]
    },
    {
     "name": "stderr",
     "output_type": "stream",
     "text": [
      " 60%|██████    | 3/5 [00:04<00:03,  1.62s/it]"
     ]
    },
    {
     "name": "stdout",
     "output_type": "stream",
     "text": [
      "Processed preprocessed_61056002 in 2.64s\n"
     ]
    },
    {
     "name": "stderr",
     "output_type": "stream",
     "text": [
      " 80%|████████  | 4/5 [00:04<00:01,  1.17s/it]"
     ]
    },
    {
     "name": "stdout",
     "output_type": "stream",
     "text": [
      "Processed preprocessed_7700901B in 0.48s\n"
     ]
    },
    {
     "name": "stderr",
     "output_type": "stream",
     "text": [
      "100%|██████████| 5/5 [00:05<00:00,  1.06s/it]\n"
     ]
    },
    {
     "name": "stdout",
     "output_type": "stream",
     "text": [
      "Processed preprocessed_61053004 in 0.73s\n",
      "Progress saved after batch 3\n",
      "Processing batch 4/4\n"
     ]
    },
    {
     "name": "stderr",
     "output_type": "stream",
     "text": [
      " 50%|█████     | 1/2 [00:00<00:00,  2.20it/s]"
     ]
    },
    {
     "name": "stdout",
     "output_type": "stream",
     "text": [
      "Processed preprocessed_77006009 in 0.45s\n"
     ]
    },
    {
     "name": "stderr",
     "output_type": "stream",
     "text": [
      "100%|██████████| 2/2 [00:04<00:00,  2.25s/it]"
     ]
    },
    {
     "name": "stdout",
     "output_type": "stream",
     "text": [
      "Processed preprocessed_79040002 in 4.04s\n",
      "Progress saved after batch 4\n",
      "Biological sounds: 0\n",
      "Non-biological sounds: 213\n"
     ]
    },
    {
     "name": "stderr",
     "output_type": "stream",
     "text": [
      "\n"
     ]
    },
    {
     "name": "stdout",
     "output_type": "stream",
     "text": [
      "Created simple visualizations in /Users/yashsawrikar/Documents/VIT Labs/Semester 8/Senior Design Project/Dataset - Sample/Preprocessed/Features/Summary\n",
      "Processing complete!\n"
     ]
    }
   ],
   "source": [
    "import os\n",
    "import numpy as np\n",
    "import pandas as pd\n",
    "import matplotlib.pyplot as plt\n",
    "from scipy.io import wavfile\n",
    "from scipy.signal import stft\n",
    "import time\n",
    "from tqdm import tqdm\n",
    "\n",
    "# Define paths with your specific CSV path\n",
    "CSV_PATH = '/Users/yashsawrikar/Documents/VIT Labs/Semester 8/Senior Design Project/Dataset - Sample/Preprocessed/audio_metadata.csv'\n",
    "FEATURES_DIR = os.path.join(os.path.dirname(CSV_PATH), 'Features')\n",
    "MAX_DURATION = 30  # Maximum seconds to process from any file\n",
    "\n",
    "def create_downsampled_features(file_path, output_prefix, max_duration=30):\n",
    "    \"\"\"Extract features from a limited portion of audio to prevent timeouts\"\"\"\n",
    "    try:\n",
    "        # Load audio file\n",
    "        sr, audio = wavfile.read(file_path)\n",
    "        \n",
    "        # Convert to mono if stereo\n",
    "        if len(audio.shape) > 1 and audio.shape[1] > 1:\n",
    "            audio = np.mean(audio, axis=1)\n",
    "            \n",
    "        # Normalize\n",
    "        if audio.dtype == np.int16:\n",
    "            audio = audio.astype(np.float32) / 32767.0\n",
    "        elif audio.dtype == np.int32:\n",
    "            audio = audio.astype(np.float32) / 2147483647.0\n",
    "            \n",
    "        # Limit duration to prevent timeouts\n",
    "        max_samples = min(len(audio), sr * max_duration)\n",
    "        audio = audio[:max_samples]\n",
    "        \n",
    "        # Extract STFT with modest parameters\n",
    "        n_fft = min(1024, len(audio)//8)\n",
    "        hop_length = n_fft // 4\n",
    "        f, t, Zxx = stft(audio, fs=sr, nperseg=n_fft, noverlap=hop_length)\n",
    "        \n",
    "        # Convert to dB scale, capped at a reasonable range\n",
    "        S_mag = np.abs(Zxx)\n",
    "        S_db = 20 * np.log10(np.maximum(S_mag, 1e-10))\n",
    "        \n",
    "        # Downsample the spectrogram for faster visualization\n",
    "        if S_db.shape[1] > 200:\n",
    "            downsampling_factor = S_db.shape[1] // 200\n",
    "            S_db_downsampled = S_db[:, ::downsampling_factor]\n",
    "        else:\n",
    "            S_db_downsampled = S_db\n",
    "            \n",
    "        # Save smaller spectrograms\n",
    "        stft_vis_path = f\"{output_prefix}_spectrogram.png\"\n",
    "        stft_data_path = f\"{output_prefix}_stft.npy\"\n",
    "        \n",
    "        # Create spectrogram visualization with lower resolution\n",
    "        plt.figure(figsize=(8, 5), dpi=80)\n",
    "        plt.pcolormesh(t, f, S_db, shading='gouraud', cmap='viridis')\n",
    "        plt.ylabel('Frequency [Hz]')\n",
    "        plt.xlabel('Time [s]')\n",
    "        plt.title('Spectrogram')\n",
    "        plt.colorbar(label='Magnitude [dB]')\n",
    "        plt.tight_layout()\n",
    "        plt.savefig(stft_vis_path)\n",
    "        plt.close()\n",
    "        \n",
    "        # Save a downsampled version of the data\n",
    "        np.save(stft_data_path, S_db_downsampled)\n",
    "        \n",
    "        # Create a simple MFCC-like feature (just the lower part of STFT)\n",
    "        n_mfcc = min(40, S_db.shape[0]//2)\n",
    "        mfcc_like = S_db[:n_mfcc]\n",
    "        \n",
    "        mfcc_vis_path = f\"{output_prefix}_mfcc.png\"\n",
    "        mfcc_data_path = f\"{output_prefix}_mfcc.npy\"\n",
    "        \n",
    "        plt.figure(figsize=(8, 4), dpi=80)\n",
    "        plt.pcolormesh(np.arange(mfcc_like.shape[1]), np.arange(mfcc_like.shape[0]), \n",
    "                      mfcc_like, shading='gouraud')\n",
    "        plt.ylabel('MFCC Coefficient')\n",
    "        plt.xlabel('Time Frame')\n",
    "        plt.title('MFCC-like Features')\n",
    "        plt.colorbar(label='Magnitude [dB]')\n",
    "        plt.tight_layout()\n",
    "        plt.savefig(mfcc_vis_path)\n",
    "        plt.close()\n",
    "        \n",
    "        # Save downsampled MFCC data\n",
    "        np.save(mfcc_data_path, mfcc_like[:, ::max(1, mfcc_like.shape[1]//100)])\n",
    "        \n",
    "        feature_info = {\n",
    "            'stft_path': stft_data_path,\n",
    "            'stft_vis_path': stft_vis_path,\n",
    "            'mfcc_path': mfcc_data_path,\n",
    "            'mfcc_vis_path': mfcc_vis_path\n",
    "        }\n",
    "        return feature_info\n",
    "    \n",
    "    except Exception as e:\n",
    "        print(f\"Error processing {file_path}: {e}\")\n",
    "        return None\n",
    "\n",
    "def process_batch(df, features_dir, csv_path, batch_size=5, timeout_per_file=60):\n",
    "    \"\"\"Process files in small batches with timeouts\"\"\"\n",
    "    # Create feature directories\n",
    "    os.makedirs(os.path.join(features_dir, 'Spectrograms'), exist_ok=True)\n",
    "    os.makedirs(os.path.join(features_dir, 'STFT'), exist_ok=True)\n",
    "    os.makedirs(os.path.join(features_dir, 'MFCC_Plots'), exist_ok=True)\n",
    "    os.makedirs(os.path.join(features_dir, 'MFCC'), exist_ok=True)\n",
    "    \n",
    "    # Find files that need processing\n",
    "    to_process = df[(df['preprocessed'] == True) & (df['features_extracted'] != True)]\n",
    "    print(f\"Found {len(to_process)} files to process\")\n",
    "    \n",
    "    if len(to_process) == 0:\n",
    "        return df\n",
    "        \n",
    "    # Process in small batches\n",
    "    for i in range(0, len(to_process), batch_size):\n",
    "        batch = to_process.iloc[i:i+batch_size]\n",
    "        print(f\"Processing batch {i//batch_size + 1}/{(len(to_process)-1)//batch_size + 1}\")\n",
    "        \n",
    "        for idx, row in tqdm(batch.iterrows(), total=len(batch)):\n",
    "            file_path = row['preprocessed_path'] if 'preprocessed_path' in row and pd.notna(row['preprocessed_path']) else row['path']\n",
    "            \n",
    "            # Skip if file doesn't exist\n",
    "            if not os.path.exists(file_path):\n",
    "                print(f\"File not found: {file_path}\")\n",
    "                continue\n",
    "                \n",
    "            # Extract file ID\n",
    "            file_id = os.path.splitext(os.path.basename(file_path))[0]\n",
    "            output_prefix = os.path.join(features_dir, file_id)\n",
    "            \n",
    "            # Process with timeout\n",
    "            start_time = time.time()\n",
    "            try:\n",
    "                feature_info = create_downsampled_features(\n",
    "                    file_path, \n",
    "                    output_prefix,\n",
    "                    max_duration=MAX_DURATION\n",
    "                )\n",
    "                \n",
    "                if feature_info:\n",
    "                    # Update dataframe\n",
    "                    for key, value in feature_info.items():\n",
    "                        df.loc[idx, key] = value\n",
    "                    df.loc[idx, 'features_extracted'] = True\n",
    "                    print(f\"Processed {file_id} in {time.time() - start_time:.2f}s\")\n",
    "                \n",
    "                # Don't let any single file take too long\n",
    "                if time.time() - start_time > timeout_per_file:\n",
    "                    print(f\"Processing timed out for {file_id}\")\n",
    "                    break\n",
    "                    \n",
    "            except Exception as e:\n",
    "                print(f\"Error processing {file_id}: {e}\")\n",
    "        \n",
    "        # Save progress after each batch\n",
    "        df.to_csv(csv_path, index=False)\n",
    "        print(f\"Progress saved after batch {i//batch_size + 1}\")\n",
    "    \n",
    "    return df\n",
    "\n",
    "def create_simple_visualizations(df, features_dir):\n",
    "    \"\"\"Create simple visualizations from extracted features\"\"\"\n",
    "    # Create output directory\n",
    "    vis_dir = os.path.join(features_dir, 'Summary')\n",
    "    os.makedirs(vis_dir, exist_ok=True)\n",
    "    \n",
    "    # Filter to files with extracted features\n",
    "    features_df = df[df['features_extracted'] == True].copy()\n",
    "    if len(features_df) == 0:\n",
    "        print(\"No files with extracted features found.\")\n",
    "        return\n",
    "    \n",
    "    # Count by type\n",
    "    if 'is_biological' in features_df.columns:\n",
    "        bio_count = len(features_df[features_df['is_biological'] == True])\n",
    "        nonbio_count = len(features_df[features_df['is_biological'] == False])\n",
    "        print(f\"Biological sounds: {bio_count}\")\n",
    "        print(f\"Non-biological sounds: {nonbio_count}\")\n",
    "    \n",
    "    # Create a simple grid of spectrograms\n",
    "    sample_files = features_df.sample(min(9, len(features_df)))\n",
    "    \n",
    "    plt.figure(figsize=(12, 8))\n",
    "    plt.suptitle(\"Sample Spectrograms\", fontsize=16)\n",
    "    \n",
    "    for i, (_, row) in enumerate(sample_files.iterrows()):\n",
    "        if pd.notna(row['stft_vis_path']) and os.path.exists(row['stft_vis_path']):\n",
    "            plt.subplot(3, 3, i + 1)\n",
    "            img = plt.imread(row['stft_vis_path'])\n",
    "            plt.imshow(img)\n",
    "            \n",
    "            # Create title based on available metadata\n",
    "            title = row['filename'] if 'filename' in row else f\"Sample {i+1}\"\n",
    "            if 'species_type' in row and pd.notna(row['species_type']):\n",
    "                title = f\"{row['species_type']}\"\n",
    "            \n",
    "            plt.title(title, fontsize=9)\n",
    "            plt.axis('off')\n",
    "    \n",
    "    plt.tight_layout(rect=[0, 0, 1, 0.95])\n",
    "    plt.savefig(os.path.join(vis_dir, 'sample_spectrograms.png'), dpi=100)\n",
    "    plt.close()\n",
    "    \n",
    "    print(f\"Created simple visualizations in {vis_dir}\")\n",
    "    return True\n",
    "\n",
    "# Main execution\n",
    "if __name__ == \"__main__\":\n",
    "    try:\n",
    "        print(f\"Using CSV: {CSV_PATH}\")\n",
    "        print(f\"Using Features directory: {FEATURES_DIR}\")\n",
    "        \n",
    "        # Create features directory if it doesn't exist\n",
    "        os.makedirs(FEATURES_DIR, exist_ok=True)\n",
    "        \n",
    "        # Load metadata CSV\n",
    "        df = pd.read_csv(CSV_PATH)\n",
    "        print(f\"Loaded {len(df)} entries from CSV\")\n",
    "        \n",
    "        # Add feature columns if they don't exist\n",
    "        for col in ['stft_path', 'stft_vis_path', 'mfcc_path', 'mfcc_vis_path', 'features_extracted']:\n",
    "            if col not in df.columns:\n",
    "                df[col] = None if col != 'features_extracted' else False\n",
    "        \n",
    "        # Process files\n",
    "        df = process_batch(df, FEATURES_DIR, CSV_PATH, batch_size=5, timeout_per_file=60)\n",
    "        \n",
    "        # Create simple visualizations\n",
    "        create_simple_visualizations(df, FEATURES_DIR)\n",
    "        \n",
    "        print(\"Processing complete!\")\n",
    "        \n",
    "    except Exception as e:\n",
    "        print(f\"Error: {e}\")"
   ]
  },
  {
   "cell_type": "markdown",
   "metadata": {},
   "source": [
    "## NMF"
   ]
  },
  {
   "cell_type": "code",
   "execution_count": 3,
   "metadata": {},
   "outputs": [
    {
     "name": "stdout",
     "output_type": "stream",
     "text": [
      "Loading metadata...\n",
      "Loaded 213 entries from metadata.\n",
      "Found 213 preprocessed files.\n",
      "Processing 213 files...\n"
     ]
    },
    {
     "name": "stderr",
     "output_type": "stream",
     "text": [
      "  0%|          | 0/213 [00:00<?, ?it/s]"
     ]
    },
    {
     "name": "stdout",
     "output_type": "stream",
     "text": [
      "Processing: /Users/yashsawrikar/Documents/VIT Labs/Semester 8/Senior Design Project/Dataset - Sample/Preprocessed/non-bio/preprocessed_6102101A.wav\n"
     ]
    },
    {
     "name": "stderr",
     "output_type": "stream",
     "text": [
      "  0%|          | 1/213 [00:00<02:29,  1.41it/s]"
     ]
    },
    {
     "name": "stdout",
     "output_type": "stream",
     "text": [
      "Saved source 1 to /Users/yashsawrikar/Documents/VIT Labs/Semester 8/Senior Design Project/Dataset - Sample/NMF_Output/preprocessed_6102101A_source1.wav\n",
      "Saved source 2 to /Users/yashsawrikar/Documents/VIT Labs/Semester 8/Senior Design Project/Dataset - Sample/NMF_Output/preprocessed_6102101A_source2.wav\n",
      "Processing: /Users/yashsawrikar/Documents/VIT Labs/Semester 8/Senior Design Project/Dataset - Sample/Preprocessed/non-bio/preprocessed_6102101P.wav\n"
     ]
    },
    {
     "name": "stderr",
     "output_type": "stream",
     "text": [
      "/opt/anaconda3/lib/python3.12/site-packages/sklearn/decomposition/_nmf.py:1759: ConvergenceWarning: Maximum number of iterations 200 reached. Increase it to improve convergence.\n",
      "  warnings.warn(\n",
      "  1%|          | 2/213 [00:01<03:06,  1.13it/s]"
     ]
    },
    {
     "name": "stdout",
     "output_type": "stream",
     "text": [
      "Saved source 1 to /Users/yashsawrikar/Documents/VIT Labs/Semester 8/Senior Design Project/Dataset - Sample/NMF_Output/preprocessed_6102101P_source1.wav\n",
      "Saved source 2 to /Users/yashsawrikar/Documents/VIT Labs/Semester 8/Senior Design Project/Dataset - Sample/NMF_Output/preprocessed_6102101P_source2.wav\n",
      "Processing: /Users/yashsawrikar/Documents/VIT Labs/Semester 8/Senior Design Project/Dataset - Sample/Preprocessed/non-bio/preprocessed_6102104K.wav\n"
     ]
    },
    {
     "name": "stderr",
     "output_type": "stream",
     "text": [
      "/opt/anaconda3/lib/python3.12/site-packages/sklearn/decomposition/_nmf.py:1759: ConvergenceWarning: Maximum number of iterations 200 reached. Increase it to improve convergence.\n",
      "  warnings.warn(\n",
      "  1%|▏         | 3/213 [00:02<03:16,  1.07it/s]"
     ]
    },
    {
     "name": "stdout",
     "output_type": "stream",
     "text": [
      "Saved source 1 to /Users/yashsawrikar/Documents/VIT Labs/Semester 8/Senior Design Project/Dataset - Sample/NMF_Output/preprocessed_6102104K_source1.wav\n",
      "Saved source 2 to /Users/yashsawrikar/Documents/VIT Labs/Semester 8/Senior Design Project/Dataset - Sample/NMF_Output/preprocessed_6102104K_source2.wav\n",
      "Processing: /Users/yashsawrikar/Documents/VIT Labs/Semester 8/Senior Design Project/Dataset - Sample/Preprocessed/non-bio/preprocessed_6102201S.wav\n"
     ]
    },
    {
     "name": "stderr",
     "output_type": "stream",
     "text": [
      "  2%|▏         | 4/213 [00:03<03:27,  1.01it/s]"
     ]
    },
    {
     "name": "stdout",
     "output_type": "stream",
     "text": [
      "Saved source 1 to /Users/yashsawrikar/Documents/VIT Labs/Semester 8/Senior Design Project/Dataset - Sample/NMF_Output/preprocessed_6102201S_source1.wav\n",
      "Saved source 2 to /Users/yashsawrikar/Documents/VIT Labs/Semester 8/Senior Design Project/Dataset - Sample/NMF_Output/preprocessed_6102201S_source2.wav\n",
      "Processing: /Users/yashsawrikar/Documents/VIT Labs/Semester 8/Senior Design Project/Dataset - Sample/Preprocessed/non-bio/preprocessed_6102201W.wav\n"
     ]
    },
    {
     "name": "stderr",
     "output_type": "stream",
     "text": [
      "  2%|▏         | 5/213 [00:05<04:18,  1.24s/it]"
     ]
    },
    {
     "name": "stdout",
     "output_type": "stream",
     "text": [
      "Saved source 1 to /Users/yashsawrikar/Documents/VIT Labs/Semester 8/Senior Design Project/Dataset - Sample/NMF_Output/preprocessed_6102201W_source1.wav\n",
      "Saved source 2 to /Users/yashsawrikar/Documents/VIT Labs/Semester 8/Senior Design Project/Dataset - Sample/NMF_Output/preprocessed_6102201W_source2.wav\n",
      "Processing: /Users/yashsawrikar/Documents/VIT Labs/Semester 8/Senior Design Project/Dataset - Sample/Preprocessed/non-bio/preprocessed_6102203I.wav\n"
     ]
    },
    {
     "name": "stderr",
     "output_type": "stream",
     "text": [
      "  3%|▎         | 6/213 [00:06<04:27,  1.29s/it]"
     ]
    },
    {
     "name": "stdout",
     "output_type": "stream",
     "text": [
      "Saved source 1 to /Users/yashsawrikar/Documents/VIT Labs/Semester 8/Senior Design Project/Dataset - Sample/NMF_Output/preprocessed_6102203I_source1.wav\n",
      "Saved source 2 to /Users/yashsawrikar/Documents/VIT Labs/Semester 8/Senior Design Project/Dataset - Sample/NMF_Output/preprocessed_6102203I_source2.wav\n",
      "Processing: /Users/yashsawrikar/Documents/VIT Labs/Semester 8/Senior Design Project/Dataset - Sample/Preprocessed/non-bio/preprocessed_6102102E.wav\n"
     ]
    },
    {
     "name": "stderr",
     "output_type": "stream",
     "text": [
      "/opt/anaconda3/lib/python3.12/site-packages/sklearn/decomposition/_nmf.py:1759: ConvergenceWarning: Maximum number of iterations 200 reached. Increase it to improve convergence.\n",
      "  warnings.warn(\n",
      "  3%|▎         | 7/213 [00:07<03:54,  1.14s/it]"
     ]
    },
    {
     "name": "stdout",
     "output_type": "stream",
     "text": [
      "Saved source 1 to /Users/yashsawrikar/Documents/VIT Labs/Semester 8/Senior Design Project/Dataset - Sample/NMF_Output/preprocessed_6102102E_source1.wav\n",
      "Saved source 2 to /Users/yashsawrikar/Documents/VIT Labs/Semester 8/Senior Design Project/Dataset - Sample/NMF_Output/preprocessed_6102102E_source2.wav\n",
      "Processing: /Users/yashsawrikar/Documents/VIT Labs/Semester 8/Senior Design Project/Dataset - Sample/Preprocessed/non-bio/preprocessed_66014009.wav\n"
     ]
    },
    {
     "name": "stderr",
     "output_type": "stream",
     "text": [
      "  4%|▍         | 8/213 [00:09<04:12,  1.23s/it]"
     ]
    },
    {
     "name": "stdout",
     "output_type": "stream",
     "text": [
      "Saved source 1 to /Users/yashsawrikar/Documents/VIT Labs/Semester 8/Senior Design Project/Dataset - Sample/NMF_Output/preprocessed_66014009_source1.wav\n",
      "Saved source 2 to /Users/yashsawrikar/Documents/VIT Labs/Semester 8/Senior Design Project/Dataset - Sample/NMF_Output/preprocessed_66014009_source2.wav\n",
      "Processing: /Users/yashsawrikar/Documents/VIT Labs/Semester 8/Senior Design Project/Dataset - Sample/Preprocessed/non-bio/preprocessed_66014007.wav\n"
     ]
    },
    {
     "name": "stderr",
     "output_type": "stream",
     "text": [
      "/opt/anaconda3/lib/python3.12/site-packages/sklearn/decomposition/_nmf.py:1759: ConvergenceWarning: Maximum number of iterations 200 reached. Increase it to improve convergence.\n",
      "  warnings.warn(\n",
      "  4%|▍         | 9/213 [00:10<04:16,  1.26s/it]"
     ]
    },
    {
     "name": "stdout",
     "output_type": "stream",
     "text": [
      "Saved source 1 to /Users/yashsawrikar/Documents/VIT Labs/Semester 8/Senior Design Project/Dataset - Sample/NMF_Output/preprocessed_66014007_source1.wav\n",
      "Saved source 2 to /Users/yashsawrikar/Documents/VIT Labs/Semester 8/Senior Design Project/Dataset - Sample/NMF_Output/preprocessed_66014007_source2.wav\n",
      "Processing: /Users/yashsawrikar/Documents/VIT Labs/Semester 8/Senior Design Project/Dataset - Sample/Preprocessed/non-bio/preprocessed_6601400A.wav\n"
     ]
    },
    {
     "name": "stderr",
     "output_type": "stream",
     "text": [
      "/opt/anaconda3/lib/python3.12/site-packages/sklearn/decomposition/_nmf.py:1759: ConvergenceWarning: Maximum number of iterations 200 reached. Increase it to improve convergence.\n",
      "  warnings.warn(\n",
      "  5%|▍         | 10/213 [00:12<04:47,  1.41s/it]"
     ]
    },
    {
     "name": "stdout",
     "output_type": "stream",
     "text": [
      "Saved source 1 to /Users/yashsawrikar/Documents/VIT Labs/Semester 8/Senior Design Project/Dataset - Sample/NMF_Output/preprocessed_6601400A_source1.wav\n",
      "Saved source 2 to /Users/yashsawrikar/Documents/VIT Labs/Semester 8/Senior Design Project/Dataset - Sample/NMF_Output/preprocessed_6601400A_source2.wav\n",
      "Processing: /Users/yashsawrikar/Documents/VIT Labs/Semester 8/Senior Design Project/Dataset - Sample/Preprocessed/non-bio/preprocessed_6601400B.wav\n"
     ]
    },
    {
     "name": "stderr",
     "output_type": "stream",
     "text": [
      "  5%|▌         | 11/213 [00:13<04:20,  1.29s/it]"
     ]
    },
    {
     "name": "stdout",
     "output_type": "stream",
     "text": [
      "Saved source 1 to /Users/yashsawrikar/Documents/VIT Labs/Semester 8/Senior Design Project/Dataset - Sample/NMF_Output/preprocessed_6601400B_source1.wav\n",
      "Saved source 2 to /Users/yashsawrikar/Documents/VIT Labs/Semester 8/Senior Design Project/Dataset - Sample/NMF_Output/preprocessed_6601400B_source2.wav\n",
      "Processing: /Users/yashsawrikar/Documents/VIT Labs/Semester 8/Senior Design Project/Dataset - Sample/Preprocessed/non-bio/preprocessed_6601400C.wav\n"
     ]
    },
    {
     "name": "stderr",
     "output_type": "stream",
     "text": [
      "  6%|▌         | 12/213 [00:14<04:28,  1.33s/it]"
     ]
    },
    {
     "name": "stdout",
     "output_type": "stream",
     "text": [
      "Saved source 1 to /Users/yashsawrikar/Documents/VIT Labs/Semester 8/Senior Design Project/Dataset - Sample/NMF_Output/preprocessed_6601400C_source1.wav\n",
      "Saved source 2 to /Users/yashsawrikar/Documents/VIT Labs/Semester 8/Senior Design Project/Dataset - Sample/NMF_Output/preprocessed_6601400C_source2.wav\n",
      "Processing: /Users/yashsawrikar/Documents/VIT Labs/Semester 8/Senior Design Project/Dataset - Sample/Preprocessed/non-bio/preprocessed_6403104V.wav\n"
     ]
    },
    {
     "name": "stderr",
     "output_type": "stream",
     "text": [
      "  6%|▌         | 13/213 [00:15<03:59,  1.20s/it]"
     ]
    },
    {
     "name": "stdout",
     "output_type": "stream",
     "text": [
      "Saved source 1 to /Users/yashsawrikar/Documents/VIT Labs/Semester 8/Senior Design Project/Dataset - Sample/NMF_Output/preprocessed_6403104V_source1.wav\n",
      "Saved source 2 to /Users/yashsawrikar/Documents/VIT Labs/Semester 8/Senior Design Project/Dataset - Sample/NMF_Output/preprocessed_6403104V_source2.wav\n",
      "Processing: /Users/yashsawrikar/Documents/VIT Labs/Semester 8/Senior Design Project/Dataset - Sample/Preprocessed/non-bio/preprocessed_6002602A.wav\n"
     ]
    },
    {
     "name": "stderr",
     "output_type": "stream",
     "text": [
      "/opt/anaconda3/lib/python3.12/site-packages/sklearn/decomposition/_nmf.py:1759: ConvergenceWarning: Maximum number of iterations 200 reached. Increase it to improve convergence.\n",
      "  warnings.warn(\n",
      "  7%|▋         | 14/213 [00:17<04:30,  1.36s/it]"
     ]
    },
    {
     "name": "stdout",
     "output_type": "stream",
     "text": [
      "Saved source 1 to /Users/yashsawrikar/Documents/VIT Labs/Semester 8/Senior Design Project/Dataset - Sample/NMF_Output/preprocessed_6002602A_source1.wav\n",
      "Saved source 2 to /Users/yashsawrikar/Documents/VIT Labs/Semester 8/Senior Design Project/Dataset - Sample/NMF_Output/preprocessed_6002602A_source2.wav\n",
      "Processing: /Users/yashsawrikar/Documents/VIT Labs/Semester 8/Senior Design Project/Dataset - Sample/Preprocessed/non-bio/preprocessed_6002600P.wav\n"
     ]
    },
    {
     "name": "stderr",
     "output_type": "stream",
     "text": [
      "  7%|▋         | 15/213 [00:19<05:04,  1.54s/it]"
     ]
    },
    {
     "name": "stdout",
     "output_type": "stream",
     "text": [
      "Saved source 1 to /Users/yashsawrikar/Documents/VIT Labs/Semester 8/Senior Design Project/Dataset - Sample/NMF_Output/preprocessed_6002600P_source1.wav\n",
      "Saved source 2 to /Users/yashsawrikar/Documents/VIT Labs/Semester 8/Senior Design Project/Dataset - Sample/NMF_Output/preprocessed_6002600P_source2.wav\n",
      "Processing: /Users/yashsawrikar/Documents/VIT Labs/Semester 8/Senior Design Project/Dataset - Sample/Preprocessed/non-bio/preprocessed_6403000K.wav\n"
     ]
    },
    {
     "name": "stderr",
     "output_type": "stream",
     "text": [
      "  8%|▊         | 16/213 [00:20<04:29,  1.37s/it]"
     ]
    },
    {
     "name": "stdout",
     "output_type": "stream",
     "text": [
      "Saved source 1 to /Users/yashsawrikar/Documents/VIT Labs/Semester 8/Senior Design Project/Dataset - Sample/NMF_Output/preprocessed_6403000K_source1.wav\n",
      "Saved source 2 to /Users/yashsawrikar/Documents/VIT Labs/Semester 8/Senior Design Project/Dataset - Sample/NMF_Output/preprocessed_6403000K_source2.wav\n",
      "Processing: /Users/yashsawrikar/Documents/VIT Labs/Semester 8/Senior Design Project/Dataset - Sample/Preprocessed/non-bio/preprocessed_6002604X.wav\n"
     ]
    },
    {
     "name": "stderr",
     "output_type": "stream",
     "text": [
      "  8%|▊         | 17/213 [00:22<05:40,  1.74s/it]"
     ]
    },
    {
     "name": "stdout",
     "output_type": "stream",
     "text": [
      "Saved source 1 to /Users/yashsawrikar/Documents/VIT Labs/Semester 8/Senior Design Project/Dataset - Sample/NMF_Output/preprocessed_6002604X_source1.wav\n",
      "Saved source 2 to /Users/yashsawrikar/Documents/VIT Labs/Semester 8/Senior Design Project/Dataset - Sample/NMF_Output/preprocessed_6002604X_source2.wav\n",
      "Processing: /Users/yashsawrikar/Documents/VIT Labs/Semester 8/Senior Design Project/Dataset - Sample/Preprocessed/non-bio/preprocessed_6403100V.wav\n"
     ]
    },
    {
     "name": "stderr",
     "output_type": "stream",
     "text": [
      "  8%|▊         | 18/213 [00:23<05:02,  1.55s/it]"
     ]
    },
    {
     "name": "stdout",
     "output_type": "stream",
     "text": [
      "Saved source 1 to /Users/yashsawrikar/Documents/VIT Labs/Semester 8/Senior Design Project/Dataset - Sample/NMF_Output/preprocessed_6403100V_source1.wav\n",
      "Saved source 2 to /Users/yashsawrikar/Documents/VIT Labs/Semester 8/Senior Design Project/Dataset - Sample/NMF_Output/preprocessed_6403100V_source2.wav\n",
      "Processing: /Users/yashsawrikar/Documents/VIT Labs/Semester 8/Senior Design Project/Dataset - Sample/Preprocessed/non-bio/preprocessed_66003005.wav\n"
     ]
    },
    {
     "name": "stderr",
     "output_type": "stream",
     "text": [
      "  9%|▉         | 19/213 [00:25<04:58,  1.54s/it]"
     ]
    },
    {
     "name": "stdout",
     "output_type": "stream",
     "text": [
      "Saved source 1 to /Users/yashsawrikar/Documents/VIT Labs/Semester 8/Senior Design Project/Dataset - Sample/NMF_Output/preprocessed_66003005_source1.wav\n",
      "Saved source 2 to /Users/yashsawrikar/Documents/VIT Labs/Semester 8/Senior Design Project/Dataset - Sample/NMF_Output/preprocessed_66003005_source2.wav\n",
      "Processing: /Users/yashsawrikar/Documents/VIT Labs/Semester 8/Senior Design Project/Dataset - Sample/Preprocessed/non-bio/preprocessed_6608400Y.wav\n"
     ]
    },
    {
     "name": "stderr",
     "output_type": "stream",
     "text": [
      "  9%|▉         | 20/213 [00:28<06:19,  1.97s/it]"
     ]
    },
    {
     "name": "stdout",
     "output_type": "stream",
     "text": [
      "Saved source 1 to /Users/yashsawrikar/Documents/VIT Labs/Semester 8/Senior Design Project/Dataset - Sample/NMF_Output/preprocessed_6608400Y_source1.wav\n",
      "Saved source 2 to /Users/yashsawrikar/Documents/VIT Labs/Semester 8/Senior Design Project/Dataset - Sample/NMF_Output/preprocessed_6608400Y_source2.wav\n",
      "Processing: /Users/yashsawrikar/Documents/VIT Labs/Semester 8/Senior Design Project/Dataset - Sample/Preprocessed/non-bio/preprocessed_6608400J.wav\n"
     ]
    },
    {
     "name": "stderr",
     "output_type": "stream",
     "text": [
      " 10%|▉         | 21/213 [00:29<05:36,  1.75s/it]"
     ]
    },
    {
     "name": "stdout",
     "output_type": "stream",
     "text": [
      "Saved source 1 to /Users/yashsawrikar/Documents/VIT Labs/Semester 8/Senior Design Project/Dataset - Sample/NMF_Output/preprocessed_6608400J_source1.wav\n",
      "Saved source 2 to /Users/yashsawrikar/Documents/VIT Labs/Semester 8/Senior Design Project/Dataset - Sample/NMF_Output/preprocessed_6608400J_source2.wav\n",
      "Processing: /Users/yashsawrikar/Documents/VIT Labs/Semester 8/Senior Design Project/Dataset - Sample/Preprocessed/non-bio/preprocessed_6609000M.wav\n"
     ]
    },
    {
     "name": "stderr",
     "output_type": "stream",
     "text": [
      " 10%|█         | 22/213 [00:31<05:20,  1.68s/it]"
     ]
    },
    {
     "name": "stdout",
     "output_type": "stream",
     "text": [
      "Saved source 1 to /Users/yashsawrikar/Documents/VIT Labs/Semester 8/Senior Design Project/Dataset - Sample/NMF_Output/preprocessed_6609000M_source1.wav\n",
      "Saved source 2 to /Users/yashsawrikar/Documents/VIT Labs/Semester 8/Senior Design Project/Dataset - Sample/NMF_Output/preprocessed_6609000M_source2.wav\n",
      "Processing: /Users/yashsawrikar/Documents/VIT Labs/Semester 8/Senior Design Project/Dataset - Sample/Preprocessed/non-bio/preprocessed_66084012.wav\n"
     ]
    },
    {
     "name": "stderr",
     "output_type": "stream",
     "text": [
      "/opt/anaconda3/lib/python3.12/site-packages/sklearn/decomposition/_nmf.py:1759: ConvergenceWarning: Maximum number of iterations 200 reached. Increase it to improve convergence.\n",
      "  warnings.warn(\n",
      " 11%|█         | 23/213 [00:34<06:27,  2.04s/it]"
     ]
    },
    {
     "name": "stdout",
     "output_type": "stream",
     "text": [
      "Saved source 1 to /Users/yashsawrikar/Documents/VIT Labs/Semester 8/Senior Design Project/Dataset - Sample/NMF_Output/preprocessed_66084012_source1.wav\n",
      "Saved source 2 to /Users/yashsawrikar/Documents/VIT Labs/Semester 8/Senior Design Project/Dataset - Sample/NMF_Output/preprocessed_66084012_source2.wav\n",
      "Processing: /Users/yashsawrikar/Documents/VIT Labs/Semester 8/Senior Design Project/Dataset - Sample/Preprocessed/non-bio/preprocessed_7902400O.wav\n"
     ]
    },
    {
     "name": "stderr",
     "output_type": "stream",
     "text": [
      "/opt/anaconda3/lib/python3.12/site-packages/librosa/core/spectrum.py:266: UserWarning: n_fft=2048 is too large for input signal of length=1287\n",
      "  warnings.warn(\n",
      "/opt/anaconda3/lib/python3.12/site-packages/librosa/core/spectrum.py:266: UserWarning: n_fft=2048 is too large for input signal of length=1287\n",
      "  warnings.warn(\n",
      " 11%|█▏        | 24/213 [00:34<04:46,  1.52s/it]"
     ]
    },
    {
     "name": "stdout",
     "output_type": "stream",
     "text": [
      "Saved source 1 to /Users/yashsawrikar/Documents/VIT Labs/Semester 8/Senior Design Project/Dataset - Sample/NMF_Output/preprocessed_7902400O_source1.wav\n",
      "Saved source 2 to /Users/yashsawrikar/Documents/VIT Labs/Semester 8/Senior Design Project/Dataset - Sample/NMF_Output/preprocessed_7902400O_source2.wav\n",
      "Processing: /Users/yashsawrikar/Documents/VIT Labs/Semester 8/Senior Design Project/Dataset - Sample/Preprocessed/non-bio/preprocessed_7902400W.wav\n"
     ]
    },
    {
     "name": "stderr",
     "output_type": "stream",
     "text": [
      "/opt/anaconda3/lib/python3.12/site-packages/librosa/core/spectrum.py:266: UserWarning: n_fft=2048 is too large for input signal of length=804\n",
      "  warnings.warn(\n",
      "/opt/anaconda3/lib/python3.12/site-packages/librosa/core/spectrum.py:266: UserWarning: n_fft=2048 is too large for input signal of length=804\n",
      "  warnings.warn(\n",
      " 12%|█▏        | 25/213 [00:34<03:35,  1.14s/it]"
     ]
    },
    {
     "name": "stdout",
     "output_type": "stream",
     "text": [
      "Saved source 1 to /Users/yashsawrikar/Documents/VIT Labs/Semester 8/Senior Design Project/Dataset - Sample/NMF_Output/preprocessed_7902400W_source1.wav\n",
      "Saved source 2 to /Users/yashsawrikar/Documents/VIT Labs/Semester 8/Senior Design Project/Dataset - Sample/NMF_Output/preprocessed_7902400W_source2.wav\n",
      "Processing: /Users/yashsawrikar/Documents/VIT Labs/Semester 8/Senior Design Project/Dataset - Sample/Preprocessed/non-bio/preprocessed_79024006.wav\n"
     ]
    },
    {
     "name": "stderr",
     "output_type": "stream",
     "text": [
      "/opt/anaconda3/lib/python3.12/site-packages/sklearn/decomposition/_nmf.py:1759: ConvergenceWarning: Maximum number of iterations 200 reached. Increase it to improve convergence.\n",
      "  warnings.warn(\n",
      " 12%|█▏        | 26/213 [00:35<03:16,  1.05s/it]"
     ]
    },
    {
     "name": "stdout",
     "output_type": "stream",
     "text": [
      "Saved source 1 to /Users/yashsawrikar/Documents/VIT Labs/Semester 8/Senior Design Project/Dataset - Sample/NMF_Output/preprocessed_79024006_source1.wav\n",
      "Saved source 2 to /Users/yashsawrikar/Documents/VIT Labs/Semester 8/Senior Design Project/Dataset - Sample/NMF_Output/preprocessed_79024006_source2.wav\n",
      "Processing: /Users/yashsawrikar/Documents/VIT Labs/Semester 8/Senior Design Project/Dataset - Sample/Preprocessed/non-bio/preprocessed_7902400A.wav\n"
     ]
    },
    {
     "name": "stderr",
     "output_type": "stream",
     "text": [
      "/opt/anaconda3/lib/python3.12/site-packages/sklearn/decomposition/_nmf.py:1759: ConvergenceWarning: Maximum number of iterations 200 reached. Increase it to improve convergence.\n",
      "  warnings.warn(\n",
      " 13%|█▎        | 27/213 [00:36<03:24,  1.10s/it]"
     ]
    },
    {
     "name": "stdout",
     "output_type": "stream",
     "text": [
      "Saved source 1 to /Users/yashsawrikar/Documents/VIT Labs/Semester 8/Senior Design Project/Dataset - Sample/NMF_Output/preprocessed_7902400A_source1.wav\n",
      "Saved source 2 to /Users/yashsawrikar/Documents/VIT Labs/Semester 8/Senior Design Project/Dataset - Sample/NMF_Output/preprocessed_7902400A_source2.wav\n",
      "Processing: /Users/yashsawrikar/Documents/VIT Labs/Semester 8/Senior Design Project/Dataset - Sample/Preprocessed/non-bio/preprocessed_7902400D.wav\n"
     ]
    },
    {
     "name": "stderr",
     "output_type": "stream",
     "text": [
      "/opt/anaconda3/lib/python3.12/site-packages/sklearn/decomposition/_nmf.py:1759: ConvergenceWarning: Maximum number of iterations 200 reached. Increase it to improve convergence.\n",
      "  warnings.warn(\n",
      " 13%|█▎        | 28/213 [00:37<03:01,  1.02it/s]"
     ]
    },
    {
     "name": "stdout",
     "output_type": "stream",
     "text": [
      "Saved source 1 to /Users/yashsawrikar/Documents/VIT Labs/Semester 8/Senior Design Project/Dataset - Sample/NMF_Output/preprocessed_7902400D_source1.wav\n",
      "Saved source 2 to /Users/yashsawrikar/Documents/VIT Labs/Semester 8/Senior Design Project/Dataset - Sample/NMF_Output/preprocessed_7902400D_source2.wav\n",
      "Processing: /Users/yashsawrikar/Documents/VIT Labs/Semester 8/Senior Design Project/Dataset - Sample/Preprocessed/non-bio/preprocessed_5903002U.wav\n"
     ]
    },
    {
     "name": "stderr",
     "output_type": "stream",
     "text": [
      "/opt/anaconda3/lib/python3.12/site-packages/sklearn/decomposition/_nmf.py:1759: ConvergenceWarning: Maximum number of iterations 200 reached. Increase it to improve convergence.\n",
      "  warnings.warn(\n",
      " 14%|█▎        | 29/213 [00:38<02:50,  1.08it/s]"
     ]
    },
    {
     "name": "stdout",
     "output_type": "stream",
     "text": [
      "Saved source 1 to /Users/yashsawrikar/Documents/VIT Labs/Semester 8/Senior Design Project/Dataset - Sample/NMF_Output/preprocessed_5903002U_source1.wav\n",
      "Saved source 2 to /Users/yashsawrikar/Documents/VIT Labs/Semester 8/Senior Design Project/Dataset - Sample/NMF_Output/preprocessed_5903002U_source2.wav\n",
      "Processing: /Users/yashsawrikar/Documents/VIT Labs/Semester 8/Senior Design Project/Dataset - Sample/Preprocessed/non-bio/preprocessed_5903001K.wav\n"
     ]
    },
    {
     "name": "stderr",
     "output_type": "stream",
     "text": [
      "/opt/anaconda3/lib/python3.12/site-packages/sklearn/decomposition/_nmf.py:1759: ConvergenceWarning: Maximum number of iterations 200 reached. Increase it to improve convergence.\n",
      "  warnings.warn(\n",
      " 14%|█▍        | 30/213 [00:39<03:19,  1.09s/it]"
     ]
    },
    {
     "name": "stdout",
     "output_type": "stream",
     "text": [
      "Saved source 1 to /Users/yashsawrikar/Documents/VIT Labs/Semester 8/Senior Design Project/Dataset - Sample/NMF_Output/preprocessed_5903001K_source1.wav\n",
      "Saved source 2 to /Users/yashsawrikar/Documents/VIT Labs/Semester 8/Senior Design Project/Dataset - Sample/NMF_Output/preprocessed_5903001K_source2.wav\n",
      "Processing: /Users/yashsawrikar/Documents/VIT Labs/Semester 8/Senior Design Project/Dataset - Sample/Preprocessed/non-bio/preprocessed_59029014.wav\n"
     ]
    },
    {
     "name": "stderr",
     "output_type": "stream",
     "text": [
      "/opt/anaconda3/lib/python3.12/site-packages/sklearn/decomposition/_nmf.py:1759: ConvergenceWarning: Maximum number of iterations 200 reached. Increase it to improve convergence.\n",
      "  warnings.warn(\n",
      " 15%|█▍        | 31/213 [00:41<04:04,  1.34s/it]"
     ]
    },
    {
     "name": "stdout",
     "output_type": "stream",
     "text": [
      "Saved source 1 to /Users/yashsawrikar/Documents/VIT Labs/Semester 8/Senior Design Project/Dataset - Sample/NMF_Output/preprocessed_59029014_source1.wav\n",
      "Saved source 2 to /Users/yashsawrikar/Documents/VIT Labs/Semester 8/Senior Design Project/Dataset - Sample/NMF_Output/preprocessed_59029014_source2.wav\n",
      "Processing: /Users/yashsawrikar/Documents/VIT Labs/Semester 8/Senior Design Project/Dataset - Sample/Preprocessed/non-bio/preprocessed_5903000B.wav\n"
     ]
    },
    {
     "name": "stderr",
     "output_type": "stream",
     "text": [
      "/opt/anaconda3/lib/python3.12/site-packages/sklearn/decomposition/_nmf.py:1759: ConvergenceWarning: Maximum number of iterations 200 reached. Increase it to improve convergence.\n",
      "  warnings.warn(\n",
      " 15%|█▌        | 32/213 [00:45<06:02,  2.00s/it]"
     ]
    },
    {
     "name": "stdout",
     "output_type": "stream",
     "text": [
      "Saved source 1 to /Users/yashsawrikar/Documents/VIT Labs/Semester 8/Senior Design Project/Dataset - Sample/NMF_Output/preprocessed_5903000B_source1.wav\n",
      "Saved source 2 to /Users/yashsawrikar/Documents/VIT Labs/Semester 8/Senior Design Project/Dataset - Sample/NMF_Output/preprocessed_5903000B_source2.wav\n",
      "Processing: /Users/yashsawrikar/Documents/VIT Labs/Semester 8/Senior Design Project/Dataset - Sample/Preprocessed/non-bio/preprocessed_5903001A.wav\n"
     ]
    },
    {
     "name": "stderr",
     "output_type": "stream",
     "text": [
      " 15%|█▌        | 33/213 [00:46<05:03,  1.68s/it]"
     ]
    },
    {
     "name": "stdout",
     "output_type": "stream",
     "text": [
      "Saved source 1 to /Users/yashsawrikar/Documents/VIT Labs/Semester 8/Senior Design Project/Dataset - Sample/NMF_Output/preprocessed_5903001A_source1.wav\n",
      "Saved source 2 to /Users/yashsawrikar/Documents/VIT Labs/Semester 8/Senior Design Project/Dataset - Sample/NMF_Output/preprocessed_5903001A_source2.wav\n",
      "Processing: /Users/yashsawrikar/Documents/VIT Labs/Semester 8/Senior Design Project/Dataset - Sample/Preprocessed/non-bio/preprocessed_5903001U.wav\n"
     ]
    },
    {
     "name": "stderr",
     "output_type": "stream",
     "text": [
      "/opt/anaconda3/lib/python3.12/site-packages/sklearn/decomposition/_nmf.py:1759: ConvergenceWarning: Maximum number of iterations 200 reached. Increase it to improve convergence.\n",
      "  warnings.warn(\n",
      " 16%|█▌        | 34/213 [00:46<04:10,  1.40s/it]"
     ]
    },
    {
     "name": "stdout",
     "output_type": "stream",
     "text": [
      "Saved source 1 to /Users/yashsawrikar/Documents/VIT Labs/Semester 8/Senior Design Project/Dataset - Sample/NMF_Output/preprocessed_5903001U_source1.wav\n",
      "Saved source 2 to /Users/yashsawrikar/Documents/VIT Labs/Semester 8/Senior Design Project/Dataset - Sample/NMF_Output/preprocessed_5903001U_source2.wav\n",
      "Processing: /Users/yashsawrikar/Documents/VIT Labs/Semester 8/Senior Design Project/Dataset - Sample/Preprocessed/non-bio/preprocessed_68028001.wav\n"
     ]
    },
    {
     "name": "stderr",
     "output_type": "stream",
     "text": [
      " 16%|█▋        | 35/213 [00:47<03:55,  1.32s/it]"
     ]
    },
    {
     "name": "stdout",
     "output_type": "stream",
     "text": [
      "Saved source 1 to /Users/yashsawrikar/Documents/VIT Labs/Semester 8/Senior Design Project/Dataset - Sample/NMF_Output/preprocessed_68028001_source1.wav\n",
      "Saved source 2 to /Users/yashsawrikar/Documents/VIT Labs/Semester 8/Senior Design Project/Dataset - Sample/NMF_Output/preprocessed_68028001_source2.wav\n",
      "Processing: /Users/yashsawrikar/Documents/VIT Labs/Semester 8/Senior Design Project/Dataset - Sample/Preprocessed/non-bio/preprocessed_71012015.wav\n"
     ]
    },
    {
     "name": "stderr",
     "output_type": "stream",
     "text": [
      "/opt/anaconda3/lib/python3.12/site-packages/sklearn/decomposition/_nmf.py:1759: ConvergenceWarning: Maximum number of iterations 200 reached. Increase it to improve convergence.\n",
      "  warnings.warn(\n",
      " 17%|█▋        | 36/213 [00:48<03:40,  1.24s/it]"
     ]
    },
    {
     "name": "stdout",
     "output_type": "stream",
     "text": [
      "Saved source 1 to /Users/yashsawrikar/Documents/VIT Labs/Semester 8/Senior Design Project/Dataset - Sample/NMF_Output/preprocessed_71012015_source1.wav\n",
      "Saved source 2 to /Users/yashsawrikar/Documents/VIT Labs/Semester 8/Senior Design Project/Dataset - Sample/NMF_Output/preprocessed_71012015_source2.wav\n",
      "Processing: /Users/yashsawrikar/Documents/VIT Labs/Semester 8/Senior Design Project/Dataset - Sample/Preprocessed/non-bio/preprocessed_73001003.wav\n"
     ]
    },
    {
     "name": "stderr",
     "output_type": "stream",
     "text": [
      "/opt/anaconda3/lib/python3.12/site-packages/sklearn/decomposition/_nmf.py:1759: ConvergenceWarning: Maximum number of iterations 200 reached. Increase it to improve convergence.\n",
      "  warnings.warn(\n",
      " 17%|█▋        | 37/213 [00:50<03:31,  1.20s/it]"
     ]
    },
    {
     "name": "stdout",
     "output_type": "stream",
     "text": [
      "Saved source 1 to /Users/yashsawrikar/Documents/VIT Labs/Semester 8/Senior Design Project/Dataset - Sample/NMF_Output/preprocessed_73001003_source1.wav\n",
      "Saved source 2 to /Users/yashsawrikar/Documents/VIT Labs/Semester 8/Senior Design Project/Dataset - Sample/NMF_Output/preprocessed_73001003_source2.wav\n",
      "Processing: /Users/yashsawrikar/Documents/VIT Labs/Semester 8/Senior Design Project/Dataset - Sample/Preprocessed/non-bio/preprocessed_71012013.wav\n"
     ]
    },
    {
     "name": "stderr",
     "output_type": "stream",
     "text": [
      "/opt/anaconda3/lib/python3.12/site-packages/sklearn/decomposition/_nmf.py:1759: ConvergenceWarning: Maximum number of iterations 200 reached. Increase it to improve convergence.\n",
      "  warnings.warn(\n",
      " 18%|█▊        | 38/213 [00:51<03:49,  1.31s/it]"
     ]
    },
    {
     "name": "stdout",
     "output_type": "stream",
     "text": [
      "Saved source 1 to /Users/yashsawrikar/Documents/VIT Labs/Semester 8/Senior Design Project/Dataset - Sample/NMF_Output/preprocessed_71012013_source1.wav\n",
      "Saved source 2 to /Users/yashsawrikar/Documents/VIT Labs/Semester 8/Senior Design Project/Dataset - Sample/NMF_Output/preprocessed_71012013_source2.wav\n",
      "Processing: /Users/yashsawrikar/Documents/VIT Labs/Semester 8/Senior Design Project/Dataset - Sample/Preprocessed/non-bio/preprocessed_71012012.wav\n"
     ]
    },
    {
     "name": "stderr",
     "output_type": "stream",
     "text": [
      "/opt/anaconda3/lib/python3.12/site-packages/sklearn/decomposition/_nmf.py:1759: ConvergenceWarning: Maximum number of iterations 200 reached. Increase it to improve convergence.\n",
      "  warnings.warn(\n",
      " 18%|█▊        | 39/213 [00:53<04:31,  1.56s/it]"
     ]
    },
    {
     "name": "stdout",
     "output_type": "stream",
     "text": [
      "Saved source 1 to /Users/yashsawrikar/Documents/VIT Labs/Semester 8/Senior Design Project/Dataset - Sample/NMF_Output/preprocessed_71012012_source1.wav\n",
      "Saved source 2 to /Users/yashsawrikar/Documents/VIT Labs/Semester 8/Senior Design Project/Dataset - Sample/NMF_Output/preprocessed_71012012_source2.wav\n",
      "Processing: /Users/yashsawrikar/Documents/VIT Labs/Semester 8/Senior Design Project/Dataset - Sample/Preprocessed/non-bio/preprocessed_76001007.wav\n"
     ]
    },
    {
     "name": "stderr",
     "output_type": "stream",
     "text": [
      "/opt/anaconda3/lib/python3.12/site-packages/sklearn/decomposition/_nmf.py:1759: ConvergenceWarning: Maximum number of iterations 200 reached. Increase it to improve convergence.\n",
      "  warnings.warn(\n",
      " 19%|█▉        | 40/213 [00:56<05:37,  1.95s/it]"
     ]
    },
    {
     "name": "stdout",
     "output_type": "stream",
     "text": [
      "Saved source 1 to /Users/yashsawrikar/Documents/VIT Labs/Semester 8/Senior Design Project/Dataset - Sample/NMF_Output/preprocessed_76001007_source1.wav\n",
      "Saved source 2 to /Users/yashsawrikar/Documents/VIT Labs/Semester 8/Senior Design Project/Dataset - Sample/NMF_Output/preprocessed_76001007_source2.wav\n",
      "Processing: /Users/yashsawrikar/Documents/VIT Labs/Semester 8/Senior Design Project/Dataset - Sample/Preprocessed/non-bio/preprocessed_76001006.wav\n"
     ]
    },
    {
     "name": "stderr",
     "output_type": "stream",
     "text": [
      "/opt/anaconda3/lib/python3.12/site-packages/sklearn/decomposition/_nmf.py:1759: ConvergenceWarning: Maximum number of iterations 200 reached. Increase it to improve convergence.\n",
      "  warnings.warn(\n",
      " 19%|█▉        | 41/213 [00:58<05:10,  1.81s/it]"
     ]
    },
    {
     "name": "stdout",
     "output_type": "stream",
     "text": [
      "Saved source 1 to /Users/yashsawrikar/Documents/VIT Labs/Semester 8/Senior Design Project/Dataset - Sample/NMF_Output/preprocessed_76001006_source1.wav\n",
      "Saved source 2 to /Users/yashsawrikar/Documents/VIT Labs/Semester 8/Senior Design Project/Dataset - Sample/NMF_Output/preprocessed_76001006_source2.wav\n",
      "Processing: /Users/yashsawrikar/Documents/VIT Labs/Semester 8/Senior Design Project/Dataset - Sample/Preprocessed/non-bio/preprocessed_76001005.wav\n"
     ]
    },
    {
     "name": "stderr",
     "output_type": "stream",
     "text": [
      "/opt/anaconda3/lib/python3.12/site-packages/sklearn/decomposition/_nmf.py:1759: ConvergenceWarning: Maximum number of iterations 200 reached. Increase it to improve convergence.\n",
      "  warnings.warn(\n",
      " 20%|█▉        | 42/213 [00:59<04:24,  1.55s/it]"
     ]
    },
    {
     "name": "stdout",
     "output_type": "stream",
     "text": [
      "Saved source 1 to /Users/yashsawrikar/Documents/VIT Labs/Semester 8/Senior Design Project/Dataset - Sample/NMF_Output/preprocessed_76001005_source1.wav\n",
      "Saved source 2 to /Users/yashsawrikar/Documents/VIT Labs/Semester 8/Senior Design Project/Dataset - Sample/NMF_Output/preprocessed_76001005_source2.wav\n",
      "Processing: /Users/yashsawrikar/Documents/VIT Labs/Semester 8/Senior Design Project/Dataset - Sample/Preprocessed/non-bio/preprocessed_8800600J.wav\n"
     ]
    },
    {
     "name": "stderr",
     "output_type": "stream",
     "text": [
      " 20%|██        | 43/213 [01:00<04:35,  1.62s/it]"
     ]
    },
    {
     "name": "stdout",
     "output_type": "stream",
     "text": [
      "Saved source 1 to /Users/yashsawrikar/Documents/VIT Labs/Semester 8/Senior Design Project/Dataset - Sample/NMF_Output/preprocessed_8800600J_source1.wav\n",
      "Saved source 2 to /Users/yashsawrikar/Documents/VIT Labs/Semester 8/Senior Design Project/Dataset - Sample/NMF_Output/preprocessed_8800600J_source2.wav\n",
      "Processing: /Users/yashsawrikar/Documents/VIT Labs/Semester 8/Senior Design Project/Dataset - Sample/Preprocessed/non-bio/preprocessed_8800503J.wav\n"
     ]
    },
    {
     "name": "stderr",
     "output_type": "stream",
     "text": [
      " 21%|██        | 44/213 [01:03<05:29,  1.95s/it]"
     ]
    },
    {
     "name": "stdout",
     "output_type": "stream",
     "text": [
      "Saved source 1 to /Users/yashsawrikar/Documents/VIT Labs/Semester 8/Senior Design Project/Dataset - Sample/NMF_Output/preprocessed_8800503J_source1.wav\n",
      "Saved source 2 to /Users/yashsawrikar/Documents/VIT Labs/Semester 8/Senior Design Project/Dataset - Sample/NMF_Output/preprocessed_8800503J_source2.wav\n",
      "Processing: /Users/yashsawrikar/Documents/VIT Labs/Semester 8/Senior Design Project/Dataset - Sample/Preprocessed/non-bio/preprocessed_8800500E.wav\n"
     ]
    },
    {
     "name": "stderr",
     "output_type": "stream",
     "text": [
      " 21%|██        | 45/213 [01:05<05:25,  1.94s/it]"
     ]
    },
    {
     "name": "stdout",
     "output_type": "stream",
     "text": [
      "Saved source 1 to /Users/yashsawrikar/Documents/VIT Labs/Semester 8/Senior Design Project/Dataset - Sample/NMF_Output/preprocessed_8800500E_source1.wav\n",
      "Saved source 2 to /Users/yashsawrikar/Documents/VIT Labs/Semester 8/Senior Design Project/Dataset - Sample/NMF_Output/preprocessed_8800500E_source2.wav\n",
      "Processing: /Users/yashsawrikar/Documents/VIT Labs/Semester 8/Senior Design Project/Dataset - Sample/Preprocessed/non-bio/preprocessed_8800503O.wav\n"
     ]
    },
    {
     "name": "stderr",
     "output_type": "stream",
     "text": [
      " 22%|██▏       | 46/213 [01:06<04:43,  1.70s/it]"
     ]
    },
    {
     "name": "stdout",
     "output_type": "stream",
     "text": [
      "Saved source 1 to /Users/yashsawrikar/Documents/VIT Labs/Semester 8/Senior Design Project/Dataset - Sample/NMF_Output/preprocessed_8800503O_source1.wav\n",
      "Saved source 2 to /Users/yashsawrikar/Documents/VIT Labs/Semester 8/Senior Design Project/Dataset - Sample/NMF_Output/preprocessed_8800503O_source2.wav\n",
      "Processing: /Users/yashsawrikar/Documents/VIT Labs/Semester 8/Senior Design Project/Dataset - Sample/Preprocessed/non-bio/preprocessed_8800501J.wav\n"
     ]
    },
    {
     "name": "stderr",
     "output_type": "stream",
     "text": [
      "/opt/anaconda3/lib/python3.12/site-packages/sklearn/decomposition/_nmf.py:1759: ConvergenceWarning: Maximum number of iterations 200 reached. Increase it to improve convergence.\n",
      "  warnings.warn(\n",
      " 22%|██▏       | 47/213 [01:09<05:30,  1.99s/it]"
     ]
    },
    {
     "name": "stdout",
     "output_type": "stream",
     "text": [
      "Saved source 1 to /Users/yashsawrikar/Documents/VIT Labs/Semester 8/Senior Design Project/Dataset - Sample/NMF_Output/preprocessed_8800501J_source1.wav\n",
      "Saved source 2 to /Users/yashsawrikar/Documents/VIT Labs/Semester 8/Senior Design Project/Dataset - Sample/NMF_Output/preprocessed_8800501J_source2.wav\n",
      "Processing: /Users/yashsawrikar/Documents/VIT Labs/Semester 8/Senior Design Project/Dataset - Sample/Preprocessed/non-bio/preprocessed_88005020.wav\n"
     ]
    },
    {
     "name": "stderr",
     "output_type": "stream",
     "text": [
      " 23%|██▎       | 48/213 [01:10<04:55,  1.79s/it]"
     ]
    },
    {
     "name": "stdout",
     "output_type": "stream",
     "text": [
      "Saved source 1 to /Users/yashsawrikar/Documents/VIT Labs/Semester 8/Senior Design Project/Dataset - Sample/NMF_Output/preprocessed_88005020_source1.wav\n",
      "Saved source 2 to /Users/yashsawrikar/Documents/VIT Labs/Semester 8/Senior Design Project/Dataset - Sample/NMF_Output/preprocessed_88005020_source2.wav\n",
      "Processing: /Users/yashsawrikar/Documents/VIT Labs/Semester 8/Senior Design Project/Dataset - Sample/Preprocessed/non-bio/preprocessed_7500305L.wav\n"
     ]
    },
    {
     "name": "stderr",
     "output_type": "stream",
     "text": [
      "/opt/anaconda3/lib/python3.12/site-packages/sklearn/decomposition/_nmf.py:1759: ConvergenceWarning: Maximum number of iterations 200 reached. Increase it to improve convergence.\n",
      "  warnings.warn(\n",
      " 23%|██▎       | 49/213 [01:11<04:34,  1.67s/it]"
     ]
    },
    {
     "name": "stdout",
     "output_type": "stream",
     "text": [
      "Saved source 1 to /Users/yashsawrikar/Documents/VIT Labs/Semester 8/Senior Design Project/Dataset - Sample/NMF_Output/preprocessed_7500305L_source1.wav\n",
      "Saved source 2 to /Users/yashsawrikar/Documents/VIT Labs/Semester 8/Senior Design Project/Dataset - Sample/NMF_Output/preprocessed_7500305L_source2.wav\n",
      "Processing: /Users/yashsawrikar/Documents/VIT Labs/Semester 8/Senior Design Project/Dataset - Sample/Preprocessed/non-bio/preprocessed_58014021.wav\n"
     ]
    },
    {
     "name": "stderr",
     "output_type": "stream",
     "text": [
      " 23%|██▎       | 50/213 [01:13<04:04,  1.50s/it]"
     ]
    },
    {
     "name": "stdout",
     "output_type": "stream",
     "text": [
      "Saved source 1 to /Users/yashsawrikar/Documents/VIT Labs/Semester 8/Senior Design Project/Dataset - Sample/NMF_Output/preprocessed_58014021_source1.wav\n",
      "Saved source 2 to /Users/yashsawrikar/Documents/VIT Labs/Semester 8/Senior Design Project/Dataset - Sample/NMF_Output/preprocessed_58014021_source2.wav\n",
      "Processing: /Users/yashsawrikar/Documents/VIT Labs/Semester 8/Senior Design Project/Dataset - Sample/Preprocessed/non-bio/preprocessed_57027023.wav\n"
     ]
    },
    {
     "name": "stderr",
     "output_type": "stream",
     "text": [
      "/opt/anaconda3/lib/python3.12/site-packages/sklearn/decomposition/_nmf.py:1759: ConvergenceWarning: Maximum number of iterations 200 reached. Increase it to improve convergence.\n",
      "  warnings.warn(\n",
      " 24%|██▍       | 51/213 [01:13<03:27,  1.28s/it]"
     ]
    },
    {
     "name": "stdout",
     "output_type": "stream",
     "text": [
      "Saved source 1 to /Users/yashsawrikar/Documents/VIT Labs/Semester 8/Senior Design Project/Dataset - Sample/NMF_Output/preprocessed_57027023_source1.wav\n",
      "Saved source 2 to /Users/yashsawrikar/Documents/VIT Labs/Semester 8/Senior Design Project/Dataset - Sample/NMF_Output/preprocessed_57027023_source2.wav\n",
      "Processing: /Users/yashsawrikar/Documents/VIT Labs/Semester 8/Senior Design Project/Dataset - Sample/Preprocessed/non-bio/preprocessed_75003038.wav\n"
     ]
    },
    {
     "name": "stderr",
     "output_type": "stream",
     "text": [
      "/opt/anaconda3/lib/python3.12/site-packages/sklearn/decomposition/_nmf.py:1759: ConvergenceWarning: Maximum number of iterations 200 reached. Increase it to improve convergence.\n",
      "  warnings.warn(\n",
      " 24%|██▍       | 52/213 [01:15<03:20,  1.24s/it]"
     ]
    },
    {
     "name": "stdout",
     "output_type": "stream",
     "text": [
      "Saved source 1 to /Users/yashsawrikar/Documents/VIT Labs/Semester 8/Senior Design Project/Dataset - Sample/NMF_Output/preprocessed_75003038_source1.wav\n",
      "Saved source 2 to /Users/yashsawrikar/Documents/VIT Labs/Semester 8/Senior Design Project/Dataset - Sample/NMF_Output/preprocessed_75003038_source2.wav\n",
      "Processing: /Users/yashsawrikar/Documents/VIT Labs/Semester 8/Senior Design Project/Dataset - Sample/Preprocessed/non-bio/preprocessed_6103000A.wav\n"
     ]
    },
    {
     "name": "stderr",
     "output_type": "stream",
     "text": [
      "/opt/anaconda3/lib/python3.12/site-packages/sklearn/decomposition/_nmf.py:1759: ConvergenceWarning: Maximum number of iterations 200 reached. Increase it to improve convergence.\n",
      "  warnings.warn(\n",
      " 25%|██▍       | 53/213 [01:16<03:34,  1.34s/it]"
     ]
    },
    {
     "name": "stdout",
     "output_type": "stream",
     "text": [
      "Saved source 1 to /Users/yashsawrikar/Documents/VIT Labs/Semester 8/Senior Design Project/Dataset - Sample/NMF_Output/preprocessed_6103000A_source1.wav\n",
      "Saved source 2 to /Users/yashsawrikar/Documents/VIT Labs/Semester 8/Senior Design Project/Dataset - Sample/NMF_Output/preprocessed_6103000A_source2.wav\n",
      "Processing: /Users/yashsawrikar/Documents/VIT Labs/Semester 8/Senior Design Project/Dataset - Sample/Preprocessed/non-bio/preprocessed_57026069.wav\n"
     ]
    },
    {
     "name": "stderr",
     "output_type": "stream",
     "text": [
      " 25%|██▌       | 54/213 [01:18<03:54,  1.47s/it]"
     ]
    },
    {
     "name": "stdout",
     "output_type": "stream",
     "text": [
      "Saved source 1 to /Users/yashsawrikar/Documents/VIT Labs/Semester 8/Senior Design Project/Dataset - Sample/NMF_Output/preprocessed_57026069_source1.wav\n",
      "Saved source 2 to /Users/yashsawrikar/Documents/VIT Labs/Semester 8/Senior Design Project/Dataset - Sample/NMF_Output/preprocessed_57026069_source2.wav\n",
      "Processing: /Users/yashsawrikar/Documents/VIT Labs/Semester 8/Senior Design Project/Dataset - Sample/Preprocessed/non-bio/preprocessed_6302100E.wav\n"
     ]
    },
    {
     "name": "stderr",
     "output_type": "stream",
     "text": [
      " 26%|██▌       | 55/213 [01:19<03:34,  1.36s/it]"
     ]
    },
    {
     "name": "stdout",
     "output_type": "stream",
     "text": [
      "Saved source 1 to /Users/yashsawrikar/Documents/VIT Labs/Semester 8/Senior Design Project/Dataset - Sample/NMF_Output/preprocessed_6302100E_source1.wav\n",
      "Saved source 2 to /Users/yashsawrikar/Documents/VIT Labs/Semester 8/Senior Design Project/Dataset - Sample/NMF_Output/preprocessed_6302100E_source2.wav\n",
      "Processing: /Users/yashsawrikar/Documents/VIT Labs/Semester 8/Senior Design Project/Dataset - Sample/Preprocessed/non-bio/preprocessed_99001008.wav\n"
     ]
    },
    {
     "name": "stderr",
     "output_type": "stream",
     "text": [
      "/opt/anaconda3/lib/python3.12/site-packages/sklearn/decomposition/_nmf.py:1759: ConvergenceWarning: Maximum number of iterations 200 reached. Increase it to improve convergence.\n",
      "  warnings.warn(\n",
      " 26%|██▋       | 56/213 [01:23<05:53,  2.25s/it]"
     ]
    },
    {
     "name": "stdout",
     "output_type": "stream",
     "text": [
      "Saved source 1 to /Users/yashsawrikar/Documents/VIT Labs/Semester 8/Senior Design Project/Dataset - Sample/NMF_Output/preprocessed_99001008_source1.wav\n",
      "Saved source 2 to /Users/yashsawrikar/Documents/VIT Labs/Semester 8/Senior Design Project/Dataset - Sample/NMF_Output/preprocessed_99001008_source2.wav\n",
      "Processing: /Users/yashsawrikar/Documents/VIT Labs/Semester 8/Senior Design Project/Dataset - Sample/Preprocessed/non-bio/preprocessed_6702600L.wav\n"
     ]
    },
    {
     "name": "stderr",
     "output_type": "stream",
     "text": [
      "/opt/anaconda3/lib/python3.12/site-packages/sklearn/decomposition/_nmf.py:1759: ConvergenceWarning: Maximum number of iterations 200 reached. Increase it to improve convergence.\n",
      "  warnings.warn(\n",
      " 27%|██▋       | 57/213 [01:25<05:08,  1.98s/it]"
     ]
    },
    {
     "name": "stdout",
     "output_type": "stream",
     "text": [
      "Saved source 1 to /Users/yashsawrikar/Documents/VIT Labs/Semester 8/Senior Design Project/Dataset - Sample/NMF_Output/preprocessed_6702600L_source1.wav\n",
      "Saved source 2 to /Users/yashsawrikar/Documents/VIT Labs/Semester 8/Senior Design Project/Dataset - Sample/NMF_Output/preprocessed_6702600L_source2.wav\n",
      "Processing: /Users/yashsawrikar/Documents/VIT Labs/Semester 8/Senior Design Project/Dataset - Sample/Preprocessed/non-bio/preprocessed_9900200A.wav\n"
     ]
    },
    {
     "name": "stderr",
     "output_type": "stream",
     "text": [
      "/opt/anaconda3/lib/python3.12/site-packages/sklearn/decomposition/_nmf.py:1759: ConvergenceWarning: Maximum number of iterations 200 reached. Increase it to improve convergence.\n",
      "  warnings.warn(\n",
      " 27%|██▋       | 58/213 [01:28<06:01,  2.33s/it]"
     ]
    },
    {
     "name": "stdout",
     "output_type": "stream",
     "text": [
      "Saved source 1 to /Users/yashsawrikar/Documents/VIT Labs/Semester 8/Senior Design Project/Dataset - Sample/NMF_Output/preprocessed_9900200A_source1.wav\n",
      "Saved source 2 to /Users/yashsawrikar/Documents/VIT Labs/Semester 8/Senior Design Project/Dataset - Sample/NMF_Output/preprocessed_9900200A_source2.wav\n",
      "Processing: /Users/yashsawrikar/Documents/VIT Labs/Semester 8/Senior Design Project/Dataset - Sample/Preprocessed/non-bio/preprocessed_9900200B.wav\n"
     ]
    },
    {
     "name": "stderr",
     "output_type": "stream",
     "text": [
      "/opt/anaconda3/lib/python3.12/site-packages/sklearn/decomposition/_nmf.py:1759: ConvergenceWarning: Maximum number of iterations 200 reached. Increase it to improve convergence.\n",
      "  warnings.warn(\n",
      " 28%|██▊       | 59/213 [01:30<05:36,  2.18s/it]"
     ]
    },
    {
     "name": "stdout",
     "output_type": "stream",
     "text": [
      "Saved source 1 to /Users/yashsawrikar/Documents/VIT Labs/Semester 8/Senior Design Project/Dataset - Sample/NMF_Output/preprocessed_9900200B_source1.wav\n",
      "Saved source 2 to /Users/yashsawrikar/Documents/VIT Labs/Semester 8/Senior Design Project/Dataset - Sample/NMF_Output/preprocessed_9900200B_source2.wav\n",
      "Processing: /Users/yashsawrikar/Documents/VIT Labs/Semester 8/Senior Design Project/Dataset - Sample/Preprocessed/non-bio/preprocessed_99002009.wav\n"
     ]
    },
    {
     "name": "stderr",
     "output_type": "stream",
     "text": [
      " 28%|██▊       | 60/213 [01:31<04:55,  1.93s/it]"
     ]
    },
    {
     "name": "stdout",
     "output_type": "stream",
     "text": [
      "Saved source 1 to /Users/yashsawrikar/Documents/VIT Labs/Semester 8/Senior Design Project/Dataset - Sample/NMF_Output/preprocessed_99002009_source1.wav\n",
      "Saved source 2 to /Users/yashsawrikar/Documents/VIT Labs/Semester 8/Senior Design Project/Dataset - Sample/NMF_Output/preprocessed_99002009_source2.wav\n",
      "Processing: /Users/yashsawrikar/Documents/VIT Labs/Semester 8/Senior Design Project/Dataset - Sample/Preprocessed/non-bio/preprocessed_99001002.wav\n"
     ]
    },
    {
     "name": "stderr",
     "output_type": "stream",
     "text": [
      "/opt/anaconda3/lib/python3.12/site-packages/sklearn/decomposition/_nmf.py:1759: ConvergenceWarning: Maximum number of iterations 200 reached. Increase it to improve convergence.\n",
      "  warnings.warn(\n",
      " 29%|██▊       | 61/213 [01:33<04:45,  1.88s/it]"
     ]
    },
    {
     "name": "stdout",
     "output_type": "stream",
     "text": [
      "Saved source 1 to /Users/yashsawrikar/Documents/VIT Labs/Semester 8/Senior Design Project/Dataset - Sample/NMF_Output/preprocessed_99001002_source1.wav\n",
      "Saved source 2 to /Users/yashsawrikar/Documents/VIT Labs/Semester 8/Senior Design Project/Dataset - Sample/NMF_Output/preprocessed_99001002_source2.wav\n",
      "Processing: /Users/yashsawrikar/Documents/VIT Labs/Semester 8/Senior Design Project/Dataset - Sample/Preprocessed/non-bio/preprocessed_67026001.wav\n"
     ]
    },
    {
     "name": "stderr",
     "output_type": "stream",
     "text": [
      "/opt/anaconda3/lib/python3.12/site-packages/sklearn/decomposition/_nmf.py:1759: ConvergenceWarning: Maximum number of iterations 200 reached. Increase it to improve convergence.\n",
      "  warnings.warn(\n",
      " 29%|██▉       | 62/213 [01:34<04:29,  1.79s/it]"
     ]
    },
    {
     "name": "stdout",
     "output_type": "stream",
     "text": [
      "Saved source 1 to /Users/yashsawrikar/Documents/VIT Labs/Semester 8/Senior Design Project/Dataset - Sample/NMF_Output/preprocessed_67026001_source1.wav\n",
      "Saved source 2 to /Users/yashsawrikar/Documents/VIT Labs/Semester 8/Senior Design Project/Dataset - Sample/NMF_Output/preprocessed_67026001_source2.wav\n",
      "Processing: /Users/yashsawrikar/Documents/VIT Labs/Semester 8/Senior Design Project/Dataset - Sample/Preprocessed/non-bio/preprocessed_56006007.wav\n"
     ]
    },
    {
     "name": "stderr",
     "output_type": "stream",
     "text": [
      " 30%|██▉       | 63/213 [01:35<03:49,  1.53s/it]"
     ]
    },
    {
     "name": "stdout",
     "output_type": "stream",
     "text": [
      "Saved source 1 to /Users/yashsawrikar/Documents/VIT Labs/Semester 8/Senior Design Project/Dataset - Sample/NMF_Output/preprocessed_56006007_source1.wav\n",
      "Saved source 2 to /Users/yashsawrikar/Documents/VIT Labs/Semester 8/Senior Design Project/Dataset - Sample/NMF_Output/preprocessed_56006007_source2.wav\n",
      "Processing: /Users/yashsawrikar/Documents/VIT Labs/Semester 8/Senior Design Project/Dataset - Sample/Preprocessed/non-bio/preprocessed_9400801F.wav\n"
     ]
    },
    {
     "name": "stderr",
     "output_type": "stream",
     "text": [
      "/opt/anaconda3/lib/python3.12/site-packages/sklearn/decomposition/_nmf.py:1759: ConvergenceWarning: Maximum number of iterations 200 reached. Increase it to improve convergence.\n",
      "  warnings.warn(\n",
      " 30%|███       | 64/213 [01:36<03:09,  1.27s/it]"
     ]
    },
    {
     "name": "stdout",
     "output_type": "stream",
     "text": [
      "Saved source 1 to /Users/yashsawrikar/Documents/VIT Labs/Semester 8/Senior Design Project/Dataset - Sample/NMF_Output/preprocessed_9400801F_source1.wav\n",
      "Saved source 2 to /Users/yashsawrikar/Documents/VIT Labs/Semester 8/Senior Design Project/Dataset - Sample/NMF_Output/preprocessed_9400801F_source2.wav\n",
      "Processing: /Users/yashsawrikar/Documents/VIT Labs/Semester 8/Senior Design Project/Dataset - Sample/Preprocessed/non-bio/preprocessed_94008062.wav\n"
     ]
    },
    {
     "name": "stderr",
     "output_type": "stream",
     "text": [
      " 31%|███       | 65/213 [01:37<02:55,  1.19s/it]"
     ]
    },
    {
     "name": "stdout",
     "output_type": "stream",
     "text": [
      "Saved source 1 to /Users/yashsawrikar/Documents/VIT Labs/Semester 8/Senior Design Project/Dataset - Sample/NMF_Output/preprocessed_94008062_source1.wav\n",
      "Saved source 2 to /Users/yashsawrikar/Documents/VIT Labs/Semester 8/Senior Design Project/Dataset - Sample/NMF_Output/preprocessed_94008062_source2.wav\n",
      "Processing: /Users/yashsawrikar/Documents/VIT Labs/Semester 8/Senior Design Project/Dataset - Sample/Preprocessed/non-bio/preprocessed_6400504G.wav\n"
     ]
    },
    {
     "name": "stderr",
     "output_type": "stream",
     "text": [
      "/opt/anaconda3/lib/python3.12/site-packages/sklearn/decomposition/_nmf.py:1759: ConvergenceWarning: Maximum number of iterations 200 reached. Increase it to improve convergence.\n",
      "  warnings.warn(\n",
      " 31%|███       | 66/213 [02:43<50:52, 20.77s/it]"
     ]
    },
    {
     "name": "stdout",
     "output_type": "stream",
     "text": [
      "Saved source 1 to /Users/yashsawrikar/Documents/VIT Labs/Semester 8/Senior Design Project/Dataset - Sample/NMF_Output/preprocessed_6400504G_source1.wav\n",
      "Saved source 2 to /Users/yashsawrikar/Documents/VIT Labs/Semester 8/Senior Design Project/Dataset - Sample/NMF_Output/preprocessed_6400504G_source2.wav\n",
      "Processing: /Users/yashsawrikar/Documents/VIT Labs/Semester 8/Senior Design Project/Dataset - Sample/Preprocessed/non-bio/preprocessed_9400807L.wav\n"
     ]
    },
    {
     "name": "stderr",
     "output_type": "stream",
     "text": [
      " 31%|███▏      | 67/213 [02:44<36:07, 14.85s/it]"
     ]
    },
    {
     "name": "stdout",
     "output_type": "stream",
     "text": [
      "Saved source 1 to /Users/yashsawrikar/Documents/VIT Labs/Semester 8/Senior Design Project/Dataset - Sample/NMF_Output/preprocessed_9400807L_source1.wav\n",
      "Saved source 2 to /Users/yashsawrikar/Documents/VIT Labs/Semester 8/Senior Design Project/Dataset - Sample/NMF_Output/preprocessed_9400807L_source2.wav\n",
      "Processing: /Users/yashsawrikar/Documents/VIT Labs/Semester 8/Senior Design Project/Dataset - Sample/Preprocessed/non-bio/preprocessed_9400800Z.wav\n"
     ]
    },
    {
     "name": "stderr",
     "output_type": "stream",
     "text": [
      "/opt/anaconda3/lib/python3.12/site-packages/sklearn/decomposition/_nmf.py:1759: ConvergenceWarning: Maximum number of iterations 200 reached. Increase it to improve convergence.\n",
      "  warnings.warn(\n",
      " 32%|███▏      | 68/213 [02:45<25:41, 10.63s/it]"
     ]
    },
    {
     "name": "stdout",
     "output_type": "stream",
     "text": [
      "Saved source 1 to /Users/yashsawrikar/Documents/VIT Labs/Semester 8/Senior Design Project/Dataset - Sample/NMF_Output/preprocessed_9400800Z_source1.wav\n",
      "Saved source 2 to /Users/yashsawrikar/Documents/VIT Labs/Semester 8/Senior Design Project/Dataset - Sample/NMF_Output/preprocessed_9400800Z_source2.wav\n",
      "Processing: /Users/yashsawrikar/Documents/VIT Labs/Semester 8/Senior Design Project/Dataset - Sample/Preprocessed/non-bio/preprocessed_7001200D.wav\n"
     ]
    },
    {
     "name": "stderr",
     "output_type": "stream",
     "text": [
      " 32%|███▏      | 69/213 [02:46<18:43,  7.81s/it]"
     ]
    },
    {
     "name": "stdout",
     "output_type": "stream",
     "text": [
      "Saved source 1 to /Users/yashsawrikar/Documents/VIT Labs/Semester 8/Senior Design Project/Dataset - Sample/NMF_Output/preprocessed_7001200D_source1.wav\n",
      "Saved source 2 to /Users/yashsawrikar/Documents/VIT Labs/Semester 8/Senior Design Project/Dataset - Sample/NMF_Output/preprocessed_7001200D_source2.wav\n",
      "Processing: /Users/yashsawrikar/Documents/VIT Labs/Semester 8/Senior Design Project/Dataset - Sample/Preprocessed/non-bio/preprocessed_70012001.wav\n"
     ]
    },
    {
     "name": "stderr",
     "output_type": "stream",
     "text": [
      " 33%|███▎      | 70/213 [02:47<13:48,  5.80s/it]"
     ]
    },
    {
     "name": "stdout",
     "output_type": "stream",
     "text": [
      "Saved source 1 to /Users/yashsawrikar/Documents/VIT Labs/Semester 8/Senior Design Project/Dataset - Sample/NMF_Output/preprocessed_70012001_source1.wav\n",
      "Saved source 2 to /Users/yashsawrikar/Documents/VIT Labs/Semester 8/Senior Design Project/Dataset - Sample/NMF_Output/preprocessed_70012001_source2.wav\n",
      "Processing: /Users/yashsawrikar/Documents/VIT Labs/Semester 8/Senior Design Project/Dataset - Sample/Preprocessed/non-bio/preprocessed_6200800S.wav\n"
     ]
    },
    {
     "name": "stderr",
     "output_type": "stream",
     "text": [
      "/opt/anaconda3/lib/python3.12/site-packages/sklearn/decomposition/_nmf.py:1759: ConvergenceWarning: Maximum number of iterations 200 reached. Increase it to improve convergence.\n",
      "  warnings.warn(\n",
      " 33%|███▎      | 71/213 [02:48<10:10,  4.30s/it]"
     ]
    },
    {
     "name": "stdout",
     "output_type": "stream",
     "text": [
      "Saved source 1 to /Users/yashsawrikar/Documents/VIT Labs/Semester 8/Senior Design Project/Dataset - Sample/NMF_Output/preprocessed_6200800S_source1.wav\n",
      "Saved source 2 to /Users/yashsawrikar/Documents/VIT Labs/Semester 8/Senior Design Project/Dataset - Sample/NMF_Output/preprocessed_6200800S_source2.wav\n",
      "Processing: /Users/yashsawrikar/Documents/VIT Labs/Semester 8/Senior Design Project/Dataset - Sample/Preprocessed/non-bio/preprocessed_70014015.wav\n"
     ]
    },
    {
     "name": "stderr",
     "output_type": "stream",
     "text": [
      " 34%|███▍      | 72/213 [02:49<07:39,  3.26s/it]"
     ]
    },
    {
     "name": "stdout",
     "output_type": "stream",
     "text": [
      "Saved source 1 to /Users/yashsawrikar/Documents/VIT Labs/Semester 8/Senior Design Project/Dataset - Sample/NMF_Output/preprocessed_70014015_source1.wav\n",
      "Saved source 2 to /Users/yashsawrikar/Documents/VIT Labs/Semester 8/Senior Design Project/Dataset - Sample/NMF_Output/preprocessed_70014015_source2.wav\n",
      "Processing: /Users/yashsawrikar/Documents/VIT Labs/Semester 8/Senior Design Project/Dataset - Sample/Preprocessed/non-bio/preprocessed_6200800Q.wav\n"
     ]
    },
    {
     "name": "stderr",
     "output_type": "stream",
     "text": [
      "/opt/anaconda3/lib/python3.12/site-packages/sklearn/decomposition/_nmf.py:1759: ConvergenceWarning: Maximum number of iterations 200 reached. Increase it to improve convergence.\n",
      "  warnings.warn(\n",
      " 34%|███▍      | 73/213 [02:50<06:04,  2.60s/it]"
     ]
    },
    {
     "name": "stdout",
     "output_type": "stream",
     "text": [
      "Saved source 1 to /Users/yashsawrikar/Documents/VIT Labs/Semester 8/Senior Design Project/Dataset - Sample/NMF_Output/preprocessed_6200800Q_source1.wav\n",
      "Saved source 2 to /Users/yashsawrikar/Documents/VIT Labs/Semester 8/Senior Design Project/Dataset - Sample/NMF_Output/preprocessed_6200800Q_source2.wav\n",
      "Processing: /Users/yashsawrikar/Documents/VIT Labs/Semester 8/Senior Design Project/Dataset - Sample/Preprocessed/non-bio/preprocessed_6200800K.wav\n"
     ]
    },
    {
     "name": "stderr",
     "output_type": "stream",
     "text": [
      " 35%|███▍      | 74/213 [02:51<04:49,  2.08s/it]"
     ]
    },
    {
     "name": "stdout",
     "output_type": "stream",
     "text": [
      "Saved source 1 to /Users/yashsawrikar/Documents/VIT Labs/Semester 8/Senior Design Project/Dataset - Sample/NMF_Output/preprocessed_6200800K_source1.wav\n",
      "Saved source 2 to /Users/yashsawrikar/Documents/VIT Labs/Semester 8/Senior Design Project/Dataset - Sample/NMF_Output/preprocessed_6200800K_source2.wav\n",
      "Processing: /Users/yashsawrikar/Documents/VIT Labs/Semester 8/Senior Design Project/Dataset - Sample/Preprocessed/non-bio/preprocessed_7001300A.wav\n"
     ]
    },
    {
     "name": "stderr",
     "output_type": "stream",
     "text": [
      " 35%|███▌      | 75/213 [02:53<04:26,  1.93s/it]"
     ]
    },
    {
     "name": "stdout",
     "output_type": "stream",
     "text": [
      "Saved source 1 to /Users/yashsawrikar/Documents/VIT Labs/Semester 8/Senior Design Project/Dataset - Sample/NMF_Output/preprocessed_7001300A_source1.wav\n",
      "Saved source 2 to /Users/yashsawrikar/Documents/VIT Labs/Semester 8/Senior Design Project/Dataset - Sample/NMF_Output/preprocessed_7001300A_source2.wav\n",
      "Processing: /Users/yashsawrikar/Documents/VIT Labs/Semester 8/Senior Design Project/Dataset - Sample/Preprocessed/non-bio/preprocessed_77008001.wav\n"
     ]
    },
    {
     "name": "stderr",
     "output_type": "stream",
     "text": [
      "/opt/anaconda3/lib/python3.12/site-packages/sklearn/decomposition/_nmf.py:1759: ConvergenceWarning: Maximum number of iterations 200 reached. Increase it to improve convergence.\n",
      "  warnings.warn(\n",
      " 36%|███▌      | 76/213 [02:54<03:55,  1.72s/it]"
     ]
    },
    {
     "name": "stdout",
     "output_type": "stream",
     "text": [
      "Saved source 1 to /Users/yashsawrikar/Documents/VIT Labs/Semester 8/Senior Design Project/Dataset - Sample/NMF_Output/preprocessed_77008001_source1.wav\n",
      "Saved source 2 to /Users/yashsawrikar/Documents/VIT Labs/Semester 8/Senior Design Project/Dataset - Sample/NMF_Output/preprocessed_77008001_source2.wav\n",
      "Processing: /Users/yashsawrikar/Documents/VIT Labs/Semester 8/Senior Design Project/Dataset - Sample/Preprocessed/non-bio/preprocessed_9320100S.wav\n"
     ]
    },
    {
     "name": "stderr",
     "output_type": "stream",
     "text": [
      "/opt/anaconda3/lib/python3.12/site-packages/sklearn/decomposition/_nmf.py:1759: ConvergenceWarning: Maximum number of iterations 200 reached. Increase it to improve convergence.\n",
      "  warnings.warn(\n",
      " 36%|███▌      | 77/213 [02:57<04:36,  2.03s/it]"
     ]
    },
    {
     "name": "stdout",
     "output_type": "stream",
     "text": [
      "Saved source 1 to /Users/yashsawrikar/Documents/VIT Labs/Semester 8/Senior Design Project/Dataset - Sample/NMF_Output/preprocessed_9320100S_source1.wav\n",
      "Saved source 2 to /Users/yashsawrikar/Documents/VIT Labs/Semester 8/Senior Design Project/Dataset - Sample/NMF_Output/preprocessed_9320100S_source2.wav\n",
      "Processing: /Users/yashsawrikar/Documents/VIT Labs/Semester 8/Senior Design Project/Dataset - Sample/Preprocessed/non-bio/preprocessed_61056002.wav\n"
     ]
    },
    {
     "name": "stderr",
     "output_type": "stream",
     "text": [
      "/opt/anaconda3/lib/python3.12/site-packages/sklearn/decomposition/_nmf.py:1759: ConvergenceWarning: Maximum number of iterations 200 reached. Increase it to improve convergence.\n",
      "  warnings.warn(\n",
      " 37%|███▋      | 78/213 [03:04<08:14,  3.66s/it]"
     ]
    },
    {
     "name": "stdout",
     "output_type": "stream",
     "text": [
      "Saved source 1 to /Users/yashsawrikar/Documents/VIT Labs/Semester 8/Senior Design Project/Dataset - Sample/NMF_Output/preprocessed_61056002_source1.wav\n",
      "Saved source 2 to /Users/yashsawrikar/Documents/VIT Labs/Semester 8/Senior Design Project/Dataset - Sample/NMF_Output/preprocessed_61056002_source2.wav\n",
      "Processing: /Users/yashsawrikar/Documents/VIT Labs/Semester 8/Senior Design Project/Dataset - Sample/Preprocessed/non-bio/preprocessed_7700901B.wav\n"
     ]
    },
    {
     "name": "stderr",
     "output_type": "stream",
     "text": [
      "/opt/anaconda3/lib/python3.12/site-packages/sklearn/decomposition/_nmf.py:1759: ConvergenceWarning: Maximum number of iterations 200 reached. Increase it to improve convergence.\n",
      "  warnings.warn(\n",
      " 37%|███▋      | 79/213 [03:05<06:32,  2.93s/it]"
     ]
    },
    {
     "name": "stdout",
     "output_type": "stream",
     "text": [
      "Saved source 1 to /Users/yashsawrikar/Documents/VIT Labs/Semester 8/Senior Design Project/Dataset - Sample/NMF_Output/preprocessed_7700901B_source1.wav\n",
      "Saved source 2 to /Users/yashsawrikar/Documents/VIT Labs/Semester 8/Senior Design Project/Dataset - Sample/NMF_Output/preprocessed_7700901B_source2.wav\n",
      "Processing: /Users/yashsawrikar/Documents/VIT Labs/Semester 8/Senior Design Project/Dataset - Sample/Preprocessed/non-bio/preprocessed_61053004.wav\n"
     ]
    },
    {
     "name": "stderr",
     "output_type": "stream",
     "text": [
      "/opt/anaconda3/lib/python3.12/site-packages/sklearn/decomposition/_nmf.py:1759: ConvergenceWarning: Maximum number of iterations 200 reached. Increase it to improve convergence.\n",
      "  warnings.warn(\n",
      " 38%|███▊      | 80/213 [03:07<05:43,  2.58s/it]"
     ]
    },
    {
     "name": "stdout",
     "output_type": "stream",
     "text": [
      "Saved source 1 to /Users/yashsawrikar/Documents/VIT Labs/Semester 8/Senior Design Project/Dataset - Sample/NMF_Output/preprocessed_61053004_source1.wav\n",
      "Saved source 2 to /Users/yashsawrikar/Documents/VIT Labs/Semester 8/Senior Design Project/Dataset - Sample/NMF_Output/preprocessed_61053004_source2.wav\n",
      "Processing: /Users/yashsawrikar/Documents/VIT Labs/Semester 8/Senior Design Project/Dataset - Sample/Preprocessed/non-bio/preprocessed_77006009.wav\n"
     ]
    },
    {
     "name": "stderr",
     "output_type": "stream",
     "text": [
      "/opt/anaconda3/lib/python3.12/site-packages/sklearn/decomposition/_nmf.py:1759: ConvergenceWarning: Maximum number of iterations 200 reached. Increase it to improve convergence.\n",
      "  warnings.warn(\n",
      " 38%|███▊      | 81/213 [03:08<04:33,  2.07s/it]"
     ]
    },
    {
     "name": "stdout",
     "output_type": "stream",
     "text": [
      "Saved source 1 to /Users/yashsawrikar/Documents/VIT Labs/Semester 8/Senior Design Project/Dataset - Sample/NMF_Output/preprocessed_77006009_source1.wav\n",
      "Saved source 2 to /Users/yashsawrikar/Documents/VIT Labs/Semester 8/Senior Design Project/Dataset - Sample/NMF_Output/preprocessed_77006009_source2.wav\n",
      "Processing: /Users/yashsawrikar/Documents/VIT Labs/Semester 8/Senior Design Project/Dataset - Sample/Preprocessed/non-bio/preprocessed_79004035.wav\n"
     ]
    },
    {
     "name": "stderr",
     "output_type": "stream",
     "text": [
      " 38%|███▊      | 82/213 [03:09<04:04,  1.86s/it]"
     ]
    },
    {
     "name": "stdout",
     "output_type": "stream",
     "text": [
      "Saved source 1 to /Users/yashsawrikar/Documents/VIT Labs/Semester 8/Senior Design Project/Dataset - Sample/NMF_Output/preprocessed_79004035_source1.wav\n",
      "Saved source 2 to /Users/yashsawrikar/Documents/VIT Labs/Semester 8/Senior Design Project/Dataset - Sample/NMF_Output/preprocessed_79004035_source2.wav\n",
      "Processing: /Users/yashsawrikar/Documents/VIT Labs/Semester 8/Senior Design Project/Dataset - Sample/Preprocessed/non-bio/preprocessed_7900400L.wav\n"
     ]
    },
    {
     "name": "stderr",
     "output_type": "stream",
     "text": [
      " 39%|███▉      | 83/213 [03:11<03:35,  1.66s/it]"
     ]
    },
    {
     "name": "stdout",
     "output_type": "stream",
     "text": [
      "Saved source 1 to /Users/yashsawrikar/Documents/VIT Labs/Semester 8/Senior Design Project/Dataset - Sample/NMF_Output/preprocessed_7900400L_source1.wav\n",
      "Saved source 2 to /Users/yashsawrikar/Documents/VIT Labs/Semester 8/Senior Design Project/Dataset - Sample/NMF_Output/preprocessed_7900400L_source2.wav\n",
      "Processing: /Users/yashsawrikar/Documents/VIT Labs/Semester 8/Senior Design Project/Dataset - Sample/Preprocessed/non-bio/preprocessed_61072006.wav\n"
     ]
    },
    {
     "name": "stderr",
     "output_type": "stream",
     "text": [
      "/opt/anaconda3/lib/python3.12/site-packages/sklearn/decomposition/_nmf.py:1759: ConvergenceWarning: Maximum number of iterations 200 reached. Increase it to improve convergence.\n",
      "  warnings.warn(\n",
      " 39%|███▉      | 84/213 [03:12<03:26,  1.60s/it]"
     ]
    },
    {
     "name": "stdout",
     "output_type": "stream",
     "text": [
      "Saved source 1 to /Users/yashsawrikar/Documents/VIT Labs/Semester 8/Senior Design Project/Dataset - Sample/NMF_Output/preprocessed_61072006_source1.wav\n",
      "Saved source 2 to /Users/yashsawrikar/Documents/VIT Labs/Semester 8/Senior Design Project/Dataset - Sample/NMF_Output/preprocessed_61072006_source2.wav\n",
      "Processing: /Users/yashsawrikar/Documents/VIT Labs/Semester 8/Senior Design Project/Dataset - Sample/Preprocessed/non-bio/preprocessed_79006012.wav\n"
     ]
    },
    {
     "name": "stderr",
     "output_type": "stream",
     "text": [
      " 40%|███▉      | 85/213 [03:13<02:59,  1.40s/it]"
     ]
    },
    {
     "name": "stdout",
     "output_type": "stream",
     "text": [
      "Saved source 1 to /Users/yashsawrikar/Documents/VIT Labs/Semester 8/Senior Design Project/Dataset - Sample/NMF_Output/preprocessed_79006012_source1.wav\n",
      "Saved source 2 to /Users/yashsawrikar/Documents/VIT Labs/Semester 8/Senior Design Project/Dataset - Sample/NMF_Output/preprocessed_79006012_source2.wav\n",
      "Processing: /Users/yashsawrikar/Documents/VIT Labs/Semester 8/Senior Design Project/Dataset - Sample/Preprocessed/non-bio/preprocessed_7900600R.wav\n"
     ]
    },
    {
     "name": "stderr",
     "output_type": "stream",
     "text": [
      " 40%|████      | 86/213 [03:14<02:58,  1.40s/it]"
     ]
    },
    {
     "name": "stdout",
     "output_type": "stream",
     "text": [
      "Saved source 1 to /Users/yashsawrikar/Documents/VIT Labs/Semester 8/Senior Design Project/Dataset - Sample/NMF_Output/preprocessed_7900600R_source1.wav\n",
      "Saved source 2 to /Users/yashsawrikar/Documents/VIT Labs/Semester 8/Senior Design Project/Dataset - Sample/NMF_Output/preprocessed_7900600R_source2.wav\n",
      "Processing: /Users/yashsawrikar/Documents/VIT Labs/Semester 8/Senior Design Project/Dataset - Sample/Preprocessed/non-bio/preprocessed_6800200B.wav\n"
     ]
    },
    {
     "name": "stderr",
     "output_type": "stream",
     "text": [
      " 41%|████      | 87/213 [03:16<02:52,  1.37s/it]"
     ]
    },
    {
     "name": "stdout",
     "output_type": "stream",
     "text": [
      "Saved source 1 to /Users/yashsawrikar/Documents/VIT Labs/Semester 8/Senior Design Project/Dataset - Sample/NMF_Output/preprocessed_6800200B_source1.wav\n",
      "Saved source 2 to /Users/yashsawrikar/Documents/VIT Labs/Semester 8/Senior Design Project/Dataset - Sample/NMF_Output/preprocessed_6800200B_source2.wav\n",
      "Processing: /Users/yashsawrikar/Documents/VIT Labs/Semester 8/Senior Design Project/Dataset - Sample/Preprocessed/non-bio/preprocessed_6800200C.wav\n"
     ]
    },
    {
     "name": "stderr",
     "output_type": "stream",
     "text": [
      " 41%|████▏     | 88/213 [03:17<02:35,  1.24s/it]"
     ]
    },
    {
     "name": "stdout",
     "output_type": "stream",
     "text": [
      "Saved source 1 to /Users/yashsawrikar/Documents/VIT Labs/Semester 8/Senior Design Project/Dataset - Sample/NMF_Output/preprocessed_6800200C_source1.wav\n",
      "Saved source 2 to /Users/yashsawrikar/Documents/VIT Labs/Semester 8/Senior Design Project/Dataset - Sample/NMF_Output/preprocessed_6800200C_source2.wav\n",
      "Processing: /Users/yashsawrikar/Documents/VIT Labs/Semester 8/Senior Design Project/Dataset - Sample/Preprocessed/non-bio/preprocessed_6804000J.wav\n"
     ]
    },
    {
     "name": "stderr",
     "output_type": "stream",
     "text": [
      " 42%|████▏     | 89/213 [03:17<02:21,  1.14s/it]"
     ]
    },
    {
     "name": "stdout",
     "output_type": "stream",
     "text": [
      "Saved source 1 to /Users/yashsawrikar/Documents/VIT Labs/Semester 8/Senior Design Project/Dataset - Sample/NMF_Output/preprocessed_6804000J_source1.wav\n",
      "Saved source 2 to /Users/yashsawrikar/Documents/VIT Labs/Semester 8/Senior Design Project/Dataset - Sample/NMF_Output/preprocessed_6804000J_source2.wav\n",
      "Processing: /Users/yashsawrikar/Documents/VIT Labs/Semester 8/Senior Design Project/Dataset - Sample/Preprocessed/non-bio/preprocessed_7501400L.wav\n"
     ]
    },
    {
     "name": "stderr",
     "output_type": "stream",
     "text": [
      " 42%|████▏     | 90/213 [03:19<02:17,  1.12s/it]"
     ]
    },
    {
     "name": "stdout",
     "output_type": "stream",
     "text": [
      "Saved source 1 to /Users/yashsawrikar/Documents/VIT Labs/Semester 8/Senior Design Project/Dataset - Sample/NMF_Output/preprocessed_7501400L_source1.wav\n",
      "Saved source 2 to /Users/yashsawrikar/Documents/VIT Labs/Semester 8/Senior Design Project/Dataset - Sample/NMF_Output/preprocessed_7501400L_source2.wav\n",
      "Processing: /Users/yashsawrikar/Documents/VIT Labs/Semester 8/Senior Design Project/Dataset - Sample/Preprocessed/non-bio/preprocessed_6800200F.wav\n"
     ]
    },
    {
     "name": "stderr",
     "output_type": "stream",
     "text": [
      " 43%|████▎     | 91/213 [03:19<02:07,  1.05s/it]"
     ]
    },
    {
     "name": "stdout",
     "output_type": "stream",
     "text": [
      "Saved source 1 to /Users/yashsawrikar/Documents/VIT Labs/Semester 8/Senior Design Project/Dataset - Sample/NMF_Output/preprocessed_6800200F_source1.wav\n",
      "Saved source 2 to /Users/yashsawrikar/Documents/VIT Labs/Semester 8/Senior Design Project/Dataset - Sample/NMF_Output/preprocessed_6800200F_source2.wav\n",
      "Processing: /Users/yashsawrikar/Documents/VIT Labs/Semester 8/Senior Design Project/Dataset - Sample/Preprocessed/non-bio/preprocessed_6804000S.wav\n"
     ]
    },
    {
     "name": "stderr",
     "output_type": "stream",
     "text": [
      " 43%|████▎     | 92/213 [03:21<02:11,  1.09s/it]"
     ]
    },
    {
     "name": "stdout",
     "output_type": "stream",
     "text": [
      "Saved source 1 to /Users/yashsawrikar/Documents/VIT Labs/Semester 8/Senior Design Project/Dataset - Sample/NMF_Output/preprocessed_6804000S_source1.wav\n",
      "Saved source 2 to /Users/yashsawrikar/Documents/VIT Labs/Semester 8/Senior Design Project/Dataset - Sample/NMF_Output/preprocessed_6804000S_source2.wav\n",
      "Processing: /Users/yashsawrikar/Documents/VIT Labs/Semester 8/Senior Design Project/Dataset - Sample/Preprocessed/non-bio/preprocessed_6800300B.wav\n"
     ]
    },
    {
     "name": "stderr",
     "output_type": "stream",
     "text": [
      " 44%|████▎     | 93/213 [03:22<02:03,  1.03s/it]"
     ]
    },
    {
     "name": "stdout",
     "output_type": "stream",
     "text": [
      "Saved source 1 to /Users/yashsawrikar/Documents/VIT Labs/Semester 8/Senior Design Project/Dataset - Sample/NMF_Output/preprocessed_6800300B_source1.wav\n",
      "Saved source 2 to /Users/yashsawrikar/Documents/VIT Labs/Semester 8/Senior Design Project/Dataset - Sample/NMF_Output/preprocessed_6800300B_source2.wav\n",
      "Processing: /Users/yashsawrikar/Documents/VIT Labs/Semester 8/Senior Design Project/Dataset - Sample/Preprocessed/non-bio/preprocessed_6412400R.wav\n"
     ]
    },
    {
     "name": "stderr",
     "output_type": "stream",
     "text": [
      "/opt/anaconda3/lib/python3.12/site-packages/sklearn/decomposition/_nmf.py:1759: ConvergenceWarning: Maximum number of iterations 200 reached. Increase it to improve convergence.\n",
      "  warnings.warn(\n",
      " 44%|████▍     | 94/213 [03:25<03:20,  1.69s/it]"
     ]
    },
    {
     "name": "stdout",
     "output_type": "stream",
     "text": [
      "Saved source 1 to /Users/yashsawrikar/Documents/VIT Labs/Semester 8/Senior Design Project/Dataset - Sample/NMF_Output/preprocessed_6412400R_source1.wav\n",
      "Saved source 2 to /Users/yashsawrikar/Documents/VIT Labs/Semester 8/Senior Design Project/Dataset - Sample/NMF_Output/preprocessed_6412400R_source2.wav\n",
      "Processing: /Users/yashsawrikar/Documents/VIT Labs/Semester 8/Senior Design Project/Dataset - Sample/Preprocessed/non-bio/preprocessed_6412400Q.wav\n"
     ]
    },
    {
     "name": "stderr",
     "output_type": "stream",
     "text": [
      " 45%|████▍     | 95/213 [03:29<04:54,  2.49s/it]"
     ]
    },
    {
     "name": "stdout",
     "output_type": "stream",
     "text": [
      "Saved source 1 to /Users/yashsawrikar/Documents/VIT Labs/Semester 8/Senior Design Project/Dataset - Sample/NMF_Output/preprocessed_6412400Q_source1.wav\n",
      "Saved source 2 to /Users/yashsawrikar/Documents/VIT Labs/Semester 8/Senior Design Project/Dataset - Sample/NMF_Output/preprocessed_6412400Q_source2.wav\n",
      "Processing: /Users/yashsawrikar/Documents/VIT Labs/Semester 8/Senior Design Project/Dataset - Sample/Preprocessed/non-bio/preprocessed_64124006.wav\n"
     ]
    },
    {
     "name": "stderr",
     "output_type": "stream",
     "text": [
      "/opt/anaconda3/lib/python3.12/site-packages/sklearn/decomposition/_nmf.py:1759: ConvergenceWarning: Maximum number of iterations 200 reached. Increase it to improve convergence.\n",
      "  warnings.warn(\n",
      " 45%|████▌     | 96/213 [03:31<04:40,  2.40s/it]"
     ]
    },
    {
     "name": "stdout",
     "output_type": "stream",
     "text": [
      "Saved source 1 to /Users/yashsawrikar/Documents/VIT Labs/Semester 8/Senior Design Project/Dataset - Sample/NMF_Output/preprocessed_64124006_source1.wav\n",
      "Saved source 2 to /Users/yashsawrikar/Documents/VIT Labs/Semester 8/Senior Design Project/Dataset - Sample/NMF_Output/preprocessed_64124006_source2.wav\n",
      "Processing: /Users/yashsawrikar/Documents/VIT Labs/Semester 8/Senior Design Project/Dataset - Sample/Preprocessed/non-bio/preprocessed_64124008.wav\n"
     ]
    },
    {
     "name": "stderr",
     "output_type": "stream",
     "text": [
      "/opt/anaconda3/lib/python3.12/site-packages/sklearn/decomposition/_nmf.py:1759: ConvergenceWarning: Maximum number of iterations 200 reached. Increase it to improve convergence.\n",
      "  warnings.warn(\n",
      " 46%|████▌     | 97/213 [03:33<04:30,  2.33s/it]"
     ]
    },
    {
     "name": "stdout",
     "output_type": "stream",
     "text": [
      "Saved source 1 to /Users/yashsawrikar/Documents/VIT Labs/Semester 8/Senior Design Project/Dataset - Sample/NMF_Output/preprocessed_64124008_source1.wav\n",
      "Saved source 2 to /Users/yashsawrikar/Documents/VIT Labs/Semester 8/Senior Design Project/Dataset - Sample/NMF_Output/preprocessed_64124008_source2.wav\n",
      "Processing: /Users/yashsawrikar/Documents/VIT Labs/Semester 8/Senior Design Project/Dataset - Sample/Preprocessed/non-bio/preprocessed_6412400K.wav\n"
     ]
    },
    {
     "name": "stderr",
     "output_type": "stream",
     "text": [
      " 46%|████▌     | 98/213 [03:37<05:24,  2.82s/it]"
     ]
    },
    {
     "name": "stdout",
     "output_type": "stream",
     "text": [
      "Saved source 1 to /Users/yashsawrikar/Documents/VIT Labs/Semester 8/Senior Design Project/Dataset - Sample/NMF_Output/preprocessed_6412400K_source1.wav\n",
      "Saved source 2 to /Users/yashsawrikar/Documents/VIT Labs/Semester 8/Senior Design Project/Dataset - Sample/NMF_Output/preprocessed_6412400K_source2.wav\n",
      "Processing: /Users/yashsawrikar/Documents/VIT Labs/Semester 8/Senior Design Project/Dataset - Sample/Preprocessed/non-bio/preprocessed_6412400I.wav\n"
     ]
    },
    {
     "name": "stderr",
     "output_type": "stream",
     "text": [
      "/opt/anaconda3/lib/python3.12/site-packages/sklearn/decomposition/_nmf.py:1759: ConvergenceWarning: Maximum number of iterations 200 reached. Increase it to improve convergence.\n",
      "  warnings.warn(\n",
      " 46%|████▋     | 99/213 [03:43<07:12,  3.79s/it]"
     ]
    },
    {
     "name": "stdout",
     "output_type": "stream",
     "text": [
      "Saved source 1 to /Users/yashsawrikar/Documents/VIT Labs/Semester 8/Senior Design Project/Dataset - Sample/NMF_Output/preprocessed_6412400I_source1.wav\n",
      "Saved source 2 to /Users/yashsawrikar/Documents/VIT Labs/Semester 8/Senior Design Project/Dataset - Sample/NMF_Output/preprocessed_6412400I_source2.wav\n",
      "Processing: /Users/yashsawrikar/Documents/VIT Labs/Semester 8/Senior Design Project/Dataset - Sample/Preprocessed/non-bio/preprocessed_8303502X.wav\n"
     ]
    },
    {
     "name": "stderr",
     "output_type": "stream",
     "text": [
      " 47%|████▋     | 100/213 [03:45<05:49,  3.09s/it]"
     ]
    },
    {
     "name": "stdout",
     "output_type": "stream",
     "text": [
      "Saved source 1 to /Users/yashsawrikar/Documents/VIT Labs/Semester 8/Senior Design Project/Dataset - Sample/NMF_Output/preprocessed_8303502X_source1.wav\n",
      "Saved source 2 to /Users/yashsawrikar/Documents/VIT Labs/Semester 8/Senior Design Project/Dataset - Sample/NMF_Output/preprocessed_8303502X_source2.wav\n",
      "Processing: /Users/yashsawrikar/Documents/VIT Labs/Semester 8/Senior Design Project/Dataset - Sample/Preprocessed/non-bio/preprocessed_8303503J.wav\n"
     ]
    },
    {
     "name": "stderr",
     "output_type": "stream",
     "text": [
      "/opt/anaconda3/lib/python3.12/site-packages/sklearn/decomposition/_nmf.py:1759: ConvergenceWarning: Maximum number of iterations 200 reached. Increase it to improve convergence.\n",
      "  warnings.warn(\n",
      " 47%|████▋     | 101/213 [03:46<04:50,  2.59s/it]"
     ]
    },
    {
     "name": "stdout",
     "output_type": "stream",
     "text": [
      "Saved source 1 to /Users/yashsawrikar/Documents/VIT Labs/Semester 8/Senior Design Project/Dataset - Sample/NMF_Output/preprocessed_8303503J_source1.wav\n",
      "Saved source 2 to /Users/yashsawrikar/Documents/VIT Labs/Semester 8/Senior Design Project/Dataset - Sample/NMF_Output/preprocessed_8303503J_source2.wav\n",
      "Processing: /Users/yashsawrikar/Documents/VIT Labs/Semester 8/Senior Design Project/Dataset - Sample/Preprocessed/non-bio/preprocessed_8303501A.wav\n"
     ]
    },
    {
     "name": "stderr",
     "output_type": "stream",
     "text": [
      " 48%|████▊     | 102/213 [03:48<04:13,  2.29s/it]"
     ]
    },
    {
     "name": "stdout",
     "output_type": "stream",
     "text": [
      "Saved source 1 to /Users/yashsawrikar/Documents/VIT Labs/Semester 8/Senior Design Project/Dataset - Sample/NMF_Output/preprocessed_8303501A_source1.wav\n",
      "Saved source 2 to /Users/yashsawrikar/Documents/VIT Labs/Semester 8/Senior Design Project/Dataset - Sample/NMF_Output/preprocessed_8303501A_source2.wav\n",
      "Processing: /Users/yashsawrikar/Documents/VIT Labs/Semester 8/Senior Design Project/Dataset - Sample/Preprocessed/non-bio/preprocessed_8300604P.wav\n"
     ]
    },
    {
     "name": "stderr",
     "output_type": "stream",
     "text": [
      " 48%|████▊     | 103/213 [03:49<03:30,  1.91s/it]"
     ]
    },
    {
     "name": "stdout",
     "output_type": "stream",
     "text": [
      "Saved source 1 to /Users/yashsawrikar/Documents/VIT Labs/Semester 8/Senior Design Project/Dataset - Sample/NMF_Output/preprocessed_8300604P_source1.wav\n",
      "Saved source 2 to /Users/yashsawrikar/Documents/VIT Labs/Semester 8/Senior Design Project/Dataset - Sample/NMF_Output/preprocessed_8300604P_source2.wav\n",
      "Processing: /Users/yashsawrikar/Documents/VIT Labs/Semester 8/Senior Design Project/Dataset - Sample/Preprocessed/non-bio/preprocessed_83006049.wav\n"
     ]
    },
    {
     "name": "stderr",
     "output_type": "stream",
     "text": [
      " 49%|████▉     | 104/213 [03:50<03:07,  1.72s/it]"
     ]
    },
    {
     "name": "stdout",
     "output_type": "stream",
     "text": [
      "Saved source 1 to /Users/yashsawrikar/Documents/VIT Labs/Semester 8/Senior Design Project/Dataset - Sample/NMF_Output/preprocessed_83006049_source1.wav\n",
      "Saved source 2 to /Users/yashsawrikar/Documents/VIT Labs/Semester 8/Senior Design Project/Dataset - Sample/NMF_Output/preprocessed_83006049_source2.wav\n",
      "Processing: /Users/yashsawrikar/Documents/VIT Labs/Semester 8/Senior Design Project/Dataset - Sample/Preprocessed/non-bio/preprocessed_6405500D.wav\n"
     ]
    },
    {
     "name": "stderr",
     "output_type": "stream",
     "text": [
      "/opt/anaconda3/lib/python3.12/site-packages/sklearn/decomposition/_nmf.py:1759: ConvergenceWarning: Maximum number of iterations 200 reached. Increase it to improve convergence.\n",
      "  warnings.warn(\n",
      " 49%|████▉     | 105/213 [03:51<02:36,  1.45s/it]"
     ]
    },
    {
     "name": "stdout",
     "output_type": "stream",
     "text": [
      "Saved source 1 to /Users/yashsawrikar/Documents/VIT Labs/Semester 8/Senior Design Project/Dataset - Sample/NMF_Output/preprocessed_6405500D_source1.wav\n",
      "Saved source 2 to /Users/yashsawrikar/Documents/VIT Labs/Semester 8/Senior Design Project/Dataset - Sample/NMF_Output/preprocessed_6405500D_source2.wav\n",
      "Processing: /Users/yashsawrikar/Documents/VIT Labs/Semester 8/Senior Design Project/Dataset - Sample/Preprocessed/non-bio/preprocessed_64054008.wav\n"
     ]
    },
    {
     "name": "stderr",
     "output_type": "stream",
     "text": [
      " 50%|████▉     | 106/213 [03:56<04:42,  2.64s/it]"
     ]
    },
    {
     "name": "stdout",
     "output_type": "stream",
     "text": [
      "Saved source 1 to /Users/yashsawrikar/Documents/VIT Labs/Semester 8/Senior Design Project/Dataset - Sample/NMF_Output/preprocessed_64054008_source1.wav\n",
      "Saved source 2 to /Users/yashsawrikar/Documents/VIT Labs/Semester 8/Senior Design Project/Dataset - Sample/NMF_Output/preprocessed_64054008_source2.wav\n",
      "Processing: /Users/yashsawrikar/Documents/VIT Labs/Semester 8/Senior Design Project/Dataset - Sample/Preprocessed/non-bio/preprocessed_6405400L.wav\n"
     ]
    },
    {
     "name": "stderr",
     "output_type": "stream",
     "text": [
      " 50%|█████     | 107/213 [04:04<07:13,  4.09s/it]"
     ]
    },
    {
     "name": "stdout",
     "output_type": "stream",
     "text": [
      "Saved source 1 to /Users/yashsawrikar/Documents/VIT Labs/Semester 8/Senior Design Project/Dataset - Sample/NMF_Output/preprocessed_6405400L_source1.wav\n",
      "Saved source 2 to /Users/yashsawrikar/Documents/VIT Labs/Semester 8/Senior Design Project/Dataset - Sample/NMF_Output/preprocessed_6405400L_source2.wav\n",
      "Processing: /Users/yashsawrikar/Documents/VIT Labs/Semester 8/Senior Design Project/Dataset - Sample/Preprocessed/non-bio/preprocessed_6403700D.wav\n"
     ]
    },
    {
     "name": "stderr",
     "output_type": "stream",
     "text": [
      "/opt/anaconda3/lib/python3.12/site-packages/sklearn/decomposition/_nmf.py:1759: ConvergenceWarning: Maximum number of iterations 200 reached. Increase it to improve convergence.\n",
      "  warnings.warn(\n",
      " 51%|█████     | 108/213 [04:05<05:21,  3.06s/it]"
     ]
    },
    {
     "name": "stdout",
     "output_type": "stream",
     "text": [
      "Saved source 1 to /Users/yashsawrikar/Documents/VIT Labs/Semester 8/Senior Design Project/Dataset - Sample/NMF_Output/preprocessed_6403700D_source1.wav\n",
      "Saved source 2 to /Users/yashsawrikar/Documents/VIT Labs/Semester 8/Senior Design Project/Dataset - Sample/NMF_Output/preprocessed_6403700D_source2.wav\n",
      "Processing: /Users/yashsawrikar/Documents/VIT Labs/Semester 8/Senior Design Project/Dataset - Sample/Preprocessed/non-bio/preprocessed_64038009.wav\n"
     ]
    },
    {
     "name": "stderr",
     "output_type": "stream",
     "text": [
      " 51%|█████     | 109/213 [04:16<09:34,  5.52s/it]"
     ]
    },
    {
     "name": "stdout",
     "output_type": "stream",
     "text": [
      "Saved source 1 to /Users/yashsawrikar/Documents/VIT Labs/Semester 8/Senior Design Project/Dataset - Sample/NMF_Output/preprocessed_64038009_source1.wav\n",
      "Saved source 2 to /Users/yashsawrikar/Documents/VIT Labs/Semester 8/Senior Design Project/Dataset - Sample/NMF_Output/preprocessed_64038009_source2.wav\n",
      "Processing: /Users/yashsawrikar/Documents/VIT Labs/Semester 8/Senior Design Project/Dataset - Sample/Preprocessed/non-bio/preprocessed_8300102K.wav\n"
     ]
    },
    {
     "name": "stderr",
     "output_type": "stream",
     "text": [
      " 52%|█████▏    | 110/213 [04:17<07:14,  4.22s/it]"
     ]
    },
    {
     "name": "stdout",
     "output_type": "stream",
     "text": [
      "Saved source 1 to /Users/yashsawrikar/Documents/VIT Labs/Semester 8/Senior Design Project/Dataset - Sample/NMF_Output/preprocessed_8300102K_source1.wav\n",
      "Saved source 2 to /Users/yashsawrikar/Documents/VIT Labs/Semester 8/Senior Design Project/Dataset - Sample/NMF_Output/preprocessed_8300102K_source2.wav\n",
      "Processing: /Users/yashsawrikar/Documents/VIT Labs/Semester 8/Senior Design Project/Dataset - Sample/Preprocessed/non-bio/preprocessed_7200200E.wav\n"
     ]
    },
    {
     "name": "stderr",
     "output_type": "stream",
     "text": [
      "/opt/anaconda3/lib/python3.12/site-packages/sklearn/decomposition/_nmf.py:1759: ConvergenceWarning: Maximum number of iterations 200 reached. Increase it to improve convergence.\n",
      "  warnings.warn(\n",
      " 52%|█████▏    | 111/213 [04:20<06:36,  3.89s/it]"
     ]
    },
    {
     "name": "stdout",
     "output_type": "stream",
     "text": [
      "Saved source 1 to /Users/yashsawrikar/Documents/VIT Labs/Semester 8/Senior Design Project/Dataset - Sample/NMF_Output/preprocessed_7200200E_source1.wav\n",
      "Saved source 2 to /Users/yashsawrikar/Documents/VIT Labs/Semester 8/Senior Design Project/Dataset - Sample/NMF_Output/preprocessed_7200200E_source2.wav\n",
      "Processing: /Users/yashsawrikar/Documents/VIT Labs/Semester 8/Senior Design Project/Dataset - Sample/Preprocessed/non-bio/preprocessed_72002002.wav\n"
     ]
    },
    {
     "name": "stderr",
     "output_type": "stream",
     "text": [
      "/opt/anaconda3/lib/python3.12/site-packages/sklearn/decomposition/_nmf.py:1759: ConvergenceWarning: Maximum number of iterations 200 reached. Increase it to improve convergence.\n",
      "  warnings.warn(\n",
      " 53%|█████▎    | 112/213 [04:23<05:50,  3.47s/it]"
     ]
    },
    {
     "name": "stdout",
     "output_type": "stream",
     "text": [
      "Saved source 1 to /Users/yashsawrikar/Documents/VIT Labs/Semester 8/Senior Design Project/Dataset - Sample/NMF_Output/preprocessed_72002002_source1.wav\n",
      "Saved source 2 to /Users/yashsawrikar/Documents/VIT Labs/Semester 8/Senior Design Project/Dataset - Sample/NMF_Output/preprocessed_72002002_source2.wav\n",
      "Processing: /Users/yashsawrikar/Documents/VIT Labs/Semester 8/Senior Design Project/Dataset - Sample/Preprocessed/non-bio/preprocessed_83001037.wav\n"
     ]
    },
    {
     "name": "stderr",
     "output_type": "stream",
     "text": [
      "/opt/anaconda3/lib/python3.12/site-packages/sklearn/decomposition/_nmf.py:1759: ConvergenceWarning: Maximum number of iterations 200 reached. Increase it to improve convergence.\n",
      "  warnings.warn(\n",
      " 53%|█████▎    | 113/213 [04:24<04:35,  2.75s/it]"
     ]
    },
    {
     "name": "stdout",
     "output_type": "stream",
     "text": [
      "Saved source 1 to /Users/yashsawrikar/Documents/VIT Labs/Semester 8/Senior Design Project/Dataset - Sample/NMF_Output/preprocessed_83001037_source1.wav\n",
      "Saved source 2 to /Users/yashsawrikar/Documents/VIT Labs/Semester 8/Senior Design Project/Dataset - Sample/NMF_Output/preprocessed_83001037_source2.wav\n",
      "Processing: /Users/yashsawrikar/Documents/VIT Labs/Semester 8/Senior Design Project/Dataset - Sample/Preprocessed/non-bio/preprocessed_72016005.wav\n"
     ]
    },
    {
     "name": "stderr",
     "output_type": "stream",
     "text": [
      "/opt/anaconda3/lib/python3.12/site-packages/sklearn/decomposition/_nmf.py:1759: ConvergenceWarning: Maximum number of iterations 200 reached. Increase it to improve convergence.\n",
      "  warnings.warn(\n",
      " 54%|█████▎    | 114/213 [04:27<04:35,  2.78s/it]"
     ]
    },
    {
     "name": "stdout",
     "output_type": "stream",
     "text": [
      "Saved source 1 to /Users/yashsawrikar/Documents/VIT Labs/Semester 8/Senior Design Project/Dataset - Sample/NMF_Output/preprocessed_72016005_source1.wav\n",
      "Saved source 2 to /Users/yashsawrikar/Documents/VIT Labs/Semester 8/Senior Design Project/Dataset - Sample/NMF_Output/preprocessed_72016005_source2.wav\n",
      "Processing: /Users/yashsawrikar/Documents/VIT Labs/Semester 8/Senior Design Project/Dataset - Sample/Preprocessed/non-bio/preprocessed_8300101K.wav\n"
     ]
    },
    {
     "name": "stderr",
     "output_type": "stream",
     "text": [
      " 54%|█████▍    | 115/213 [04:27<03:36,  2.21s/it]"
     ]
    },
    {
     "name": "stdout",
     "output_type": "stream",
     "text": [
      "Saved source 1 to /Users/yashsawrikar/Documents/VIT Labs/Semester 8/Senior Design Project/Dataset - Sample/NMF_Output/preprocessed_8300101K_source1.wav\n",
      "Saved source 2 to /Users/yashsawrikar/Documents/VIT Labs/Semester 8/Senior Design Project/Dataset - Sample/NMF_Output/preprocessed_8300101K_source2.wav\n",
      "Processing: /Users/yashsawrikar/Documents/VIT Labs/Semester 8/Senior Design Project/Dataset - Sample/Preprocessed/non-bio/preprocessed_8300100I.wav\n"
     ]
    },
    {
     "name": "stderr",
     "output_type": "stream",
     "text": [
      " 54%|█████▍    | 116/213 [04:29<03:10,  1.96s/it]"
     ]
    },
    {
     "name": "stdout",
     "output_type": "stream",
     "text": [
      "Saved source 1 to /Users/yashsawrikar/Documents/VIT Labs/Semester 8/Senior Design Project/Dataset - Sample/NMF_Output/preprocessed_8300100I_source1.wav\n",
      "Saved source 2 to /Users/yashsawrikar/Documents/VIT Labs/Semester 8/Senior Design Project/Dataset - Sample/NMF_Output/preprocessed_8300100I_source2.wav\n",
      "Processing: /Users/yashsawrikar/Documents/VIT Labs/Semester 8/Senior Design Project/Dataset - Sample/Preprocessed/non-bio/preprocessed_85013016.wav\n"
     ]
    },
    {
     "name": "stderr",
     "output_type": "stream",
     "text": [
      " 55%|█████▍    | 117/213 [04:30<02:34,  1.61s/it]"
     ]
    },
    {
     "name": "stdout",
     "output_type": "stream",
     "text": [
      "Saved source 1 to /Users/yashsawrikar/Documents/VIT Labs/Semester 8/Senior Design Project/Dataset - Sample/NMF_Output/preprocessed_85013016_source1.wav\n",
      "Saved source 2 to /Users/yashsawrikar/Documents/VIT Labs/Semester 8/Senior Design Project/Dataset - Sample/NMF_Output/preprocessed_85013016_source2.wav\n",
      "Processing: /Users/yashsawrikar/Documents/VIT Labs/Semester 8/Senior Design Project/Dataset - Sample/Preprocessed/non-bio/preprocessed_8501301W.wav\n"
     ]
    },
    {
     "name": "stderr",
     "output_type": "stream",
     "text": [
      "/opt/anaconda3/lib/python3.12/site-packages/sklearn/decomposition/_nmf.py:1759: ConvergenceWarning: Maximum number of iterations 200 reached. Increase it to improve convergence.\n",
      "  warnings.warn(\n",
      " 55%|█████▌    | 118/213 [04:31<02:18,  1.46s/it]"
     ]
    },
    {
     "name": "stdout",
     "output_type": "stream",
     "text": [
      "Saved source 1 to /Users/yashsawrikar/Documents/VIT Labs/Semester 8/Senior Design Project/Dataset - Sample/NMF_Output/preprocessed_8501301W_source1.wav\n",
      "Saved source 2 to /Users/yashsawrikar/Documents/VIT Labs/Semester 8/Senior Design Project/Dataset - Sample/NMF_Output/preprocessed_8501301W_source2.wav\n",
      "Processing: /Users/yashsawrikar/Documents/VIT Labs/Semester 8/Senior Design Project/Dataset - Sample/Preprocessed/non-bio/preprocessed_8501400L.wav\n"
     ]
    },
    {
     "name": "stderr",
     "output_type": "stream",
     "text": [
      "/opt/anaconda3/lib/python3.12/site-packages/sklearn/decomposition/_nmf.py:886: RuntimeWarning: invalid value encountered in scalar divide\n",
      "  if (previous_error - error) / error_at_init < tol:\n",
      "/opt/anaconda3/lib/python3.12/site-packages/sklearn/decomposition/_nmf.py:1759: ConvergenceWarning: Maximum number of iterations 200 reached. Increase it to improve convergence.\n",
      "  warnings.warn(\n",
      " 56%|█████▌    | 119/213 [04:32<02:03,  1.31s/it]"
     ]
    },
    {
     "name": "stdout",
     "output_type": "stream",
     "text": [
      "Saved source 1 to /Users/yashsawrikar/Documents/VIT Labs/Semester 8/Senior Design Project/Dataset - Sample/NMF_Output/preprocessed_8501400L_source1.wav\n",
      "Saved source 2 to /Users/yashsawrikar/Documents/VIT Labs/Semester 8/Senior Design Project/Dataset - Sample/NMF_Output/preprocessed_8501400L_source2.wav\n",
      "Processing: /Users/yashsawrikar/Documents/VIT Labs/Semester 8/Senior Design Project/Dataset - Sample/Preprocessed/non-bio/preprocessed_8501400A.wav\n"
     ]
    },
    {
     "name": "stderr",
     "output_type": "stream",
     "text": [
      "/opt/anaconda3/lib/python3.12/site-packages/sklearn/decomposition/_nmf.py:1759: ConvergenceWarning: Maximum number of iterations 200 reached. Increase it to improve convergence.\n",
      "  warnings.warn(\n",
      " 56%|█████▋    | 120/213 [04:33<01:50,  1.19s/it]"
     ]
    },
    {
     "name": "stdout",
     "output_type": "stream",
     "text": [
      "Saved source 1 to /Users/yashsawrikar/Documents/VIT Labs/Semester 8/Senior Design Project/Dataset - Sample/NMF_Output/preprocessed_8501400A_source1.wav\n",
      "Saved source 2 to /Users/yashsawrikar/Documents/VIT Labs/Semester 8/Senior Design Project/Dataset - Sample/NMF_Output/preprocessed_8501400A_source2.wav\n",
      "Processing: /Users/yashsawrikar/Documents/VIT Labs/Semester 8/Senior Design Project/Dataset - Sample/Preprocessed/non-bio/preprocessed_8501400R.wav\n"
     ]
    },
    {
     "name": "stderr",
     "output_type": "stream",
     "text": [
      "/opt/anaconda3/lib/python3.12/site-packages/sklearn/decomposition/_nmf.py:886: RuntimeWarning: invalid value encountered in scalar divide\n",
      "  if (previous_error - error) / error_at_init < tol:\n",
      "/opt/anaconda3/lib/python3.12/site-packages/sklearn/decomposition/_nmf.py:1759: ConvergenceWarning: Maximum number of iterations 200 reached. Increase it to improve convergence.\n",
      "  warnings.warn(\n",
      " 57%|█████▋    | 121/213 [04:34<01:47,  1.17s/it]"
     ]
    },
    {
     "name": "stdout",
     "output_type": "stream",
     "text": [
      "Saved source 1 to /Users/yashsawrikar/Documents/VIT Labs/Semester 8/Senior Design Project/Dataset - Sample/NMF_Output/preprocessed_8501400R_source1.wav\n",
      "Saved source 2 to /Users/yashsawrikar/Documents/VIT Labs/Semester 8/Senior Design Project/Dataset - Sample/NMF_Output/preprocessed_8501400R_source2.wav\n",
      "Processing: /Users/yashsawrikar/Documents/VIT Labs/Semester 8/Senior Design Project/Dataset - Sample/Preprocessed/non-bio/preprocessed_8501400E.wav\n"
     ]
    },
    {
     "name": "stderr",
     "output_type": "stream",
     "text": [
      "/opt/anaconda3/lib/python3.12/site-packages/sklearn/decomposition/_nmf.py:1759: ConvergenceWarning: Maximum number of iterations 200 reached. Increase it to improve convergence.\n",
      "  warnings.warn(\n",
      " 57%|█████▋    | 122/213 [04:35<01:37,  1.07s/it]"
     ]
    },
    {
     "name": "stdout",
     "output_type": "stream",
     "text": [
      "Saved source 1 to /Users/yashsawrikar/Documents/VIT Labs/Semester 8/Senior Design Project/Dataset - Sample/NMF_Output/preprocessed_8501400E_source1.wav\n",
      "Saved source 2 to /Users/yashsawrikar/Documents/VIT Labs/Semester 8/Senior Design Project/Dataset - Sample/NMF_Output/preprocessed_8501400E_source2.wav\n",
      "Processing: /Users/yashsawrikar/Documents/VIT Labs/Semester 8/Senior Design Project/Dataset - Sample/Preprocessed/non-bio/preprocessed_7900200N.wav\n"
     ]
    },
    {
     "name": "stderr",
     "output_type": "stream",
     "text": [
      " 58%|█████▊    | 123/213 [04:43<04:41,  3.13s/it]"
     ]
    },
    {
     "name": "stdout",
     "output_type": "stream",
     "text": [
      "Saved source 1 to /Users/yashsawrikar/Documents/VIT Labs/Semester 8/Senior Design Project/Dataset - Sample/NMF_Output/preprocessed_7900200N_source1.wav\n",
      "Saved source 2 to /Users/yashsawrikar/Documents/VIT Labs/Semester 8/Senior Design Project/Dataset - Sample/NMF_Output/preprocessed_7900200N_source2.wav\n",
      "Processing: /Users/yashsawrikar/Documents/VIT Labs/Semester 8/Senior Design Project/Dataset - Sample/Preprocessed/non-bio/preprocessed_7900200H.wav\n"
     ]
    },
    {
     "name": "stderr",
     "output_type": "stream",
     "text": [
      "/opt/anaconda3/lib/python3.12/site-packages/sklearn/decomposition/_nmf.py:1759: ConvergenceWarning: Maximum number of iterations 200 reached. Increase it to improve convergence.\n",
      "  warnings.warn(\n",
      " 58%|█████▊    | 124/213 [04:44<03:45,  2.53s/it]"
     ]
    },
    {
     "name": "stdout",
     "output_type": "stream",
     "text": [
      "Saved source 1 to /Users/yashsawrikar/Documents/VIT Labs/Semester 8/Senior Design Project/Dataset - Sample/NMF_Output/preprocessed_7900200H_source1.wav\n",
      "Saved source 2 to /Users/yashsawrikar/Documents/VIT Labs/Semester 8/Senior Design Project/Dataset - Sample/NMF_Output/preprocessed_7900200H_source2.wav\n",
      "Processing: /Users/yashsawrikar/Documents/VIT Labs/Semester 8/Senior Design Project/Dataset - Sample/Preprocessed/non-bio/preprocessed_83002009.wav\n"
     ]
    },
    {
     "name": "stderr",
     "output_type": "stream",
     "text": [
      " 59%|█████▊    | 125/213 [04:45<03:07,  2.13s/it]"
     ]
    },
    {
     "name": "stdout",
     "output_type": "stream",
     "text": [
      "Saved source 1 to /Users/yashsawrikar/Documents/VIT Labs/Semester 8/Senior Design Project/Dataset - Sample/NMF_Output/preprocessed_83002009_source1.wav\n",
      "Saved source 2 to /Users/yashsawrikar/Documents/VIT Labs/Semester 8/Senior Design Project/Dataset - Sample/NMF_Output/preprocessed_83002009_source2.wav\n",
      "Processing: /Users/yashsawrikar/Documents/VIT Labs/Semester 8/Senior Design Project/Dataset - Sample/Preprocessed/non-bio/preprocessed_7900200D.wav\n"
     ]
    },
    {
     "name": "stderr",
     "output_type": "stream",
     "text": [
      "/opt/anaconda3/lib/python3.12/site-packages/sklearn/decomposition/_nmf.py:1759: ConvergenceWarning: Maximum number of iterations 200 reached. Increase it to improve convergence.\n",
      "  warnings.warn(\n",
      " 59%|█████▉    | 126/213 [04:46<02:37,  1.81s/it]"
     ]
    },
    {
     "name": "stdout",
     "output_type": "stream",
     "text": [
      "Saved source 1 to /Users/yashsawrikar/Documents/VIT Labs/Semester 8/Senior Design Project/Dataset - Sample/NMF_Output/preprocessed_7900200D_source1.wav\n",
      "Saved source 2 to /Users/yashsawrikar/Documents/VIT Labs/Semester 8/Senior Design Project/Dataset - Sample/NMF_Output/preprocessed_7900200D_source2.wav\n",
      "Processing: /Users/yashsawrikar/Documents/VIT Labs/Semester 8/Senior Design Project/Dataset - Sample/Preprocessed/non-bio/preprocessed_7900200T.wav\n"
     ]
    },
    {
     "name": "stderr",
     "output_type": "stream",
     "text": [
      "/opt/anaconda3/lib/python3.12/site-packages/sklearn/decomposition/_nmf.py:1759: ConvergenceWarning: Maximum number of iterations 200 reached. Increase it to improve convergence.\n",
      "  warnings.warn(\n",
      " 60%|█████▉    | 127/213 [04:48<02:38,  1.84s/it]"
     ]
    },
    {
     "name": "stdout",
     "output_type": "stream",
     "text": [
      "Saved source 1 to /Users/yashsawrikar/Documents/VIT Labs/Semester 8/Senior Design Project/Dataset - Sample/NMF_Output/preprocessed_7900200T_source1.wav\n",
      "Saved source 2 to /Users/yashsawrikar/Documents/VIT Labs/Semester 8/Senior Design Project/Dataset - Sample/NMF_Output/preprocessed_7900200T_source2.wav\n",
      "Processing: /Users/yashsawrikar/Documents/VIT Labs/Semester 8/Senior Design Project/Dataset - Sample/Preprocessed/non-bio/preprocessed_7900200W.wav\n"
     ]
    },
    {
     "name": "stderr",
     "output_type": "stream",
     "text": [
      "/opt/anaconda3/lib/python3.12/site-packages/sklearn/decomposition/_nmf.py:1759: ConvergenceWarning: Maximum number of iterations 200 reached. Increase it to improve convergence.\n",
      "  warnings.warn(\n",
      " 60%|██████    | 128/213 [04:49<02:17,  1.61s/it]"
     ]
    },
    {
     "name": "stdout",
     "output_type": "stream",
     "text": [
      "Saved source 1 to /Users/yashsawrikar/Documents/VIT Labs/Semester 8/Senior Design Project/Dataset - Sample/NMF_Output/preprocessed_7900200W_source1.wav\n",
      "Saved source 2 to /Users/yashsawrikar/Documents/VIT Labs/Semester 8/Senior Design Project/Dataset - Sample/NMF_Output/preprocessed_7900200W_source2.wav\n",
      "Processing: /Users/yashsawrikar/Documents/VIT Labs/Semester 8/Senior Design Project/Dataset - Sample/Preprocessed/non-bio/preprocessed_56016006.wav\n"
     ]
    },
    {
     "name": "stderr",
     "output_type": "stream",
     "text": [
      " 61%|██████    | 129/213 [04:50<01:54,  1.37s/it]"
     ]
    },
    {
     "name": "stdout",
     "output_type": "stream",
     "text": [
      "Saved source 1 to /Users/yashsawrikar/Documents/VIT Labs/Semester 8/Senior Design Project/Dataset - Sample/NMF_Output/preprocessed_56016006_source1.wav\n",
      "Saved source 2 to /Users/yashsawrikar/Documents/VIT Labs/Semester 8/Senior Design Project/Dataset - Sample/NMF_Output/preprocessed_56016006_source2.wav\n",
      "Processing: /Users/yashsawrikar/Documents/VIT Labs/Semester 8/Senior Design Project/Dataset - Sample/Preprocessed/non-bio/preprocessed_5601700Y.wav\n"
     ]
    },
    {
     "name": "stderr",
     "output_type": "stream",
     "text": [
      " 61%|██████    | 130/213 [04:51<01:57,  1.41s/it]"
     ]
    },
    {
     "name": "stdout",
     "output_type": "stream",
     "text": [
      "Saved source 1 to /Users/yashsawrikar/Documents/VIT Labs/Semester 8/Senior Design Project/Dataset - Sample/NMF_Output/preprocessed_5601700Y_source1.wav\n",
      "Saved source 2 to /Users/yashsawrikar/Documents/VIT Labs/Semester 8/Senior Design Project/Dataset - Sample/NMF_Output/preprocessed_5601700Y_source2.wav\n",
      "Processing: /Users/yashsawrikar/Documents/VIT Labs/Semester 8/Senior Design Project/Dataset - Sample/Preprocessed/non-bio/preprocessed_5606800K.wav\n"
     ]
    },
    {
     "name": "stderr",
     "output_type": "stream",
     "text": [
      "/opt/anaconda3/lib/python3.12/site-packages/sklearn/decomposition/_nmf.py:1759: ConvergenceWarning: Maximum number of iterations 200 reached. Increase it to improve convergence.\n",
      "  warnings.warn(\n",
      " 62%|██████▏   | 131/213 [04:52<01:38,  1.20s/it]"
     ]
    },
    {
     "name": "stdout",
     "output_type": "stream",
     "text": [
      "Saved source 1 to /Users/yashsawrikar/Documents/VIT Labs/Semester 8/Senior Design Project/Dataset - Sample/NMF_Output/preprocessed_5606800K_source1.wav\n",
      "Saved source 2 to /Users/yashsawrikar/Documents/VIT Labs/Semester 8/Senior Design Project/Dataset - Sample/NMF_Output/preprocessed_5606800K_source2.wav\n",
      "Processing: /Users/yashsawrikar/Documents/VIT Labs/Semester 8/Senior Design Project/Dataset - Sample/Preprocessed/non-bio/preprocessed_5601700V.wav\n"
     ]
    },
    {
     "name": "stderr",
     "output_type": "stream",
     "text": [
      "/opt/anaconda3/lib/python3.12/site-packages/sklearn/decomposition/_nmf.py:1759: ConvergenceWarning: Maximum number of iterations 200 reached. Increase it to improve convergence.\n",
      "  warnings.warn(\n",
      " 62%|██████▏   | 132/213 [04:53<01:24,  1.05s/it]"
     ]
    },
    {
     "name": "stdout",
     "output_type": "stream",
     "text": [
      "Saved source 1 to /Users/yashsawrikar/Documents/VIT Labs/Semester 8/Senior Design Project/Dataset - Sample/NMF_Output/preprocessed_5601700V_source1.wav\n",
      "Saved source 2 to /Users/yashsawrikar/Documents/VIT Labs/Semester 8/Senior Design Project/Dataset - Sample/NMF_Output/preprocessed_5601700V_source2.wav\n",
      "Processing: /Users/yashsawrikar/Documents/VIT Labs/Semester 8/Senior Design Project/Dataset - Sample/Preprocessed/non-bio/preprocessed_5900300H.wav\n"
     ]
    },
    {
     "name": "stderr",
     "output_type": "stream",
     "text": [
      " 62%|██████▏   | 133/213 [04:54<01:26,  1.08s/it]"
     ]
    },
    {
     "name": "stdout",
     "output_type": "stream",
     "text": [
      "Saved source 1 to /Users/yashsawrikar/Documents/VIT Labs/Semester 8/Senior Design Project/Dataset - Sample/NMF_Output/preprocessed_5900300H_source1.wav\n",
      "Saved source 2 to /Users/yashsawrikar/Documents/VIT Labs/Semester 8/Senior Design Project/Dataset - Sample/NMF_Output/preprocessed_5900300H_source2.wav\n",
      "Processing: /Users/yashsawrikar/Documents/VIT Labs/Semester 8/Senior Design Project/Dataset - Sample/Preprocessed/non-bio/preprocessed_5601600L.wav\n"
     ]
    },
    {
     "name": "stderr",
     "output_type": "stream",
     "text": [
      " 63%|██████▎   | 134/213 [04:55<01:22,  1.05s/it]"
     ]
    },
    {
     "name": "stdout",
     "output_type": "stream",
     "text": [
      "Saved source 1 to /Users/yashsawrikar/Documents/VIT Labs/Semester 8/Senior Design Project/Dataset - Sample/NMF_Output/preprocessed_5601600L_source1.wav\n",
      "Saved source 2 to /Users/yashsawrikar/Documents/VIT Labs/Semester 8/Senior Design Project/Dataset - Sample/NMF_Output/preprocessed_5601600L_source2.wav\n",
      "Processing: /Users/yashsawrikar/Documents/VIT Labs/Semester 8/Senior Design Project/Dataset - Sample/Preprocessed/non-bio/preprocessed_5601600Z.wav\n"
     ]
    },
    {
     "name": "stderr",
     "output_type": "stream",
     "text": [
      " 63%|██████▎   | 135/213 [04:56<01:30,  1.16s/it]"
     ]
    },
    {
     "name": "stdout",
     "output_type": "stream",
     "text": [
      "Saved source 1 to /Users/yashsawrikar/Documents/VIT Labs/Semester 8/Senior Design Project/Dataset - Sample/NMF_Output/preprocessed_5601600Z_source1.wav\n",
      "Saved source 2 to /Users/yashsawrikar/Documents/VIT Labs/Semester 8/Senior Design Project/Dataset - Sample/NMF_Output/preprocessed_5601600Z_source2.wav\n",
      "Processing: /Users/yashsawrikar/Documents/VIT Labs/Semester 8/Senior Design Project/Dataset - Sample/Preprocessed/non-bio/preprocessed_5604800O.wav\n"
     ]
    },
    {
     "name": "stderr",
     "output_type": "stream",
     "text": [
      "/opt/anaconda3/lib/python3.12/site-packages/sklearn/decomposition/_nmf.py:1759: ConvergenceWarning: Maximum number of iterations 200 reached. Increase it to improve convergence.\n",
      "  warnings.warn(\n",
      " 64%|██████▍   | 136/213 [04:58<01:56,  1.51s/it]"
     ]
    },
    {
     "name": "stdout",
     "output_type": "stream",
     "text": [
      "Saved source 1 to /Users/yashsawrikar/Documents/VIT Labs/Semester 8/Senior Design Project/Dataset - Sample/NMF_Output/preprocessed_5604800O_source1.wav\n",
      "Saved source 2 to /Users/yashsawrikar/Documents/VIT Labs/Semester 8/Senior Design Project/Dataset - Sample/NMF_Output/preprocessed_5604800O_source2.wav\n",
      "Processing: /Users/yashsawrikar/Documents/VIT Labs/Semester 8/Senior Design Project/Dataset - Sample/Preprocessed/non-bio/preprocessed_5604800J.wav\n"
     ]
    },
    {
     "name": "stderr",
     "output_type": "stream",
     "text": [
      "/opt/anaconda3/lib/python3.12/site-packages/sklearn/decomposition/_nmf.py:1759: ConvergenceWarning: Maximum number of iterations 200 reached. Increase it to improve convergence.\n",
      "  warnings.warn(\n",
      " 64%|██████▍   | 137/213 [05:00<01:57,  1.54s/it]"
     ]
    },
    {
     "name": "stdout",
     "output_type": "stream",
     "text": [
      "Saved source 1 to /Users/yashsawrikar/Documents/VIT Labs/Semester 8/Senior Design Project/Dataset - Sample/NMF_Output/preprocessed_5604800J_source1.wav\n",
      "Saved source 2 to /Users/yashsawrikar/Documents/VIT Labs/Semester 8/Senior Design Project/Dataset - Sample/NMF_Output/preprocessed_5604800J_source2.wav\n",
      "Processing: /Users/yashsawrikar/Documents/VIT Labs/Semester 8/Senior Design Project/Dataset - Sample/Preprocessed/non-bio/preprocessed_66014001.wav\n"
     ]
    },
    {
     "name": "stderr",
     "output_type": "stream",
     "text": [
      " 65%|██████▍   | 138/213 [05:01<01:43,  1.38s/it]"
     ]
    },
    {
     "name": "stdout",
     "output_type": "stream",
     "text": [
      "Saved source 1 to /Users/yashsawrikar/Documents/VIT Labs/Semester 8/Senior Design Project/Dataset - Sample/NMF_Output/preprocessed_66014001_source1.wav\n",
      "Saved source 2 to /Users/yashsawrikar/Documents/VIT Labs/Semester 8/Senior Design Project/Dataset - Sample/NMF_Output/preprocessed_66014001_source2.wav\n",
      "Processing: /Users/yashsawrikar/Documents/VIT Labs/Semester 8/Senior Design Project/Dataset - Sample/Preprocessed/non-bio/preprocessed_5604800E.wav\n"
     ]
    },
    {
     "name": "stderr",
     "output_type": "stream",
     "text": [
      " 65%|██████▌   | 139/213 [05:03<02:01,  1.64s/it]"
     ]
    },
    {
     "name": "stdout",
     "output_type": "stream",
     "text": [
      "Saved source 1 to /Users/yashsawrikar/Documents/VIT Labs/Semester 8/Senior Design Project/Dataset - Sample/NMF_Output/preprocessed_5604800E_source1.wav\n",
      "Saved source 2 to /Users/yashsawrikar/Documents/VIT Labs/Semester 8/Senior Design Project/Dataset - Sample/NMF_Output/preprocessed_5604800E_source2.wav\n",
      "Processing: /Users/yashsawrikar/Documents/VIT Labs/Semester 8/Senior Design Project/Dataset - Sample/Preprocessed/non-bio/preprocessed_56048004.wav\n"
     ]
    },
    {
     "name": "stderr",
     "output_type": "stream",
     "text": [
      " 66%|██████▌   | 140/213 [05:05<01:58,  1.62s/it]"
     ]
    },
    {
     "name": "stdout",
     "output_type": "stream",
     "text": [
      "Saved source 1 to /Users/yashsawrikar/Documents/VIT Labs/Semester 8/Senior Design Project/Dataset - Sample/NMF_Output/preprocessed_56048004_source1.wav\n",
      "Saved source 2 to /Users/yashsawrikar/Documents/VIT Labs/Semester 8/Senior Design Project/Dataset - Sample/NMF_Output/preprocessed_56048004_source2.wav\n",
      "Processing: /Users/yashsawrikar/Documents/VIT Labs/Semester 8/Senior Design Project/Dataset - Sample/Preprocessed/non-bio/preprocessed_56048007.wav\n"
     ]
    },
    {
     "name": "stderr",
     "output_type": "stream",
     "text": [
      "/opt/anaconda3/lib/python3.12/site-packages/sklearn/decomposition/_nmf.py:1759: ConvergenceWarning: Maximum number of iterations 200 reached. Increase it to improve convergence.\n",
      "  warnings.warn(\n",
      " 66%|██████▌   | 141/213 [05:07<01:56,  1.61s/it]"
     ]
    },
    {
     "name": "stdout",
     "output_type": "stream",
     "text": [
      "Saved source 1 to /Users/yashsawrikar/Documents/VIT Labs/Semester 8/Senior Design Project/Dataset - Sample/NMF_Output/preprocessed_56048007_source1.wav\n",
      "Saved source 2 to /Users/yashsawrikar/Documents/VIT Labs/Semester 8/Senior Design Project/Dataset - Sample/NMF_Output/preprocessed_56048007_source2.wav\n",
      "Processing: /Users/yashsawrikar/Documents/VIT Labs/Semester 8/Senior Design Project/Dataset - Sample/Preprocessed/non-bio/preprocessed_5604800A.wav\n"
     ]
    },
    {
     "name": "stderr",
     "output_type": "stream",
     "text": [
      "/opt/anaconda3/lib/python3.12/site-packages/sklearn/decomposition/_nmf.py:1759: ConvergenceWarning: Maximum number of iterations 200 reached. Increase it to improve convergence.\n",
      "  warnings.warn(\n",
      " 67%|██████▋   | 142/213 [05:08<01:46,  1.50s/it]"
     ]
    },
    {
     "name": "stdout",
     "output_type": "stream",
     "text": [
      "Saved source 1 to /Users/yashsawrikar/Documents/VIT Labs/Semester 8/Senior Design Project/Dataset - Sample/NMF_Output/preprocessed_5604800A_source1.wav\n",
      "Saved source 2 to /Users/yashsawrikar/Documents/VIT Labs/Semester 8/Senior Design Project/Dataset - Sample/NMF_Output/preprocessed_5604800A_source2.wav\n",
      "Processing: /Users/yashsawrikar/Documents/VIT Labs/Semester 8/Senior Design Project/Dataset - Sample/Preprocessed/non-bio/preprocessed_91013013.wav\n"
     ]
    },
    {
     "name": "stderr",
     "output_type": "stream",
     "text": [
      "/opt/anaconda3/lib/python3.12/site-packages/sklearn/decomposition/_nmf.py:1759: ConvergenceWarning: Maximum number of iterations 200 reached. Increase it to improve convergence.\n",
      "  warnings.warn(\n",
      " 67%|██████▋   | 143/213 [05:10<01:50,  1.58s/it]"
     ]
    },
    {
     "name": "stdout",
     "output_type": "stream",
     "text": [
      "Saved source 1 to /Users/yashsawrikar/Documents/VIT Labs/Semester 8/Senior Design Project/Dataset - Sample/NMF_Output/preprocessed_91013013_source1.wav\n",
      "Saved source 2 to /Users/yashsawrikar/Documents/VIT Labs/Semester 8/Senior Design Project/Dataset - Sample/NMF_Output/preprocessed_91013013_source2.wav\n",
      "Processing: /Users/yashsawrikar/Documents/VIT Labs/Semester 8/Senior Design Project/Dataset - Sample/Preprocessed/non-bio/preprocessed_9400904P.wav\n"
     ]
    },
    {
     "name": "stderr",
     "output_type": "stream",
     "text": [
      "/opt/anaconda3/lib/python3.12/site-packages/sklearn/decomposition/_nmf.py:1759: ConvergenceWarning: Maximum number of iterations 200 reached. Increase it to improve convergence.\n",
      "  warnings.warn(\n",
      " 68%|██████▊   | 144/213 [05:11<01:37,  1.41s/it]"
     ]
    },
    {
     "name": "stdout",
     "output_type": "stream",
     "text": [
      "Saved source 1 to /Users/yashsawrikar/Documents/VIT Labs/Semester 8/Senior Design Project/Dataset - Sample/NMF_Output/preprocessed_9400904P_source1.wav\n",
      "Saved source 2 to /Users/yashsawrikar/Documents/VIT Labs/Semester 8/Senior Design Project/Dataset - Sample/NMF_Output/preprocessed_9400904P_source2.wav\n",
      "Processing: /Users/yashsawrikar/Documents/VIT Labs/Semester 8/Senior Design Project/Dataset - Sample/Preprocessed/non-bio/preprocessed_94009040.wav\n"
     ]
    },
    {
     "name": "stderr",
     "output_type": "stream",
     "text": [
      " 68%|██████▊   | 145/213 [05:11<01:22,  1.22s/it]"
     ]
    },
    {
     "name": "stdout",
     "output_type": "stream",
     "text": [
      "Saved source 1 to /Users/yashsawrikar/Documents/VIT Labs/Semester 8/Senior Design Project/Dataset - Sample/NMF_Output/preprocessed_94009040_source1.wav\n",
      "Saved source 2 to /Users/yashsawrikar/Documents/VIT Labs/Semester 8/Senior Design Project/Dataset - Sample/NMF_Output/preprocessed_94009040_source2.wav\n",
      "Processing: /Users/yashsawrikar/Documents/VIT Labs/Semester 8/Senior Design Project/Dataset - Sample/Preprocessed/non-bio/preprocessed_9400904D.wav\n"
     ]
    },
    {
     "name": "stderr",
     "output_type": "stream",
     "text": [
      "/opt/anaconda3/lib/python3.12/site-packages/sklearn/decomposition/_nmf.py:1759: ConvergenceWarning: Maximum number of iterations 200 reached. Increase it to improve convergence.\n",
      "  warnings.warn(\n",
      " 69%|██████▊   | 146/213 [05:12<01:13,  1.10s/it]"
     ]
    },
    {
     "name": "stdout",
     "output_type": "stream",
     "text": [
      "Saved source 1 to /Users/yashsawrikar/Documents/VIT Labs/Semester 8/Senior Design Project/Dataset - Sample/NMF_Output/preprocessed_9400904D_source1.wav\n",
      "Saved source 2 to /Users/yashsawrikar/Documents/VIT Labs/Semester 8/Senior Design Project/Dataset - Sample/NMF_Output/preprocessed_9400904D_source2.wav\n",
      "Processing: /Users/yashsawrikar/Documents/VIT Labs/Semester 8/Senior Design Project/Dataset - Sample/Preprocessed/non-bio/preprocessed_91010027.wav\n"
     ]
    },
    {
     "name": "stderr",
     "output_type": "stream",
     "text": [
      " 69%|██████▉   | 147/213 [05:18<02:43,  2.48s/it]"
     ]
    },
    {
     "name": "stdout",
     "output_type": "stream",
     "text": [
      "Saved source 1 to /Users/yashsawrikar/Documents/VIT Labs/Semester 8/Senior Design Project/Dataset - Sample/NMF_Output/preprocessed_91010027_source1.wav\n",
      "Saved source 2 to /Users/yashsawrikar/Documents/VIT Labs/Semester 8/Senior Design Project/Dataset - Sample/NMF_Output/preprocessed_91010027_source2.wav\n",
      "Processing: /Users/yashsawrikar/Documents/VIT Labs/Semester 8/Senior Design Project/Dataset - Sample/Preprocessed/non-bio/preprocessed_91010001.wav\n"
     ]
    },
    {
     "name": "stderr",
     "output_type": "stream",
     "text": [
      " 69%|██████▉   | 148/213 [05:19<02:19,  2.15s/it]"
     ]
    },
    {
     "name": "stdout",
     "output_type": "stream",
     "text": [
      "Saved source 1 to /Users/yashsawrikar/Documents/VIT Labs/Semester 8/Senior Design Project/Dataset - Sample/NMF_Output/preprocessed_91010001_source1.wav\n",
      "Saved source 2 to /Users/yashsawrikar/Documents/VIT Labs/Semester 8/Senior Design Project/Dataset - Sample/NMF_Output/preprocessed_91010001_source2.wav\n",
      "Processing: /Users/yashsawrikar/Documents/VIT Labs/Semester 8/Senior Design Project/Dataset - Sample/Preprocessed/non-bio/preprocessed_6107400C.wav\n"
     ]
    },
    {
     "name": "stderr",
     "output_type": "stream",
     "text": [
      "/opt/anaconda3/lib/python3.12/site-packages/sklearn/decomposition/_nmf.py:1759: ConvergenceWarning: Maximum number of iterations 200 reached. Increase it to improve convergence.\n",
      "  warnings.warn(\n",
      " 70%|██████▉   | 149/213 [05:27<03:58,  3.73s/it]"
     ]
    },
    {
     "name": "stdout",
     "output_type": "stream",
     "text": [
      "Saved source 1 to /Users/yashsawrikar/Documents/VIT Labs/Semester 8/Senior Design Project/Dataset - Sample/NMF_Output/preprocessed_6107400C_source1.wav\n",
      "Saved source 2 to /Users/yashsawrikar/Documents/VIT Labs/Semester 8/Senior Design Project/Dataset - Sample/NMF_Output/preprocessed_6107400C_source2.wav\n",
      "Processing: /Users/yashsawrikar/Documents/VIT Labs/Semester 8/Senior Design Project/Dataset - Sample/Preprocessed/non-bio/preprocessed_65012002.wav\n"
     ]
    },
    {
     "name": "stderr",
     "output_type": "stream",
     "text": [
      "/opt/anaconda3/lib/python3.12/site-packages/sklearn/decomposition/_nmf.py:1759: ConvergenceWarning: Maximum number of iterations 200 reached. Increase it to improve convergence.\n",
      "  warnings.warn(\n",
      " 70%|███████   | 150/213 [05:28<03:08,  2.99s/it]"
     ]
    },
    {
     "name": "stdout",
     "output_type": "stream",
     "text": [
      "Saved source 1 to /Users/yashsawrikar/Documents/VIT Labs/Semester 8/Senior Design Project/Dataset - Sample/NMF_Output/preprocessed_65012002_source1.wav\n",
      "Saved source 2 to /Users/yashsawrikar/Documents/VIT Labs/Semester 8/Senior Design Project/Dataset - Sample/NMF_Output/preprocessed_65012002_source2.wav\n",
      "Processing: /Users/yashsawrikar/Documents/VIT Labs/Semester 8/Senior Design Project/Dataset - Sample/Preprocessed/non-bio/preprocessed_65012003.wav\n"
     ]
    },
    {
     "name": "stderr",
     "output_type": "stream",
     "text": [
      " 71%|███████   | 151/213 [05:29<02:25,  2.35s/it]"
     ]
    },
    {
     "name": "stdout",
     "output_type": "stream",
     "text": [
      "Saved source 1 to /Users/yashsawrikar/Documents/VIT Labs/Semester 8/Senior Design Project/Dataset - Sample/NMF_Output/preprocessed_65012003_source1.wav\n",
      "Saved source 2 to /Users/yashsawrikar/Documents/VIT Labs/Semester 8/Senior Design Project/Dataset - Sample/NMF_Output/preprocessed_65012003_source2.wav\n",
      "Processing: /Users/yashsawrikar/Documents/VIT Labs/Semester 8/Senior Design Project/Dataset - Sample/Preprocessed/non-bio/preprocessed_6501200Q.wav\n"
     ]
    },
    {
     "name": "stderr",
     "output_type": "stream",
     "text": [
      "/opt/anaconda3/lib/python3.12/site-packages/sklearn/decomposition/_nmf.py:1759: ConvergenceWarning: Maximum number of iterations 200 reached. Increase it to improve convergence.\n",
      "  warnings.warn(\n",
      " 71%|███████▏  | 152/213 [05:33<02:57,  2.91s/it]"
     ]
    },
    {
     "name": "stdout",
     "output_type": "stream",
     "text": [
      "Saved source 1 to /Users/yashsawrikar/Documents/VIT Labs/Semester 8/Senior Design Project/Dataset - Sample/NMF_Output/preprocessed_6501200Q_source1.wav\n",
      "Saved source 2 to /Users/yashsawrikar/Documents/VIT Labs/Semester 8/Senior Design Project/Dataset - Sample/NMF_Output/preprocessed_6501200Q_source2.wav\n",
      "Processing: /Users/yashsawrikar/Documents/VIT Labs/Semester 8/Senior Design Project/Dataset - Sample/Preprocessed/non-bio/preprocessed_65012007.wav\n"
     ]
    },
    {
     "name": "stderr",
     "output_type": "stream",
     "text": [
      "/opt/anaconda3/lib/python3.12/site-packages/sklearn/decomposition/_nmf.py:1759: ConvergenceWarning: Maximum number of iterations 200 reached. Increase it to improve convergence.\n",
      "  warnings.warn(\n",
      " 72%|███████▏  | 153/213 [05:35<02:45,  2.76s/it]"
     ]
    },
    {
     "name": "stdout",
     "output_type": "stream",
     "text": [
      "Saved source 1 to /Users/yashsawrikar/Documents/VIT Labs/Semester 8/Senior Design Project/Dataset - Sample/NMF_Output/preprocessed_65012007_source1.wav\n",
      "Saved source 2 to /Users/yashsawrikar/Documents/VIT Labs/Semester 8/Senior Design Project/Dataset - Sample/NMF_Output/preprocessed_65012007_source2.wav\n",
      "Processing: /Users/yashsawrikar/Documents/VIT Labs/Semester 8/Senior Design Project/Dataset - Sample/Preprocessed/non-bio/preprocessed_6501200O.wav\n"
     ]
    },
    {
     "name": "stderr",
     "output_type": "stream",
     "text": [
      "/opt/anaconda3/lib/python3.12/site-packages/sklearn/decomposition/_nmf.py:1759: ConvergenceWarning: Maximum number of iterations 200 reached. Increase it to improve convergence.\n",
      "  warnings.warn(\n",
      " 72%|███████▏  | 154/213 [05:39<02:52,  2.92s/it]"
     ]
    },
    {
     "name": "stdout",
     "output_type": "stream",
     "text": [
      "Saved source 1 to /Users/yashsawrikar/Documents/VIT Labs/Semester 8/Senior Design Project/Dataset - Sample/NMF_Output/preprocessed_6501200O_source1.wav\n",
      "Saved source 2 to /Users/yashsawrikar/Documents/VIT Labs/Semester 8/Senior Design Project/Dataset - Sample/NMF_Output/preprocessed_6501200O_source2.wav\n",
      "Processing: /Users/yashsawrikar/Documents/VIT Labs/Semester 8/Senior Design Project/Dataset - Sample/Preprocessed/non-bio/preprocessed_64104004.wav\n"
     ]
    },
    {
     "name": "stderr",
     "output_type": "stream",
     "text": [
      "/opt/anaconda3/lib/python3.12/site-packages/sklearn/decomposition/_nmf.py:1759: ConvergenceWarning: Maximum number of iterations 200 reached. Increase it to improve convergence.\n",
      "  warnings.warn(\n",
      " 73%|███████▎  | 155/213 [05:40<02:14,  2.32s/it]"
     ]
    },
    {
     "name": "stdout",
     "output_type": "stream",
     "text": [
      "Saved source 1 to /Users/yashsawrikar/Documents/VIT Labs/Semester 8/Senior Design Project/Dataset - Sample/NMF_Output/preprocessed_64104004_source1.wav\n",
      "Saved source 2 to /Users/yashsawrikar/Documents/VIT Labs/Semester 8/Senior Design Project/Dataset - Sample/NMF_Output/preprocessed_64104004_source2.wav\n",
      "Processing: /Users/yashsawrikar/Documents/VIT Labs/Semester 8/Senior Design Project/Dataset - Sample/Preprocessed/non-bio/preprocessed_79040005.wav\n"
     ]
    },
    {
     "name": "stderr",
     "output_type": "stream",
     "text": [
      "/opt/anaconda3/lib/python3.12/site-packages/sklearn/decomposition/_nmf.py:1759: ConvergenceWarning: Maximum number of iterations 200 reached. Increase it to improve convergence.\n",
      "  warnings.warn(\n",
      " 73%|███████▎  | 156/213 [05:52<05:06,  5.38s/it]"
     ]
    },
    {
     "name": "stdout",
     "output_type": "stream",
     "text": [
      "Saved source 1 to /Users/yashsawrikar/Documents/VIT Labs/Semester 8/Senior Design Project/Dataset - Sample/NMF_Output/preprocessed_79040005_source1.wav\n",
      "Saved source 2 to /Users/yashsawrikar/Documents/VIT Labs/Semester 8/Senior Design Project/Dataset - Sample/NMF_Output/preprocessed_79040005_source2.wav\n",
      "Processing: /Users/yashsawrikar/Documents/VIT Labs/Semester 8/Senior Design Project/Dataset - Sample/Preprocessed/non-bio/preprocessed_79040002.wav\n"
     ]
    },
    {
     "name": "stderr",
     "output_type": "stream",
     "text": [
      "/opt/anaconda3/lib/python3.12/site-packages/sklearn/decomposition/_nmf.py:1759: ConvergenceWarning: Maximum number of iterations 200 reached. Increase it to improve convergence.\n",
      "  warnings.warn(\n",
      " 74%|███████▎  | 157/213 [06:17<10:22, 11.11s/it]"
     ]
    },
    {
     "name": "stdout",
     "output_type": "stream",
     "text": [
      "Saved source 1 to /Users/yashsawrikar/Documents/VIT Labs/Semester 8/Senior Design Project/Dataset - Sample/NMF_Output/preprocessed_79040002_source1.wav\n",
      "Saved source 2 to /Users/yashsawrikar/Documents/VIT Labs/Semester 8/Senior Design Project/Dataset - Sample/NMF_Output/preprocessed_79040002_source2.wav\n",
      "Processing: /Users/yashsawrikar/Documents/VIT Labs/Semester 8/Senior Design Project/Dataset - Sample/Preprocessed/non-bio/preprocessed_64103004.wav\n"
     ]
    },
    {
     "name": "stderr",
     "output_type": "stream",
     "text": [
      "/opt/anaconda3/lib/python3.12/site-packages/sklearn/decomposition/_nmf.py:1759: ConvergenceWarning: Maximum number of iterations 200 reached. Increase it to improve convergence.\n",
      "  warnings.warn(\n",
      " 74%|███████▍  | 158/213 [06:18<07:25,  8.10s/it]"
     ]
    },
    {
     "name": "stdout",
     "output_type": "stream",
     "text": [
      "Saved source 1 to /Users/yashsawrikar/Documents/VIT Labs/Semester 8/Senior Design Project/Dataset - Sample/NMF_Output/preprocessed_64103004_source1.wav\n",
      "Saved source 2 to /Users/yashsawrikar/Documents/VIT Labs/Semester 8/Senior Design Project/Dataset - Sample/NMF_Output/preprocessed_64103004_source2.wav\n",
      "Processing: /Users/yashsawrikar/Documents/VIT Labs/Semester 8/Senior Design Project/Dataset - Sample/Preprocessed/non-bio/preprocessed_64103006.wav\n"
     ]
    },
    {
     "name": "stderr",
     "output_type": "stream",
     "text": [
      "/opt/anaconda3/lib/python3.12/site-packages/sklearn/decomposition/_nmf.py:1759: ConvergenceWarning: Maximum number of iterations 200 reached. Increase it to improve convergence.\n",
      "  warnings.warn(\n",
      " 75%|███████▍  | 159/213 [06:19<05:23,  6.00s/it]"
     ]
    },
    {
     "name": "stdout",
     "output_type": "stream",
     "text": [
      "Saved source 1 to /Users/yashsawrikar/Documents/VIT Labs/Semester 8/Senior Design Project/Dataset - Sample/NMF_Output/preprocessed_64103006_source1.wav\n",
      "Saved source 2 to /Users/yashsawrikar/Documents/VIT Labs/Semester 8/Senior Design Project/Dataset - Sample/NMF_Output/preprocessed_64103006_source2.wav\n",
      "Processing: /Users/yashsawrikar/Documents/VIT Labs/Semester 8/Senior Design Project/Dataset - Sample/Preprocessed/non-bio/preprocessed_64103003.wav\n"
     ]
    },
    {
     "name": "stderr",
     "output_type": "stream",
     "text": [
      "/opt/anaconda3/lib/python3.12/site-packages/sklearn/decomposition/_nmf.py:1759: ConvergenceWarning: Maximum number of iterations 200 reached. Increase it to improve convergence.\n",
      "  warnings.warn(\n",
      " 75%|███████▌  | 160/213 [06:20<03:55,  4.44s/it]"
     ]
    },
    {
     "name": "stdout",
     "output_type": "stream",
     "text": [
      "Saved source 1 to /Users/yashsawrikar/Documents/VIT Labs/Semester 8/Senior Design Project/Dataset - Sample/NMF_Output/preprocessed_64103003_source1.wav\n",
      "Saved source 2 to /Users/yashsawrikar/Documents/VIT Labs/Semester 8/Senior Design Project/Dataset - Sample/NMF_Output/preprocessed_64103003_source2.wav\n",
      "Processing: /Users/yashsawrikar/Documents/VIT Labs/Semester 8/Senior Design Project/Dataset - Sample/Preprocessed/non-bio/preprocessed_64103001.wav\n"
     ]
    },
    {
     "name": "stderr",
     "output_type": "stream",
     "text": [
      "/opt/anaconda3/lib/python3.12/site-packages/sklearn/decomposition/_nmf.py:1759: ConvergenceWarning: Maximum number of iterations 200 reached. Increase it to improve convergence.\n",
      "  warnings.warn(\n",
      " 76%|███████▌  | 161/213 [06:20<02:53,  3.34s/it]"
     ]
    },
    {
     "name": "stdout",
     "output_type": "stream",
     "text": [
      "Saved source 1 to /Users/yashsawrikar/Documents/VIT Labs/Semester 8/Senior Design Project/Dataset - Sample/NMF_Output/preprocessed_64103001_source1.wav\n",
      "Saved source 2 to /Users/yashsawrikar/Documents/VIT Labs/Semester 8/Senior Design Project/Dataset - Sample/NMF_Output/preprocessed_64103001_source2.wav\n",
      "Processing: /Users/yashsawrikar/Documents/VIT Labs/Semester 8/Senior Design Project/Dataset - Sample/Preprocessed/non-bio/preprocessed_69003001.wav\n"
     ]
    },
    {
     "name": "stderr",
     "output_type": "stream",
     "text": [
      " 76%|███████▌  | 162/213 [06:22<02:24,  2.82s/it]"
     ]
    },
    {
     "name": "stdout",
     "output_type": "stream",
     "text": [
      "Saved source 1 to /Users/yashsawrikar/Documents/VIT Labs/Semester 8/Senior Design Project/Dataset - Sample/NMF_Output/preprocessed_69003001_source1.wav\n",
      "Saved source 2 to /Users/yashsawrikar/Documents/VIT Labs/Semester 8/Senior Design Project/Dataset - Sample/NMF_Output/preprocessed_69003001_source2.wav\n",
      "Processing: /Users/yashsawrikar/Documents/VIT Labs/Semester 8/Senior Design Project/Dataset - Sample/Preprocessed/non-bio/preprocessed_69003002.wav\n"
     ]
    },
    {
     "name": "stderr",
     "output_type": "stream",
     "text": [
      " 77%|███████▋  | 163/213 [06:23<01:59,  2.39s/it]"
     ]
    },
    {
     "name": "stdout",
     "output_type": "stream",
     "text": [
      "Saved source 1 to /Users/yashsawrikar/Documents/VIT Labs/Semester 8/Senior Design Project/Dataset - Sample/NMF_Output/preprocessed_69003002_source1.wav\n",
      "Saved source 2 to /Users/yashsawrikar/Documents/VIT Labs/Semester 8/Senior Design Project/Dataset - Sample/NMF_Output/preprocessed_69003002_source2.wav\n",
      "Processing: /Users/yashsawrikar/Documents/VIT Labs/Semester 8/Senior Design Project/Dataset - Sample/Preprocessed/non-bio/preprocessed_94201077.wav\n"
     ]
    },
    {
     "name": "stderr",
     "output_type": "stream",
     "text": [
      "/opt/anaconda3/lib/python3.12/site-packages/sklearn/decomposition/_nmf.py:1759: ConvergenceWarning: Maximum number of iterations 200 reached. Increase it to improve convergence.\n",
      "  warnings.warn(\n",
      " 77%|███████▋  | 164/213 [06:24<01:31,  1.87s/it]"
     ]
    },
    {
     "name": "stdout",
     "output_type": "stream",
     "text": [
      "Saved source 1 to /Users/yashsawrikar/Documents/VIT Labs/Semester 8/Senior Design Project/Dataset - Sample/NMF_Output/preprocessed_94201077_source1.wav\n",
      "Saved source 2 to /Users/yashsawrikar/Documents/VIT Labs/Semester 8/Senior Design Project/Dataset - Sample/NMF_Output/preprocessed_94201077_source2.wav\n",
      "Processing: /Users/yashsawrikar/Documents/VIT Labs/Semester 8/Senior Design Project/Dataset - Sample/Preprocessed/non-bio/preprocessed_84228002.wav\n"
     ]
    },
    {
     "name": "stderr",
     "output_type": "stream",
     "text": [
      " 77%|███████▋  | 165/213 [06:25<01:14,  1.55s/it]"
     ]
    },
    {
     "name": "stdout",
     "output_type": "stream",
     "text": [
      "Saved source 1 to /Users/yashsawrikar/Documents/VIT Labs/Semester 8/Senior Design Project/Dataset - Sample/NMF_Output/preprocessed_84228002_source1.wav\n",
      "Saved source 2 to /Users/yashsawrikar/Documents/VIT Labs/Semester 8/Senior Design Project/Dataset - Sample/NMF_Output/preprocessed_84228002_source2.wav\n",
      "Processing: /Users/yashsawrikar/Documents/VIT Labs/Semester 8/Senior Design Project/Dataset - Sample/Preprocessed/non-bio/preprocessed_89506004.wav\n"
     ]
    },
    {
     "name": "stderr",
     "output_type": "stream",
     "text": [
      " 78%|███████▊  | 166/213 [06:26<01:01,  1.32s/it]"
     ]
    },
    {
     "name": "stdout",
     "output_type": "stream",
     "text": [
      "Saved source 1 to /Users/yashsawrikar/Documents/VIT Labs/Semester 8/Senior Design Project/Dataset - Sample/NMF_Output/preprocessed_89506004_source1.wav\n",
      "Saved source 2 to /Users/yashsawrikar/Documents/VIT Labs/Semester 8/Senior Design Project/Dataset - Sample/NMF_Output/preprocessed_89506004_source2.wav\n",
      "Processing: /Users/yashsawrikar/Documents/VIT Labs/Semester 8/Senior Design Project/Dataset - Sample/Preprocessed/non-bio/preprocessed_84228A0H.wav\n"
     ]
    },
    {
     "name": "stderr",
     "output_type": "stream",
     "text": [
      " 78%|███████▊  | 167/213 [06:26<00:52,  1.15s/it]"
     ]
    },
    {
     "name": "stdout",
     "output_type": "stream",
     "text": [
      "Saved source 1 to /Users/yashsawrikar/Documents/VIT Labs/Semester 8/Senior Design Project/Dataset - Sample/NMF_Output/preprocessed_84228A0H_source1.wav\n",
      "Saved source 2 to /Users/yashsawrikar/Documents/VIT Labs/Semester 8/Senior Design Project/Dataset - Sample/NMF_Output/preprocessed_84228A0H_source2.wav\n",
      "Processing: /Users/yashsawrikar/Documents/VIT Labs/Semester 8/Senior Design Project/Dataset - Sample/Preprocessed/non-bio/preprocessed_84228A0C.wav\n"
     ]
    },
    {
     "name": "stderr",
     "output_type": "stream",
     "text": [
      " 79%|███████▉  | 168/213 [06:27<00:45,  1.01s/it]"
     ]
    },
    {
     "name": "stdout",
     "output_type": "stream",
     "text": [
      "Saved source 1 to /Users/yashsawrikar/Documents/VIT Labs/Semester 8/Senior Design Project/Dataset - Sample/NMF_Output/preprocessed_84228A0C_source1.wav\n",
      "Saved source 2 to /Users/yashsawrikar/Documents/VIT Labs/Semester 8/Senior Design Project/Dataset - Sample/NMF_Output/preprocessed_84228A0C_source2.wav\n",
      "Processing: /Users/yashsawrikar/Documents/VIT Labs/Semester 8/Senior Design Project/Dataset - Sample/Preprocessed/non-bio/preprocessed_5801100T.wav\n"
     ]
    },
    {
     "name": "stderr",
     "output_type": "stream",
     "text": [
      " 79%|███████▉  | 169/213 [06:28<00:46,  1.06s/it]"
     ]
    },
    {
     "name": "stdout",
     "output_type": "stream",
     "text": [
      "Saved source 1 to /Users/yashsawrikar/Documents/VIT Labs/Semester 8/Senior Design Project/Dataset - Sample/NMF_Output/preprocessed_5801100T_source1.wav\n",
      "Saved source 2 to /Users/yashsawrikar/Documents/VIT Labs/Semester 8/Senior Design Project/Dataset - Sample/NMF_Output/preprocessed_5801100T_source2.wav\n",
      "Processing: /Users/yashsawrikar/Documents/VIT Labs/Semester 8/Senior Design Project/Dataset - Sample/Preprocessed/non-bio/preprocessed_72007003.wav\n"
     ]
    },
    {
     "name": "stderr",
     "output_type": "stream",
     "text": [
      "/opt/anaconda3/lib/python3.12/site-packages/sklearn/decomposition/_nmf.py:1759: ConvergenceWarning: Maximum number of iterations 200 reached. Increase it to improve convergence.\n",
      "  warnings.warn(\n",
      " 80%|███████▉  | 170/213 [06:30<00:52,  1.21s/it]"
     ]
    },
    {
     "name": "stdout",
     "output_type": "stream",
     "text": [
      "Saved source 1 to /Users/yashsawrikar/Documents/VIT Labs/Semester 8/Senior Design Project/Dataset - Sample/NMF_Output/preprocessed_72007003_source1.wav\n",
      "Saved source 2 to /Users/yashsawrikar/Documents/VIT Labs/Semester 8/Senior Design Project/Dataset - Sample/NMF_Output/preprocessed_72007003_source2.wav\n",
      "Processing: /Users/yashsawrikar/Documents/VIT Labs/Semester 8/Senior Design Project/Dataset - Sample/Preprocessed/non-bio/preprocessed_7200700Q.wav\n"
     ]
    },
    {
     "name": "stderr",
     "output_type": "stream",
     "text": [
      " 80%|████████  | 171/213 [06:31<00:49,  1.19s/it]"
     ]
    },
    {
     "name": "stdout",
     "output_type": "stream",
     "text": [
      "Saved source 1 to /Users/yashsawrikar/Documents/VIT Labs/Semester 8/Senior Design Project/Dataset - Sample/NMF_Output/preprocessed_7200700Q_source1.wav\n",
      "Saved source 2 to /Users/yashsawrikar/Documents/VIT Labs/Semester 8/Senior Design Project/Dataset - Sample/NMF_Output/preprocessed_7200700Q_source2.wav\n",
      "Processing: /Users/yashsawrikar/Documents/VIT Labs/Semester 8/Senior Design Project/Dataset - Sample/Preprocessed/non-bio/preprocessed_7200702U.wav\n"
     ]
    },
    {
     "name": "stderr",
     "output_type": "stream",
     "text": [
      " 81%|████████  | 172/213 [06:32<00:50,  1.24s/it]"
     ]
    },
    {
     "name": "stdout",
     "output_type": "stream",
     "text": [
      "Saved source 1 to /Users/yashsawrikar/Documents/VIT Labs/Semester 8/Senior Design Project/Dataset - Sample/NMF_Output/preprocessed_7200702U_source1.wav\n",
      "Saved source 2 to /Users/yashsawrikar/Documents/VIT Labs/Semester 8/Senior Design Project/Dataset - Sample/NMF_Output/preprocessed_7200702U_source2.wav\n",
      "Processing: /Users/yashsawrikar/Documents/VIT Labs/Semester 8/Senior Design Project/Dataset - Sample/Preprocessed/non-bio/preprocessed_6102400D.wav\n"
     ]
    },
    {
     "name": "stderr",
     "output_type": "stream",
     "text": [
      " 81%|████████  | 173/213 [06:33<00:46,  1.17s/it]"
     ]
    },
    {
     "name": "stdout",
     "output_type": "stream",
     "text": [
      "Saved source 1 to /Users/yashsawrikar/Documents/VIT Labs/Semester 8/Senior Design Project/Dataset - Sample/NMF_Output/preprocessed_6102400D_source1.wav\n",
      "Saved source 2 to /Users/yashsawrikar/Documents/VIT Labs/Semester 8/Senior Design Project/Dataset - Sample/NMF_Output/preprocessed_6102400D_source2.wav\n",
      "Processing: /Users/yashsawrikar/Documents/VIT Labs/Semester 8/Senior Design Project/Dataset - Sample/Preprocessed/non-bio/preprocessed_63001007.wav\n"
     ]
    },
    {
     "name": "stderr",
     "output_type": "stream",
     "text": [
      " 82%|████████▏ | 174/213 [06:34<00:41,  1.05s/it]"
     ]
    },
    {
     "name": "stdout",
     "output_type": "stream",
     "text": [
      "Saved source 1 to /Users/yashsawrikar/Documents/VIT Labs/Semester 8/Senior Design Project/Dataset - Sample/NMF_Output/preprocessed_63001007_source1.wav\n",
      "Saved source 2 to /Users/yashsawrikar/Documents/VIT Labs/Semester 8/Senior Design Project/Dataset - Sample/NMF_Output/preprocessed_63001007_source2.wav\n",
      "Processing: /Users/yashsawrikar/Documents/VIT Labs/Semester 8/Senior Design Project/Dataset - Sample/Preprocessed/non-bio/preprocessed_63001006.wav\n"
     ]
    },
    {
     "name": "stderr",
     "output_type": "stream",
     "text": [
      "/opt/anaconda3/lib/python3.12/site-packages/sklearn/decomposition/_nmf.py:1759: ConvergenceWarning: Maximum number of iterations 200 reached. Increase it to improve convergence.\n",
      "  warnings.warn(\n",
      " 82%|████████▏ | 175/213 [06:35<00:37,  1.01it/s]"
     ]
    },
    {
     "name": "stdout",
     "output_type": "stream",
     "text": [
      "Saved source 1 to /Users/yashsawrikar/Documents/VIT Labs/Semester 8/Senior Design Project/Dataset - Sample/NMF_Output/preprocessed_63001006_source1.wav\n",
      "Saved source 2 to /Users/yashsawrikar/Documents/VIT Labs/Semester 8/Senior Design Project/Dataset - Sample/NMF_Output/preprocessed_63001006_source2.wav\n",
      "Processing: /Users/yashsawrikar/Documents/VIT Labs/Semester 8/Senior Design Project/Dataset - Sample/Preprocessed/non-bio/preprocessed_63001004.wav\n"
     ]
    },
    {
     "name": "stderr",
     "output_type": "stream",
     "text": [
      "/opt/anaconda3/lib/python3.12/site-packages/sklearn/decomposition/_nmf.py:1759: ConvergenceWarning: Maximum number of iterations 200 reached. Increase it to improve convergence.\n",
      "  warnings.warn(\n",
      " 83%|████████▎ | 176/213 [06:36<00:38,  1.03s/it]"
     ]
    },
    {
     "name": "stdout",
     "output_type": "stream",
     "text": [
      "Saved source 1 to /Users/yashsawrikar/Documents/VIT Labs/Semester 8/Senior Design Project/Dataset - Sample/NMF_Output/preprocessed_63001004_source1.wav\n",
      "Saved source 2 to /Users/yashsawrikar/Documents/VIT Labs/Semester 8/Senior Design Project/Dataset - Sample/NMF_Output/preprocessed_63001004_source2.wav\n",
      "Processing: /Users/yashsawrikar/Documents/VIT Labs/Semester 8/Senior Design Project/Dataset - Sample/Preprocessed/non-bio/preprocessed_63001005.wav\n"
     ]
    },
    {
     "name": "stderr",
     "output_type": "stream",
     "text": [
      "/opt/anaconda3/lib/python3.12/site-packages/sklearn/decomposition/_nmf.py:1759: ConvergenceWarning: Maximum number of iterations 200 reached. Increase it to improve convergence.\n",
      "  warnings.warn(\n",
      " 83%|████████▎ | 177/213 [06:37<00:33,  1.08it/s]"
     ]
    },
    {
     "name": "stdout",
     "output_type": "stream",
     "text": [
      "Saved source 1 to /Users/yashsawrikar/Documents/VIT Labs/Semester 8/Senior Design Project/Dataset - Sample/NMF_Output/preprocessed_63001005_source1.wav\n",
      "Saved source 2 to /Users/yashsawrikar/Documents/VIT Labs/Semester 8/Senior Design Project/Dataset - Sample/NMF_Output/preprocessed_63001005_source2.wav\n",
      "Processing: /Users/yashsawrikar/Documents/VIT Labs/Semester 8/Senior Design Project/Dataset - Sample/Preprocessed/non-bio/preprocessed_63001001.wav\n"
     ]
    },
    {
     "name": "stderr",
     "output_type": "stream",
     "text": [
      " 84%|████████▎ | 178/213 [06:37<00:31,  1.12it/s]"
     ]
    },
    {
     "name": "stdout",
     "output_type": "stream",
     "text": [
      "Saved source 1 to /Users/yashsawrikar/Documents/VIT Labs/Semester 8/Senior Design Project/Dataset - Sample/NMF_Output/preprocessed_63001001_source1.wav\n",
      "Saved source 2 to /Users/yashsawrikar/Documents/VIT Labs/Semester 8/Senior Design Project/Dataset - Sample/NMF_Output/preprocessed_63001001_source2.wav\n",
      "Processing: /Users/yashsawrikar/Documents/VIT Labs/Semester 8/Senior Design Project/Dataset - Sample/Preprocessed/non-bio/preprocessed_63001002.wav\n"
     ]
    },
    {
     "name": "stderr",
     "output_type": "stream",
     "text": [
      "/opt/anaconda3/lib/python3.12/site-packages/sklearn/decomposition/_nmf.py:1759: ConvergenceWarning: Maximum number of iterations 200 reached. Increase it to improve convergence.\n",
      "  warnings.warn(\n",
      " 84%|████████▍ | 179/213 [06:38<00:28,  1.20it/s]"
     ]
    },
    {
     "name": "stdout",
     "output_type": "stream",
     "text": [
      "Saved source 1 to /Users/yashsawrikar/Documents/VIT Labs/Semester 8/Senior Design Project/Dataset - Sample/NMF_Output/preprocessed_63001002_source1.wav\n",
      "Saved source 2 to /Users/yashsawrikar/Documents/VIT Labs/Semester 8/Senior Design Project/Dataset - Sample/NMF_Output/preprocessed_63001002_source2.wav\n",
      "Processing: /Users/yashsawrikar/Documents/VIT Labs/Semester 8/Senior Design Project/Dataset - Sample/Preprocessed/non-bio/preprocessed_9101203E.wav\n"
     ]
    },
    {
     "name": "stderr",
     "output_type": "stream",
     "text": [
      "/opt/anaconda3/lib/python3.12/site-packages/sklearn/decomposition/_nmf.py:1759: ConvergenceWarning: Maximum number of iterations 200 reached. Increase it to improve convergence.\n",
      "  warnings.warn(\n",
      " 85%|████████▍ | 180/213 [06:39<00:22,  1.45it/s]"
     ]
    },
    {
     "name": "stdout",
     "output_type": "stream",
     "text": [
      "Saved source 1 to /Users/yashsawrikar/Documents/VIT Labs/Semester 8/Senior Design Project/Dataset - Sample/NMF_Output/preprocessed_9101203E_source1.wav\n",
      "Saved source 2 to /Users/yashsawrikar/Documents/VIT Labs/Semester 8/Senior Design Project/Dataset - Sample/NMF_Output/preprocessed_9101203E_source2.wav\n",
      "Processing: /Users/yashsawrikar/Documents/VIT Labs/Semester 8/Senior Design Project/Dataset - Sample/Preprocessed/non-bio/preprocessed_91012024.wav\n"
     ]
    },
    {
     "name": "stderr",
     "output_type": "stream",
     "text": [
      "/opt/anaconda3/lib/python3.12/site-packages/sklearn/decomposition/_nmf.py:1759: ConvergenceWarning: Maximum number of iterations 200 reached. Increase it to improve convergence.\n",
      "  warnings.warn(\n",
      " 85%|████████▍ | 181/213 [06:40<00:25,  1.26it/s]"
     ]
    },
    {
     "name": "stdout",
     "output_type": "stream",
     "text": [
      "Saved source 1 to /Users/yashsawrikar/Documents/VIT Labs/Semester 8/Senior Design Project/Dataset - Sample/NMF_Output/preprocessed_91012024_source1.wav\n",
      "Saved source 2 to /Users/yashsawrikar/Documents/VIT Labs/Semester 8/Senior Design Project/Dataset - Sample/NMF_Output/preprocessed_91012024_source2.wav\n",
      "Processing: /Users/yashsawrikar/Documents/VIT Labs/Semester 8/Senior Design Project/Dataset - Sample/Preprocessed/non-bio/preprocessed_9101200X.wav\n"
     ]
    },
    {
     "name": "stderr",
     "output_type": "stream",
     "text": [
      "/opt/anaconda3/lib/python3.12/site-packages/sklearn/decomposition/_nmf.py:1759: ConvergenceWarning: Maximum number of iterations 200 reached. Increase it to improve convergence.\n",
      "  warnings.warn(\n",
      " 85%|████████▌ | 182/213 [06:40<00:23,  1.31it/s]"
     ]
    },
    {
     "name": "stdout",
     "output_type": "stream",
     "text": [
      "Saved source 1 to /Users/yashsawrikar/Documents/VIT Labs/Semester 8/Senior Design Project/Dataset - Sample/NMF_Output/preprocessed_9101200X_source1.wav\n",
      "Saved source 2 to /Users/yashsawrikar/Documents/VIT Labs/Semester 8/Senior Design Project/Dataset - Sample/NMF_Output/preprocessed_9101200X_source2.wav\n",
      "Processing: /Users/yashsawrikar/Documents/VIT Labs/Semester 8/Senior Design Project/Dataset - Sample/Preprocessed/non-bio/preprocessed_91012038.wav\n"
     ]
    },
    {
     "name": "stderr",
     "output_type": "stream",
     "text": [
      "/opt/anaconda3/lib/python3.12/site-packages/sklearn/decomposition/_nmf.py:1759: ConvergenceWarning: Maximum number of iterations 200 reached. Increase it to improve convergence.\n",
      "  warnings.warn(\n",
      " 86%|████████▌ | 183/213 [06:41<00:19,  1.56it/s]"
     ]
    },
    {
     "name": "stdout",
     "output_type": "stream",
     "text": [
      "Saved source 1 to /Users/yashsawrikar/Documents/VIT Labs/Semester 8/Senior Design Project/Dataset - Sample/NMF_Output/preprocessed_91012038_source1.wav\n",
      "Saved source 2 to /Users/yashsawrikar/Documents/VIT Labs/Semester 8/Senior Design Project/Dataset - Sample/NMF_Output/preprocessed_91012038_source2.wav\n",
      "Processing: /Users/yashsawrikar/Documents/VIT Labs/Semester 8/Senior Design Project/Dataset - Sample/Preprocessed/non-bio/preprocessed_91012028.wav\n"
     ]
    },
    {
     "name": "stderr",
     "output_type": "stream",
     "text": [
      "/opt/anaconda3/lib/python3.12/site-packages/sklearn/decomposition/_nmf.py:1759: ConvergenceWarning: Maximum number of iterations 200 reached. Increase it to improve convergence.\n",
      "  warnings.warn(\n",
      " 86%|████████▋ | 184/213 [06:41<00:18,  1.53it/s]"
     ]
    },
    {
     "name": "stdout",
     "output_type": "stream",
     "text": [
      "Saved source 1 to /Users/yashsawrikar/Documents/VIT Labs/Semester 8/Senior Design Project/Dataset - Sample/NMF_Output/preprocessed_91012028_source1.wav\n",
      "Saved source 2 to /Users/yashsawrikar/Documents/VIT Labs/Semester 8/Senior Design Project/Dataset - Sample/NMF_Output/preprocessed_91012028_source2.wav\n",
      "Processing: /Users/yashsawrikar/Documents/VIT Labs/Semester 8/Senior Design Project/Dataset - Sample/Preprocessed/non-bio/preprocessed_7100400T.wav\n"
     ]
    },
    {
     "name": "stderr",
     "output_type": "stream",
     "text": [
      " 87%|████████▋ | 185/213 [06:43<00:23,  1.19it/s]"
     ]
    },
    {
     "name": "stdout",
     "output_type": "stream",
     "text": [
      "Saved source 1 to /Users/yashsawrikar/Documents/VIT Labs/Semester 8/Senior Design Project/Dataset - Sample/NMF_Output/preprocessed_7100400T_source1.wav\n",
      "Saved source 2 to /Users/yashsawrikar/Documents/VIT Labs/Semester 8/Senior Design Project/Dataset - Sample/NMF_Output/preprocessed_7100400T_source2.wav\n",
      "Processing: /Users/yashsawrikar/Documents/VIT Labs/Semester 8/Senior Design Project/Dataset - Sample/Preprocessed/non-bio/preprocessed_7100400U.wav\n"
     ]
    },
    {
     "name": "stderr",
     "output_type": "stream",
     "text": [
      " 87%|████████▋ | 186/213 [06:44<00:28,  1.06s/it]"
     ]
    },
    {
     "name": "stdout",
     "output_type": "stream",
     "text": [
      "Saved source 1 to /Users/yashsawrikar/Documents/VIT Labs/Semester 8/Senior Design Project/Dataset - Sample/NMF_Output/preprocessed_7100400U_source1.wav\n",
      "Saved source 2 to /Users/yashsawrikar/Documents/VIT Labs/Semester 8/Senior Design Project/Dataset - Sample/NMF_Output/preprocessed_7100400U_source2.wav\n",
      "Processing: /Users/yashsawrikar/Documents/VIT Labs/Semester 8/Senior Design Project/Dataset - Sample/Preprocessed/non-bio/preprocessed_71008012.wav\n"
     ]
    },
    {
     "name": "stderr",
     "output_type": "stream",
     "text": [
      " 88%|████████▊ | 187/213 [06:46<00:30,  1.17s/it]"
     ]
    },
    {
     "name": "stdout",
     "output_type": "stream",
     "text": [
      "Saved source 1 to /Users/yashsawrikar/Documents/VIT Labs/Semester 8/Senior Design Project/Dataset - Sample/NMF_Output/preprocessed_71008012_source1.wav\n",
      "Saved source 2 to /Users/yashsawrikar/Documents/VIT Labs/Semester 8/Senior Design Project/Dataset - Sample/NMF_Output/preprocessed_71008012_source2.wav\n",
      "Processing: /Users/yashsawrikar/Documents/VIT Labs/Semester 8/Senior Design Project/Dataset - Sample/Preprocessed/non-bio/preprocessed_71004015.wav\n"
     ]
    },
    {
     "name": "stderr",
     "output_type": "stream",
     "text": [
      " 88%|████████▊ | 188/213 [06:47<00:28,  1.15s/it]"
     ]
    },
    {
     "name": "stdout",
     "output_type": "stream",
     "text": [
      "Saved source 1 to /Users/yashsawrikar/Documents/VIT Labs/Semester 8/Senior Design Project/Dataset - Sample/NMF_Output/preprocessed_71004015_source1.wav\n",
      "Saved source 2 to /Users/yashsawrikar/Documents/VIT Labs/Semester 8/Senior Design Project/Dataset - Sample/NMF_Output/preprocessed_71004015_source2.wav\n",
      "Processing: /Users/yashsawrikar/Documents/VIT Labs/Semester 8/Senior Design Project/Dataset - Sample/Preprocessed/non-bio/preprocessed_71002017.wav\n"
     ]
    },
    {
     "name": "stderr",
     "output_type": "stream",
     "text": [
      "/opt/anaconda3/lib/python3.12/site-packages/sklearn/decomposition/_nmf.py:1759: ConvergenceWarning: Maximum number of iterations 200 reached. Increase it to improve convergence.\n",
      "  warnings.warn(\n",
      " 89%|████████▊ | 189/213 [06:48<00:29,  1.22s/it]"
     ]
    },
    {
     "name": "stdout",
     "output_type": "stream",
     "text": [
      "Saved source 1 to /Users/yashsawrikar/Documents/VIT Labs/Semester 8/Senior Design Project/Dataset - Sample/NMF_Output/preprocessed_71002017_source1.wav\n",
      "Saved source 2 to /Users/yashsawrikar/Documents/VIT Labs/Semester 8/Senior Design Project/Dataset - Sample/NMF_Output/preprocessed_71002017_source2.wav\n",
      "Processing: /Users/yashsawrikar/Documents/VIT Labs/Semester 8/Senior Design Project/Dataset - Sample/Preprocessed/non-bio/preprocessed_7101000M.wav\n"
     ]
    },
    {
     "name": "stderr",
     "output_type": "stream",
     "text": [
      " 89%|████████▉ | 190/213 [06:50<00:35,  1.54s/it]"
     ]
    },
    {
     "name": "stdout",
     "output_type": "stream",
     "text": [
      "Saved source 1 to /Users/yashsawrikar/Documents/VIT Labs/Semester 8/Senior Design Project/Dataset - Sample/NMF_Output/preprocessed_7101000M_source1.wav\n",
      "Saved source 2 to /Users/yashsawrikar/Documents/VIT Labs/Semester 8/Senior Design Project/Dataset - Sample/NMF_Output/preprocessed_7101000M_source2.wav\n",
      "Processing: /Users/yashsawrikar/Documents/VIT Labs/Semester 8/Senior Design Project/Dataset - Sample/Preprocessed/non-bio/preprocessed_7100801K.wav\n"
     ]
    },
    {
     "name": "stderr",
     "output_type": "stream",
     "text": [
      " 90%|████████▉ | 191/213 [06:51<00:29,  1.33s/it]"
     ]
    },
    {
     "name": "stdout",
     "output_type": "stream",
     "text": [
      "Saved source 1 to /Users/yashsawrikar/Documents/VIT Labs/Semester 8/Senior Design Project/Dataset - Sample/NMF_Output/preprocessed_7100801K_source1.wav\n",
      "Saved source 2 to /Users/yashsawrikar/Documents/VIT Labs/Semester 8/Senior Design Project/Dataset - Sample/NMF_Output/preprocessed_7100801K_source2.wav\n",
      "Processing: /Users/yashsawrikar/Documents/VIT Labs/Semester 8/Senior Design Project/Dataset - Sample/Preprocessed/non-bio/preprocessed_6400801E.wav\n"
     ]
    },
    {
     "name": "stderr",
     "output_type": "stream",
     "text": [
      "/opt/anaconda3/lib/python3.12/site-packages/sklearn/decomposition/_nmf.py:1759: ConvergenceWarning: Maximum number of iterations 200 reached. Increase it to improve convergence.\n",
      "  warnings.warn(\n",
      " 90%|█████████ | 192/213 [06:55<00:44,  2.13s/it]"
     ]
    },
    {
     "name": "stdout",
     "output_type": "stream",
     "text": [
      "Saved source 1 to /Users/yashsawrikar/Documents/VIT Labs/Semester 8/Senior Design Project/Dataset - Sample/NMF_Output/preprocessed_6400801E_source1.wav\n",
      "Saved source 2 to /Users/yashsawrikar/Documents/VIT Labs/Semester 8/Senior Design Project/Dataset - Sample/NMF_Output/preprocessed_6400801E_source2.wav\n",
      "Processing: /Users/yashsawrikar/Documents/VIT Labs/Semester 8/Senior Design Project/Dataset - Sample/Preprocessed/non-bio/preprocessed_64013001.wav\n"
     ]
    },
    {
     "name": "stderr",
     "output_type": "stream",
     "text": [
      "/opt/anaconda3/lib/python3.12/site-packages/sklearn/decomposition/_nmf.py:1759: ConvergenceWarning: Maximum number of iterations 200 reached. Increase it to improve convergence.\n",
      "  warnings.warn(\n",
      " 91%|█████████ | 193/213 [06:56<00:35,  1.76s/it]"
     ]
    },
    {
     "name": "stdout",
     "output_type": "stream",
     "text": [
      "Saved source 1 to /Users/yashsawrikar/Documents/VIT Labs/Semester 8/Senior Design Project/Dataset - Sample/NMF_Output/preprocessed_64013001_source1.wav\n",
      "Saved source 2 to /Users/yashsawrikar/Documents/VIT Labs/Semester 8/Senior Design Project/Dataset - Sample/NMF_Output/preprocessed_64013001_source2.wav\n",
      "Processing: /Users/yashsawrikar/Documents/VIT Labs/Semester 8/Senior Design Project/Dataset - Sample/Preprocessed/non-bio/preprocessed_6400800L.wav\n"
     ]
    },
    {
     "name": "stderr",
     "output_type": "stream",
     "text": [
      "/opt/anaconda3/lib/python3.12/site-packages/sklearn/decomposition/_nmf.py:1759: ConvergenceWarning: Maximum number of iterations 200 reached. Increase it to improve convergence.\n",
      "  warnings.warn(\n",
      " 91%|█████████ | 194/213 [06:57<00:28,  1.48s/it]"
     ]
    },
    {
     "name": "stdout",
     "output_type": "stream",
     "text": [
      "Saved source 1 to /Users/yashsawrikar/Documents/VIT Labs/Semester 8/Senior Design Project/Dataset - Sample/NMF_Output/preprocessed_6400800L_source1.wav\n",
      "Saved source 2 to /Users/yashsawrikar/Documents/VIT Labs/Semester 8/Senior Design Project/Dataset - Sample/NMF_Output/preprocessed_6400800L_source2.wav\n",
      "Processing: /Users/yashsawrikar/Documents/VIT Labs/Semester 8/Senior Design Project/Dataset - Sample/Preprocessed/non-bio/preprocessed_6400800Y.wav\n"
     ]
    },
    {
     "name": "stderr",
     "output_type": "stream",
     "text": [
      "/opt/anaconda3/lib/python3.12/site-packages/sklearn/decomposition/_nmf.py:1759: ConvergenceWarning: Maximum number of iterations 200 reached. Increase it to improve convergence.\n",
      "  warnings.warn(\n",
      " 92%|█████████▏| 195/213 [07:01<00:41,  2.28s/it]"
     ]
    },
    {
     "name": "stdout",
     "output_type": "stream",
     "text": [
      "Saved source 1 to /Users/yashsawrikar/Documents/VIT Labs/Semester 8/Senior Design Project/Dataset - Sample/NMF_Output/preprocessed_6400800Y_source1.wav\n",
      "Saved source 2 to /Users/yashsawrikar/Documents/VIT Labs/Semester 8/Senior Design Project/Dataset - Sample/NMF_Output/preprocessed_6400800Y_source2.wav\n",
      "Processing: /Users/yashsawrikar/Documents/VIT Labs/Semester 8/Senior Design Project/Dataset - Sample/Preprocessed/non-bio/preprocessed_6400900B.wav\n"
     ]
    },
    {
     "name": "stderr",
     "output_type": "stream",
     "text": [
      " 92%|█████████▏| 196/213 [07:02<00:31,  1.83s/it]"
     ]
    },
    {
     "name": "stdout",
     "output_type": "stream",
     "text": [
      "Saved source 1 to /Users/yashsawrikar/Documents/VIT Labs/Semester 8/Senior Design Project/Dataset - Sample/NMF_Output/preprocessed_6400900B_source1.wav\n",
      "Saved source 2 to /Users/yashsawrikar/Documents/VIT Labs/Semester 8/Senior Design Project/Dataset - Sample/NMF_Output/preprocessed_6400900B_source2.wav\n",
      "Processing: /Users/yashsawrikar/Documents/VIT Labs/Semester 8/Senior Design Project/Dataset - Sample/Preprocessed/non-bio/preprocessed_6400900G.wav\n"
     ]
    },
    {
     "name": "stderr",
     "output_type": "stream",
     "text": [
      "/opt/anaconda3/lib/python3.12/site-packages/sklearn/decomposition/_nmf.py:1759: ConvergenceWarning: Maximum number of iterations 200 reached. Increase it to improve convergence.\n",
      "  warnings.warn(\n",
      " 92%|█████████▏| 197/213 [07:03<00:24,  1.54s/it]"
     ]
    },
    {
     "name": "stdout",
     "output_type": "stream",
     "text": [
      "Saved source 1 to /Users/yashsawrikar/Documents/VIT Labs/Semester 8/Senior Design Project/Dataset - Sample/NMF_Output/preprocessed_6400900G_source1.wav\n",
      "Saved source 2 to /Users/yashsawrikar/Documents/VIT Labs/Semester 8/Senior Design Project/Dataset - Sample/NMF_Output/preprocessed_6400900G_source2.wav\n",
      "Processing: /Users/yashsawrikar/Documents/VIT Labs/Semester 8/Senior Design Project/Dataset - Sample/Preprocessed/non-bio/preprocessed_79029004.wav\n"
     ]
    },
    {
     "name": "stderr",
     "output_type": "stream",
     "text": [
      "/opt/anaconda3/lib/python3.12/site-packages/sklearn/decomposition/_nmf.py:1759: ConvergenceWarning: Maximum number of iterations 200 reached. Increase it to improve convergence.\n",
      "  warnings.warn(\n",
      " 93%|█████████▎| 198/213 [07:04<00:20,  1.38s/it]"
     ]
    },
    {
     "name": "stdout",
     "output_type": "stream",
     "text": [
      "Saved source 1 to /Users/yashsawrikar/Documents/VIT Labs/Semester 8/Senior Design Project/Dataset - Sample/NMF_Output/preprocessed_79029004_source1.wav\n",
      "Saved source 2 to /Users/yashsawrikar/Documents/VIT Labs/Semester 8/Senior Design Project/Dataset - Sample/NMF_Output/preprocessed_79029004_source2.wav\n",
      "Processing: /Users/yashsawrikar/Documents/VIT Labs/Semester 8/Senior Design Project/Dataset - Sample/Preprocessed/non-bio/preprocessed_7501700B.wav\n"
     ]
    },
    {
     "name": "stderr",
     "output_type": "stream",
     "text": [
      "/opt/anaconda3/lib/python3.12/site-packages/sklearn/decomposition/_nmf.py:1759: ConvergenceWarning: Maximum number of iterations 200 reached. Increase it to improve convergence.\n",
      "  warnings.warn(\n",
      " 93%|█████████▎| 199/213 [07:05<00:18,  1.30s/it]"
     ]
    },
    {
     "name": "stdout",
     "output_type": "stream",
     "text": [
      "Saved source 1 to /Users/yashsawrikar/Documents/VIT Labs/Semester 8/Senior Design Project/Dataset - Sample/NMF_Output/preprocessed_7501700B_source1.wav\n",
      "Saved source 2 to /Users/yashsawrikar/Documents/VIT Labs/Semester 8/Senior Design Project/Dataset - Sample/NMF_Output/preprocessed_7501700B_source2.wav\n",
      "Processing: /Users/yashsawrikar/Documents/VIT Labs/Semester 8/Senior Design Project/Dataset - Sample/Preprocessed/non-bio/preprocessed_8600804N.wav\n"
     ]
    },
    {
     "name": "stderr",
     "output_type": "stream",
     "text": [
      " 94%|█████████▍| 200/213 [07:07<00:18,  1.46s/it]"
     ]
    },
    {
     "name": "stdout",
     "output_type": "stream",
     "text": [
      "Saved source 1 to /Users/yashsawrikar/Documents/VIT Labs/Semester 8/Senior Design Project/Dataset - Sample/NMF_Output/preprocessed_8600804N_source1.wav\n",
      "Saved source 2 to /Users/yashsawrikar/Documents/VIT Labs/Semester 8/Senior Design Project/Dataset - Sample/NMF_Output/preprocessed_8600804N_source2.wav\n",
      "Processing: /Users/yashsawrikar/Documents/VIT Labs/Semester 8/Senior Design Project/Dataset - Sample/Preprocessed/non-bio/preprocessed_8600804B.wav\n"
     ]
    },
    {
     "name": "stderr",
     "output_type": "stream",
     "text": [
      " 94%|█████████▍| 201/213 [07:08<00:15,  1.32s/it]"
     ]
    },
    {
     "name": "stdout",
     "output_type": "stream",
     "text": [
      "Saved source 1 to /Users/yashsawrikar/Documents/VIT Labs/Semester 8/Senior Design Project/Dataset - Sample/NMF_Output/preprocessed_8600804B_source1.wav\n",
      "Saved source 2 to /Users/yashsawrikar/Documents/VIT Labs/Semester 8/Senior Design Project/Dataset - Sample/NMF_Output/preprocessed_8600804B_source2.wav\n",
      "Processing: /Users/yashsawrikar/Documents/VIT Labs/Semester 8/Senior Design Project/Dataset - Sample/Preprocessed/non-bio/preprocessed_79022004.wav\n"
     ]
    },
    {
     "name": "stderr",
     "output_type": "stream",
     "text": [
      " 95%|█████████▍| 202/213 [07:10<00:18,  1.68s/it]"
     ]
    },
    {
     "name": "stdout",
     "output_type": "stream",
     "text": [
      "Saved source 1 to /Users/yashsawrikar/Documents/VIT Labs/Semester 8/Senior Design Project/Dataset - Sample/NMF_Output/preprocessed_79022004_source1.wav\n",
      "Saved source 2 to /Users/yashsawrikar/Documents/VIT Labs/Semester 8/Senior Design Project/Dataset - Sample/NMF_Output/preprocessed_79022004_source2.wav\n",
      "Processing: /Users/yashsawrikar/Documents/VIT Labs/Semester 8/Senior Design Project/Dataset - Sample/Preprocessed/non-bio/preprocessed_5801801F.wav\n"
     ]
    },
    {
     "name": "stderr",
     "output_type": "stream",
     "text": [
      " 95%|█████████▌| 203/213 [07:12<00:18,  1.85s/it]"
     ]
    },
    {
     "name": "stdout",
     "output_type": "stream",
     "text": [
      "Saved source 1 to /Users/yashsawrikar/Documents/VIT Labs/Semester 8/Senior Design Project/Dataset - Sample/NMF_Output/preprocessed_5801801F_source1.wav\n",
      "Saved source 2 to /Users/yashsawrikar/Documents/VIT Labs/Semester 8/Senior Design Project/Dataset - Sample/NMF_Output/preprocessed_5801801F_source2.wav\n",
      "Processing: /Users/yashsawrikar/Documents/VIT Labs/Semester 8/Senior Design Project/Dataset - Sample/Preprocessed/non-bio/preprocessed_6608900Q.wav\n"
     ]
    },
    {
     "name": "stderr",
     "output_type": "stream",
     "text": [
      " 96%|█████████▌| 204/213 [07:14<00:15,  1.71s/it]"
     ]
    },
    {
     "name": "stdout",
     "output_type": "stream",
     "text": [
      "Saved source 1 to /Users/yashsawrikar/Documents/VIT Labs/Semester 8/Senior Design Project/Dataset - Sample/NMF_Output/preprocessed_6608900Q_source1.wav\n",
      "Saved source 2 to /Users/yashsawrikar/Documents/VIT Labs/Semester 8/Senior Design Project/Dataset - Sample/NMF_Output/preprocessed_6608900Q_source2.wav\n",
      "Processing: /Users/yashsawrikar/Documents/VIT Labs/Semester 8/Senior Design Project/Dataset - Sample/Preprocessed/non-bio/preprocessed_66002A01.wav\n"
     ]
    },
    {
     "name": "stderr",
     "output_type": "stream",
     "text": [
      "/opt/anaconda3/lib/python3.12/site-packages/sklearn/decomposition/_nmf.py:1759: ConvergenceWarning: Maximum number of iterations 200 reached. Increase it to improve convergence.\n",
      "  warnings.warn(\n",
      " 96%|█████████▌| 205/213 [07:16<00:14,  1.76s/it]"
     ]
    },
    {
     "name": "stdout",
     "output_type": "stream",
     "text": [
      "Saved source 1 to /Users/yashsawrikar/Documents/VIT Labs/Semester 8/Senior Design Project/Dataset - Sample/NMF_Output/preprocessed_66002A01_source1.wav\n",
      "Saved source 2 to /Users/yashsawrikar/Documents/VIT Labs/Semester 8/Senior Design Project/Dataset - Sample/NMF_Output/preprocessed_66002A01_source2.wav\n",
      "Processing: /Users/yashsawrikar/Documents/VIT Labs/Semester 8/Senior Design Project/Dataset - Sample/Preprocessed/non-bio/preprocessed_6609000L.wav\n"
     ]
    },
    {
     "name": "stderr",
     "output_type": "stream",
     "text": [
      " 97%|█████████▋| 206/213 [07:17<00:12,  1.75s/it]"
     ]
    },
    {
     "name": "stdout",
     "output_type": "stream",
     "text": [
      "Saved source 1 to /Users/yashsawrikar/Documents/VIT Labs/Semester 8/Senior Design Project/Dataset - Sample/NMF_Output/preprocessed_6609000L_source1.wav\n",
      "Saved source 2 to /Users/yashsawrikar/Documents/VIT Labs/Semester 8/Senior Design Project/Dataset - Sample/NMF_Output/preprocessed_6609000L_source2.wav\n",
      "Processing: /Users/yashsawrikar/Documents/VIT Labs/Semester 8/Senior Design Project/Dataset - Sample/Preprocessed/non-bio/preprocessed_66002A02.wav\n"
     ]
    },
    {
     "name": "stderr",
     "output_type": "stream",
     "text": [
      "/opt/anaconda3/lib/python3.12/site-packages/sklearn/decomposition/_nmf.py:1759: ConvergenceWarning: Maximum number of iterations 200 reached. Increase it to improve convergence.\n",
      "  warnings.warn(\n",
      " 97%|█████████▋| 207/213 [07:18<00:09,  1.54s/it]"
     ]
    },
    {
     "name": "stdout",
     "output_type": "stream",
     "text": [
      "Saved source 1 to /Users/yashsawrikar/Documents/VIT Labs/Semester 8/Senior Design Project/Dataset - Sample/NMF_Output/preprocessed_66002A02_source1.wav\n",
      "Saved source 2 to /Users/yashsawrikar/Documents/VIT Labs/Semester 8/Senior Design Project/Dataset - Sample/NMF_Output/preprocessed_66002A02_source2.wav\n",
      "Processing: /Users/yashsawrikar/Documents/VIT Labs/Semester 8/Senior Design Project/Dataset - Sample/Preprocessed/non-bio/preprocessed_6608900L.wav\n"
     ]
    },
    {
     "name": "stderr",
     "output_type": "stream",
     "text": [
      " 98%|█████████▊| 208/213 [07:20<00:07,  1.52s/it]"
     ]
    },
    {
     "name": "stdout",
     "output_type": "stream",
     "text": [
      "Saved source 1 to /Users/yashsawrikar/Documents/VIT Labs/Semester 8/Senior Design Project/Dataset - Sample/NMF_Output/preprocessed_6608900L_source1.wav\n",
      "Saved source 2 to /Users/yashsawrikar/Documents/VIT Labs/Semester 8/Senior Design Project/Dataset - Sample/NMF_Output/preprocessed_6608900L_source2.wav\n",
      "Processing: /Users/yashsawrikar/Documents/VIT Labs/Semester 8/Senior Design Project/Dataset - Sample/Preprocessed/non-bio/preprocessed_6608500M.wav\n"
     ]
    },
    {
     "name": "stderr",
     "output_type": "stream",
     "text": [
      " 98%|█████████▊| 209/213 [07:21<00:05,  1.45s/it]"
     ]
    },
    {
     "name": "stdout",
     "output_type": "stream",
     "text": [
      "Saved source 1 to /Users/yashsawrikar/Documents/VIT Labs/Semester 8/Senior Design Project/Dataset - Sample/NMF_Output/preprocessed_6608500M_source1.wav\n",
      "Saved source 2 to /Users/yashsawrikar/Documents/VIT Labs/Semester 8/Senior Design Project/Dataset - Sample/NMF_Output/preprocessed_6608500M_source2.wav\n",
      "Processing: /Users/yashsawrikar/Documents/VIT Labs/Semester 8/Senior Design Project/Dataset - Sample/Preprocessed/non-bio/preprocessed_66090013.wav\n"
     ]
    },
    {
     "name": "stderr",
     "output_type": "stream",
     "text": [
      " 99%|█████████▊| 210/213 [07:23<00:04,  1.42s/it]"
     ]
    },
    {
     "name": "stdout",
     "output_type": "stream",
     "text": [
      "Saved source 1 to /Users/yashsawrikar/Documents/VIT Labs/Semester 8/Senior Design Project/Dataset - Sample/NMF_Output/preprocessed_66090013_source1.wav\n",
      "Saved source 2 to /Users/yashsawrikar/Documents/VIT Labs/Semester 8/Senior Design Project/Dataset - Sample/NMF_Output/preprocessed_66090013_source2.wav\n",
      "Processing: /Users/yashsawrikar/Documents/VIT Labs/Semester 8/Senior Design Project/Dataset - Sample/Preprocessed/non-bio/preprocessed_ice-cracking2.wav\n"
     ]
    },
    {
     "name": "stderr",
     "output_type": "stream",
     "text": [
      "/opt/anaconda3/lib/python3.12/site-packages/sklearn/decomposition/_nmf.py:1759: ConvergenceWarning: Maximum number of iterations 200 reached. Increase it to improve convergence.\n",
      "  warnings.warn(\n",
      " 99%|█████████▉| 211/213 [07:26<00:03,  1.88s/it]"
     ]
    },
    {
     "name": "stdout",
     "output_type": "stream",
     "text": [
      "Saved source 1 to /Users/yashsawrikar/Documents/VIT Labs/Semester 8/Senior Design Project/Dataset - Sample/NMF_Output/preprocessed_ice-cracking2_source1.wav\n",
      "Saved source 2 to /Users/yashsawrikar/Documents/VIT Labs/Semester 8/Senior Design Project/Dataset - Sample/NMF_Output/preprocessed_ice-cracking2_source2.wav\n",
      "Processing: /Users/yashsawrikar/Documents/VIT Labs/Semester 8/Senior Design Project/Dataset - Sample/Preprocessed/non-bio/preprocessed_ice-cracking.wav\n"
     ]
    },
    {
     "name": "stderr",
     "output_type": "stream",
     "text": [
      "/opt/anaconda3/lib/python3.12/site-packages/sklearn/decomposition/_nmf.py:1759: ConvergenceWarning: Maximum number of iterations 200 reached. Increase it to improve convergence.\n",
      "  warnings.warn(\n",
      "100%|█████████▉| 212/213 [07:28<00:02,  2.03s/it]"
     ]
    },
    {
     "name": "stdout",
     "output_type": "stream",
     "text": [
      "Saved source 1 to /Users/yashsawrikar/Documents/VIT Labs/Semester 8/Senior Design Project/Dataset - Sample/NMF_Output/preprocessed_ice-cracking_source1.wav\n",
      "Saved source 2 to /Users/yashsawrikar/Documents/VIT Labs/Semester 8/Senior Design Project/Dataset - Sample/NMF_Output/preprocessed_ice-cracking_source2.wav\n",
      "Processing: /Users/yashsawrikar/Documents/VIT Labs/Semester 8/Senior Design Project/Dataset - Sample/Preprocessed/non-bio/preprocessed_Earthquake sound3.wav\n"
     ]
    },
    {
     "name": "stderr",
     "output_type": "stream",
     "text": [
      "/opt/anaconda3/lib/python3.12/site-packages/sklearn/decomposition/_nmf.py:1759: ConvergenceWarning: Maximum number of iterations 200 reached. Increase it to improve convergence.\n",
      "  warnings.warn(\n",
      "100%|██████████| 213/213 [07:40<00:00,  2.16s/it]"
     ]
    },
    {
     "name": "stdout",
     "output_type": "stream",
     "text": [
      "Saved source 1 to /Users/yashsawrikar/Documents/VIT Labs/Semester 8/Senior Design Project/Dataset - Sample/NMF_Output/preprocessed_Earthquake sound3_source1.wav\n",
      "Saved source 2 to /Users/yashsawrikar/Documents/VIT Labs/Semester 8/Senior Design Project/Dataset - Sample/NMF_Output/preprocessed_Earthquake sound3_source2.wav\n",
      "Results saved to /Users/yashsawrikar/Documents/VIT Labs/Semester 8/Senior Design Project/Dataset - Sample/NMF_Output/nmf_results.csv\n",
      "NMF source separation completed!\n"
     ]
    },
    {
     "name": "stderr",
     "output_type": "stream",
     "text": [
      "\n"
     ]
    }
   ],
   "source": [
    "import os\n",
    "import numpy as np\n",
    "import pandas as pd\n",
    "import librosa\n",
    "import librosa.display\n",
    "import matplotlib.pyplot as plt\n",
    "from sklearn.decomposition import NMF\n",
    "from scipy.io import wavfile\n",
    "import soundfile as sf\n",
    "from tqdm import tqdm\n",
    "\n",
    "# Define file paths\n",
    "METADATA_PATH = '/Users/yashsawrikar/Documents/VIT Labs/Semester 8/Senior Design Project/Dataset - Sample/Preprocessed/audio_metadata.csv'\n",
    "DATASET_PATH = '/Users/yashsawrikar/Documents/VIT Labs/Semester 8/Senior Design Project/Dataset - Sample'\n",
    "OUTPUT_DIR = os.path.join(DATASET_PATH, 'NMF_Output')\n",
    "os.makedirs(OUTPUT_DIR, exist_ok=True)\n",
    "\n",
    "# Parameters for NMF\n",
    "N_COMPONENTS = 16  # Number of basis vectors\n",
    "MAX_ITER = 200     # Maximum iterations for NMF\n",
    "RANDOM_STATE = 42  # For reproducibility\n",
    "\n",
    "def load_metadata():\n",
    "    \"\"\"Load metadata from CSV file.\"\"\"\n",
    "    print(\"Loading metadata...\")\n",
    "    df = pd.read_csv(METADATA_PATH)\n",
    "    print(f\"Loaded {len(df)} entries from metadata.\")\n",
    "    return df\n",
    "\n",
    "def apply_nmf_to_audio(audio_path, n_components=N_COMPONENTS, sample_rate=None):\n",
    "    \"\"\"Apply NMF to a single audio file.\"\"\"\n",
    "    print(f\"Processing: {audio_path}\")\n",
    "    \n",
    "    # Load audio file\n",
    "    if sample_rate is None:\n",
    "        y, sr = librosa.load(audio_path, sr=None)\n",
    "    else:\n",
    "        y, sr = librosa.load(audio_path, sr=sample_rate)\n",
    "    \n",
    "    # Compute spectrogram\n",
    "    S = np.abs(librosa.stft(y))\n",
    "    \n",
    "    # Apply NMF with the correct solver for KL divergence\n",
    "    nmf = NMF(n_components=n_components, max_iter=MAX_ITER, \n",
    "              random_state=RANDOM_STATE, beta_loss='kullback-leibler',\n",
    "              solver='mu')  # 'mu' solver is required for kullback-leibler\n",
    "    W = nmf.fit_transform(S)  # Basis matrix\n",
    "    H = nmf.components_      # Activation matrix\n",
    "    \n",
    "    return y, sr, S, W, H\n",
    "\n",
    "def reconstruct_sources(W, H, n_sources=2):\n",
    "    \"\"\"Reconstruct sources from NMF components.\"\"\"\n",
    "    # For demonstration purposes, we'll split components equally between sources\n",
    "    # In a real-world scenario, you'd want a more sophisticated clustering\n",
    "    components_per_source = len(H) // n_sources\n",
    "    \n",
    "    sources = []\n",
    "    for i in range(n_sources):\n",
    "        start_idx = i * components_per_source\n",
    "        end_idx = (i + 1) * components_per_source if i < n_sources - 1 else len(H)\n",
    "        \n",
    "        # Zero out components not belonging to this source\n",
    "        H_source = H.copy()\n",
    "        mask = np.ones_like(H_source, dtype=bool)\n",
    "        mask[start_idx:end_idx, :] = False\n",
    "        H_source[mask] = 0\n",
    "        \n",
    "        # Reconstruct spectrogram for this source\n",
    "        S_source = W @ H_source\n",
    "        sources.append(S_source)\n",
    "    \n",
    "    return sources\n",
    "\n",
    "def spectrogram_to_audio(S, original_phase, sr, hop_length=512):\n",
    "    \"\"\"Convert spectrogram back to audio using original phase.\"\"\"\n",
    "    # Combine magnitude with phase information\n",
    "    S_complex = S * np.exp(1j * original_phase)\n",
    "    \n",
    "    # Inverse STFT\n",
    "    y = librosa.istft(S_complex, hop_length=hop_length)\n",
    "    \n",
    "    return y\n",
    "\n",
    "def compute_si_sdr(estimated_source, reference_source):\n",
    "    \"\"\"Compute Scale-Invariant Signal-to-Distortion Ratio (SI-SDR).\"\"\"\n",
    "    # Ensure same length\n",
    "    min_len = min(len(estimated_source), len(reference_source))\n",
    "    estimated_source = estimated_source[:min_len]\n",
    "    reference_source = reference_source[:min_len]\n",
    "    \n",
    "    # Normalize to zero mean\n",
    "    estimated_source = estimated_source - np.mean(estimated_source)\n",
    "    reference_source = reference_source - np.mean(reference_source)\n",
    "    \n",
    "    # Calculate SI-SDR\n",
    "    reference_energy = np.sum(reference_source ** 2)\n",
    "    if reference_energy < 1e-10:\n",
    "        return float('-inf')\n",
    "    \n",
    "    optimal_scaling = np.dot(estimated_source, reference_source) / reference_energy\n",
    "    projection = optimal_scaling * reference_source\n",
    "    \n",
    "    noise = estimated_source - projection\n",
    "    \n",
    "    ratio = np.sum(projection ** 2) / (np.sum(noise ** 2) + 1e-10)\n",
    "    sdr = 10 * np.log10(ratio + 1e-10)\n",
    "    \n",
    "    return sdr\n",
    "\n",
    "def process_file_with_nmf(file_path, output_dir, n_components=N_COMPONENTS, n_sources=2):\n",
    "    \"\"\"Process a single file with NMF and save results.\"\"\"\n",
    "    # Apply NMF to audio\n",
    "    y, sr, S, W, H = apply_nmf_to_audio(file_path, n_components)\n",
    "    \n",
    "    # Get original phase information\n",
    "    phase = np.angle(librosa.stft(y))\n",
    "    \n",
    "    # Reconstruct sources\n",
    "    source_specs = reconstruct_sources(W, H, n_sources)\n",
    "    \n",
    "    # Convert spectrograms back to audio using original phase\n",
    "    source_audios = [spectrogram_to_audio(S_source, phase, sr) for S_source in source_specs]\n",
    "    \n",
    "    # Save results\n",
    "    file_name = os.path.basename(file_path).replace('.wav', '')\n",
    "    \n",
    "    # Create visualizations directory\n",
    "    vis_dir = os.path.join(output_dir, 'visualizations')\n",
    "    os.makedirs(vis_dir, exist_ok=True)\n",
    "    \n",
    "    # Plot and save spectrograms\n",
    "    plt.figure(figsize=(15, 10))\n",
    "    \n",
    "    plt.subplot(2, 2, 1)\n",
    "    librosa.display.specshow(librosa.amplitude_to_db(S, ref=np.max), \n",
    "                             y_axis='log', x_axis='time', sr=sr)\n",
    "    plt.title('Original Spectrogram')\n",
    "    plt.colorbar(format='%+2.0f dB')\n",
    "    \n",
    "    for i, S_source in enumerate(source_specs):\n",
    "        plt.subplot(2, 2, i+2)\n",
    "        librosa.display.specshow(librosa.amplitude_to_db(S_source, ref=np.max), \n",
    "                                 y_axis='log', x_axis='time', sr=sr)\n",
    "        plt.title(f'Source {i+1} Spectrogram')\n",
    "        plt.colorbar(format='%+2.0f dB')\n",
    "    \n",
    "    plt.tight_layout()\n",
    "    plt.savefig(os.path.join(vis_dir, f\"{file_name}_spectrograms.png\"))\n",
    "    plt.close()\n",
    "    \n",
    "    # Save separated audio files\n",
    "    for i, source_audio in enumerate(source_audios):\n",
    "        output_path = os.path.join(output_dir, f\"{file_name}_source{i+1}.wav\")\n",
    "        \n",
    "        # Normalize audio to avoid clipping\n",
    "        source_audio = source_audio / (np.max(np.abs(source_audio)) + 1e-10)\n",
    "        \n",
    "        # Save as WAV file\n",
    "        sf.write(output_path, source_audio, sr)\n",
    "        print(f\"Saved source {i+1} to {output_path}\")\n",
    "    \n",
    "    return source_audios, sr\n",
    "\n",
    "def main():\n",
    "    \"\"\"Main function to run NMF-based source separation on the dataset.\"\"\"\n",
    "    # Load metadata\n",
    "    df = load_metadata()\n",
    "    \n",
    "    # Create output directory\n",
    "    nmf_output_dir = OUTPUT_DIR\n",
    "    os.makedirs(nmf_output_dir, exist_ok=True)\n",
    "    \n",
    "    # Filter preprocessed files\n",
    "    if 'preprocessed_path' in df.columns and df['preprocessed_path'].notna().any():\n",
    "        processed_files = df[df['preprocessed'] == True]['preprocessed_path'].dropna().tolist()\n",
    "        print(f\"Found {len(processed_files)} preprocessed files.\")\n",
    "    else:\n",
    "        processed_files = df['path'].dropna().tolist()\n",
    "        print(f\"Using {len(processed_files)} original files.\")\n",
    "    \n",
    "    # Limit number of files for testing\n",
    "    max_files = 213\n",
    "    processed_files = processed_files[:max_files]\n",
    "    print(f\"Processing {len(processed_files)} files...\")\n",
    "    \n",
    "    # Process files\n",
    "    results = []\n",
    "    for file_path in tqdm(processed_files):\n",
    "        if os.path.exists(file_path):\n",
    "            try:\n",
    "                source_audios, sr = process_file_with_nmf(file_path, nmf_output_dir)\n",
    "                results.append({\n",
    "                    'file_path': file_path,\n",
    "                    'sources': len(source_audios),\n",
    "                    'sampling_rate': sr,\n",
    "                    'status': 'success'\n",
    "                })\n",
    "            except Exception as e:\n",
    "                print(f\"Error processing {file_path}: {e}\")\n",
    "                results.append({\n",
    "                    'file_path': file_path,\n",
    "                    'status': f'error: {str(e)}'\n",
    "                })\n",
    "        else:\n",
    "            print(f\"File not found: {file_path}\")\n",
    "            results.append({\n",
    "                'file_path': file_path,\n",
    "                'status': 'file not found'\n",
    "            })\n",
    "    \n",
    "    # Save results summary\n",
    "    results_df = pd.DataFrame(results)\n",
    "    results_df.to_csv(os.path.join(nmf_output_dir, 'nmf_results.csv'), index=False)\n",
    "    print(f\"Results saved to {os.path.join(nmf_output_dir, 'nmf_results.csv')}\")\n",
    "    \n",
    "    print(\"NMF source separation completed!\")\n",
    "\n",
    "if __name__ == \"__main__\":\n",
    "    main()"
   ]
  },
  {
   "cell_type": "code",
   "execution_count": null,
   "metadata": {},
   "outputs": [],
   "source": []
  },
  {
   "cell_type": "markdown",
   "metadata": {},
   "source": [
    "## BioCPNN net"
   ]
  },
  {
   "cell_type": "code",
   "execution_count": 4,
   "metadata": {},
   "outputs": [
    {
     "name": "stdout",
     "output_type": "stream",
     "text": [
      "Python environment check:\n",
      "- PyTorch version: 2.6.0\n",
      "- MPS available: True\n",
      "- CUDA available: False\n",
      "\n",
      "Checking directory structure:\n",
      "- /Users/yashsawrikar/Documents/VIT Labs/Semester 8/Senior Design Project/Dataset - Sample/: EXISTS\n",
      "  * Contains 1 files (0 WAV files)\n",
      "- /Users/yashsawrikar/Documents/VIT Labs/Semester 8/Senior Design Project/Dataset - Sample/Sample - bio: EXISTS\n",
      "  * Contains 1 files (0 WAV files)\n",
      "- /Users/yashsawrikar/Documents/VIT Labs/Semester 8/Senior Design Project/Dataset - Sample/Sample - Non Bio: EXISTS\n",
      "  * Contains 1 files (0 WAV files)\n",
      "- /Users/yashsawrikar/Documents/VIT Labs/Semester 8/Senior Design Project/Dataset - Sample/Preprocessed: EXISTS\n",
      "  * Contains 2 files (0 WAV files)\n",
      "- /Users/yashsawrikar/Documents/VIT Labs/Semester 8/Senior Design Project/Dataset - Sample/NMF_Output: EXISTS\n",
      "  * Contains 428 files (426 WAV files)\n",
      "- /Users/yashsawrikar/Documents/VIT Labs/Semester 8/Senior Design Project/Dataset - Sample/BioCPPNet_Output: EXISTS\n",
      "  * Contains 1 files (0 WAV files)\n",
      "\n",
      "Metadata file: 213 entries\n",
      "Columns: filename, path, original_path, is_biological, species_type, preprocessed, features_extracted, preprocessed_path, stft_path, stft_vis_path, mfcc_path, mfcc_vis_path, Unnamed: 12, Unnamed: 13, Unnamed: 14\n",
      "\n",
      "Testing audio loading:\n",
      "No WAV files found in /Users/yashsawrikar/Documents/VIT Labs/Semester 8/Senior Design Project/Dataset - Sample/Sample - bio\n",
      "No WAV files found in /Users/yashsawrikar/Documents/VIT Labs/Semester 8/Senior Design Project/Dataset - Sample/Sample - Non Bio\n",
      "\n",
      "Environment check complete!\n"
     ]
    }
   ],
   "source": [
    "\"\"\"\n",
    "Helper script to fix any issues with running BioCPPNet\n",
    "Copy this code to a new file in the same directory as your main script\n",
    "\"\"\"\n",
    "\n",
    "import os\n",
    "import torch\n",
    "import torch.nn as nn\n",
    "import numpy as np\n",
    "import librosa\n",
    "import soundfile as sf\n",
    "import pandas as pd\n",
    "from tqdm import tqdm\n",
    "\n",
    "# Check environment\n",
    "print(\"Python environment check:\")\n",
    "print(f\"- PyTorch version: {torch.__version__}\")\n",
    "print(f\"- MPS available: {torch.backends.mps.is_available() if hasattr(torch.backends, 'mps') else 'Not supported in this PyTorch version'}\")\n",
    "print(f\"- CUDA available: {torch.cuda.is_available()}\")\n",
    "\n",
    "# Check directory structure\n",
    "base_dir = '/Users/yashsawrikar/Documents/VIT Labs/Semester 8/Senior Design Project/Dataset - Sample'\n",
    "dirs_to_check = [\n",
    "    '',\n",
    "    'Sample - bio', \n",
    "    'Sample - Non Bio',\n",
    "    'Preprocessed',\n",
    "    'NMF_Output',\n",
    "    'BioCPPNet_Output'\n",
    "]\n",
    "\n",
    "print(\"\\nChecking directory structure:\")\n",
    "for d in dirs_to_check:\n",
    "    path = os.path.join(base_dir, d)\n",
    "    exists = os.path.exists(path)\n",
    "    print(f\"- {path}: {'EXISTS' if exists else 'MISSING'}\")\n",
    "    \n",
    "    if exists and os.path.isdir(path):\n",
    "        # Count files\n",
    "        file_count = sum(1 for f in os.listdir(path) if os.path.isfile(os.path.join(path, f)))\n",
    "        wav_count = sum(1 for f in os.listdir(path) if os.path.isfile(os.path.join(path, f)) and f.lower().endswith('.wav'))\n",
    "        print(f\"  * Contains {file_count} files ({wav_count} WAV files)\")\n",
    "\n",
    "# Check metadata file\n",
    "metadata_path = os.path.join(base_dir, 'Preprocessed/audio_metadata.csv')\n",
    "if os.path.exists(metadata_path):\n",
    "    try:\n",
    "        df = pd.read_csv(metadata_path)\n",
    "        print(f\"\\nMetadata file: {len(df)} entries\")\n",
    "        print(f\"Columns: {', '.join(df.columns)}\")\n",
    "    except Exception as e:\n",
    "        print(f\"\\nError reading metadata file: {e}\")\n",
    "else:\n",
    "    print(f\"\\nMetadata file not found: {metadata_path}\")\n",
    "\n",
    "# Simple WAV loader test\n",
    "print(\"\\nTesting audio loading:\")\n",
    "audio_dirs = [\n",
    "    os.path.join(base_dir, 'Sample - bio'),\n",
    "    os.path.join(base_dir, 'Sample - Non Bio')\n",
    "]\n",
    "\n",
    "for audio_dir in audio_dirs:\n",
    "    if os.path.exists(audio_dir) and os.path.isdir(audio_dir):\n",
    "        wav_files = [f for f in os.listdir(audio_dir) if f.lower().endswith('.wav')]\n",
    "        \n",
    "        if wav_files:\n",
    "            sample_file = os.path.join(audio_dir, wav_files[0])\n",
    "            try:\n",
    "                y, sr = librosa.load(sample_file, sr=None)\n",
    "                print(f\"Successfully loaded {sample_file}\")\n",
    "                print(f\"- Duration: {len(y)/sr:.2f} seconds\")\n",
    "                print(f\"- Sample rate: {sr} Hz\")\n",
    "                print(f\"- Shape: {y.shape}\")\n",
    "            except Exception as e:\n",
    "                print(f\"Error loading {sample_file}: {e}\")\n",
    "        else:\n",
    "            print(f\"No WAV files found in {audio_dir}\")\n",
    "\n",
    "print(\"\\nEnvironment check complete!\")"
   ]
  },
  {
   "cell_type": "code",
   "execution_count": 10,
   "metadata": {},
   "outputs": [
    {
     "name": "stdout",
     "output_type": "stream",
     "text": [
      "Reading metadata from: /Users/yashsawrikar/Documents/VIT Labs/Semester 8/Senior Design Project/Dataset - Sample/Preprocessed/audio_metadata.csv\n",
      "Found 213 entries in original metadata\n",
      "Searching for all WAV files in the dataset...\n",
      "Found 210 bio files in Preprocessed/bio\n",
      "Found 502 non-bio files in Preprocessed/non-bio\n",
      "Found 3 additional files in /Users/yashsawrikar/Documents/VIT Labs/Semester 8/Senior Design Project/Dataset - Sample/Sample - Non Bio\n",
      "Found 426 additional files in /Users/yashsawrikar/Documents/VIT Labs/Semester 8/Senior Design Project/Dataset - Sample/NMF_Output\n",
      "After all searches: 633 bio files and 721 non-bio files\n",
      "Saved updated metadata with 1354 entries to: /Users/yashsawrikar/Documents/VIT Labs/Semester 8/Senior Design Project/Dataset - Sample/Preprocessed/updated_audio_metadata.csv\n",
      "Updated metadata contains 633 bio files and 721 non-bio files\n",
      "\n",
      "Example bio files:\n",
      "  /Users/yashsawrikar/Documents/VIT Labs/Semester 8/Senior Design Project/Dataset - Sample/NMF_Output/preprocessed_8303501A_source1.wav\n",
      "  /Users/yashsawrikar/Documents/VIT Labs/Semester 8/Senior Design Project/Dataset - Sample/NMF_Output/preprocessed_6412400R_source2.wav\n",
      "  /Users/yashsawrikar/Documents/VIT Labs/Semester 8/Senior Design Project/Dataset - Sample/NMF_Output/preprocessed_6412400R_source1.wav\n",
      "\n",
      "Example non-bio files:\n",
      "  /Users/yashsawrikar/Documents/VIT Labs/Semester 8/Senior Design Project/Dataset - Sample/NMF_Output/preprocessed_6412400R_source2.wav\n",
      "  /Users/yashsawrikar/Documents/VIT Labs/Semester 8/Senior Design Project/Dataset - Sample/Preprocessed/non-bio/preprocessed_7001200D.wav\n",
      "  /Users/yashsawrikar/Documents/VIT Labs/Semester 8/Senior Design Project/Dataset - Sample/Preprocessed/non-bio/69003001.wav\n"
     ]
    }
   ],
   "source": [
    "\"\"\"\n",
    "Improved script to update audio metadata CSV with better non-bio file detection\n",
    "\"\"\"\n",
    "\n",
    "import os\n",
    "import pandas as pd\n",
    "import librosa\n",
    "from tqdm import tqdm\n",
    "\n",
    "# Paths\n",
    "BASE_DIR = '/Users/yashsawrikar/Documents/VIT Labs/Semester 8/Senior Design Project/Dataset - Sample'\n",
    "METADATA_PATH = os.path.join(BASE_DIR, 'Preprocessed/audio_metadata.csv')\n",
    "OUTPUT_METADATA_PATH = os.path.join(BASE_DIR, 'Preprocessed/updated_audio_metadata.csv')\n",
    "\n",
    "# Additional non-bio directories to search\n",
    "ADDITIONAL_NONBIO_DIRS = [\n",
    "    os.path.join(BASE_DIR, 'Sample - Non Bio'),\n",
    "    os.path.join(BASE_DIR, 'NMF_Output'),\n",
    "]\n",
    "\n",
    "# Function to determine if a file is biological based on its path or name\n",
    "def is_biological(file_path):\n",
    "    # Check if file is in a typical bio directory\n",
    "    if '/bio/' in file_path.lower() or 'sample - bio' in file_path.lower():\n",
    "        return True\n",
    "    \n",
    "    # Keywords that indicate non-biological sources\n",
    "    non_bio_keywords = [\n",
    "        'earthquake', 'hurricane', 'ice', 'submarine', 'ocean-wave', \n",
    "        'lightning', 'hydrothermal', 'volcano', 'storm', 'waves', 'non-bio',\n",
    "        'nonbio', 'non bio'\n",
    "    ]\n",
    "    \n",
    "    # Check for non-bio indicators in the path\n",
    "    for keyword in non_bio_keywords:\n",
    "        if keyword.lower() in file_path.lower():\n",
    "            return False\n",
    "    \n",
    "    # Check specific directories that are known to be non-bio\n",
    "    non_bio_dirs = [\n",
    "        '/non-bio/', \n",
    "        'sample - non bio',\n",
    "        '/preprocessed/non-bio/'\n",
    "    ]\n",
    "    \n",
    "    for dir_path in non_bio_dirs:\n",
    "        if dir_path.lower() in file_path.lower():\n",
    "            return False\n",
    "    \n",
    "    # Default to biological if no non-bio indicators found\n",
    "    # This is arguable, but since most files are bio, it's a reasonable default\n",
    "    return True\n",
    "\n",
    "# Function to find all WAV files in a directory recursively\n",
    "def find_all_wav_files(directory):\n",
    "    wav_files = []\n",
    "    if os.path.exists(directory) and os.path.isdir(directory):\n",
    "        for root, _, files in os.walk(directory):\n",
    "            for file in files:\n",
    "                if file.lower().endswith('.wav'):\n",
    "                    wav_files.append(os.path.join(root, file))\n",
    "    return wav_files\n",
    "\n",
    "def update_metadata():\n",
    "    \"\"\"Update the metadata CSV with correct file paths and classifications\"\"\"\n",
    "    print(f\"Reading metadata from: {METADATA_PATH}\")\n",
    "    \n",
    "    # Start a new DataFrame for the updated metadata\n",
    "    all_files = []\n",
    "    \n",
    "    try:\n",
    "        # Read the metadata CSV if it exists\n",
    "        original_df = pd.read_csv(METADATA_PATH)\n",
    "        print(f\"Found {len(original_df)} entries in original metadata\")\n",
    "    except Exception as e:\n",
    "        print(f\"Error reading original metadata, starting fresh: {e}\")\n",
    "        original_df = pd.DataFrame()\n",
    "    \n",
    "    # Find all WAV files in the dataset\n",
    "    print(\"Searching for all WAV files in the dataset...\")\n",
    "    \n",
    "    # Search the Preprocessed directories\n",
    "    bio_dir = os.path.join(BASE_DIR, 'Preprocessed/bio')\n",
    "    nonbio_dir = os.path.join(BASE_DIR, 'Preprocessed/non-bio')\n",
    "    \n",
    "    # Get all WAV files from the main bio and non-bio directories\n",
    "    all_bio_files = find_all_wav_files(bio_dir)\n",
    "    all_nonbio_files = find_all_wav_files(nonbio_dir)\n",
    "    \n",
    "    print(f\"Found {len(all_bio_files)} bio files in Preprocessed/bio\")\n",
    "    print(f\"Found {len(all_nonbio_files)} non-bio files in Preprocessed/non-bio\")\n",
    "    \n",
    "    # Search additional non-bio directories\n",
    "    for dir_path in ADDITIONAL_NONBIO_DIRS:\n",
    "        additional_files = find_all_wav_files(dir_path)\n",
    "        print(f\"Found {len(additional_files)} additional files in {dir_path}\")\n",
    "        \n",
    "        # Add to appropriate list based on classification\n",
    "        for file_path in additional_files:\n",
    "            if not is_biological(file_path):\n",
    "                all_nonbio_files.append(file_path)\n",
    "            else:\n",
    "                all_bio_files.append(file_path)\n",
    "    \n",
    "    # Additional search for NMF source files (which might be missclassified)\n",
    "    nmf_output_dir = os.path.join(BASE_DIR, 'NMF_Output')\n",
    "    if os.path.exists(nmf_output_dir):\n",
    "        nmf_files = find_all_wav_files(nmf_output_dir)\n",
    "        for file_path in nmf_files:\n",
    "            # Classify source1 as bio and source2 as non-bio\n",
    "            if 'source1' in file_path.lower():\n",
    "                all_bio_files.append(file_path)\n",
    "            elif 'source2' in file_path.lower():\n",
    "                all_nonbio_files.append(file_path)\n",
    "    \n",
    "    # Remove duplicates\n",
    "    all_bio_files = list(set(all_bio_files))\n",
    "    all_nonbio_files = list(set(all_nonbio_files))\n",
    "    \n",
    "    print(f\"After all searches: {len(all_bio_files)} bio files and {len(all_nonbio_files)} non-bio files\")\n",
    "    \n",
    "    # Create entries for all files\n",
    "    for file_path in all_bio_files:\n",
    "        filename = os.path.basename(file_path)\n",
    "        all_files.append({\n",
    "            'filename': filename,\n",
    "            'path': file_path,\n",
    "            'is_biological': True,\n",
    "            'updated_path': file_path,\n",
    "            'updated_preprocessed_path': file_path if 'preprocessed' in file_path.lower() else None,\n",
    "            'updated_is_biological': True\n",
    "        })\n",
    "    \n",
    "    for file_path in all_nonbio_files:\n",
    "        filename = os.path.basename(file_path)\n",
    "        all_files.append({\n",
    "            'filename': filename,\n",
    "            'path': file_path,\n",
    "            'is_biological': False,\n",
    "            'updated_path': file_path,\n",
    "            'updated_preprocessed_path': file_path if 'preprocessed' in file_path.lower() else None,\n",
    "            'updated_is_biological': False\n",
    "        })\n",
    "    \n",
    "    # Create the updated DataFrame\n",
    "    updated_df = pd.DataFrame(all_files)\n",
    "    \n",
    "    # Keep any columns from the original DataFrame that are not in the updated one\n",
    "    if not original_df.empty:\n",
    "        # Get columns from original that aren't in updated\n",
    "        original_cols = set(original_df.columns) - set(updated_df.columns)\n",
    "        \n",
    "        # For each original file, try to find the matching updated file\n",
    "        for _, orig_row in original_df.iterrows():\n",
    "            if 'filename' in orig_row and orig_row['filename'] in updated_df['filename'].values:\n",
    "                # Find the corresponding row in updated_df\n",
    "                updated_idx = updated_df[updated_df['filename'] == orig_row['filename']].index[0]\n",
    "                \n",
    "                # Copy over any additional columns\n",
    "                for col in original_cols:\n",
    "                    if col in orig_row:\n",
    "                        updated_df.loc[updated_idx, col] = orig_row[col]\n",
    "    \n",
    "    # Save the updated metadata\n",
    "    updated_df.to_csv(OUTPUT_METADATA_PATH, index=False)\n",
    "    print(f\"Saved updated metadata with {len(updated_df)} entries to: {OUTPUT_METADATA_PATH}\")\n",
    "    \n",
    "    # Print some statistics\n",
    "    bio_count = updated_df[updated_df['updated_is_biological'] == True].shape[0]\n",
    "    nonbio_count = updated_df[updated_df['updated_is_biological'] == False].shape[0]\n",
    "    print(f\"Updated metadata contains {bio_count} bio files and {nonbio_count} non-bio files\")\n",
    "    \n",
    "    # Print some examples\n",
    "    print(\"\\nExample bio files:\")\n",
    "    for path in updated_df[updated_df['updated_is_biological'] == True]['updated_path'].head(3):\n",
    "        print(f\"  {path}\")\n",
    "    \n",
    "    print(\"\\nExample non-bio files:\")\n",
    "    for path in updated_df[updated_df['updated_is_biological'] == False]['updated_path'].head(3):\n",
    "        print(f\"  {path}\")\n",
    "    \n",
    "    return updated_df\n",
    "\n",
    "if __name__ == \"__main__\":\n",
    "    update_metadata()"
   ]
  },
  {
   "cell_type": "code",
   "execution_count": 13,
   "metadata": {},
   "outputs": [
    {
     "name": "stdout",
     "output_type": "stream",
     "text": [
      "Using device: cpu\n",
      "Using MPS acceleration on M1 Mac: mps\n",
      "Base directory: /Users/yashsawrikar/Documents/VIT Labs/Semester 8/Senior Design Project/Dataset - Sample\n",
      "Bio directory: /Users/yashsawrikar/Documents/VIT Labs/Semester 8/Senior Design Project/Dataset - Sample/Sample - bio\n",
      "Non-bio directory: /Users/yashsawrikar/Documents/VIT Labs/Semester 8/Senior Design Project/Dataset - Sample/Sample - Non Bio\n",
      "Creating dataset from directory structure...\n",
      "Scanning bio directory: /Users/yashsawrikar/Documents/VIT Labs/Semester 8/Senior Design Project/Dataset - Sample/Sample - bio\n",
      "Found 210 bio audio files\n",
      "Scanning non-bio directory: /Users/yashsawrikar/Documents/VIT Labs/Semester 8/Senior Design Project/Dataset - Sample/Sample - Non Bio\n",
      "Found 44 non-bio audio files\n",
      "\n",
      "Example bio file paths:\n",
      "  /Users/yashsawrikar/Documents/VIT Labs/Semester 8/Senior Design Project/Dataset - Sample/Sample - bio/False Killer Whale ( Pseudorca crassidens )/6102101A.wav\n",
      "  /Users/yashsawrikar/Documents/VIT Labs/Semester 8/Senior Design Project/Dataset - Sample/Sample - bio/False Killer Whale ( Pseudorca crassidens )/6102101P.wav\n",
      "  /Users/yashsawrikar/Documents/VIT Labs/Semester 8/Senior Design Project/Dataset - Sample/Sample - bio/False Killer Whale ( Pseudorca crassidens )/6102104K.wav\n",
      "\n",
      "Example non-bio file paths:\n",
      "  /Users/yashsawrikar/Documents/VIT Labs/Semester 8/Senior Design Project/Dataset - Sample/Sample - Non Bio/Iceberg-collisions.wav\n",
      "  /Users/yashsawrikar/Documents/VIT Labs/Semester 8/Senior Design Project/Dataset - Sample/Sample - Non Bio/ocean-storm-big-waves-wind-ivo-vicic-1-01-40.wav\n",
      "  /Users/yashsawrikar/Documents/VIT Labs/Semester 8/Senior Design Project/Dataset - Sample/Sample - Non Bio/ocean-wave-100271.wav\n",
      "Model initialized on mps\n"
     ]
    },
    {
     "name": "stderr",
     "output_type": "stream",
     "text": [
      "Epoch 1/100: 100%|██████████| 22/22 [26:31<00:00, 72.35s/it, loss=0.0618] \n"
     ]
    },
    {
     "name": "stdout",
     "output_type": "stream",
     "text": [
      "Epoch 1/100, Train Loss: 0.0618, Valid Loss: 0.0442\n",
      "Model saved with loss 0.0442\n"
     ]
    },
    {
     "name": "stderr",
     "output_type": "stream",
     "text": [
      "Epoch 2/100: 100%|██████████| 22/22 [31:32<00:00, 86.02s/it, loss=0.0199] \n"
     ]
    },
    {
     "name": "stdout",
     "output_type": "stream",
     "text": [
      "Epoch 2/100, Train Loss: 0.0199, Valid Loss: 0.0230\n",
      "Model saved with loss 0.0230\n"
     ]
    },
    {
     "name": "stderr",
     "output_type": "stream",
     "text": [
      "Epoch 3/100: 100%|██████████| 22/22 [39:49<00:00, 108.63s/it, loss=0.0162] \n"
     ]
    },
    {
     "name": "stdout",
     "output_type": "stream",
     "text": [
      "Epoch 3/100, Train Loss: 0.0162, Valid Loss: 0.0166\n",
      "Model saved with loss 0.0166\n"
     ]
    },
    {
     "name": "stderr",
     "output_type": "stream",
     "text": [
      "Epoch 4/100: 100%|██████████| 22/22 [35:45<00:00, 97.53s/it, loss=0.0143]  \n"
     ]
    },
    {
     "name": "stdout",
     "output_type": "stream",
     "text": [
      "Epoch 4/100, Train Loss: 0.0143, Valid Loss: 0.0158\n",
      "Model saved with loss 0.0158\n"
     ]
    },
    {
     "name": "stderr",
     "output_type": "stream",
     "text": [
      "Epoch 5/100: 100%|██████████| 22/22 [20:40<00:00, 56.39s/it, loss=0.0147]\n"
     ]
    },
    {
     "name": "stdout",
     "output_type": "stream",
     "text": [
      "Epoch 5/100, Train Loss: 0.0147, Valid Loss: 0.0147\n",
      "Model saved with loss 0.0147\n"
     ]
    },
    {
     "name": "stderr",
     "output_type": "stream",
     "text": [
      "Epoch 6/100: 100%|██████████| 22/22 [18:28<00:00, 50.41s/it, loss=0.0144]\n"
     ]
    },
    {
     "name": "stdout",
     "output_type": "stream",
     "text": [
      "Epoch 6/100, Train Loss: 0.0144, Valid Loss: 0.0152\n"
     ]
    },
    {
     "name": "stderr",
     "output_type": "stream",
     "text": [
      "Epoch 7/100: 100%|██████████| 22/22 [18:21<00:00, 50.09s/it, loss=0.0142]\n"
     ]
    },
    {
     "name": "stdout",
     "output_type": "stream",
     "text": [
      "Epoch 7/100, Train Loss: 0.0142, Valid Loss: 0.0122\n",
      "Model saved with loss 0.0122\n"
     ]
    },
    {
     "name": "stderr",
     "output_type": "stream",
     "text": [
      "Epoch 8/100: 100%|██████████| 22/22 [18:46<00:00, 51.22s/it, loss=0.0137]\n"
     ]
    },
    {
     "name": "stdout",
     "output_type": "stream",
     "text": [
      "Epoch 8/100, Train Loss: 0.0137, Valid Loss: 0.0139\n"
     ]
    },
    {
     "name": "stderr",
     "output_type": "stream",
     "text": [
      "Epoch 9/100: 100%|██████████| 22/22 [18:24<00:00, 50.21s/it, loss=0.0135]\n"
     ]
    },
    {
     "name": "stdout",
     "output_type": "stream",
     "text": [
      "Epoch 9/100, Train Loss: 0.0135, Valid Loss: 0.0152\n"
     ]
    },
    {
     "name": "stderr",
     "output_type": "stream",
     "text": [
      "Epoch 10/100: 100%|██████████| 22/22 [20:09<00:00, 54.97s/it, loss=0.0149]\n"
     ]
    },
    {
     "name": "stdout",
     "output_type": "stream",
     "text": [
      "Epoch 10/100, Train Loss: 0.0149, Valid Loss: 0.0153\n"
     ]
    },
    {
     "name": "stderr",
     "output_type": "stream",
     "text": [
      "Epoch 11/100: 100%|██████████| 22/22 [18:55<00:00, 51.61s/it, loss=0.0151]\n"
     ]
    },
    {
     "name": "stdout",
     "output_type": "stream",
     "text": [
      "Epoch 11/100, Train Loss: 0.0151, Valid Loss: 0.0137\n"
     ]
    },
    {
     "name": "stderr",
     "output_type": "stream",
     "text": [
      "Epoch 12/100: 100%|██████████| 22/22 [20:09<00:00, 54.97s/it, loss=0.0148]\n"
     ]
    },
    {
     "name": "stdout",
     "output_type": "stream",
     "text": [
      "Epoch 12/100, Train Loss: 0.0148, Valid Loss: 0.0140\n"
     ]
    },
    {
     "name": "stderr",
     "output_type": "stream",
     "text": [
      "Epoch 13/100: 100%|██████████| 22/22 [20:29<00:00, 55.88s/it, loss=0.0132]\n"
     ]
    },
    {
     "name": "stdout",
     "output_type": "stream",
     "text": [
      "Epoch 13/100, Train Loss: 0.0132, Valid Loss: 0.0142\n"
     ]
    },
    {
     "name": "stderr",
     "output_type": "stream",
     "text": [
      "Epoch 14/100: 100%|██████████| 22/22 [37:29<00:00, 102.23s/it, loss=0.0145] \n"
     ]
    },
    {
     "name": "stdout",
     "output_type": "stream",
     "text": [
      "Epoch 14/100, Train Loss: 0.0145, Valid Loss: 0.0146\n"
     ]
    },
    {
     "name": "stderr",
     "output_type": "stream",
     "text": [
      "Epoch 15/100: 100%|██████████| 22/22 [35:02<00:00, 95.55s/it, loss=0.0128]  \n"
     ]
    },
    {
     "name": "stdout",
     "output_type": "stream",
     "text": [
      "Epoch 15/100, Train Loss: 0.0128, Valid Loss: 0.0129\n"
     ]
    },
    {
     "name": "stderr",
     "output_type": "stream",
     "text": [
      "Epoch 16/100: 100%|██████████| 22/22 [43:47<00:00, 119.43s/it, loss=0.0125] \n"
     ]
    },
    {
     "name": "stdout",
     "output_type": "stream",
     "text": [
      "Epoch 16/100, Train Loss: 0.0125, Valid Loss: 0.0132\n"
     ]
    },
    {
     "name": "stderr",
     "output_type": "stream",
     "text": [
      "Epoch 17/100: 100%|██████████| 22/22 [36:30<00:00, 99.56s/it, loss=0.0139] \n"
     ]
    },
    {
     "name": "stdout",
     "output_type": "stream",
     "text": [
      "Epoch 17/100, Train Loss: 0.0139, Valid Loss: 0.0119\n",
      "Model saved with loss 0.0119\n"
     ]
    },
    {
     "name": "stderr",
     "output_type": "stream",
     "text": [
      "Epoch 18/100: 100%|██████████| 22/22 [3:19:44<00:00, 544.77s/it, loss=0.0141]  \n"
     ]
    },
    {
     "name": "stdout",
     "output_type": "stream",
     "text": [
      "Epoch 18/100, Train Loss: 0.0141, Valid Loss: 0.0154\n"
     ]
    },
    {
     "name": "stderr",
     "output_type": "stream",
     "text": [
      "Epoch 19/100:  18%|█▊        | 4/22 [34:02<2:33:12, 510.68s/it, loss=0.0141]\n"
     ]
    },
    {
     "ename": "KeyboardInterrupt",
     "evalue": "",
     "output_type": "error",
     "traceback": [
      "\u001b[0;31m---------------------------------------------------------------------------\u001b[0m",
      "\u001b[0;31mKeyboardInterrupt\u001b[0m                         Traceback (most recent call last)",
      "Cell \u001b[0;32mIn[13], line 624\u001b[0m\n\u001b[1;32m    621\u001b[0m     \u001b[38;5;28mprint\u001b[39m(\u001b[38;5;124m\"\u001b[39m\u001b[38;5;124mBioCPPNet processing completed!\u001b[39m\u001b[38;5;124m\"\u001b[39m)\n\u001b[1;32m    623\u001b[0m \u001b[38;5;28;01mif\u001b[39;00m \u001b[38;5;18m__name__\u001b[39m \u001b[38;5;241m==\u001b[39m \u001b[38;5;124m\"\u001b[39m\u001b[38;5;124m__main__\u001b[39m\u001b[38;5;124m\"\u001b[39m:\n\u001b[0;32m--> 624\u001b[0m     main()\n",
      "Cell \u001b[0;32mIn[13], line 569\u001b[0m, in \u001b[0;36mmain\u001b[0;34m()\u001b[0m\n\u001b[1;32m    566\u001b[0m \u001b[38;5;28mprint\u001b[39m(\u001b[38;5;124mf\u001b[39m\u001b[38;5;124m\"\u001b[39m\u001b[38;5;124mModel initialized on \u001b[39m\u001b[38;5;132;01m{\u001b[39;00mdevice\u001b[38;5;132;01m}\u001b[39;00m\u001b[38;5;124m\"\u001b[39m)\n\u001b[1;32m    568\u001b[0m \u001b[38;5;66;03m# Train model\u001b[39;00m\n\u001b[0;32m--> 569\u001b[0m model \u001b[38;5;241m=\u001b[39m train_model(model, train_loader, valid_loader)\n\u001b[1;32m    571\u001b[0m \u001b[38;5;66;03m# Evaluate model\u001b[39;00m\n\u001b[1;32m    572\u001b[0m si_sdr \u001b[38;5;241m=\u001b[39m evaluate_model(model, test_loader)\n",
      "Cell \u001b[0;32mIn[13], line 319\u001b[0m, in \u001b[0;36mtrain_model\u001b[0;34m(model, train_loader, valid_loader, num_epochs, lr)\u001b[0m\n\u001b[1;32m    317\u001b[0m \u001b[38;5;66;03m# Forward pass\u001b[39;00m\n\u001b[1;32m    318\u001b[0m optimizer\u001b[38;5;241m.\u001b[39mzero_grad()\n\u001b[0;32m--> 319\u001b[0m outputs \u001b[38;5;241m=\u001b[39m model(mixtures)\n\u001b[1;32m    321\u001b[0m \u001b[38;5;66;03m# Adjust dimensions to match sources shape\u001b[39;00m\n\u001b[1;32m    322\u001b[0m \u001b[38;5;28;01mif\u001b[39;00m outputs\u001b[38;5;241m.\u001b[39mshape[\u001b[38;5;241m-\u001b[39m\u001b[38;5;241m1\u001b[39m] \u001b[38;5;241m!=\u001b[39m sources\u001b[38;5;241m.\u001b[39mshape[\u001b[38;5;241m-\u001b[39m\u001b[38;5;241m1\u001b[39m]:\n",
      "File \u001b[0;32m/opt/anaconda3/lib/python3.12/site-packages/torch/nn/modules/module.py:1739\u001b[0m, in \u001b[0;36mModule._wrapped_call_impl\u001b[0;34m(self, *args, **kwargs)\u001b[0m\n\u001b[1;32m   1737\u001b[0m     \u001b[38;5;28;01mreturn\u001b[39;00m \u001b[38;5;28mself\u001b[39m\u001b[38;5;241m.\u001b[39m_compiled_call_impl(\u001b[38;5;241m*\u001b[39margs, \u001b[38;5;241m*\u001b[39m\u001b[38;5;241m*\u001b[39mkwargs)  \u001b[38;5;66;03m# type: ignore[misc]\u001b[39;00m\n\u001b[1;32m   1738\u001b[0m \u001b[38;5;28;01melse\u001b[39;00m:\n\u001b[0;32m-> 1739\u001b[0m     \u001b[38;5;28;01mreturn\u001b[39;00m \u001b[38;5;28mself\u001b[39m\u001b[38;5;241m.\u001b[39m_call_impl(\u001b[38;5;241m*\u001b[39margs, \u001b[38;5;241m*\u001b[39m\u001b[38;5;241m*\u001b[39mkwargs)\n",
      "File \u001b[0;32m/opt/anaconda3/lib/python3.12/site-packages/torch/nn/modules/module.py:1750\u001b[0m, in \u001b[0;36mModule._call_impl\u001b[0;34m(self, *args, **kwargs)\u001b[0m\n\u001b[1;32m   1745\u001b[0m \u001b[38;5;66;03m# If we don't have any hooks, we want to skip the rest of the logic in\u001b[39;00m\n\u001b[1;32m   1746\u001b[0m \u001b[38;5;66;03m# this function, and just call forward.\u001b[39;00m\n\u001b[1;32m   1747\u001b[0m \u001b[38;5;28;01mif\u001b[39;00m \u001b[38;5;129;01mnot\u001b[39;00m (\u001b[38;5;28mself\u001b[39m\u001b[38;5;241m.\u001b[39m_backward_hooks \u001b[38;5;129;01mor\u001b[39;00m \u001b[38;5;28mself\u001b[39m\u001b[38;5;241m.\u001b[39m_backward_pre_hooks \u001b[38;5;129;01mor\u001b[39;00m \u001b[38;5;28mself\u001b[39m\u001b[38;5;241m.\u001b[39m_forward_hooks \u001b[38;5;129;01mor\u001b[39;00m \u001b[38;5;28mself\u001b[39m\u001b[38;5;241m.\u001b[39m_forward_pre_hooks\n\u001b[1;32m   1748\u001b[0m         \u001b[38;5;129;01mor\u001b[39;00m _global_backward_pre_hooks \u001b[38;5;129;01mor\u001b[39;00m _global_backward_hooks\n\u001b[1;32m   1749\u001b[0m         \u001b[38;5;129;01mor\u001b[39;00m _global_forward_hooks \u001b[38;5;129;01mor\u001b[39;00m _global_forward_pre_hooks):\n\u001b[0;32m-> 1750\u001b[0m     \u001b[38;5;28;01mreturn\u001b[39;00m forward_call(\u001b[38;5;241m*\u001b[39margs, \u001b[38;5;241m*\u001b[39m\u001b[38;5;241m*\u001b[39mkwargs)\n\u001b[1;32m   1752\u001b[0m result \u001b[38;5;241m=\u001b[39m \u001b[38;5;28;01mNone\u001b[39;00m\n\u001b[1;32m   1753\u001b[0m called_always_called_hooks \u001b[38;5;241m=\u001b[39m \u001b[38;5;28mset\u001b[39m()\n",
      "Cell \u001b[0;32mIn[13], line 113\u001b[0m, in \u001b[0;36mBioCPPNet.forward\u001b[0;34m(self, x)\u001b[0m\n\u001b[1;32m    111\u001b[0m x \u001b[38;5;241m=\u001b[39m \u001b[38;5;28mself\u001b[39m\u001b[38;5;241m.\u001b[39mup3(x, skip3)\n\u001b[1;32m    112\u001b[0m x \u001b[38;5;241m=\u001b[39m \u001b[38;5;28mself\u001b[39m\u001b[38;5;241m.\u001b[39mup4(x, skip2)\n\u001b[0;32m--> 113\u001b[0m x \u001b[38;5;241m=\u001b[39m \u001b[38;5;28mself\u001b[39m\u001b[38;5;241m.\u001b[39mup5(x, skip1)\n\u001b[1;32m    115\u001b[0m \u001b[38;5;66;03m# Output layer\u001b[39;00m\n\u001b[1;32m    116\u001b[0m x \u001b[38;5;241m=\u001b[39m \u001b[38;5;28mself\u001b[39m\u001b[38;5;241m.\u001b[39mout_conv(x)\n",
      "File \u001b[0;32m/opt/anaconda3/lib/python3.12/site-packages/torch/nn/modules/module.py:1739\u001b[0m, in \u001b[0;36mModule._wrapped_call_impl\u001b[0;34m(self, *args, **kwargs)\u001b[0m\n\u001b[1;32m   1737\u001b[0m     \u001b[38;5;28;01mreturn\u001b[39;00m \u001b[38;5;28mself\u001b[39m\u001b[38;5;241m.\u001b[39m_compiled_call_impl(\u001b[38;5;241m*\u001b[39margs, \u001b[38;5;241m*\u001b[39m\u001b[38;5;241m*\u001b[39mkwargs)  \u001b[38;5;66;03m# type: ignore[misc]\u001b[39;00m\n\u001b[1;32m   1738\u001b[0m \u001b[38;5;28;01melse\u001b[39;00m:\n\u001b[0;32m-> 1739\u001b[0m     \u001b[38;5;28;01mreturn\u001b[39;00m \u001b[38;5;28mself\u001b[39m\u001b[38;5;241m.\u001b[39m_call_impl(\u001b[38;5;241m*\u001b[39margs, \u001b[38;5;241m*\u001b[39m\u001b[38;5;241m*\u001b[39mkwargs)\n",
      "File \u001b[0;32m/opt/anaconda3/lib/python3.12/site-packages/torch/nn/modules/module.py:1750\u001b[0m, in \u001b[0;36mModule._call_impl\u001b[0;34m(self, *args, **kwargs)\u001b[0m\n\u001b[1;32m   1745\u001b[0m \u001b[38;5;66;03m# If we don't have any hooks, we want to skip the rest of the logic in\u001b[39;00m\n\u001b[1;32m   1746\u001b[0m \u001b[38;5;66;03m# this function, and just call forward.\u001b[39;00m\n\u001b[1;32m   1747\u001b[0m \u001b[38;5;28;01mif\u001b[39;00m \u001b[38;5;129;01mnot\u001b[39;00m (\u001b[38;5;28mself\u001b[39m\u001b[38;5;241m.\u001b[39m_backward_hooks \u001b[38;5;129;01mor\u001b[39;00m \u001b[38;5;28mself\u001b[39m\u001b[38;5;241m.\u001b[39m_backward_pre_hooks \u001b[38;5;129;01mor\u001b[39;00m \u001b[38;5;28mself\u001b[39m\u001b[38;5;241m.\u001b[39m_forward_hooks \u001b[38;5;129;01mor\u001b[39;00m \u001b[38;5;28mself\u001b[39m\u001b[38;5;241m.\u001b[39m_forward_pre_hooks\n\u001b[1;32m   1748\u001b[0m         \u001b[38;5;129;01mor\u001b[39;00m _global_backward_pre_hooks \u001b[38;5;129;01mor\u001b[39;00m _global_backward_hooks\n\u001b[1;32m   1749\u001b[0m         \u001b[38;5;129;01mor\u001b[39;00m _global_forward_hooks \u001b[38;5;129;01mor\u001b[39;00m _global_forward_pre_hooks):\n\u001b[0;32m-> 1750\u001b[0m     \u001b[38;5;28;01mreturn\u001b[39;00m forward_call(\u001b[38;5;241m*\u001b[39margs, \u001b[38;5;241m*\u001b[39m\u001b[38;5;241m*\u001b[39mkwargs)\n\u001b[1;32m   1752\u001b[0m result \u001b[38;5;241m=\u001b[39m \u001b[38;5;28;01mNone\u001b[39;00m\n\u001b[1;32m   1753\u001b[0m called_always_called_hooks \u001b[38;5;241m=\u001b[39m \u001b[38;5;28mset\u001b[39m()\n",
      "Cell \u001b[0;32mIn[13], line 57\u001b[0m, in \u001b[0;36mUpsampleBlock.forward\u001b[0;34m(self, x, skip)\u001b[0m\n\u001b[1;32m     56\u001b[0m \u001b[38;5;28;01mdef\u001b[39;00m \u001b[38;5;21mforward\u001b[39m(\u001b[38;5;28mself\u001b[39m, x, skip):\n\u001b[0;32m---> 57\u001b[0m     x \u001b[38;5;241m=\u001b[39m \u001b[38;5;28mself\u001b[39m\u001b[38;5;241m.\u001b[39mupsample(x)\n\u001b[1;32m     58\u001b[0m     \u001b[38;5;66;03m# Ensure x and skip have the same length\u001b[39;00m\n\u001b[1;32m     59\u001b[0m     \u001b[38;5;28;01mif\u001b[39;00m x\u001b[38;5;241m.\u001b[39msize(\u001b[38;5;241m-\u001b[39m\u001b[38;5;241m1\u001b[39m) \u001b[38;5;241m!=\u001b[39m skip\u001b[38;5;241m.\u001b[39msize(\u001b[38;5;241m-\u001b[39m\u001b[38;5;241m1\u001b[39m):\n",
      "File \u001b[0;32m/opt/anaconda3/lib/python3.12/site-packages/torch/nn/modules/module.py:1739\u001b[0m, in \u001b[0;36mModule._wrapped_call_impl\u001b[0;34m(self, *args, **kwargs)\u001b[0m\n\u001b[1;32m   1737\u001b[0m     \u001b[38;5;28;01mreturn\u001b[39;00m \u001b[38;5;28mself\u001b[39m\u001b[38;5;241m.\u001b[39m_compiled_call_impl(\u001b[38;5;241m*\u001b[39margs, \u001b[38;5;241m*\u001b[39m\u001b[38;5;241m*\u001b[39mkwargs)  \u001b[38;5;66;03m# type: ignore[misc]\u001b[39;00m\n\u001b[1;32m   1738\u001b[0m \u001b[38;5;28;01melse\u001b[39;00m:\n\u001b[0;32m-> 1739\u001b[0m     \u001b[38;5;28;01mreturn\u001b[39;00m \u001b[38;5;28mself\u001b[39m\u001b[38;5;241m.\u001b[39m_call_impl(\u001b[38;5;241m*\u001b[39margs, \u001b[38;5;241m*\u001b[39m\u001b[38;5;241m*\u001b[39mkwargs)\n",
      "File \u001b[0;32m/opt/anaconda3/lib/python3.12/site-packages/torch/nn/modules/module.py:1750\u001b[0m, in \u001b[0;36mModule._call_impl\u001b[0;34m(self, *args, **kwargs)\u001b[0m\n\u001b[1;32m   1745\u001b[0m \u001b[38;5;66;03m# If we don't have any hooks, we want to skip the rest of the logic in\u001b[39;00m\n\u001b[1;32m   1746\u001b[0m \u001b[38;5;66;03m# this function, and just call forward.\u001b[39;00m\n\u001b[1;32m   1747\u001b[0m \u001b[38;5;28;01mif\u001b[39;00m \u001b[38;5;129;01mnot\u001b[39;00m (\u001b[38;5;28mself\u001b[39m\u001b[38;5;241m.\u001b[39m_backward_hooks \u001b[38;5;129;01mor\u001b[39;00m \u001b[38;5;28mself\u001b[39m\u001b[38;5;241m.\u001b[39m_backward_pre_hooks \u001b[38;5;129;01mor\u001b[39;00m \u001b[38;5;28mself\u001b[39m\u001b[38;5;241m.\u001b[39m_forward_hooks \u001b[38;5;129;01mor\u001b[39;00m \u001b[38;5;28mself\u001b[39m\u001b[38;5;241m.\u001b[39m_forward_pre_hooks\n\u001b[1;32m   1748\u001b[0m         \u001b[38;5;129;01mor\u001b[39;00m _global_backward_pre_hooks \u001b[38;5;129;01mor\u001b[39;00m _global_backward_hooks\n\u001b[1;32m   1749\u001b[0m         \u001b[38;5;129;01mor\u001b[39;00m _global_forward_hooks \u001b[38;5;129;01mor\u001b[39;00m _global_forward_pre_hooks):\n\u001b[0;32m-> 1750\u001b[0m     \u001b[38;5;28;01mreturn\u001b[39;00m forward_call(\u001b[38;5;241m*\u001b[39margs, \u001b[38;5;241m*\u001b[39m\u001b[38;5;241m*\u001b[39mkwargs)\n\u001b[1;32m   1752\u001b[0m result \u001b[38;5;241m=\u001b[39m \u001b[38;5;28;01mNone\u001b[39;00m\n\u001b[1;32m   1753\u001b[0m called_always_called_hooks \u001b[38;5;241m=\u001b[39m \u001b[38;5;28mset\u001b[39m()\n",
      "File \u001b[0;32m/opt/anaconda3/lib/python3.12/site-packages/torch/nn/modules/upsampling.py:172\u001b[0m, in \u001b[0;36mUpsample.forward\u001b[0;34m(self, input)\u001b[0m\n\u001b[1;32m    171\u001b[0m \u001b[38;5;28;01mdef\u001b[39;00m \u001b[38;5;21mforward\u001b[39m(\u001b[38;5;28mself\u001b[39m, \u001b[38;5;28minput\u001b[39m: Tensor) \u001b[38;5;241m-\u001b[39m\u001b[38;5;241m>\u001b[39m Tensor:\n\u001b[0;32m--> 172\u001b[0m     \u001b[38;5;28;01mreturn\u001b[39;00m F\u001b[38;5;241m.\u001b[39minterpolate(\n\u001b[1;32m    173\u001b[0m         \u001b[38;5;28minput\u001b[39m,\n\u001b[1;32m    174\u001b[0m         \u001b[38;5;28mself\u001b[39m\u001b[38;5;241m.\u001b[39msize,\n\u001b[1;32m    175\u001b[0m         \u001b[38;5;28mself\u001b[39m\u001b[38;5;241m.\u001b[39mscale_factor,\n\u001b[1;32m    176\u001b[0m         \u001b[38;5;28mself\u001b[39m\u001b[38;5;241m.\u001b[39mmode,\n\u001b[1;32m    177\u001b[0m         \u001b[38;5;28mself\u001b[39m\u001b[38;5;241m.\u001b[39malign_corners,\n\u001b[1;32m    178\u001b[0m         recompute_scale_factor\u001b[38;5;241m=\u001b[39m\u001b[38;5;28mself\u001b[39m\u001b[38;5;241m.\u001b[39mrecompute_scale_factor,\n\u001b[1;32m    179\u001b[0m     )\n",
      "File \u001b[0;32m/opt/anaconda3/lib/python3.12/site-packages/torch/nn/functional.py:4647\u001b[0m, in \u001b[0;36minterpolate\u001b[0;34m(input, size, scale_factor, mode, align_corners, recompute_scale_factor, antialias)\u001b[0m\n\u001b[1;32m   4642\u001b[0m     \u001b[38;5;28;01mraise\u001b[39;00m \u001b[38;5;167;01mValueError\u001b[39;00m(\n\u001b[1;32m   4643\u001b[0m         \u001b[38;5;124m\"\u001b[39m\u001b[38;5;124mAnti-alias option is restricted to bilinear and bicubic modes and requires a 4-D tensor as input\u001b[39m\u001b[38;5;124m\"\u001b[39m\n\u001b[1;32m   4644\u001b[0m     )\n\u001b[1;32m   4646\u001b[0m \u001b[38;5;28;01mif\u001b[39;00m \u001b[38;5;28minput\u001b[39m\u001b[38;5;241m.\u001b[39mdim() \u001b[38;5;241m==\u001b[39m \u001b[38;5;241m3\u001b[39m \u001b[38;5;129;01mand\u001b[39;00m mode \u001b[38;5;241m==\u001b[39m \u001b[38;5;124m\"\u001b[39m\u001b[38;5;124mnearest\u001b[39m\u001b[38;5;124m\"\u001b[39m:\n\u001b[0;32m-> 4647\u001b[0m     \u001b[38;5;28;01mreturn\u001b[39;00m torch\u001b[38;5;241m.\u001b[39m_C\u001b[38;5;241m.\u001b[39m_nn\u001b[38;5;241m.\u001b[39mupsample_nearest1d(\u001b[38;5;28minput\u001b[39m, output_size, scale_factors)\n\u001b[1;32m   4648\u001b[0m \u001b[38;5;28;01mif\u001b[39;00m \u001b[38;5;28minput\u001b[39m\u001b[38;5;241m.\u001b[39mdim() \u001b[38;5;241m==\u001b[39m \u001b[38;5;241m4\u001b[39m \u001b[38;5;129;01mand\u001b[39;00m mode \u001b[38;5;241m==\u001b[39m \u001b[38;5;124m\"\u001b[39m\u001b[38;5;124mnearest\u001b[39m\u001b[38;5;124m\"\u001b[39m:\n\u001b[1;32m   4649\u001b[0m     \u001b[38;5;28;01mreturn\u001b[39;00m torch\u001b[38;5;241m.\u001b[39m_C\u001b[38;5;241m.\u001b[39m_nn\u001b[38;5;241m.\u001b[39mupsample_nearest2d(\u001b[38;5;28minput\u001b[39m, output_size, scale_factors)\n",
      "\u001b[0;31mKeyboardInterrupt\u001b[0m: "
     ]
    }
   ],
   "source": [
    "\"\"\"\n",
    "Modified BioCPPNet implementation that uses directory structure instead of CSV\n",
    "\"\"\"\n",
    "\n",
    "import os\n",
    "import numpy as np\n",
    "import librosa\n",
    "import torch\n",
    "import torch.nn as nn\n",
    "import torch.nn.functional as F\n",
    "import torch.optim as optim\n",
    "import soundfile as sf\n",
    "from torch.utils.data import Dataset, DataLoader\n",
    "from tqdm import tqdm\n",
    "from itertools import permutations\n",
    "\n",
    "# Check if GPU is available\n",
    "device = torch.device(\"cuda\" if torch.cuda.is_available() else \"cpu\")\n",
    "print(f\"Using device: {device}\")\n",
    "\n",
    "# For M1 Mac, use MPS if available\n",
    "if hasattr(torch.backends, 'mps') and torch.backends.mps.is_available():\n",
    "    device = torch.device(\"mps\")\n",
    "    print(f\"Using MPS acceleration on M1 Mac: {device}\")\n",
    "\n",
    "# Constants\n",
    "SAMPLE_RATE = 48000  # Based on preprocessing documentation\n",
    "SEQUENCE_LENGTH = 65536  # ~1.36 seconds at 48kHz\n",
    "BATCH_SIZE = 16\n",
    "NUM_EPOCHS = 100\n",
    "LEARNING_RATE = 0.001\n",
    "N_SOURCES = 2  # Bio and non-bio\n",
    "\n",
    "class DownsampleBlock(nn.Module):\n",
    "    def __init__(self, in_channels, out_channels, kernel_size=15, stride=1, padding=7):\n",
    "        super(DownsampleBlock, self).__init__()\n",
    "        self.conv = nn.Conv1d(in_channels, out_channels, kernel_size, stride, padding)\n",
    "        self.bn = nn.BatchNorm1d(out_channels)\n",
    "        self.relu = nn.LeakyReLU(0.2)\n",
    "        self.pool = nn.MaxPool1d(2)\n",
    "        \n",
    "    def forward(self, x):\n",
    "        x = self.conv(x)\n",
    "        x = self.bn(x)\n",
    "        x = self.relu(x)\n",
    "        return self.pool(x), x  # Return pooled output and skip connection\n",
    "\n",
    "class UpsampleBlock(nn.Module):\n",
    "    def __init__(self, in_channels, out_channels, kernel_size=15, stride=1, padding=7):\n",
    "        super(UpsampleBlock, self).__init__()\n",
    "        self.upsample = nn.Upsample(scale_factor=2, mode='nearest')\n",
    "        self.conv = nn.Conv1d(in_channels, out_channels, kernel_size, stride, padding)\n",
    "        self.bn = nn.BatchNorm1d(out_channels)\n",
    "        self.relu = nn.ReLU()\n",
    "        \n",
    "    def forward(self, x, skip):\n",
    "        x = self.upsample(x)\n",
    "        # Ensure x and skip have the same length\n",
    "        if x.size(-1) != skip.size(-1):\n",
    "            x = F.pad(x, (0, skip.size(-1) - x.size(-1)))\n",
    "        x = torch.cat([x, skip], dim=1)\n",
    "        x = self.conv(x)\n",
    "        x = self.bn(x)\n",
    "        return self.relu(x)\n",
    "\n",
    "class BioCPPNet(nn.Module):\n",
    "    def __init__(self, n_sources=N_SOURCES):\n",
    "        super(BioCPPNet, self).__init__()\n",
    "        \n",
    "        # Encoder (downsampling path)\n",
    "        self.down1 = DownsampleBlock(1, 16)        # Input: Raw audio waveform\n",
    "        self.down2 = DownsampleBlock(16, 32)      \n",
    "        self.down3 = DownsampleBlock(32, 64)       \n",
    "        self.down4 = DownsampleBlock(64, 128)      \n",
    "        self.down5 = DownsampleBlock(128, 256)     \n",
    "        \n",
    "        # Bottleneck\n",
    "        self.bottleneck = nn.Sequential(\n",
    "            nn.Conv1d(256, 512, 15, 1, 7),\n",
    "            nn.BatchNorm1d(512),\n",
    "            nn.LeakyReLU(0.2),\n",
    "            nn.Conv1d(512, 512, 15, 1, 7),\n",
    "            nn.BatchNorm1d(512),\n",
    "            nn.LeakyReLU(0.2)\n",
    "        )\n",
    "        \n",
    "        # Decoder (upsampling path)\n",
    "        self.up1 = UpsampleBlock(512 + 256, 256)\n",
    "        self.up2 = UpsampleBlock(256 + 128, 128)\n",
    "        self.up3 = UpsampleBlock(128 + 64, 64)\n",
    "        self.up4 = UpsampleBlock(64 + 32, 32)\n",
    "        self.up5 = UpsampleBlock(32 + 16, 16)\n",
    "        \n",
    "        # Output layer - multiple sources\n",
    "        self.out_conv = nn.Conv1d(16, n_sources, 1)\n",
    "        \n",
    "    def forward(self, x):\n",
    "        # Encoder path with skip connections\n",
    "        x1, skip1 = self.down1(x)\n",
    "        x2, skip2 = self.down2(x1)\n",
    "        x3, skip3 = self.down3(x2)\n",
    "        x4, skip4 = self.down4(x3)\n",
    "        x5, skip5 = self.down5(x4)\n",
    "        \n",
    "        # Bottleneck\n",
    "        x = self.bottleneck(x5)\n",
    "        \n",
    "        # Decoder path with skip connections\n",
    "        x = self.up1(x, skip5)\n",
    "        x = self.up2(x, skip4)\n",
    "        x = self.up3(x, skip3)\n",
    "        x = self.up4(x, skip2)\n",
    "        x = self.up5(x, skip1)\n",
    "        \n",
    "        # Output layer\n",
    "        x = self.out_conv(x)\n",
    "        \n",
    "        return x\n",
    "\n",
    "class DirectoryAudioDataset(Dataset):\n",
    "    def __init__(self, bio_dir, nonbio_dir, sequence_length=SEQUENCE_LENGTH, sr=SAMPLE_RATE):\n",
    "        self.sequence_length = sequence_length\n",
    "        self.sr = sr\n",
    "        \n",
    "        # Initialize file lists\n",
    "        self.bio_files = []\n",
    "        self.nonbio_files = []\n",
    "        \n",
    "        print(\"Creating dataset from directory structure...\")\n",
    "        \n",
    "        # Scan bio directory recursively\n",
    "        if os.path.exists(bio_dir):\n",
    "            print(f\"Scanning bio directory: {bio_dir}\")\n",
    "            for root, dirs, files in os.walk(bio_dir):\n",
    "                for file in files:\n",
    "                    if file.endswith('.wav'):\n",
    "                        file_path = os.path.join(root, file)\n",
    "                        self.bio_files.append(file_path)\n",
    "            print(f\"Found {len(self.bio_files)} bio audio files\")\n",
    "        else:\n",
    "            print(f\"Warning: Bio directory not found: {bio_dir}\")\n",
    "        \n",
    "        # Scan non-bio directory recursively\n",
    "        if os.path.exists(nonbio_dir):\n",
    "            print(f\"Scanning non-bio directory: {nonbio_dir}\")\n",
    "            for root, dirs, files in os.walk(nonbio_dir):\n",
    "                for file in files:\n",
    "                    if file.endswith('.wav'):\n",
    "                        file_path = os.path.join(root, file)\n",
    "                        self.nonbio_files.append(file_path)\n",
    "            print(f\"Found {len(self.nonbio_files)} non-bio audio files\")\n",
    "        else:\n",
    "            print(f\"Warning: Non-bio directory not found: {nonbio_dir}\")\n",
    "            \n",
    "            # Fallback: if no dedicated non-bio directory, try looking for a separate \"Preprocessed/non-bio\" folder\n",
    "            fallback_nonbio_dir = os.path.join(os.path.dirname(bio_dir), \"Preprocessed/non-bio\")\n",
    "            if os.path.exists(fallback_nonbio_dir):\n",
    "                print(f\"Using fallback non-bio directory: {fallback_nonbio_dir}\")\n",
    "                for root, dirs, files in os.walk(fallback_nonbio_dir):\n",
    "                    for file in files:\n",
    "                        if file.endswith('.wav'):\n",
    "                            file_path = os.path.join(root, file)\n",
    "                            self.nonbio_files.append(file_path)\n",
    "                print(f\"Found {len(self.nonbio_files)} non-bio audio files from fallback directory\")\n",
    "        \n",
    "        # Print a few paths for verification\n",
    "        if self.bio_files:\n",
    "            print(\"\\nExample bio file paths:\")\n",
    "            for path in self.bio_files[:3]:\n",
    "                print(f\"  {path}\")\n",
    "        \n",
    "        if self.nonbio_files:\n",
    "            print(\"\\nExample non-bio file paths:\")\n",
    "            for path in self.nonbio_files[:3]:\n",
    "                print(f\"  {path}\")\n",
    "                \n",
    "        # If still no non-bio files, use environmental sounds from preprocessed directory\n",
    "        if not self.nonbio_files:\n",
    "            print(\"No non-bio files found. Attempting to find environmental sound files...\")\n",
    "            base_dir = os.path.dirname(os.path.dirname(bio_dir))\n",
    "            \n",
    "            # Common environment sound keywords to look for\n",
    "            env_sound_keywords = ['ocean', 'wave', 'storm', 'wind', 'rain', 'thunder', \n",
    "                                 'earthquake', 'volcano', 'ice', 'submarine', 'ship', \n",
    "                                 'engine', 'hydrothermal', 'lightning']\n",
    "            \n",
    "            for root, dirs, files in os.walk(base_dir):\n",
    "                for file in files:\n",
    "                    if file.endswith('.wav'):\n",
    "                        # Check if the file name contains environmental keywords\n",
    "                        # and is not already in bio_files\n",
    "                        file_path = os.path.join(root, file)\n",
    "                        file_lower = file.lower()\n",
    "                        \n",
    "                        if any(keyword in file_lower for keyword in env_sound_keywords) and file_path not in self.bio_files:\n",
    "                            self.nonbio_files.append(file_path)\n",
    "            \n",
    "            print(f\"Found {len(self.nonbio_files)} environmental sound files\")\n",
    "            \n",
    "            if self.nonbio_files:\n",
    "                print(\"\\nExample environmental sound file paths:\")\n",
    "                for path in self.nonbio_files[:3]:\n",
    "                    print(f\"  {path}\")\n",
    "        \n",
    "        # Ensure we have files to work with\n",
    "        if len(self.bio_files) == 0:\n",
    "            raise ValueError(\"No bio files found. Cannot proceed with training.\")\n",
    "        \n",
    "        if len(self.nonbio_files) == 0:\n",
    "            raise ValueError(\"No non-bio files found. Cannot proceed with training.\")\n",
    "\n",
    "    def __len__(self):\n",
    "        # Use the minimum of bio and non-bio files\n",
    "        return min(len(self.bio_files), len(self.nonbio_files)) * 10  # Generate 10 examples per pair\n",
    "    \n",
    "    def __getitem__(self, idx):\n",
    "        # Randomly select one bio and one non-bio file\n",
    "        bio_idx = np.random.randint(0, len(self.bio_files))\n",
    "        nonbio_idx = np.random.randint(0, len(self.nonbio_files))\n",
    "        \n",
    "        # Load bio audio file\n",
    "        try:\n",
    "            bio_audio, _ = librosa.load(self.bio_files[bio_idx], sr=self.sr, mono=True)\n",
    "        except Exception as e:\n",
    "            print(f\"Error loading bio file {self.bio_files[bio_idx]}: {e}\")\n",
    "            # Fall back to another bio file\n",
    "            fallback_idx = (bio_idx + 1) % len(self.bio_files)\n",
    "            bio_audio, _ = librosa.load(self.bio_files[fallback_idx], sr=self.sr, mono=True)\n",
    "        \n",
    "        # Load non-bio audio file\n",
    "        try:\n",
    "            nonbio_audio, _ = librosa.load(self.nonbio_files[nonbio_idx], sr=self.sr, mono=True)\n",
    "        except Exception as e:\n",
    "            print(f\"Error loading non-bio file {self.nonbio_files[nonbio_idx]}: {e}\")\n",
    "            # Fall back to another non-bio file\n",
    "            fallback_idx = (nonbio_idx + 1) % len(self.nonbio_files)\n",
    "            nonbio_audio, _ = librosa.load(self.nonbio_files[fallback_idx], sr=self.sr, mono=True)\n",
    "        \n",
    "        # Make sure they're the right length\n",
    "        if len(bio_audio) < self.sequence_length:\n",
    "            bio_audio = np.pad(bio_audio, (0, self.sequence_length - len(bio_audio)))\n",
    "        else:\n",
    "            start = np.random.randint(0, len(bio_audio) - self.sequence_length)\n",
    "            bio_audio = bio_audio[start:start + self.sequence_length]\n",
    "            \n",
    "        if len(nonbio_audio) < self.sequence_length:\n",
    "            nonbio_audio = np.pad(nonbio_audio, (0, self.sequence_length - len(nonbio_audio)))\n",
    "        else:\n",
    "            start = np.random.randint(0, len(nonbio_audio) - self.sequence_length)\n",
    "            nonbio_audio = nonbio_audio[start:start + self.sequence_length]\n",
    "        \n",
    "        # Normalize\n",
    "        bio_audio = bio_audio / (np.max(np.abs(bio_audio)) + 1e-10)\n",
    "        nonbio_audio = nonbio_audio / (np.max(np.abs(nonbio_audio)) + 1e-10)\n",
    "        \n",
    "        # Create the mixture (can adjust mixing ratios if needed)\n",
    "        mix_ratio = np.random.uniform(0.3, 0.7)  # Random mix between sources\n",
    "        mixture = mix_ratio * bio_audio + (1 - mix_ratio) * nonbio_audio\n",
    "        \n",
    "        # Normalize mixture\n",
    "        mixture = mixture / (np.max(np.abs(mixture)) + 1e-10)\n",
    "        \n",
    "        # Convert to tensors\n",
    "        mixture_tensor = torch.tensor(mixture.reshape(1, -1), dtype=torch.float32)\n",
    "        sources_tensor = torch.tensor(np.stack([bio_audio, nonbio_audio]), dtype=torch.float32)\n",
    "        \n",
    "        return mixture_tensor, sources_tensor\n",
    "\n",
    "class PITLoss(nn.Module):\n",
    "    \"\"\"Permutation Invariant Training Loss for source separation\"\"\"\n",
    "    def __init__(self):\n",
    "        super(PITLoss, self).__init__()\n",
    "        self.mse_loss = nn.MSELoss()\n",
    "    \n",
    "    def forward(self, est_sources, true_sources):\n",
    "        # est_sources: [batch, n_sources, time]\n",
    "        # true_sources: [batch, n_sources, time]\n",
    "        \n",
    "        batch_size = est_sources.shape[0]\n",
    "        n_sources = est_sources.shape[1]\n",
    "        \n",
    "        # Compute all possible permutations\n",
    "        perms = torch.tensor(list(permutations(range(n_sources))), dtype=torch.long)\n",
    "        \n",
    "        min_loss = torch.zeros(batch_size, device=est_sources.device).fill_(float('inf'))\n",
    "        \n",
    "        for p in perms:\n",
    "            # Permute the estimated sources\n",
    "            perm_sources = est_sources[:, p, :]\n",
    "            \n",
    "            # Calculate MSE loss for this permutation\n",
    "            loss = torch.mean((perm_sources - true_sources) ** 2, dim=(1, 2))\n",
    "            \n",
    "            # Update min_loss if this permutation is better\n",
    "            min_loss = torch.minimum(min_loss, loss)\n",
    "        \n",
    "        return torch.mean(min_loss)\n",
    "\n",
    "def train_model(model, train_loader, valid_loader, num_epochs=NUM_EPOCHS, lr=LEARNING_RATE):\n",
    "    \"\"\"Train the BioCPPNet model\"\"\"\n",
    "    criterion = PITLoss()\n",
    "    optimizer = optim.Adam(model.parameters(), lr=lr)\n",
    "    scheduler = optim.lr_scheduler.ReduceLROnPlateau(optimizer, 'min', patience=5, factor=0.5)\n",
    "    \n",
    "    best_loss = float('inf')\n",
    "    \n",
    "    for epoch in range(num_epochs):\n",
    "        # Training phase\n",
    "        model.train()\n",
    "        train_loss = 0.0\n",
    "        \n",
    "        progress_bar = tqdm(train_loader, desc=f\"Epoch {epoch+1}/{num_epochs}\")\n",
    "        for batch_idx, (mixtures, sources) in enumerate(progress_bar):\n",
    "            mixtures = mixtures.to(device)\n",
    "            sources = sources.to(device)\n",
    "            \n",
    "            # Forward pass\n",
    "            optimizer.zero_grad()\n",
    "            outputs = model(mixtures)\n",
    "            \n",
    "            # Adjust dimensions to match sources shape\n",
    "            if outputs.shape[-1] != sources.shape[-1]:\n",
    "                outputs = F.pad(outputs, (0, sources.shape[-1] - outputs.shape[-1]))\n",
    "            \n",
    "            # Calculate loss\n",
    "            loss = criterion(outputs, sources)\n",
    "            \n",
    "            # Backward and optimize\n",
    "            loss.backward()\n",
    "            optimizer.step()\n",
    "            \n",
    "            train_loss += loss.item()\n",
    "            progress_bar.set_postfix({'loss': train_loss / (batch_idx + 1)})\n",
    "        \n",
    "        train_loss /= len(train_loader)\n",
    "        \n",
    "        # Validation phase\n",
    "        model.eval()\n",
    "        valid_loss = 0.0\n",
    "        \n",
    "        with torch.no_grad():\n",
    "            for mixtures, sources in valid_loader:\n",
    "                mixtures = mixtures.to(device)\n",
    "                sources = sources.to(device)\n",
    "                \n",
    "                outputs = model(mixtures)\n",
    "                \n",
    "                # Adjust dimensions if needed\n",
    "                if outputs.shape[-1] != sources.shape[-1]:\n",
    "                    outputs = F.pad(outputs, (0, sources.shape[-1] - outputs.shape[-1]))\n",
    "                \n",
    "                loss = criterion(outputs, sources)\n",
    "                valid_loss += loss.item()\n",
    "        \n",
    "        valid_loss /= len(valid_loader)\n",
    "        \n",
    "        # Update learning rate\n",
    "        scheduler.step(valid_loss)\n",
    "        \n",
    "        print(f\"Epoch {epoch+1}/{num_epochs}, Train Loss: {train_loss:.4f}, Valid Loss: {valid_loss:.4f}\")\n",
    "        \n",
    "        # Save best model\n",
    "        if valid_loss < best_loss:\n",
    "            best_loss = valid_loss\n",
    "            torch.save(model.state_dict(), \"best_biocppnet_model.pt\")\n",
    "            print(f\"Model saved with loss {best_loss:.4f}\")\n",
    "    \n",
    "    return model\n",
    "\n",
    "def compute_si_sdr_batch(estimated_sources, reference_sources):\n",
    "    \"\"\"Compute Scale-Invariant SDR between batches of estimated and reference sources\"\"\"\n",
    "    # estimated_sources: [n_sources, time]\n",
    "    # reference_sources: [n_sources, time]\n",
    "    \n",
    "    # Ensure sources are on CPU for numpy operations\n",
    "    estimated_sources = estimated_sources.cpu().numpy()\n",
    "    reference_sources = reference_sources.cpu().numpy()\n",
    "    \n",
    "    n_sources = estimated_sources.shape[0]\n",
    "    si_sdr_sum = 0\n",
    "    \n",
    "    for i in range(n_sources):\n",
    "        # Get single source estimates\n",
    "        est_source = estimated_sources[i]\n",
    "        ref_source = reference_sources[i]\n",
    "        \n",
    "        # Normalize to zero mean\n",
    "        est_source = est_source - np.mean(est_source)\n",
    "        ref_source = ref_source - np.mean(ref_source)\n",
    "        \n",
    "        # Calculate SI-SDR\n",
    "        reference_energy = np.sum(ref_source ** 2)\n",
    "        if reference_energy < 1e-10:\n",
    "            si_sdr = 0  # Avoid division by zero\n",
    "        else:\n",
    "            optimal_scaling = np.dot(est_source, ref_source) / reference_energy\n",
    "            projection = optimal_scaling * ref_source\n",
    "            noise = est_source - projection\n",
    "            \n",
    "            ratio = np.sum(projection ** 2) / (np.sum(noise ** 2) + 1e-10)\n",
    "            si_sdr = 10 * np.log10(ratio + 1e-10)\n",
    "        \n",
    "        si_sdr_sum += si_sdr\n",
    "    \n",
    "    return si_sdr_sum / n_sources\n",
    "\n",
    "def evaluate_model(model, test_loader):\n",
    "    \"\"\"Evaluate the trained model using SI-SDR\"\"\"\n",
    "    model.eval()\n",
    "    test_si_sdr = 0.0\n",
    "    \n",
    "    with torch.no_grad():\n",
    "        for mixtures, sources in tqdm(test_loader, desc=\"Evaluating\"):\n",
    "            mixtures = mixtures.to(device)\n",
    "            sources = sources.to(device)\n",
    "            \n",
    "            # Forward pass\n",
    "            estimated_sources = model(mixtures)\n",
    "            \n",
    "            # Adjust dimensions if needed\n",
    "            if estimated_sources.shape[-1] != sources.shape[-1]:\n",
    "                estimated_sources = F.pad(estimated_sources, (0, sources.shape[-1] - estimated_sources.shape[-1]))\n",
    "            \n",
    "            # Calculate SI-SDR for each sample in the batch\n",
    "            for i in range(mixtures.shape[0]):\n",
    "                si_sdr_sample = compute_si_sdr_batch(estimated_sources[i], sources[i])\n",
    "                test_si_sdr += si_sdr_sample\n",
    "    \n",
    "    test_si_sdr /= len(test_loader.dataset)\n",
    "    print(f\"Test SI-SDR: {test_si_sdr:.4f} dB\")\n",
    "    return test_si_sdr\n",
    "\n",
    "def separate_audio(model, audio_path, output_dir):\n",
    "    \"\"\"Separate a single audio file into bio and non-bio components\"\"\"\n",
    "    # Load audio file\n",
    "    y, sr = librosa.load(audio_path, sr=SAMPLE_RATE, mono=True)\n",
    "    \n",
    "    # Process in chunks of SEQUENCE_LENGTH with overlap\n",
    "    chunk_size = SEQUENCE_LENGTH\n",
    "    hop_size = chunk_size // 2  # 50% overlap\n",
    "    \n",
    "    # Initialize output arrays\n",
    "    bio_output = np.zeros_like(y)\n",
    "    nonbio_output = np.zeros_like(y)\n",
    "    \n",
    "    # Process each chunk\n",
    "    model.eval()\n",
    "    with torch.no_grad():\n",
    "        for i in range(0, len(y) - chunk_size + 1, hop_size):\n",
    "            # Extract chunk\n",
    "            chunk = y[i:i+chunk_size]\n",
    "            \n",
    "            # Convert to tensor\n",
    "            chunk_tensor = torch.tensor(chunk.reshape(1, 1, -1), dtype=torch.float32).to(device)\n",
    "            \n",
    "            # Separate sources\n",
    "            separated_sources = model(chunk_tensor)\n",
    "            \n",
    "            # Convert back to numpy\n",
    "            separated_chunk = separated_sources.squeeze().cpu().numpy()\n",
    "            \n",
    "            # Apply window for smooth blending (Hann window)\n",
    "            window = np.hanning(chunk_size)\n",
    "            \n",
    "            # Add to output arrays with windowing\n",
    "            bio_output[i:i+chunk_size] += separated_chunk[0] * window\n",
    "            nonbio_output[i:i+chunk_size] += separated_chunk[1] * window\n",
    "    \n",
    "    # Normalize outputs\n",
    "    bio_output = bio_output / np.max(np.abs(bio_output) + 1e-10)\n",
    "    nonbio_output = nonbio_output / np.max(np.abs(nonbio_output) + 1e-10)\n",
    "    \n",
    "    # Create output directory if it doesn't exist\n",
    "    os.makedirs(output_dir, exist_ok=True)\n",
    "    \n",
    "    # Save separated audio files\n",
    "    file_name = os.path.basename(audio_path).replace('.wav', '')\n",
    "    bio_path = os.path.join(output_dir, f\"{file_name}_bio.wav\")\n",
    "    nonbio_path = os.path.join(output_dir, f\"{file_name}_nonbio.wav\")\n",
    "    \n",
    "    sf.write(bio_path, bio_output, sr)\n",
    "    sf.write(nonbio_path, nonbio_output, sr)\n",
    "    \n",
    "    return bio_path, nonbio_path\n",
    "\n",
    "def find_nonbio_files(base_dir):\n",
    "    \"\"\"Find non-bio audio files from typical folder names or file patterns\"\"\"\n",
    "    nonbio_files = []\n",
    "    \n",
    "    # Common folders for non-biological sounds\n",
    "    nonbio_folders = ['non-bio', 'nonbio', 'environment', 'environmental', \n",
    "                     'noise', 'ambient', 'ocean', 'wave', 'earthquake', \n",
    "                     'Sample - Non Bio']\n",
    "    \n",
    "    # Common non-bio sound keywords\n",
    "    nonbio_keywords = ['ocean', 'wave', 'storm', 'wind', 'rain', 'thunder', \n",
    "                      'earthquake', 'volcano', 'ice', 'submarine', 'ship', \n",
    "                      'engine', 'hydrothermal', 'lightning']\n",
    "    \n",
    "    # Search for non-bio files\n",
    "    for root, dirs, files in os.walk(base_dir):\n",
    "        folder_name = os.path.basename(root)\n",
    "        \n",
    "        # Check if this is a non-bio folder\n",
    "        is_nonbio_folder = any(nonbio_name in folder_name.lower() for nonbio_name in nonbio_folders)\n",
    "        \n",
    "        for file in files:\n",
    "            if file.endswith('.wav'):\n",
    "                file_path = os.path.join(root, file)\n",
    "                \n",
    "                # Add file if it's in a non-bio folder\n",
    "                if is_nonbio_folder:\n",
    "                    nonbio_files.append(file_path)\n",
    "                    continue\n",
    "                \n",
    "                # Or if the filename contains non-bio keywords\n",
    "                if any(keyword in file.lower() for keyword in nonbio_keywords):\n",
    "                    nonbio_files.append(file_path)\n",
    "    \n",
    "    return nonbio_files\n",
    "\n",
    "def main():\n",
    "    \"\"\"Main function for training and evaluating BioCPPNet using directory structure\"\"\"\n",
    "    # Configure paths - adjust these based on your environment\n",
    "    # Use the structure shown in the PDF\n",
    "    base_dir = os.path.join(os.path.expanduser('~'), 'Documents/VIT Labs/Semester 8/Senior Design Project/Dataset - Sample')\n",
    "    bio_dir = os.path.join(base_dir, 'Sample - bio')\n",
    "    nonbio_dir = os.path.join(base_dir, 'Sample - Non Bio')\n",
    "    output_dir = os.path.join(base_dir, 'BioCPPNet_Output')\n",
    "    \n",
    "    print(f\"Base directory: {base_dir}\")\n",
    "    print(f\"Bio directory: {bio_dir}\")\n",
    "    print(f\"Non-bio directory: {nonbio_dir}\")\n",
    "    \n",
    "    # Create output directory\n",
    "    os.makedirs(output_dir, exist_ok=True)\n",
    "    \n",
    "    # If non-bio directory doesn't exist, attempt to find non-bio files elsewhere\n",
    "    if not os.path.exists(nonbio_dir):\n",
    "        print(f\"Non-bio directory not found: {nonbio_dir}\")\n",
    "        nonbio_dir = None  # Will be handled by the dataset class\n",
    "    \n",
    "    # Create dataset directly from directories\n",
    "    dataset = DirectoryAudioDataset(bio_dir, nonbio_dir)\n",
    "    \n",
    "    # Check if we have enough data\n",
    "    if len(dataset.bio_files) == 0 or len(dataset.nonbio_files) == 0:\n",
    "        print(\"Not enough data to train the model. Please ensure you have both bio and non-bio audio files.\")\n",
    "        return\n",
    "    \n",
    "    # Split dataset\n",
    "    train_size = int(0.8 * len(dataset))\n",
    "    valid_size = int(0.1 * len(dataset))\n",
    "    test_size = len(dataset) - train_size - valid_size\n",
    "    \n",
    "    train_dataset, valid_dataset, test_dataset = torch.utils.data.random_split(\n",
    "        dataset, [train_size, valid_size, test_size]\n",
    "    )\n",
    "    \n",
    "    train_loader = DataLoader(train_dataset, batch_size=BATCH_SIZE, shuffle=True, num_workers=0)\n",
    "    valid_loader = DataLoader(valid_dataset, batch_size=BATCH_SIZE, shuffle=False, num_workers=0)\n",
    "    test_loader = DataLoader(test_dataset, batch_size=BATCH_SIZE, shuffle=False, num_workers=0)\n",
    "    \n",
    "    # Initialize model\n",
    "    model = BioCPPNet().to(device)\n",
    "    print(f\"Model initialized on {device}\")\n",
    "    \n",
    "    # Train model\n",
    "    model = train_model(model, train_loader, valid_loader)\n",
    "    \n",
    "    # Evaluate model\n",
    "    si_sdr = evaluate_model(model, test_loader)\n",
    "    \n",
    "    # Save final model\n",
    "    torch.save(model.state_dict(), os.path.join(output_dir, \"biocppnet_final_model.pt\"))\n",
    "    \n",
    "    # Process test files from NMF directory if it exists\n",
    "    nmf_dir = os.path.join(base_dir, 'NMF_Output')\n",
    "    if os.path.exists(nmf_dir):\n",
    "        print(f\"Using NMF output directory for test files: {nmf_dir}\")\n",
    "        # Find files that look like they might be mixed signals (not source separated)\n",
    "        test_files = [\n",
    "            os.path.join(nmf_dir, f) \n",
    "            for f in os.listdir(nmf_dir) \n",
    "            if f.endswith('.wav') and \"source\" not in f.lower()\n",
    "        ]\n",
    "        \n",
    "        # If we didn't find any, just use the first 5 WAV files we can find\n",
    "        if not test_files:\n",
    "            test_files = [\n",
    "                os.path.join(nmf_dir, f) \n",
    "                for f in os.listdir(nmf_dir) \n",
    "                if f.endswith('.wav')\n",
    "            ][:5]\n",
    "    else:\n",
    "        # Fall back to preprocessed files if NMF output doesn't exist\n",
    "        print(\"NMF output directory not found. Looking for test files in the dataset...\")\n",
    "        test_files = []\n",
    "        \n",
    "        # Choose some representative files for testing\n",
    "        test_files = dataset.bio_files[:3]  # Use first 3 bio files\n",
    "        if dataset.nonbio_files:\n",
    "            test_files.extend(dataset.nonbio_files[:2])  # Add first 2 non-bio files\n",
    "        \n",
    "    print(f\"Found {len(test_files)} test files for processing\")\n",
    "    \n",
    "    if not test_files:\n",
    "        print(\"No test files found. Cannot demonstrate separation.\")\n",
    "        return\n",
    "    \n",
    "    # Process test files\n",
    "    print(f\"Processing {len(test_files)} test files...\")\n",
    "    \n",
    "    for file_path in test_files:\n",
    "        try:\n",
    "            bio_path, nonbio_path = separate_audio(model, file_path, output_dir)\n",
    "            print(f\"Processed {file_path} -> Bio: {bio_path}, Non-bio: {nonbio_path}\")\n",
    "        except Exception as e:\n",
    "            print(f\"Error processing {file_path}: {e}\")\n",
    "    \n",
    "    print(\"BioCPPNet processing completed!\")\n",
    "\n",
    "if __name__ == \"__main__\":\n",
    "    main()  "
   ]
  },
  {
   "cell_type": "code",
   "execution_count": 1,
   "metadata": {},
   "outputs": [],
   "source": [
    "import keras\n",
    "import tensorflow as tf"
   ]
  },
  {
   "cell_type": "code",
   "execution_count": 5,
   "metadata": {},
   "outputs": [],
   "source": [
    "class MyDenseLayer(tf.keras.layers.Layer):\n",
    "    def __init__(self, input_dim, output_dim):\n",
    "        self.W = self.add_weight([input_dim, output_dim])\n",
    "        self.b = self.add_weight([output_dim])\n",
    "\n",
    "    def call(self, inputs):\n",
    "        z =  tf.matmul(inputs, self.W) + self.b\n",
    "    \n",
    "        output=tf.math.sigmoid(z)\n",
    "        return output"
   ]
  },
  {
   "cell_type": "code",
   "execution_count": 6,
   "metadata": {},
   "outputs": [],
   "source": [
    "layer = tf.keras.layers.Dense(units=2)"
   ]
  },
  {
   "cell_type": "code",
   "execution_count": null,
   "metadata": {},
   "outputs": [],
   "source": []
  }
 ],
 "metadata": {
  "kernelspec": {
   "display_name": "base",
   "language": "python",
   "name": "python3"
  },
  "language_info": {
   "codemirror_mode": {
    "name": "ipython",
    "version": 3
   },
   "file_extension": ".py",
   "mimetype": "text/x-python",
   "name": "python",
   "nbconvert_exporter": "python",
   "pygments_lexer": "ipython3",
   "version": "3.12.7"
  }
 },
 "nbformat": 4,
 "nbformat_minor": 4
}
